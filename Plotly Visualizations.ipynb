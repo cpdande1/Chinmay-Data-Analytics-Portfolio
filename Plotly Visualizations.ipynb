{
 "cells": [
  {
   "cell_type": "markdown",
   "id": "c43a024c",
   "metadata": {},
   "source": [
    "# Plotly Visualizations"
   ]
  },
  {
   "cell_type": "code",
   "execution_count": null,
   "id": "884dadd6",
   "metadata": {},
   "outputs": [],
   "source": [
    "    import pandas as pd\n",
    "    import numpy as np\n",
    "    %matplotlib inline\n",
    "    import plotly.figure_factory as ff\n",
    "    import plotly.graph_objects as go\n",
    "    \n",
    "    from plotly.offline import download_plotlyjs, init_notebook_mode, plot, iplot\n",
    "    import cufflinks as cf\n",
    "    \n",
    "    # For Notebooks\n",
    "    init_notebook_mode(connected=True"
   ]
  },
  {
   "cell_type": "code",
   "execution_count": 2,
   "id": "5ef56418",
   "metadata": {},
   "outputs": [],
   "source": [
    "from plotly import __version__"
   ]
  },
  {
   "cell_type": "code",
   "execution_count": 3,
   "id": "87549abd",
   "metadata": {},
   "outputs": [
    {
     "name": "stdout",
     "output_type": "stream",
     "text": [
      "5.9.0\n"
     ]
    }
   ],
   "source": [
    "print(__version__)"
   ]
  },
  {
   "cell_type": "code",
   "execution_count": 4,
   "id": "74f6bd6c",
   "metadata": {},
   "outputs": [],
   "source": [
    "from plotly.offline import download_plotlyjs, init_notebook_mode, plot, iplot\n"
   ]
  },
  {
   "cell_type": "code",
   "execution_count": 5,
   "id": "2cf4c73b",
   "metadata": {},
   "outputs": [
    {
     "data": {
      "text/html": [
       "        <script type=\"text/javascript\">\n",
       "        window.PlotlyConfig = {MathJaxConfig: 'local'};\n",
       "        if (window.MathJax && window.MathJax.Hub && window.MathJax.Hub.Config) {window.MathJax.Hub.Config({SVG: {font: \"STIX-Web\"}});}\n",
       "        if (typeof require !== 'undefined') {\n",
       "        require.undef(\"plotly\");\n",
       "        requirejs.config({\n",
       "            paths: {\n",
       "                'plotly': ['https://cdn.plot.ly/plotly-2.12.1.min']\n",
       "            }\n",
       "        });\n",
       "        require(['plotly'], function(Plotly) {\n",
       "            window._Plotly = Plotly;\n",
       "        });\n",
       "        }\n",
       "        </script>\n",
       "        "
      ]
     },
     "metadata": {},
     "output_type": "display_data"
    }
   ],
   "source": [
    "init_notebook_mode(connected=True)"
   ]
  },
  {
   "cell_type": "code",
   "execution_count": 6,
   "id": "626ee6d2",
   "metadata": {},
   "outputs": [
    {
     "name": "stdout",
     "output_type": "stream",
     "text": [
      "Requirement already satisfied: cufflinks in /Users/chinmaydande/anaconda3/lib/python3.11/site-packages (0.17.3)\n",
      "Requirement already satisfied: numpy>=1.9.2 in /Users/chinmaydande/anaconda3/lib/python3.11/site-packages (from cufflinks) (1.24.3)\n",
      "Requirement already satisfied: pandas>=0.19.2 in /Users/chinmaydande/anaconda3/lib/python3.11/site-packages (from cufflinks) (2.0.3)\n",
      "Requirement already satisfied: plotly>=4.1.1 in /Users/chinmaydande/anaconda3/lib/python3.11/site-packages (from cufflinks) (5.9.0)\n",
      "Requirement already satisfied: six>=1.9.0 in /Users/chinmaydande/anaconda3/lib/python3.11/site-packages (from cufflinks) (1.16.0)\n",
      "Requirement already satisfied: colorlover>=0.2.1 in /Users/chinmaydande/anaconda3/lib/python3.11/site-packages (from cufflinks) (0.3.0)\n",
      "Requirement already satisfied: setuptools>=34.4.1 in /Users/chinmaydande/anaconda3/lib/python3.11/site-packages (from cufflinks) (68.0.0)\n",
      "Requirement already satisfied: ipython>=5.3.0 in /Users/chinmaydande/anaconda3/lib/python3.11/site-packages (from cufflinks) (8.15.0)\n",
      "Requirement already satisfied: ipywidgets>=7.0.0 in /Users/chinmaydande/anaconda3/lib/python3.11/site-packages (from cufflinks) (8.0.4)\n",
      "Requirement already satisfied: backcall in /Users/chinmaydande/anaconda3/lib/python3.11/site-packages (from ipython>=5.3.0->cufflinks) (0.2.0)\n",
      "Requirement already satisfied: decorator in /Users/chinmaydande/anaconda3/lib/python3.11/site-packages (from ipython>=5.3.0->cufflinks) (5.1.1)\n",
      "Requirement already satisfied: jedi>=0.16 in /Users/chinmaydande/anaconda3/lib/python3.11/site-packages (from ipython>=5.3.0->cufflinks) (0.18.1)\n",
      "Requirement already satisfied: matplotlib-inline in /Users/chinmaydande/anaconda3/lib/python3.11/site-packages (from ipython>=5.3.0->cufflinks) (0.1.6)\n",
      "Requirement already satisfied: pickleshare in /Users/chinmaydande/anaconda3/lib/python3.11/site-packages (from ipython>=5.3.0->cufflinks) (0.7.5)\n",
      "Requirement already satisfied: prompt-toolkit!=3.0.37,<3.1.0,>=3.0.30 in /Users/chinmaydande/anaconda3/lib/python3.11/site-packages (from ipython>=5.3.0->cufflinks) (3.0.36)\n",
      "Requirement already satisfied: pygments>=2.4.0 in /Users/chinmaydande/anaconda3/lib/python3.11/site-packages (from ipython>=5.3.0->cufflinks) (2.15.1)\n",
      "Requirement already satisfied: stack-data in /Users/chinmaydande/anaconda3/lib/python3.11/site-packages (from ipython>=5.3.0->cufflinks) (0.2.0)\n",
      "Requirement already satisfied: traitlets>=5 in /Users/chinmaydande/anaconda3/lib/python3.11/site-packages (from ipython>=5.3.0->cufflinks) (5.7.1)\n",
      "Requirement already satisfied: pexpect>4.3 in /Users/chinmaydande/anaconda3/lib/python3.11/site-packages (from ipython>=5.3.0->cufflinks) (4.8.0)\n",
      "Requirement already satisfied: appnope in /Users/chinmaydande/anaconda3/lib/python3.11/site-packages (from ipython>=5.3.0->cufflinks) (0.1.2)\n",
      "Requirement already satisfied: ipykernel>=4.5.1 in /Users/chinmaydande/anaconda3/lib/python3.11/site-packages (from ipywidgets>=7.0.0->cufflinks) (6.25.0)\n",
      "Requirement already satisfied: widgetsnbextension~=4.0 in /Users/chinmaydande/anaconda3/lib/python3.11/site-packages (from ipywidgets>=7.0.0->cufflinks) (4.0.5)\n",
      "Requirement already satisfied: jupyterlab-widgets~=3.0 in /Users/chinmaydande/anaconda3/lib/python3.11/site-packages (from ipywidgets>=7.0.0->cufflinks) (3.0.5)\n",
      "Requirement already satisfied: python-dateutil>=2.8.2 in /Users/chinmaydande/anaconda3/lib/python3.11/site-packages (from pandas>=0.19.2->cufflinks) (2.8.2)\n",
      "Requirement already satisfied: pytz>=2020.1 in /Users/chinmaydande/anaconda3/lib/python3.11/site-packages (from pandas>=0.19.2->cufflinks) (2023.3.post1)\n",
      "Requirement already satisfied: tzdata>=2022.1 in /Users/chinmaydande/anaconda3/lib/python3.11/site-packages (from pandas>=0.19.2->cufflinks) (2023.3)\n",
      "Requirement already satisfied: tenacity>=6.2.0 in /Users/chinmaydande/anaconda3/lib/python3.11/site-packages (from plotly>=4.1.1->cufflinks) (8.2.2)\n",
      "Requirement already satisfied: comm>=0.1.1 in /Users/chinmaydande/anaconda3/lib/python3.11/site-packages (from ipykernel>=4.5.1->ipywidgets>=7.0.0->cufflinks) (0.1.2)\n",
      "Requirement already satisfied: debugpy>=1.6.5 in /Users/chinmaydande/anaconda3/lib/python3.11/site-packages (from ipykernel>=4.5.1->ipywidgets>=7.0.0->cufflinks) (1.6.7)\n",
      "Requirement already satisfied: jupyter-client>=6.1.12 in /Users/chinmaydande/anaconda3/lib/python3.11/site-packages (from ipykernel>=4.5.1->ipywidgets>=7.0.0->cufflinks) (7.4.9)\n",
      "Requirement already satisfied: jupyter-core!=5.0.*,>=4.12 in /Users/chinmaydande/anaconda3/lib/python3.11/site-packages (from ipykernel>=4.5.1->ipywidgets>=7.0.0->cufflinks) (5.3.0)\n",
      "Requirement already satisfied: nest-asyncio in /Users/chinmaydande/anaconda3/lib/python3.11/site-packages (from ipykernel>=4.5.1->ipywidgets>=7.0.0->cufflinks) (1.5.6)\n",
      "Requirement already satisfied: packaging in /Users/chinmaydande/anaconda3/lib/python3.11/site-packages (from ipykernel>=4.5.1->ipywidgets>=7.0.0->cufflinks) (23.1)\n",
      "Requirement already satisfied: psutil in /Users/chinmaydande/anaconda3/lib/python3.11/site-packages (from ipykernel>=4.5.1->ipywidgets>=7.0.0->cufflinks) (5.9.0)\n",
      "Requirement already satisfied: pyzmq>=20 in /Users/chinmaydande/anaconda3/lib/python3.11/site-packages (from ipykernel>=4.5.1->ipywidgets>=7.0.0->cufflinks) (23.2.0)\n",
      "Requirement already satisfied: tornado>=6.1 in /Users/chinmaydande/anaconda3/lib/python3.11/site-packages (from ipykernel>=4.5.1->ipywidgets>=7.0.0->cufflinks) (6.3.2)\n",
      "Requirement already satisfied: parso<0.9.0,>=0.8.0 in /Users/chinmaydande/anaconda3/lib/python3.11/site-packages (from jedi>=0.16->ipython>=5.3.0->cufflinks) (0.8.3)\n",
      "Requirement already satisfied: ptyprocess>=0.5 in /Users/chinmaydande/anaconda3/lib/python3.11/site-packages (from pexpect>4.3->ipython>=5.3.0->cufflinks) (0.7.0)\n",
      "Requirement already satisfied: wcwidth in /Users/chinmaydande/anaconda3/lib/python3.11/site-packages (from prompt-toolkit!=3.0.37,<3.1.0,>=3.0.30->ipython>=5.3.0->cufflinks) (0.2.5)\n",
      "Requirement already satisfied: executing in /Users/chinmaydande/anaconda3/lib/python3.11/site-packages (from stack-data->ipython>=5.3.0->cufflinks) (0.8.3)\n",
      "Requirement already satisfied: asttokens in /Users/chinmaydande/anaconda3/lib/python3.11/site-packages (from stack-data->ipython>=5.3.0->cufflinks) (2.0.5)\n",
      "Requirement already satisfied: pure-eval in /Users/chinmaydande/anaconda3/lib/python3.11/site-packages (from stack-data->ipython>=5.3.0->cufflinks) (0.2.2)\n",
      "Requirement already satisfied: entrypoints in /Users/chinmaydande/anaconda3/lib/python3.11/site-packages (from jupyter-client>=6.1.12->ipykernel>=4.5.1->ipywidgets>=7.0.0->cufflinks) (0.4)\n",
      "Requirement already satisfied: platformdirs>=2.5 in /Users/chinmaydande/anaconda3/lib/python3.11/site-packages (from jupyter-core!=5.0.*,>=4.12->ipykernel>=4.5.1->ipywidgets>=7.0.0->cufflinks) (3.10.0)\n"
     ]
    }
   ],
   "source": [
    "!pip install cufflinks\n",
    "\n"
   ]
  },
  {
   "cell_type": "code",
   "execution_count": 7,
   "id": "afc8b21b",
   "metadata": {},
   "outputs": [
    {
     "data": {
      "text/html": [
       "        <script type=\"text/javascript\">\n",
       "        window.PlotlyConfig = {MathJaxConfig: 'local'};\n",
       "        if (window.MathJax && window.MathJax.Hub && window.MathJax.Hub.Config) {window.MathJax.Hub.Config({SVG: {font: \"STIX-Web\"}});}\n",
       "        if (typeof require !== 'undefined') {\n",
       "        require.undef(\"plotly\");\n",
       "        requirejs.config({\n",
       "            paths: {\n",
       "                'plotly': ['https://cdn.plot.ly/plotly-2.12.1.min']\n",
       "            }\n",
       "        });\n",
       "        require(['plotly'], function(Plotly) {\n",
       "            window._Plotly = Plotly;\n",
       "        });\n",
       "        }\n",
       "        </script>\n",
       "        "
      ]
     },
     "metadata": {},
     "output_type": "display_data"
    }
   ],
   "source": [
    "import cufflinks as cf\n",
    "cf.go_offline()\n",
    "cf.set_config_file(offline=False, world_readable=True)\n"
   ]
  },
  {
   "cell_type": "code",
   "execution_count": 8,
   "id": "bf8fbdb2",
   "metadata": {},
   "outputs": [],
   "source": [
    "df = pd.DataFrame(np.random.randn(100,4),columns='A B C D'.split())"
   ]
  },
  {
   "cell_type": "code",
   "execution_count": 9,
   "id": "10ab1d04",
   "metadata": {},
   "outputs": [],
   "source": [
    "df2 = pd.DataFrame({'Category':['A','B','C'],'Values':[32,43,50]})"
   ]
  },
  {
   "cell_type": "code",
   "execution_count": 10,
   "id": "de41e890",
   "metadata": {},
   "outputs": [
    {
     "data": {
      "text/html": [
       "<div>\n",
       "<style scoped>\n",
       "    .dataframe tbody tr th:only-of-type {\n",
       "        vertical-align: middle;\n",
       "    }\n",
       "\n",
       "    .dataframe tbody tr th {\n",
       "        vertical-align: top;\n",
       "    }\n",
       "\n",
       "    .dataframe thead th {\n",
       "        text-align: right;\n",
       "    }\n",
       "</style>\n",
       "<table border=\"1\" class=\"dataframe\">\n",
       "  <thead>\n",
       "    <tr style=\"text-align: right;\">\n",
       "      <th></th>\n",
       "      <th>Category</th>\n",
       "      <th>Values</th>\n",
       "    </tr>\n",
       "  </thead>\n",
       "  <tbody>\n",
       "    <tr>\n",
       "      <th>0</th>\n",
       "      <td>A</td>\n",
       "      <td>32</td>\n",
       "    </tr>\n",
       "    <tr>\n",
       "      <th>1</th>\n",
       "      <td>B</td>\n",
       "      <td>43</td>\n",
       "    </tr>\n",
       "    <tr>\n",
       "      <th>2</th>\n",
       "      <td>C</td>\n",
       "      <td>50</td>\n",
       "    </tr>\n",
       "  </tbody>\n",
       "</table>\n",
       "</div>"
      ],
      "text/plain": [
       "  Category  Values\n",
       "0        A      32\n",
       "1        B      43\n",
       "2        C      50"
      ]
     },
     "execution_count": 10,
     "metadata": {},
     "output_type": "execute_result"
    }
   ],
   "source": [
    "df2"
   ]
  },
  {
   "cell_type": "code",
   "execution_count": 11,
   "id": "2dc51751",
   "metadata": {},
   "outputs": [
    {
     "data": {
      "application/vnd.plotly.v1+json": {
       "config": {
        "linkText": "Export to plot.ly",
        "plotlyServerURL": "https://plot.ly",
        "showLink": true
       },
       "data": [
        {
         "line": {
          "color": "rgba(255, 153, 51, 1.0)",
          "dash": "solid",
          "shape": "linear",
          "width": 1.3
         },
         "mode": "lines",
         "name": "A",
         "text": "",
         "type": "scatter",
         "x": [
          0,
          1,
          2,
          3,
          4,
          5,
          6,
          7,
          8,
          9,
          10,
          11,
          12,
          13,
          14,
          15,
          16,
          17,
          18,
          19,
          20,
          21,
          22,
          23,
          24,
          25,
          26,
          27,
          28,
          29,
          30,
          31,
          32,
          33,
          34,
          35,
          36,
          37,
          38,
          39,
          40,
          41,
          42,
          43,
          44,
          45,
          46,
          47,
          48,
          49,
          50,
          51,
          52,
          53,
          54,
          55,
          56,
          57,
          58,
          59,
          60,
          61,
          62,
          63,
          64,
          65,
          66,
          67,
          68,
          69,
          70,
          71,
          72,
          73,
          74,
          75,
          76,
          77,
          78,
          79,
          80,
          81,
          82,
          83,
          84,
          85,
          86,
          87,
          88,
          89,
          90,
          91,
          92,
          93,
          94,
          95,
          96,
          97,
          98,
          99
         ],
         "y": [
          -1.5450841317171276,
          -1.413125498673202,
          0.9323209797782157,
          0.06948672060685748,
          -1.2523413495098872,
          -1.998523806904109,
          0.9190235994878402,
          -0.9119658333889711,
          0.48330895698670573,
          -0.18718041389695883,
          -1.4320101370003964,
          -1.0261708964009986,
          -0.2445512401393387,
          0.5509130159887102,
          -0.01880610498489131,
          -0.3314676127876932,
          -0.6148547025606768,
          0.5904187382004569,
          0.6079579957452251,
          1.029365744269441,
          0.37821917735715205,
          0.4853068362773339,
          -0.04114493743598664,
          0.8708159539648068,
          1.5460674411149098,
          -0.5519392483070829,
          -0.781020223747612,
          2.248475249081179,
          -0.7841092464880934,
          0.6982816726880846,
          -0.6817947425346943,
          -0.15254862845208006,
          0.08242693280174032,
          -0.6165766635482408,
          0.07344361303984231,
          -2.472226220100499,
          -0.7017642502166871,
          0.31867008055206325,
          -0.2599768591357568,
          0.1128594778484536,
          1.9546293514760582,
          1.599497463833276,
          1.0851296565292388,
          -1.467177738869882,
          1.6987782408729655,
          1.1983444774482184,
          0.3155444180406639,
          -0.08519293842820412,
          -0.2456642503023336,
          0.5499649604319629,
          -3.4739634005226576,
          -2.2523455597506286,
          0.6937969710072474,
          1.6141764343342464,
          1.0400077714625975,
          0.10041443115825265,
          -0.7097173257145293,
          1.4604101958038826,
          0.3293241651930765,
          -0.8538133138281813,
          1.0663441980793718,
          0.47825456546125206,
          -0.671842993091924,
          0.17989808836044138,
          -0.5713356174675095,
          -0.48417683159928776,
          -0.5958366995752875,
          0.440964769391051,
          -0.5094687351758517,
          1.850188864915357,
          1.8675119837627912,
          -0.7122251808699338,
          0.06639775250348316,
          -1.695337244452929,
          1.6820736210084517,
          2.1310945371850463,
          -2.0930601078406137,
          -1.770996043995373,
          1.1437543834138326,
          -1.0775717485533514,
          -1.2275856522468844,
          1.217560029308882,
          0.03026729574779826,
          -1.5261799364599762,
          -0.04317321966520327,
          0.4887696263728301,
          0.470451294595051,
          1.4973438747078496,
          0.03651730210198627,
          0.509467886559641,
          0.03914759134423157,
          1.1308562743625474,
          0.4847047628207645,
          -0.4818166423351334,
          -2.080158939342939,
          -0.3751305898439625,
          0.03069571986767242,
          -0.4639225567373533,
          -0.7047432345226364,
          0.5217812056163413
         ]
        },
        {
         "line": {
          "color": "rgba(55, 128, 191, 1.0)",
          "dash": "solid",
          "shape": "linear",
          "width": 1.3
         },
         "mode": "lines",
         "name": "B",
         "text": "",
         "type": "scatter",
         "x": [
          0,
          1,
          2,
          3,
          4,
          5,
          6,
          7,
          8,
          9,
          10,
          11,
          12,
          13,
          14,
          15,
          16,
          17,
          18,
          19,
          20,
          21,
          22,
          23,
          24,
          25,
          26,
          27,
          28,
          29,
          30,
          31,
          32,
          33,
          34,
          35,
          36,
          37,
          38,
          39,
          40,
          41,
          42,
          43,
          44,
          45,
          46,
          47,
          48,
          49,
          50,
          51,
          52,
          53,
          54,
          55,
          56,
          57,
          58,
          59,
          60,
          61,
          62,
          63,
          64,
          65,
          66,
          67,
          68,
          69,
          70,
          71,
          72,
          73,
          74,
          75,
          76,
          77,
          78,
          79,
          80,
          81,
          82,
          83,
          84,
          85,
          86,
          87,
          88,
          89,
          90,
          91,
          92,
          93,
          94,
          95,
          96,
          97,
          98,
          99
         ],
         "y": [
          0.5560590486778653,
          -0.07793450560493444,
          1.4728014419360818,
          1.1841675005675982,
          0.03281836403183733,
          -0.6461553540733159,
          0.5986016228049653,
          -0.5717226512281799,
          -0.2747819332926034,
          0.49043949751220406,
          -1.1299777891524494,
          -0.1702095917006199,
          1.722509452732334,
          -0.10183571621992656,
          0.8098258836135469,
          -1.1063076830024827,
          0.057112964591251786,
          -1.6245497623720355,
          0.07215549241226307,
          -0.8894380820025064,
          -2.120833496107395,
          -0.08012739410150374,
          -0.591197681351182,
          0.5197983468505548,
          0.24142254317476586,
          1.7457988842999421,
          -1.1070059282786342,
          0.7913944754762602,
          -0.03914090883278507,
          0.6152536901853041,
          -0.05698167740111924,
          -0.27251337345567,
          -0.07551250464389586,
          -1.4975382351147017,
          -0.20273312933138704,
          2.3361653725747384,
          -0.5764544082758793,
          -1.1206284477949207,
          1.0803724020371084,
          0.9017473742656453,
          -0.02018976267946315,
          0.05347973046173759,
          -0.45391764829224956,
          -1.4044676816734702,
          -1.1989349494957657,
          -1.0866814888362737,
          1.3894900407927153,
          0.9162647371019855,
          0.4194940637068126,
          0.9034317144972939,
          -1.6191837646872886,
          0.006057610591446054,
          0.10132471015131193,
          -0.23082140302094117,
          -1.3083413724708712,
          -1.2795626813486651,
          0.062410142195700555,
          0.2875986079539208,
          0.9055903722191032,
          1.0916151451771925,
          -0.35317700404366503,
          -1.1509106118990473,
          0.23836868247584514,
          -1.3950447728820754,
          -1.5431027269159214,
          -0.7267103886216447,
          -2.918958189158711,
          0.3007783016160846,
          -0.1197534659473193,
          2.444338372746112,
          1.0811358025289786,
          0.3008412860349423,
          1.6118481390652135,
          -0.1653194027176514,
          0.5121512969539667,
          -1.500586263147276,
          -1.0521038617793856,
          1.6372159044057157,
          1.1839733648110073,
          0.05110509841795652,
          1.2103708240782325,
          -0.8098886634300432,
          0.6935184762736882,
          0.9200130974217491,
          0.2780698881923895,
          -0.43299394989872503,
          -0.7508110319139402,
          -0.014969382105271498,
          -1.6936832131901614,
          -2.183184500009131,
          0.009773417538940442,
          0.21650240127684667,
          -1.2321789658109623,
          -0.15811371811548136,
          0.520944239040899,
          0.360402959490052,
          0.8879887300703774,
          -0.18766955772960667,
          -0.23289851453897023,
          0.11653811732251271
         ]
        },
        {
         "line": {
          "color": "rgba(50, 171, 96, 1.0)",
          "dash": "solid",
          "shape": "linear",
          "width": 1.3
         },
         "mode": "lines",
         "name": "C",
         "text": "",
         "type": "scatter",
         "x": [
          0,
          1,
          2,
          3,
          4,
          5,
          6,
          7,
          8,
          9,
          10,
          11,
          12,
          13,
          14,
          15,
          16,
          17,
          18,
          19,
          20,
          21,
          22,
          23,
          24,
          25,
          26,
          27,
          28,
          29,
          30,
          31,
          32,
          33,
          34,
          35,
          36,
          37,
          38,
          39,
          40,
          41,
          42,
          43,
          44,
          45,
          46,
          47,
          48,
          49,
          50,
          51,
          52,
          53,
          54,
          55,
          56,
          57,
          58,
          59,
          60,
          61,
          62,
          63,
          64,
          65,
          66,
          67,
          68,
          69,
          70,
          71,
          72,
          73,
          74,
          75,
          76,
          77,
          78,
          79,
          80,
          81,
          82,
          83,
          84,
          85,
          86,
          87,
          88,
          89,
          90,
          91,
          92,
          93,
          94,
          95,
          96,
          97,
          98,
          99
         ],
         "y": [
          1.142957461938206,
          -0.6806125573649034,
          -1.0227817586537609,
          -0.06175598305331198,
          -2.857119317247955,
          -0.8026156012737113,
          0.14515392990946177,
          1.820762759962793,
          1.7317910720259766,
          -0.5355827163986291,
          -0.013574750771533906,
          0.13444921194922171,
          0.352673207392984,
          1.0072621275292684,
          1.229927995555651,
          2.136042961479565,
          -1.1723228481945511,
          1.0089558589830174,
          1.3985559261362852,
          -0.8325731223361609,
          -1.1401256081516107,
          -0.26583330975252095,
          0.6387792414628685,
          -0.5429091362003327,
          -2.0922479775033054,
          -0.8988064239550476,
          0.6929996926165763,
          0.8818628623091056,
          0.6975676418472025,
          -0.8788684792105158,
          1.6631070617585046,
          -0.6034459243047794,
          0.38597173621564035,
          -1.523891568361597,
          -1.259879097422616,
          0.17990138581357046,
          0.10853064364027251,
          0.3813978177227395,
          -0.3707262444083515,
          0.1507286183195694,
          -0.03206019274931715,
          0.7623051414856427,
          0.4118501538568426,
          1.2688469535198004,
          -0.23414749329142184,
          -0.37638456750429633,
          -1.1939671783580035,
          -1.1365481945856537,
          1.117128111513842,
          0.4723068041592008,
          -0.28169481187048445,
          0.03544221389922512,
          -1.063811946630155,
          0.6352727159649894,
          -0.6451093744106224,
          -0.28087286275127066,
          -0.11830913064769166,
          -2.3170291871331234,
          1.8139784434024169,
          0.24672464871290536,
          0.8369353888227604,
          -2.1437155576396942,
          1.754309141274669,
          -0.007796820439026534,
          0.7853097874691335,
          0.21540818823607497,
          -0.9030716490254593,
          -0.28321721477595774,
          0.5595247854263092,
          0.0031414715485191635,
          -0.5380866274429242,
          -0.8809091716997429,
          -1.45373282111659,
          -0.51926920566855,
          0.14873266415102424,
          0.7888599874592507,
          -2.1025788190103274,
          0.17574153051825117,
          -0.9468737982747777,
          -0.9736085018597049,
          1.2450370590295512,
          -2.144827448404873,
          -1.4691766297117512,
          0.9599144161071922,
          0.15177961654430017,
          1.451066628687136,
          -0.8189034360839488,
          -1.5601601784344195,
          -0.3357026308645879,
          -0.11544518415754632,
          0.9714972848297608,
          -0.2831689584490962,
          1.5968106765083325,
          0.04953698066907284,
          0.6323746017216597,
          1.853814731873583,
          1.0547336444809297,
          1.2047613193245084,
          1.899387145980557,
          0.764393875336319
         ]
        },
        {
         "line": {
          "color": "rgba(128, 0, 128, 1.0)",
          "dash": "solid",
          "shape": "linear",
          "width": 1.3
         },
         "mode": "lines",
         "name": "D",
         "text": "",
         "type": "scatter",
         "x": [
          0,
          1,
          2,
          3,
          4,
          5,
          6,
          7,
          8,
          9,
          10,
          11,
          12,
          13,
          14,
          15,
          16,
          17,
          18,
          19,
          20,
          21,
          22,
          23,
          24,
          25,
          26,
          27,
          28,
          29,
          30,
          31,
          32,
          33,
          34,
          35,
          36,
          37,
          38,
          39,
          40,
          41,
          42,
          43,
          44,
          45,
          46,
          47,
          48,
          49,
          50,
          51,
          52,
          53,
          54,
          55,
          56,
          57,
          58,
          59,
          60,
          61,
          62,
          63,
          64,
          65,
          66,
          67,
          68,
          69,
          70,
          71,
          72,
          73,
          74,
          75,
          76,
          77,
          78,
          79,
          80,
          81,
          82,
          83,
          84,
          85,
          86,
          87,
          88,
          89,
          90,
          91,
          92,
          93,
          94,
          95,
          96,
          97,
          98,
          99
         ],
         "y": [
          0.6636046017032086,
          -0.6826678579419522,
          0.6412989761567559,
          -1.5336201560910816,
          -3.0735978113266715,
          -0.4950015121392039,
          0.7227854040184063,
          -0.06021350561293821,
          -0.12416536813522329,
          1.9778048228648673,
          0.5633389809420963,
          0.5411563180282993,
          -0.42114275385464545,
          -0.7471470062784517,
          -1.3220558601645211,
          3.046616889305344,
          0.540553458484006,
          0.3517466555649153,
          0.9750666258851184,
          -1.877285662060283,
          1.4999838850754361,
          -0.7367262395859325,
          -0.3507399224979165,
          0.1458813972391933,
          -0.5666383467819421,
          -0.5850810319701142,
          0.698206429038685,
          -0.5308752434363585,
          0.043197033494854986,
          0.285808676977401,
          -0.0666281228286287,
          0.2190966997181222,
          0.9912177507573966,
          0.6767917629462028,
          -0.49298500634473946,
          1.268176424940927,
          -1.1719207677492396,
          2.022476073007396,
          0.42864837419088964,
          -1.3138253643244255,
          0.45642574016421283,
          -0.6626710733447282,
          0.7742876944256257,
          -0.3630554814665732,
          0.12421122839255876,
          -0.17281791359695634,
          1.4230929174675107,
          0.49355066858406377,
          1.0238261708187997,
          -0.10223960276495231,
          -0.9041740045931916,
          -1.0119978449638662,
          2.1630080727496757,
          1.254656380856612,
          -2.6660388378594884,
          -0.9777421327380746,
          1.067472644384756,
          -1.7242127848488038,
          -0.7947393609084901,
          0.97546616563427,
          0.46891172753877913,
          0.25938018055253853,
          0.8764022779236528,
          0.38430258464807754,
          1.174145616590082,
          0.25759815147608617,
          -1.7405595388297692,
          -0.4205321356222938,
          -0.849162893686231,
          0.12345242530678299,
          -0.10988663392928052,
          0.11420173092192624,
          0.5098330152516697,
          -0.8829850487515168,
          0.6074352104419615,
          -1.443868662604306,
          1.04937413180432,
          0.6537724159725903,
          0.5029296863520941,
          2.423710092601902,
          -1.4785653770372578,
          -1.4487117922977846,
          0.9588723637513975,
          -0.3231444498896284,
          -0.6180473746122097,
          0.6467849040614588,
          -1.5356285554458193,
          -1.342808655557535,
          0.23380153442864607,
          0.9406928117865758,
          0.33113596584484745,
          -0.6053287612428888,
          2.6812975316108987,
          1.5674687076974196,
          0.5669006248196585,
          0.9159915678356795,
          -0.41198763993783094,
          0.050642246241135704,
          -1.4167612286518538,
          -0.3277222022306663
         ]
        }
       ],
       "layout": {
        "legend": {
         "bgcolor": "#F5F6F9",
         "font": {
          "color": "#4D5663"
         }
        },
        "paper_bgcolor": "#F5F6F9",
        "plot_bgcolor": "#F5F6F9",
        "template": {
         "data": {
          "bar": [
           {
            "error_x": {
             "color": "#2a3f5f"
            },
            "error_y": {
             "color": "#2a3f5f"
            },
            "marker": {
             "line": {
              "color": "#E5ECF6",
              "width": 0.5
             },
             "pattern": {
              "fillmode": "overlay",
              "size": 10,
              "solidity": 0.2
             }
            },
            "type": "bar"
           }
          ],
          "barpolar": [
           {
            "marker": {
             "line": {
              "color": "#E5ECF6",
              "width": 0.5
             },
             "pattern": {
              "fillmode": "overlay",
              "size": 10,
              "solidity": 0.2
             }
            },
            "type": "barpolar"
           }
          ],
          "carpet": [
           {
            "aaxis": {
             "endlinecolor": "#2a3f5f",
             "gridcolor": "white",
             "linecolor": "white",
             "minorgridcolor": "white",
             "startlinecolor": "#2a3f5f"
            },
            "baxis": {
             "endlinecolor": "#2a3f5f",
             "gridcolor": "white",
             "linecolor": "white",
             "minorgridcolor": "white",
             "startlinecolor": "#2a3f5f"
            },
            "type": "carpet"
           }
          ],
          "choropleth": [
           {
            "colorbar": {
             "outlinewidth": 0,
             "ticks": ""
            },
            "type": "choropleth"
           }
          ],
          "contour": [
           {
            "colorbar": {
             "outlinewidth": 0,
             "ticks": ""
            },
            "colorscale": [
             [
              0,
              "#0d0887"
             ],
             [
              0.1111111111111111,
              "#46039f"
             ],
             [
              0.2222222222222222,
              "#7201a8"
             ],
             [
              0.3333333333333333,
              "#9c179e"
             ],
             [
              0.4444444444444444,
              "#bd3786"
             ],
             [
              0.5555555555555556,
              "#d8576b"
             ],
             [
              0.6666666666666666,
              "#ed7953"
             ],
             [
              0.7777777777777778,
              "#fb9f3a"
             ],
             [
              0.8888888888888888,
              "#fdca26"
             ],
             [
              1,
              "#f0f921"
             ]
            ],
            "type": "contour"
           }
          ],
          "contourcarpet": [
           {
            "colorbar": {
             "outlinewidth": 0,
             "ticks": ""
            },
            "type": "contourcarpet"
           }
          ],
          "heatmap": [
           {
            "colorbar": {
             "outlinewidth": 0,
             "ticks": ""
            },
            "colorscale": [
             [
              0,
              "#0d0887"
             ],
             [
              0.1111111111111111,
              "#46039f"
             ],
             [
              0.2222222222222222,
              "#7201a8"
             ],
             [
              0.3333333333333333,
              "#9c179e"
             ],
             [
              0.4444444444444444,
              "#bd3786"
             ],
             [
              0.5555555555555556,
              "#d8576b"
             ],
             [
              0.6666666666666666,
              "#ed7953"
             ],
             [
              0.7777777777777778,
              "#fb9f3a"
             ],
             [
              0.8888888888888888,
              "#fdca26"
             ],
             [
              1,
              "#f0f921"
             ]
            ],
            "type": "heatmap"
           }
          ],
          "heatmapgl": [
           {
            "colorbar": {
             "outlinewidth": 0,
             "ticks": ""
            },
            "colorscale": [
             [
              0,
              "#0d0887"
             ],
             [
              0.1111111111111111,
              "#46039f"
             ],
             [
              0.2222222222222222,
              "#7201a8"
             ],
             [
              0.3333333333333333,
              "#9c179e"
             ],
             [
              0.4444444444444444,
              "#bd3786"
             ],
             [
              0.5555555555555556,
              "#d8576b"
             ],
             [
              0.6666666666666666,
              "#ed7953"
             ],
             [
              0.7777777777777778,
              "#fb9f3a"
             ],
             [
              0.8888888888888888,
              "#fdca26"
             ],
             [
              1,
              "#f0f921"
             ]
            ],
            "type": "heatmapgl"
           }
          ],
          "histogram": [
           {
            "marker": {
             "pattern": {
              "fillmode": "overlay",
              "size": 10,
              "solidity": 0.2
             }
            },
            "type": "histogram"
           }
          ],
          "histogram2d": [
           {
            "colorbar": {
             "outlinewidth": 0,
             "ticks": ""
            },
            "colorscale": [
             [
              0,
              "#0d0887"
             ],
             [
              0.1111111111111111,
              "#46039f"
             ],
             [
              0.2222222222222222,
              "#7201a8"
             ],
             [
              0.3333333333333333,
              "#9c179e"
             ],
             [
              0.4444444444444444,
              "#bd3786"
             ],
             [
              0.5555555555555556,
              "#d8576b"
             ],
             [
              0.6666666666666666,
              "#ed7953"
             ],
             [
              0.7777777777777778,
              "#fb9f3a"
             ],
             [
              0.8888888888888888,
              "#fdca26"
             ],
             [
              1,
              "#f0f921"
             ]
            ],
            "type": "histogram2d"
           }
          ],
          "histogram2dcontour": [
           {
            "colorbar": {
             "outlinewidth": 0,
             "ticks": ""
            },
            "colorscale": [
             [
              0,
              "#0d0887"
             ],
             [
              0.1111111111111111,
              "#46039f"
             ],
             [
              0.2222222222222222,
              "#7201a8"
             ],
             [
              0.3333333333333333,
              "#9c179e"
             ],
             [
              0.4444444444444444,
              "#bd3786"
             ],
             [
              0.5555555555555556,
              "#d8576b"
             ],
             [
              0.6666666666666666,
              "#ed7953"
             ],
             [
              0.7777777777777778,
              "#fb9f3a"
             ],
             [
              0.8888888888888888,
              "#fdca26"
             ],
             [
              1,
              "#f0f921"
             ]
            ],
            "type": "histogram2dcontour"
           }
          ],
          "mesh3d": [
           {
            "colorbar": {
             "outlinewidth": 0,
             "ticks": ""
            },
            "type": "mesh3d"
           }
          ],
          "parcoords": [
           {
            "line": {
             "colorbar": {
              "outlinewidth": 0,
              "ticks": ""
             }
            },
            "type": "parcoords"
           }
          ],
          "pie": [
           {
            "automargin": true,
            "type": "pie"
           }
          ],
          "scatter": [
           {
            "fillpattern": {
             "fillmode": "overlay",
             "size": 10,
             "solidity": 0.2
            },
            "type": "scatter"
           }
          ],
          "scatter3d": [
           {
            "line": {
             "colorbar": {
              "outlinewidth": 0,
              "ticks": ""
             }
            },
            "marker": {
             "colorbar": {
              "outlinewidth": 0,
              "ticks": ""
             }
            },
            "type": "scatter3d"
           }
          ],
          "scattercarpet": [
           {
            "marker": {
             "colorbar": {
              "outlinewidth": 0,
              "ticks": ""
             }
            },
            "type": "scattercarpet"
           }
          ],
          "scattergeo": [
           {
            "marker": {
             "colorbar": {
              "outlinewidth": 0,
              "ticks": ""
             }
            },
            "type": "scattergeo"
           }
          ],
          "scattergl": [
           {
            "marker": {
             "colorbar": {
              "outlinewidth": 0,
              "ticks": ""
             }
            },
            "type": "scattergl"
           }
          ],
          "scattermapbox": [
           {
            "marker": {
             "colorbar": {
              "outlinewidth": 0,
              "ticks": ""
             }
            },
            "type": "scattermapbox"
           }
          ],
          "scatterpolar": [
           {
            "marker": {
             "colorbar": {
              "outlinewidth": 0,
              "ticks": ""
             }
            },
            "type": "scatterpolar"
           }
          ],
          "scatterpolargl": [
           {
            "marker": {
             "colorbar": {
              "outlinewidth": 0,
              "ticks": ""
             }
            },
            "type": "scatterpolargl"
           }
          ],
          "scatterternary": [
           {
            "marker": {
             "colorbar": {
              "outlinewidth": 0,
              "ticks": ""
             }
            },
            "type": "scatterternary"
           }
          ],
          "surface": [
           {
            "colorbar": {
             "outlinewidth": 0,
             "ticks": ""
            },
            "colorscale": [
             [
              0,
              "#0d0887"
             ],
             [
              0.1111111111111111,
              "#46039f"
             ],
             [
              0.2222222222222222,
              "#7201a8"
             ],
             [
              0.3333333333333333,
              "#9c179e"
             ],
             [
              0.4444444444444444,
              "#bd3786"
             ],
             [
              0.5555555555555556,
              "#d8576b"
             ],
             [
              0.6666666666666666,
              "#ed7953"
             ],
             [
              0.7777777777777778,
              "#fb9f3a"
             ],
             [
              0.8888888888888888,
              "#fdca26"
             ],
             [
              1,
              "#f0f921"
             ]
            ],
            "type": "surface"
           }
          ],
          "table": [
           {
            "cells": {
             "fill": {
              "color": "#EBF0F8"
             },
             "line": {
              "color": "white"
             }
            },
            "header": {
             "fill": {
              "color": "#C8D4E3"
             },
             "line": {
              "color": "white"
             }
            },
            "type": "table"
           }
          ]
         },
         "layout": {
          "annotationdefaults": {
           "arrowcolor": "#2a3f5f",
           "arrowhead": 0,
           "arrowwidth": 1
          },
          "autotypenumbers": "strict",
          "coloraxis": {
           "colorbar": {
            "outlinewidth": 0,
            "ticks": ""
           }
          },
          "colorscale": {
           "diverging": [
            [
             0,
             "#8e0152"
            ],
            [
             0.1,
             "#c51b7d"
            ],
            [
             0.2,
             "#de77ae"
            ],
            [
             0.3,
             "#f1b6da"
            ],
            [
             0.4,
             "#fde0ef"
            ],
            [
             0.5,
             "#f7f7f7"
            ],
            [
             0.6,
             "#e6f5d0"
            ],
            [
             0.7,
             "#b8e186"
            ],
            [
             0.8,
             "#7fbc41"
            ],
            [
             0.9,
             "#4d9221"
            ],
            [
             1,
             "#276419"
            ]
           ],
           "sequential": [
            [
             0,
             "#0d0887"
            ],
            [
             0.1111111111111111,
             "#46039f"
            ],
            [
             0.2222222222222222,
             "#7201a8"
            ],
            [
             0.3333333333333333,
             "#9c179e"
            ],
            [
             0.4444444444444444,
             "#bd3786"
            ],
            [
             0.5555555555555556,
             "#d8576b"
            ],
            [
             0.6666666666666666,
             "#ed7953"
            ],
            [
             0.7777777777777778,
             "#fb9f3a"
            ],
            [
             0.8888888888888888,
             "#fdca26"
            ],
            [
             1,
             "#f0f921"
            ]
           ],
           "sequentialminus": [
            [
             0,
             "#0d0887"
            ],
            [
             0.1111111111111111,
             "#46039f"
            ],
            [
             0.2222222222222222,
             "#7201a8"
            ],
            [
             0.3333333333333333,
             "#9c179e"
            ],
            [
             0.4444444444444444,
             "#bd3786"
            ],
            [
             0.5555555555555556,
             "#d8576b"
            ],
            [
             0.6666666666666666,
             "#ed7953"
            ],
            [
             0.7777777777777778,
             "#fb9f3a"
            ],
            [
             0.8888888888888888,
             "#fdca26"
            ],
            [
             1,
             "#f0f921"
            ]
           ]
          },
          "colorway": [
           "#636efa",
           "#EF553B",
           "#00cc96",
           "#ab63fa",
           "#FFA15A",
           "#19d3f3",
           "#FF6692",
           "#B6E880",
           "#FF97FF",
           "#FECB52"
          ],
          "font": {
           "color": "#2a3f5f"
          },
          "geo": {
           "bgcolor": "white",
           "lakecolor": "white",
           "landcolor": "#E5ECF6",
           "showlakes": true,
           "showland": true,
           "subunitcolor": "white"
          },
          "hoverlabel": {
           "align": "left"
          },
          "hovermode": "closest",
          "mapbox": {
           "style": "light"
          },
          "paper_bgcolor": "white",
          "plot_bgcolor": "#E5ECF6",
          "polar": {
           "angularaxis": {
            "gridcolor": "white",
            "linecolor": "white",
            "ticks": ""
           },
           "bgcolor": "#E5ECF6",
           "radialaxis": {
            "gridcolor": "white",
            "linecolor": "white",
            "ticks": ""
           }
          },
          "scene": {
           "xaxis": {
            "backgroundcolor": "#E5ECF6",
            "gridcolor": "white",
            "gridwidth": 2,
            "linecolor": "white",
            "showbackground": true,
            "ticks": "",
            "zerolinecolor": "white"
           },
           "yaxis": {
            "backgroundcolor": "#E5ECF6",
            "gridcolor": "white",
            "gridwidth": 2,
            "linecolor": "white",
            "showbackground": true,
            "ticks": "",
            "zerolinecolor": "white"
           },
           "zaxis": {
            "backgroundcolor": "#E5ECF6",
            "gridcolor": "white",
            "gridwidth": 2,
            "linecolor": "white",
            "showbackground": true,
            "ticks": "",
            "zerolinecolor": "white"
           }
          },
          "shapedefaults": {
           "line": {
            "color": "#2a3f5f"
           }
          },
          "ternary": {
           "aaxis": {
            "gridcolor": "white",
            "linecolor": "white",
            "ticks": ""
           },
           "baxis": {
            "gridcolor": "white",
            "linecolor": "white",
            "ticks": ""
           },
           "bgcolor": "#E5ECF6",
           "caxis": {
            "gridcolor": "white",
            "linecolor": "white",
            "ticks": ""
           }
          },
          "title": {
           "x": 0.05
          },
          "xaxis": {
           "automargin": true,
           "gridcolor": "white",
           "linecolor": "white",
           "ticks": "",
           "title": {
            "standoff": 15
           },
           "zerolinecolor": "white",
           "zerolinewidth": 2
          },
          "yaxis": {
           "automargin": true,
           "gridcolor": "white",
           "linecolor": "white",
           "ticks": "",
           "title": {
            "standoff": 15
           },
           "zerolinecolor": "white",
           "zerolinewidth": 2
          }
         }
        },
        "title": {
         "font": {
          "color": "#4D5663"
         }
        },
        "xaxis": {
         "gridcolor": "#E1E5ED",
         "showgrid": true,
         "tickfont": {
          "color": "#4D5663"
         },
         "title": {
          "font": {
           "color": "#4D5663"
          },
          "text": ""
         },
         "zerolinecolor": "#E1E5ED"
        },
        "yaxis": {
         "gridcolor": "#E1E5ED",
         "showgrid": true,
         "tickfont": {
          "color": "#4D5663"
         },
         "title": {
          "font": {
           "color": "#4D5663"
          },
          "text": ""
         },
         "zerolinecolor": "#E1E5ED"
        }
       }
      },
      "text/html": [
       "<div>                            <div id=\"0a2214ea-02f6-425f-ac61-e8c2a30e9e15\" class=\"plotly-graph-div\" style=\"height:525px; width:100%;\"></div>            <script type=\"text/javascript\">                require([\"plotly\"], function(Plotly) {                    window.PLOTLYENV=window.PLOTLYENV || {};\n",
       "                    window.PLOTLYENV.BASE_URL='https://plot.ly';                                    if (document.getElementById(\"0a2214ea-02f6-425f-ac61-e8c2a30e9e15\")) {                    Plotly.newPlot(                        \"0a2214ea-02f6-425f-ac61-e8c2a30e9e15\",                        [{\"line\":{\"color\":\"rgba(255, 153, 51, 1.0)\",\"dash\":\"solid\",\"shape\":\"linear\",\"width\":1.3},\"mode\":\"lines\",\"name\":\"A\",\"text\":\"\",\"x\":[0,1,2,3,4,5,6,7,8,9,10,11,12,13,14,15,16,17,18,19,20,21,22,23,24,25,26,27,28,29,30,31,32,33,34,35,36,37,38,39,40,41,42,43,44,45,46,47,48,49,50,51,52,53,54,55,56,57,58,59,60,61,62,63,64,65,66,67,68,69,70,71,72,73,74,75,76,77,78,79,80,81,82,83,84,85,86,87,88,89,90,91,92,93,94,95,96,97,98,99],\"y\":[-1.5450841317171276,-1.413125498673202,0.9323209797782157,0.06948672060685748,-1.2523413495098872,-1.998523806904109,0.9190235994878402,-0.9119658333889711,0.48330895698670573,-0.18718041389695883,-1.4320101370003964,-1.0261708964009986,-0.2445512401393387,0.5509130159887102,-0.01880610498489131,-0.3314676127876932,-0.6148547025606768,0.5904187382004569,0.6079579957452251,1.029365744269441,0.37821917735715205,0.4853068362773339,-0.04114493743598664,0.8708159539648068,1.5460674411149098,-0.5519392483070829,-0.781020223747612,2.248475249081179,-0.7841092464880934,0.6982816726880846,-0.6817947425346943,-0.15254862845208006,0.08242693280174032,-0.6165766635482408,0.07344361303984231,-2.472226220100499,-0.7017642502166871,0.31867008055206325,-0.2599768591357568,0.1128594778484536,1.9546293514760582,1.599497463833276,1.0851296565292388,-1.467177738869882,1.6987782408729655,1.1983444774482184,0.3155444180406639,-0.08519293842820412,-0.2456642503023336,0.5499649604319629,-3.4739634005226576,-2.2523455597506286,0.6937969710072474,1.6141764343342464,1.0400077714625975,0.10041443115825265,-0.7097173257145293,1.4604101958038826,0.3293241651930765,-0.8538133138281813,1.0663441980793718,0.47825456546125206,-0.671842993091924,0.17989808836044138,-0.5713356174675095,-0.48417683159928776,-0.5958366995752875,0.440964769391051,-0.5094687351758517,1.850188864915357,1.8675119837627912,-0.7122251808699338,0.06639775250348316,-1.695337244452929,1.6820736210084517,2.1310945371850463,-2.0930601078406137,-1.770996043995373,1.1437543834138326,-1.0775717485533514,-1.2275856522468844,1.217560029308882,0.03026729574779826,-1.5261799364599762,-0.04317321966520327,0.4887696263728301,0.470451294595051,1.4973438747078496,0.03651730210198627,0.509467886559641,0.03914759134423157,1.1308562743625474,0.4847047628207645,-0.4818166423351334,-2.080158939342939,-0.3751305898439625,0.03069571986767242,-0.4639225567373533,-0.7047432345226364,0.5217812056163413],\"type\":\"scatter\"},{\"line\":{\"color\":\"rgba(55, 128, 191, 1.0)\",\"dash\":\"solid\",\"shape\":\"linear\",\"width\":1.3},\"mode\":\"lines\",\"name\":\"B\",\"text\":\"\",\"x\":[0,1,2,3,4,5,6,7,8,9,10,11,12,13,14,15,16,17,18,19,20,21,22,23,24,25,26,27,28,29,30,31,32,33,34,35,36,37,38,39,40,41,42,43,44,45,46,47,48,49,50,51,52,53,54,55,56,57,58,59,60,61,62,63,64,65,66,67,68,69,70,71,72,73,74,75,76,77,78,79,80,81,82,83,84,85,86,87,88,89,90,91,92,93,94,95,96,97,98,99],\"y\":[0.5560590486778653,-0.07793450560493444,1.4728014419360818,1.1841675005675982,0.03281836403183733,-0.6461553540733159,0.5986016228049653,-0.5717226512281799,-0.2747819332926034,0.49043949751220406,-1.1299777891524494,-0.1702095917006199,1.722509452732334,-0.10183571621992656,0.8098258836135469,-1.1063076830024827,0.057112964591251786,-1.6245497623720355,0.07215549241226307,-0.8894380820025064,-2.120833496107395,-0.08012739410150374,-0.591197681351182,0.5197983468505548,0.24142254317476586,1.7457988842999421,-1.1070059282786342,0.7913944754762602,-0.03914090883278507,0.6152536901853041,-0.05698167740111924,-0.27251337345567,-0.07551250464389586,-1.4975382351147017,-0.20273312933138704,2.3361653725747384,-0.5764544082758793,-1.1206284477949207,1.0803724020371084,0.9017473742656453,-0.02018976267946315,0.05347973046173759,-0.45391764829224956,-1.4044676816734702,-1.1989349494957657,-1.0866814888362737,1.3894900407927153,0.9162647371019855,0.4194940637068126,0.9034317144972939,-1.6191837646872886,0.006057610591446054,0.10132471015131193,-0.23082140302094117,-1.3083413724708712,-1.2795626813486651,0.062410142195700555,0.2875986079539208,0.9055903722191032,1.0916151451771925,-0.35317700404366503,-1.1509106118990473,0.23836868247584514,-1.3950447728820754,-1.5431027269159214,-0.7267103886216447,-2.918958189158711,0.3007783016160846,-0.1197534659473193,2.444338372746112,1.0811358025289786,0.3008412860349423,1.6118481390652135,-0.1653194027176514,0.5121512969539667,-1.500586263147276,-1.0521038617793856,1.6372159044057157,1.1839733648110073,0.05110509841795652,1.2103708240782325,-0.8098886634300432,0.6935184762736882,0.9200130974217491,0.2780698881923895,-0.43299394989872503,-0.7508110319139402,-0.014969382105271498,-1.6936832131901614,-2.183184500009131,0.009773417538940442,0.21650240127684667,-1.2321789658109623,-0.15811371811548136,0.520944239040899,0.360402959490052,0.8879887300703774,-0.18766955772960667,-0.23289851453897023,0.11653811732251271],\"type\":\"scatter\"},{\"line\":{\"color\":\"rgba(50, 171, 96, 1.0)\",\"dash\":\"solid\",\"shape\":\"linear\",\"width\":1.3},\"mode\":\"lines\",\"name\":\"C\",\"text\":\"\",\"x\":[0,1,2,3,4,5,6,7,8,9,10,11,12,13,14,15,16,17,18,19,20,21,22,23,24,25,26,27,28,29,30,31,32,33,34,35,36,37,38,39,40,41,42,43,44,45,46,47,48,49,50,51,52,53,54,55,56,57,58,59,60,61,62,63,64,65,66,67,68,69,70,71,72,73,74,75,76,77,78,79,80,81,82,83,84,85,86,87,88,89,90,91,92,93,94,95,96,97,98,99],\"y\":[1.142957461938206,-0.6806125573649034,-1.0227817586537609,-0.06175598305331198,-2.857119317247955,-0.8026156012737113,0.14515392990946177,1.820762759962793,1.7317910720259766,-0.5355827163986291,-0.013574750771533906,0.13444921194922171,0.352673207392984,1.0072621275292684,1.229927995555651,2.136042961479565,-1.1723228481945511,1.0089558589830174,1.3985559261362852,-0.8325731223361609,-1.1401256081516107,-0.26583330975252095,0.6387792414628685,-0.5429091362003327,-2.0922479775033054,-0.8988064239550476,0.6929996926165763,0.8818628623091056,0.6975676418472025,-0.8788684792105158,1.6631070617585046,-0.6034459243047794,0.38597173621564035,-1.523891568361597,-1.259879097422616,0.17990138581357046,0.10853064364027251,0.3813978177227395,-0.3707262444083515,0.1507286183195694,-0.03206019274931715,0.7623051414856427,0.4118501538568426,1.2688469535198004,-0.23414749329142184,-0.37638456750429633,-1.1939671783580035,-1.1365481945856537,1.117128111513842,0.4723068041592008,-0.28169481187048445,0.03544221389922512,-1.063811946630155,0.6352727159649894,-0.6451093744106224,-0.28087286275127066,-0.11830913064769166,-2.3170291871331234,1.8139784434024169,0.24672464871290536,0.8369353888227604,-2.1437155576396942,1.754309141274669,-0.007796820439026534,0.7853097874691335,0.21540818823607497,-0.9030716490254593,-0.28321721477595774,0.5595247854263092,0.0031414715485191635,-0.5380866274429242,-0.8809091716997429,-1.45373282111659,-0.51926920566855,0.14873266415102424,0.7888599874592507,-2.1025788190103274,0.17574153051825117,-0.9468737982747777,-0.9736085018597049,1.2450370590295512,-2.144827448404873,-1.4691766297117512,0.9599144161071922,0.15177961654430017,1.451066628687136,-0.8189034360839488,-1.5601601784344195,-0.3357026308645879,-0.11544518415754632,0.9714972848297608,-0.2831689584490962,1.5968106765083325,0.04953698066907284,0.6323746017216597,1.853814731873583,1.0547336444809297,1.2047613193245084,1.899387145980557,0.764393875336319],\"type\":\"scatter\"},{\"line\":{\"color\":\"rgba(128, 0, 128, 1.0)\",\"dash\":\"solid\",\"shape\":\"linear\",\"width\":1.3},\"mode\":\"lines\",\"name\":\"D\",\"text\":\"\",\"x\":[0,1,2,3,4,5,6,7,8,9,10,11,12,13,14,15,16,17,18,19,20,21,22,23,24,25,26,27,28,29,30,31,32,33,34,35,36,37,38,39,40,41,42,43,44,45,46,47,48,49,50,51,52,53,54,55,56,57,58,59,60,61,62,63,64,65,66,67,68,69,70,71,72,73,74,75,76,77,78,79,80,81,82,83,84,85,86,87,88,89,90,91,92,93,94,95,96,97,98,99],\"y\":[0.6636046017032086,-0.6826678579419522,0.6412989761567559,-1.5336201560910816,-3.0735978113266715,-0.4950015121392039,0.7227854040184063,-0.06021350561293821,-0.12416536813522329,1.9778048228648673,0.5633389809420963,0.5411563180282993,-0.42114275385464545,-0.7471470062784517,-1.3220558601645211,3.046616889305344,0.540553458484006,0.3517466555649153,0.9750666258851184,-1.877285662060283,1.4999838850754361,-0.7367262395859325,-0.3507399224979165,0.1458813972391933,-0.5666383467819421,-0.5850810319701142,0.698206429038685,-0.5308752434363585,0.043197033494854986,0.285808676977401,-0.0666281228286287,0.2190966997181222,0.9912177507573966,0.6767917629462028,-0.49298500634473946,1.268176424940927,-1.1719207677492396,2.022476073007396,0.42864837419088964,-1.3138253643244255,0.45642574016421283,-0.6626710733447282,0.7742876944256257,-0.3630554814665732,0.12421122839255876,-0.17281791359695634,1.4230929174675107,0.49355066858406377,1.0238261708187997,-0.10223960276495231,-0.9041740045931916,-1.0119978449638662,2.1630080727496757,1.254656380856612,-2.6660388378594884,-0.9777421327380746,1.067472644384756,-1.7242127848488038,-0.7947393609084901,0.97546616563427,0.46891172753877913,0.25938018055253853,0.8764022779236528,0.38430258464807754,1.174145616590082,0.25759815147608617,-1.7405595388297692,-0.4205321356222938,-0.849162893686231,0.12345242530678299,-0.10988663392928052,0.11420173092192624,0.5098330152516697,-0.8829850487515168,0.6074352104419615,-1.443868662604306,1.04937413180432,0.6537724159725903,0.5029296863520941,2.423710092601902,-1.4785653770372578,-1.4487117922977846,0.9588723637513975,-0.3231444498896284,-0.6180473746122097,0.6467849040614588,-1.5356285554458193,-1.342808655557535,0.23380153442864607,0.9406928117865758,0.33113596584484745,-0.6053287612428888,2.6812975316108987,1.5674687076974196,0.5669006248196585,0.9159915678356795,-0.41198763993783094,0.050642246241135704,-1.4167612286518538,-0.3277222022306663],\"type\":\"scatter\"}],                        {\"legend\":{\"bgcolor\":\"#F5F6F9\",\"font\":{\"color\":\"#4D5663\"}},\"paper_bgcolor\":\"#F5F6F9\",\"plot_bgcolor\":\"#F5F6F9\",\"template\":{\"data\":{\"barpolar\":[{\"marker\":{\"line\":{\"color\":\"#E5ECF6\",\"width\":0.5},\"pattern\":{\"fillmode\":\"overlay\",\"size\":10,\"solidity\":0.2}},\"type\":\"barpolar\"}],\"bar\":[{\"error_x\":{\"color\":\"#2a3f5f\"},\"error_y\":{\"color\":\"#2a3f5f\"},\"marker\":{\"line\":{\"color\":\"#E5ECF6\",\"width\":0.5},\"pattern\":{\"fillmode\":\"overlay\",\"size\":10,\"solidity\":0.2}},\"type\":\"bar\"}],\"carpet\":[{\"aaxis\":{\"endlinecolor\":\"#2a3f5f\",\"gridcolor\":\"white\",\"linecolor\":\"white\",\"minorgridcolor\":\"white\",\"startlinecolor\":\"#2a3f5f\"},\"baxis\":{\"endlinecolor\":\"#2a3f5f\",\"gridcolor\":\"white\",\"linecolor\":\"white\",\"minorgridcolor\":\"white\",\"startlinecolor\":\"#2a3f5f\"},\"type\":\"carpet\"}],\"choropleth\":[{\"colorbar\":{\"outlinewidth\":0,\"ticks\":\"\"},\"type\":\"choropleth\"}],\"contourcarpet\":[{\"colorbar\":{\"outlinewidth\":0,\"ticks\":\"\"},\"type\":\"contourcarpet\"}],\"contour\":[{\"colorbar\":{\"outlinewidth\":0,\"ticks\":\"\"},\"colorscale\":[[0.0,\"#0d0887\"],[0.1111111111111111,\"#46039f\"],[0.2222222222222222,\"#7201a8\"],[0.3333333333333333,\"#9c179e\"],[0.4444444444444444,\"#bd3786\"],[0.5555555555555556,\"#d8576b\"],[0.6666666666666666,\"#ed7953\"],[0.7777777777777778,\"#fb9f3a\"],[0.8888888888888888,\"#fdca26\"],[1.0,\"#f0f921\"]],\"type\":\"contour\"}],\"heatmapgl\":[{\"colorbar\":{\"outlinewidth\":0,\"ticks\":\"\"},\"colorscale\":[[0.0,\"#0d0887\"],[0.1111111111111111,\"#46039f\"],[0.2222222222222222,\"#7201a8\"],[0.3333333333333333,\"#9c179e\"],[0.4444444444444444,\"#bd3786\"],[0.5555555555555556,\"#d8576b\"],[0.6666666666666666,\"#ed7953\"],[0.7777777777777778,\"#fb9f3a\"],[0.8888888888888888,\"#fdca26\"],[1.0,\"#f0f921\"]],\"type\":\"heatmapgl\"}],\"heatmap\":[{\"colorbar\":{\"outlinewidth\":0,\"ticks\":\"\"},\"colorscale\":[[0.0,\"#0d0887\"],[0.1111111111111111,\"#46039f\"],[0.2222222222222222,\"#7201a8\"],[0.3333333333333333,\"#9c179e\"],[0.4444444444444444,\"#bd3786\"],[0.5555555555555556,\"#d8576b\"],[0.6666666666666666,\"#ed7953\"],[0.7777777777777778,\"#fb9f3a\"],[0.8888888888888888,\"#fdca26\"],[1.0,\"#f0f921\"]],\"type\":\"heatmap\"}],\"histogram2dcontour\":[{\"colorbar\":{\"outlinewidth\":0,\"ticks\":\"\"},\"colorscale\":[[0.0,\"#0d0887\"],[0.1111111111111111,\"#46039f\"],[0.2222222222222222,\"#7201a8\"],[0.3333333333333333,\"#9c179e\"],[0.4444444444444444,\"#bd3786\"],[0.5555555555555556,\"#d8576b\"],[0.6666666666666666,\"#ed7953\"],[0.7777777777777778,\"#fb9f3a\"],[0.8888888888888888,\"#fdca26\"],[1.0,\"#f0f921\"]],\"type\":\"histogram2dcontour\"}],\"histogram2d\":[{\"colorbar\":{\"outlinewidth\":0,\"ticks\":\"\"},\"colorscale\":[[0.0,\"#0d0887\"],[0.1111111111111111,\"#46039f\"],[0.2222222222222222,\"#7201a8\"],[0.3333333333333333,\"#9c179e\"],[0.4444444444444444,\"#bd3786\"],[0.5555555555555556,\"#d8576b\"],[0.6666666666666666,\"#ed7953\"],[0.7777777777777778,\"#fb9f3a\"],[0.8888888888888888,\"#fdca26\"],[1.0,\"#f0f921\"]],\"type\":\"histogram2d\"}],\"histogram\":[{\"marker\":{\"pattern\":{\"fillmode\":\"overlay\",\"size\":10,\"solidity\":0.2}},\"type\":\"histogram\"}],\"mesh3d\":[{\"colorbar\":{\"outlinewidth\":0,\"ticks\":\"\"},\"type\":\"mesh3d\"}],\"parcoords\":[{\"line\":{\"colorbar\":{\"outlinewidth\":0,\"ticks\":\"\"}},\"type\":\"parcoords\"}],\"pie\":[{\"automargin\":true,\"type\":\"pie\"}],\"scatter3d\":[{\"line\":{\"colorbar\":{\"outlinewidth\":0,\"ticks\":\"\"}},\"marker\":{\"colorbar\":{\"outlinewidth\":0,\"ticks\":\"\"}},\"type\":\"scatter3d\"}],\"scattercarpet\":[{\"marker\":{\"colorbar\":{\"outlinewidth\":0,\"ticks\":\"\"}},\"type\":\"scattercarpet\"}],\"scattergeo\":[{\"marker\":{\"colorbar\":{\"outlinewidth\":0,\"ticks\":\"\"}},\"type\":\"scattergeo\"}],\"scattergl\":[{\"marker\":{\"colorbar\":{\"outlinewidth\":0,\"ticks\":\"\"}},\"type\":\"scattergl\"}],\"scattermapbox\":[{\"marker\":{\"colorbar\":{\"outlinewidth\":0,\"ticks\":\"\"}},\"type\":\"scattermapbox\"}],\"scatterpolargl\":[{\"marker\":{\"colorbar\":{\"outlinewidth\":0,\"ticks\":\"\"}},\"type\":\"scatterpolargl\"}],\"scatterpolar\":[{\"marker\":{\"colorbar\":{\"outlinewidth\":0,\"ticks\":\"\"}},\"type\":\"scatterpolar\"}],\"scatter\":[{\"fillpattern\":{\"fillmode\":\"overlay\",\"size\":10,\"solidity\":0.2},\"type\":\"scatter\"}],\"scatterternary\":[{\"marker\":{\"colorbar\":{\"outlinewidth\":0,\"ticks\":\"\"}},\"type\":\"scatterternary\"}],\"surface\":[{\"colorbar\":{\"outlinewidth\":0,\"ticks\":\"\"},\"colorscale\":[[0.0,\"#0d0887\"],[0.1111111111111111,\"#46039f\"],[0.2222222222222222,\"#7201a8\"],[0.3333333333333333,\"#9c179e\"],[0.4444444444444444,\"#bd3786\"],[0.5555555555555556,\"#d8576b\"],[0.6666666666666666,\"#ed7953\"],[0.7777777777777778,\"#fb9f3a\"],[0.8888888888888888,\"#fdca26\"],[1.0,\"#f0f921\"]],\"type\":\"surface\"}],\"table\":[{\"cells\":{\"fill\":{\"color\":\"#EBF0F8\"},\"line\":{\"color\":\"white\"}},\"header\":{\"fill\":{\"color\":\"#C8D4E3\"},\"line\":{\"color\":\"white\"}},\"type\":\"table\"}]},\"layout\":{\"annotationdefaults\":{\"arrowcolor\":\"#2a3f5f\",\"arrowhead\":0,\"arrowwidth\":1},\"autotypenumbers\":\"strict\",\"coloraxis\":{\"colorbar\":{\"outlinewidth\":0,\"ticks\":\"\"}},\"colorscale\":{\"diverging\":[[0,\"#8e0152\"],[0.1,\"#c51b7d\"],[0.2,\"#de77ae\"],[0.3,\"#f1b6da\"],[0.4,\"#fde0ef\"],[0.5,\"#f7f7f7\"],[0.6,\"#e6f5d0\"],[0.7,\"#b8e186\"],[0.8,\"#7fbc41\"],[0.9,\"#4d9221\"],[1,\"#276419\"]],\"sequential\":[[0.0,\"#0d0887\"],[0.1111111111111111,\"#46039f\"],[0.2222222222222222,\"#7201a8\"],[0.3333333333333333,\"#9c179e\"],[0.4444444444444444,\"#bd3786\"],[0.5555555555555556,\"#d8576b\"],[0.6666666666666666,\"#ed7953\"],[0.7777777777777778,\"#fb9f3a\"],[0.8888888888888888,\"#fdca26\"],[1.0,\"#f0f921\"]],\"sequentialminus\":[[0.0,\"#0d0887\"],[0.1111111111111111,\"#46039f\"],[0.2222222222222222,\"#7201a8\"],[0.3333333333333333,\"#9c179e\"],[0.4444444444444444,\"#bd3786\"],[0.5555555555555556,\"#d8576b\"],[0.6666666666666666,\"#ed7953\"],[0.7777777777777778,\"#fb9f3a\"],[0.8888888888888888,\"#fdca26\"],[1.0,\"#f0f921\"]]},\"colorway\":[\"#636efa\",\"#EF553B\",\"#00cc96\",\"#ab63fa\",\"#FFA15A\",\"#19d3f3\",\"#FF6692\",\"#B6E880\",\"#FF97FF\",\"#FECB52\"],\"font\":{\"color\":\"#2a3f5f\"},\"geo\":{\"bgcolor\":\"white\",\"lakecolor\":\"white\",\"landcolor\":\"#E5ECF6\",\"showlakes\":true,\"showland\":true,\"subunitcolor\":\"white\"},\"hoverlabel\":{\"align\":\"left\"},\"hovermode\":\"closest\",\"mapbox\":{\"style\":\"light\"},\"paper_bgcolor\":\"white\",\"plot_bgcolor\":\"#E5ECF6\",\"polar\":{\"angularaxis\":{\"gridcolor\":\"white\",\"linecolor\":\"white\",\"ticks\":\"\"},\"bgcolor\":\"#E5ECF6\",\"radialaxis\":{\"gridcolor\":\"white\",\"linecolor\":\"white\",\"ticks\":\"\"}},\"scene\":{\"xaxis\":{\"backgroundcolor\":\"#E5ECF6\",\"gridcolor\":\"white\",\"gridwidth\":2,\"linecolor\":\"white\",\"showbackground\":true,\"ticks\":\"\",\"zerolinecolor\":\"white\"},\"yaxis\":{\"backgroundcolor\":\"#E5ECF6\",\"gridcolor\":\"white\",\"gridwidth\":2,\"linecolor\":\"white\",\"showbackground\":true,\"ticks\":\"\",\"zerolinecolor\":\"white\"},\"zaxis\":{\"backgroundcolor\":\"#E5ECF6\",\"gridcolor\":\"white\",\"gridwidth\":2,\"linecolor\":\"white\",\"showbackground\":true,\"ticks\":\"\",\"zerolinecolor\":\"white\"}},\"shapedefaults\":{\"line\":{\"color\":\"#2a3f5f\"}},\"ternary\":{\"aaxis\":{\"gridcolor\":\"white\",\"linecolor\":\"white\",\"ticks\":\"\"},\"baxis\":{\"gridcolor\":\"white\",\"linecolor\":\"white\",\"ticks\":\"\"},\"bgcolor\":\"#E5ECF6\",\"caxis\":{\"gridcolor\":\"white\",\"linecolor\":\"white\",\"ticks\":\"\"}},\"title\":{\"x\":0.05},\"xaxis\":{\"automargin\":true,\"gridcolor\":\"white\",\"linecolor\":\"white\",\"ticks\":\"\",\"title\":{\"standoff\":15},\"zerolinecolor\":\"white\",\"zerolinewidth\":2},\"yaxis\":{\"automargin\":true,\"gridcolor\":\"white\",\"linecolor\":\"white\",\"ticks\":\"\",\"title\":{\"standoff\":15},\"zerolinecolor\":\"white\",\"zerolinewidth\":2}}},\"title\":{\"font\":{\"color\":\"#4D5663\"}},\"xaxis\":{\"gridcolor\":\"#E1E5ED\",\"showgrid\":true,\"tickfont\":{\"color\":\"#4D5663\"},\"title\":{\"font\":{\"color\":\"#4D5663\"},\"text\":\"\"},\"zerolinecolor\":\"#E1E5ED\"},\"yaxis\":{\"gridcolor\":\"#E1E5ED\",\"showgrid\":true,\"tickfont\":{\"color\":\"#4D5663\"},\"title\":{\"font\":{\"color\":\"#4D5663\"},\"text\":\"\"},\"zerolinecolor\":\"#E1E5ED\"}},                        {\"showLink\": true, \"linkText\": \"Export to plot.ly\", \"plotlyServerURL\": \"https://plot.ly\", \"responsive\": true}                    ).then(function(){\n",
       "                            \n",
       "var gd = document.getElementById('0a2214ea-02f6-425f-ac61-e8c2a30e9e15');\n",
       "var x = new MutationObserver(function (mutations, observer) {{\n",
       "        var display = window.getComputedStyle(gd).display;\n",
       "        if (!display || display === 'none') {{\n",
       "            console.log([gd, 'removed!']);\n",
       "            Plotly.purge(gd);\n",
       "            observer.disconnect();\n",
       "        }}\n",
       "}});\n",
       "\n",
       "// Listen for the removal of the full notebook cells\n",
       "var notebookContainer = gd.closest('#notebook-container');\n",
       "if (notebookContainer) {{\n",
       "    x.observe(notebookContainer, {childList: true});\n",
       "}}\n",
       "\n",
       "// Listen for the clearing of the current output cell\n",
       "var outputEl = gd.closest('.output');\n",
       "if (outputEl) {{\n",
       "    x.observe(outputEl, {childList: true});\n",
       "}}\n",
       "\n",
       "                        })                };                });            </script>        </div>"
      ]
     },
     "metadata": {},
     "output_type": "display_data"
    }
   ],
   "source": [
    "df.iplot()"
   ]
  },
  {
   "cell_type": "code",
   "execution_count": 12,
   "id": "96e2a765",
   "metadata": {},
   "outputs": [
    {
     "data": {
      "application/vnd.plotly.v1+json": {
       "config": {
        "linkText": "Export to plot.ly",
        "plotlyServerURL": "https://plot.ly",
        "showLink": true
       },
       "data": [
        {
         "line": {
          "color": "rgba(255, 153, 51, 1.0)",
          "dash": "solid",
          "shape": "linear",
          "width": 1.3
         },
         "marker": {
          "size": 12,
          "symbol": "circle"
         },
         "mode": "markers",
         "name": "B",
         "text": "",
         "type": "scatter",
         "x": [
          -1.5450841317171276,
          -1.413125498673202,
          0.9323209797782157,
          0.06948672060685748,
          -1.2523413495098872,
          -1.998523806904109,
          0.9190235994878402,
          -0.9119658333889711,
          0.48330895698670573,
          -0.18718041389695883,
          -1.4320101370003964,
          -1.0261708964009986,
          -0.2445512401393387,
          0.5509130159887102,
          -0.01880610498489131,
          -0.3314676127876932,
          -0.6148547025606768,
          0.5904187382004569,
          0.6079579957452251,
          1.029365744269441,
          0.37821917735715205,
          0.4853068362773339,
          -0.04114493743598664,
          0.8708159539648068,
          1.5460674411149098,
          -0.5519392483070829,
          -0.781020223747612,
          2.248475249081179,
          -0.7841092464880934,
          0.6982816726880846,
          -0.6817947425346943,
          -0.15254862845208006,
          0.08242693280174032,
          -0.6165766635482408,
          0.07344361303984231,
          -2.472226220100499,
          -0.7017642502166871,
          0.31867008055206325,
          -0.2599768591357568,
          0.1128594778484536,
          1.9546293514760582,
          1.599497463833276,
          1.0851296565292388,
          -1.467177738869882,
          1.6987782408729655,
          1.1983444774482184,
          0.3155444180406639,
          -0.08519293842820412,
          -0.2456642503023336,
          0.5499649604319629,
          -3.4739634005226576,
          -2.2523455597506286,
          0.6937969710072474,
          1.6141764343342464,
          1.0400077714625975,
          0.10041443115825265,
          -0.7097173257145293,
          1.4604101958038826,
          0.3293241651930765,
          -0.8538133138281813,
          1.0663441980793718,
          0.47825456546125206,
          -0.671842993091924,
          0.17989808836044138,
          -0.5713356174675095,
          -0.48417683159928776,
          -0.5958366995752875,
          0.440964769391051,
          -0.5094687351758517,
          1.850188864915357,
          1.8675119837627912,
          -0.7122251808699338,
          0.06639775250348316,
          -1.695337244452929,
          1.6820736210084517,
          2.1310945371850463,
          -2.0930601078406137,
          -1.770996043995373,
          1.1437543834138326,
          -1.0775717485533514,
          -1.2275856522468844,
          1.217560029308882,
          0.03026729574779826,
          -1.5261799364599762,
          -0.04317321966520327,
          0.4887696263728301,
          0.470451294595051,
          1.4973438747078496,
          0.03651730210198627,
          0.509467886559641,
          0.03914759134423157,
          1.1308562743625474,
          0.4847047628207645,
          -0.4818166423351334,
          -2.080158939342939,
          -0.3751305898439625,
          0.03069571986767242,
          -0.4639225567373533,
          -0.7047432345226364,
          0.5217812056163413
         ],
         "y": [
          0.5560590486778653,
          -0.07793450560493444,
          1.4728014419360818,
          1.1841675005675982,
          0.03281836403183733,
          -0.6461553540733159,
          0.5986016228049653,
          -0.5717226512281799,
          -0.2747819332926034,
          0.49043949751220406,
          -1.1299777891524494,
          -0.1702095917006199,
          1.722509452732334,
          -0.10183571621992656,
          0.8098258836135469,
          -1.1063076830024827,
          0.057112964591251786,
          -1.6245497623720355,
          0.07215549241226307,
          -0.8894380820025064,
          -2.120833496107395,
          -0.08012739410150374,
          -0.591197681351182,
          0.5197983468505548,
          0.24142254317476586,
          1.7457988842999421,
          -1.1070059282786342,
          0.7913944754762602,
          -0.03914090883278507,
          0.6152536901853041,
          -0.05698167740111924,
          -0.27251337345567,
          -0.07551250464389586,
          -1.4975382351147017,
          -0.20273312933138704,
          2.3361653725747384,
          -0.5764544082758793,
          -1.1206284477949207,
          1.0803724020371084,
          0.9017473742656453,
          -0.02018976267946315,
          0.05347973046173759,
          -0.45391764829224956,
          -1.4044676816734702,
          -1.1989349494957657,
          -1.0866814888362737,
          1.3894900407927153,
          0.9162647371019855,
          0.4194940637068126,
          0.9034317144972939,
          -1.6191837646872886,
          0.006057610591446054,
          0.10132471015131193,
          -0.23082140302094117,
          -1.3083413724708712,
          -1.2795626813486651,
          0.062410142195700555,
          0.2875986079539208,
          0.9055903722191032,
          1.0916151451771925,
          -0.35317700404366503,
          -1.1509106118990473,
          0.23836868247584514,
          -1.3950447728820754,
          -1.5431027269159214,
          -0.7267103886216447,
          -2.918958189158711,
          0.3007783016160846,
          -0.1197534659473193,
          2.444338372746112,
          1.0811358025289786,
          0.3008412860349423,
          1.6118481390652135,
          -0.1653194027176514,
          0.5121512969539667,
          -1.500586263147276,
          -1.0521038617793856,
          1.6372159044057157,
          1.1839733648110073,
          0.05110509841795652,
          1.2103708240782325,
          -0.8098886634300432,
          0.6935184762736882,
          0.9200130974217491,
          0.2780698881923895,
          -0.43299394989872503,
          -0.7508110319139402,
          -0.014969382105271498,
          -1.6936832131901614,
          -2.183184500009131,
          0.009773417538940442,
          0.21650240127684667,
          -1.2321789658109623,
          -0.15811371811548136,
          0.520944239040899,
          0.360402959490052,
          0.8879887300703774,
          -0.18766955772960667,
          -0.23289851453897023,
          0.11653811732251271
         ]
        }
       ],
       "layout": {
        "legend": {
         "bgcolor": "#F5F6F9",
         "font": {
          "color": "#4D5663"
         }
        },
        "paper_bgcolor": "#F5F6F9",
        "plot_bgcolor": "#F5F6F9",
        "template": {
         "data": {
          "bar": [
           {
            "error_x": {
             "color": "#2a3f5f"
            },
            "error_y": {
             "color": "#2a3f5f"
            },
            "marker": {
             "line": {
              "color": "#E5ECF6",
              "width": 0.5
             },
             "pattern": {
              "fillmode": "overlay",
              "size": 10,
              "solidity": 0.2
             }
            },
            "type": "bar"
           }
          ],
          "barpolar": [
           {
            "marker": {
             "line": {
              "color": "#E5ECF6",
              "width": 0.5
             },
             "pattern": {
              "fillmode": "overlay",
              "size": 10,
              "solidity": 0.2
             }
            },
            "type": "barpolar"
           }
          ],
          "carpet": [
           {
            "aaxis": {
             "endlinecolor": "#2a3f5f",
             "gridcolor": "white",
             "linecolor": "white",
             "minorgridcolor": "white",
             "startlinecolor": "#2a3f5f"
            },
            "baxis": {
             "endlinecolor": "#2a3f5f",
             "gridcolor": "white",
             "linecolor": "white",
             "minorgridcolor": "white",
             "startlinecolor": "#2a3f5f"
            },
            "type": "carpet"
           }
          ],
          "choropleth": [
           {
            "colorbar": {
             "outlinewidth": 0,
             "ticks": ""
            },
            "type": "choropleth"
           }
          ],
          "contour": [
           {
            "colorbar": {
             "outlinewidth": 0,
             "ticks": ""
            },
            "colorscale": [
             [
              0,
              "#0d0887"
             ],
             [
              0.1111111111111111,
              "#46039f"
             ],
             [
              0.2222222222222222,
              "#7201a8"
             ],
             [
              0.3333333333333333,
              "#9c179e"
             ],
             [
              0.4444444444444444,
              "#bd3786"
             ],
             [
              0.5555555555555556,
              "#d8576b"
             ],
             [
              0.6666666666666666,
              "#ed7953"
             ],
             [
              0.7777777777777778,
              "#fb9f3a"
             ],
             [
              0.8888888888888888,
              "#fdca26"
             ],
             [
              1,
              "#f0f921"
             ]
            ],
            "type": "contour"
           }
          ],
          "contourcarpet": [
           {
            "colorbar": {
             "outlinewidth": 0,
             "ticks": ""
            },
            "type": "contourcarpet"
           }
          ],
          "heatmap": [
           {
            "colorbar": {
             "outlinewidth": 0,
             "ticks": ""
            },
            "colorscale": [
             [
              0,
              "#0d0887"
             ],
             [
              0.1111111111111111,
              "#46039f"
             ],
             [
              0.2222222222222222,
              "#7201a8"
             ],
             [
              0.3333333333333333,
              "#9c179e"
             ],
             [
              0.4444444444444444,
              "#bd3786"
             ],
             [
              0.5555555555555556,
              "#d8576b"
             ],
             [
              0.6666666666666666,
              "#ed7953"
             ],
             [
              0.7777777777777778,
              "#fb9f3a"
             ],
             [
              0.8888888888888888,
              "#fdca26"
             ],
             [
              1,
              "#f0f921"
             ]
            ],
            "type": "heatmap"
           }
          ],
          "heatmapgl": [
           {
            "colorbar": {
             "outlinewidth": 0,
             "ticks": ""
            },
            "colorscale": [
             [
              0,
              "#0d0887"
             ],
             [
              0.1111111111111111,
              "#46039f"
             ],
             [
              0.2222222222222222,
              "#7201a8"
             ],
             [
              0.3333333333333333,
              "#9c179e"
             ],
             [
              0.4444444444444444,
              "#bd3786"
             ],
             [
              0.5555555555555556,
              "#d8576b"
             ],
             [
              0.6666666666666666,
              "#ed7953"
             ],
             [
              0.7777777777777778,
              "#fb9f3a"
             ],
             [
              0.8888888888888888,
              "#fdca26"
             ],
             [
              1,
              "#f0f921"
             ]
            ],
            "type": "heatmapgl"
           }
          ],
          "histogram": [
           {
            "marker": {
             "pattern": {
              "fillmode": "overlay",
              "size": 10,
              "solidity": 0.2
             }
            },
            "type": "histogram"
           }
          ],
          "histogram2d": [
           {
            "colorbar": {
             "outlinewidth": 0,
             "ticks": ""
            },
            "colorscale": [
             [
              0,
              "#0d0887"
             ],
             [
              0.1111111111111111,
              "#46039f"
             ],
             [
              0.2222222222222222,
              "#7201a8"
             ],
             [
              0.3333333333333333,
              "#9c179e"
             ],
             [
              0.4444444444444444,
              "#bd3786"
             ],
             [
              0.5555555555555556,
              "#d8576b"
             ],
             [
              0.6666666666666666,
              "#ed7953"
             ],
             [
              0.7777777777777778,
              "#fb9f3a"
             ],
             [
              0.8888888888888888,
              "#fdca26"
             ],
             [
              1,
              "#f0f921"
             ]
            ],
            "type": "histogram2d"
           }
          ],
          "histogram2dcontour": [
           {
            "colorbar": {
             "outlinewidth": 0,
             "ticks": ""
            },
            "colorscale": [
             [
              0,
              "#0d0887"
             ],
             [
              0.1111111111111111,
              "#46039f"
             ],
             [
              0.2222222222222222,
              "#7201a8"
             ],
             [
              0.3333333333333333,
              "#9c179e"
             ],
             [
              0.4444444444444444,
              "#bd3786"
             ],
             [
              0.5555555555555556,
              "#d8576b"
             ],
             [
              0.6666666666666666,
              "#ed7953"
             ],
             [
              0.7777777777777778,
              "#fb9f3a"
             ],
             [
              0.8888888888888888,
              "#fdca26"
             ],
             [
              1,
              "#f0f921"
             ]
            ],
            "type": "histogram2dcontour"
           }
          ],
          "mesh3d": [
           {
            "colorbar": {
             "outlinewidth": 0,
             "ticks": ""
            },
            "type": "mesh3d"
           }
          ],
          "parcoords": [
           {
            "line": {
             "colorbar": {
              "outlinewidth": 0,
              "ticks": ""
             }
            },
            "type": "parcoords"
           }
          ],
          "pie": [
           {
            "automargin": true,
            "type": "pie"
           }
          ],
          "scatter": [
           {
            "fillpattern": {
             "fillmode": "overlay",
             "size": 10,
             "solidity": 0.2
            },
            "type": "scatter"
           }
          ],
          "scatter3d": [
           {
            "line": {
             "colorbar": {
              "outlinewidth": 0,
              "ticks": ""
             }
            },
            "marker": {
             "colorbar": {
              "outlinewidth": 0,
              "ticks": ""
             }
            },
            "type": "scatter3d"
           }
          ],
          "scattercarpet": [
           {
            "marker": {
             "colorbar": {
              "outlinewidth": 0,
              "ticks": ""
             }
            },
            "type": "scattercarpet"
           }
          ],
          "scattergeo": [
           {
            "marker": {
             "colorbar": {
              "outlinewidth": 0,
              "ticks": ""
             }
            },
            "type": "scattergeo"
           }
          ],
          "scattergl": [
           {
            "marker": {
             "colorbar": {
              "outlinewidth": 0,
              "ticks": ""
             }
            },
            "type": "scattergl"
           }
          ],
          "scattermapbox": [
           {
            "marker": {
             "colorbar": {
              "outlinewidth": 0,
              "ticks": ""
             }
            },
            "type": "scattermapbox"
           }
          ],
          "scatterpolar": [
           {
            "marker": {
             "colorbar": {
              "outlinewidth": 0,
              "ticks": ""
             }
            },
            "type": "scatterpolar"
           }
          ],
          "scatterpolargl": [
           {
            "marker": {
             "colorbar": {
              "outlinewidth": 0,
              "ticks": ""
             }
            },
            "type": "scatterpolargl"
           }
          ],
          "scatterternary": [
           {
            "marker": {
             "colorbar": {
              "outlinewidth": 0,
              "ticks": ""
             }
            },
            "type": "scatterternary"
           }
          ],
          "surface": [
           {
            "colorbar": {
             "outlinewidth": 0,
             "ticks": ""
            },
            "colorscale": [
             [
              0,
              "#0d0887"
             ],
             [
              0.1111111111111111,
              "#46039f"
             ],
             [
              0.2222222222222222,
              "#7201a8"
             ],
             [
              0.3333333333333333,
              "#9c179e"
             ],
             [
              0.4444444444444444,
              "#bd3786"
             ],
             [
              0.5555555555555556,
              "#d8576b"
             ],
             [
              0.6666666666666666,
              "#ed7953"
             ],
             [
              0.7777777777777778,
              "#fb9f3a"
             ],
             [
              0.8888888888888888,
              "#fdca26"
             ],
             [
              1,
              "#f0f921"
             ]
            ],
            "type": "surface"
           }
          ],
          "table": [
           {
            "cells": {
             "fill": {
              "color": "#EBF0F8"
             },
             "line": {
              "color": "white"
             }
            },
            "header": {
             "fill": {
              "color": "#C8D4E3"
             },
             "line": {
              "color": "white"
             }
            },
            "type": "table"
           }
          ]
         },
         "layout": {
          "annotationdefaults": {
           "arrowcolor": "#2a3f5f",
           "arrowhead": 0,
           "arrowwidth": 1
          },
          "autotypenumbers": "strict",
          "coloraxis": {
           "colorbar": {
            "outlinewidth": 0,
            "ticks": ""
           }
          },
          "colorscale": {
           "diverging": [
            [
             0,
             "#8e0152"
            ],
            [
             0.1,
             "#c51b7d"
            ],
            [
             0.2,
             "#de77ae"
            ],
            [
             0.3,
             "#f1b6da"
            ],
            [
             0.4,
             "#fde0ef"
            ],
            [
             0.5,
             "#f7f7f7"
            ],
            [
             0.6,
             "#e6f5d0"
            ],
            [
             0.7,
             "#b8e186"
            ],
            [
             0.8,
             "#7fbc41"
            ],
            [
             0.9,
             "#4d9221"
            ],
            [
             1,
             "#276419"
            ]
           ],
           "sequential": [
            [
             0,
             "#0d0887"
            ],
            [
             0.1111111111111111,
             "#46039f"
            ],
            [
             0.2222222222222222,
             "#7201a8"
            ],
            [
             0.3333333333333333,
             "#9c179e"
            ],
            [
             0.4444444444444444,
             "#bd3786"
            ],
            [
             0.5555555555555556,
             "#d8576b"
            ],
            [
             0.6666666666666666,
             "#ed7953"
            ],
            [
             0.7777777777777778,
             "#fb9f3a"
            ],
            [
             0.8888888888888888,
             "#fdca26"
            ],
            [
             1,
             "#f0f921"
            ]
           ],
           "sequentialminus": [
            [
             0,
             "#0d0887"
            ],
            [
             0.1111111111111111,
             "#46039f"
            ],
            [
             0.2222222222222222,
             "#7201a8"
            ],
            [
             0.3333333333333333,
             "#9c179e"
            ],
            [
             0.4444444444444444,
             "#bd3786"
            ],
            [
             0.5555555555555556,
             "#d8576b"
            ],
            [
             0.6666666666666666,
             "#ed7953"
            ],
            [
             0.7777777777777778,
             "#fb9f3a"
            ],
            [
             0.8888888888888888,
             "#fdca26"
            ],
            [
             1,
             "#f0f921"
            ]
           ]
          },
          "colorway": [
           "#636efa",
           "#EF553B",
           "#00cc96",
           "#ab63fa",
           "#FFA15A",
           "#19d3f3",
           "#FF6692",
           "#B6E880",
           "#FF97FF",
           "#FECB52"
          ],
          "font": {
           "color": "#2a3f5f"
          },
          "geo": {
           "bgcolor": "white",
           "lakecolor": "white",
           "landcolor": "#E5ECF6",
           "showlakes": true,
           "showland": true,
           "subunitcolor": "white"
          },
          "hoverlabel": {
           "align": "left"
          },
          "hovermode": "closest",
          "mapbox": {
           "style": "light"
          },
          "paper_bgcolor": "white",
          "plot_bgcolor": "#E5ECF6",
          "polar": {
           "angularaxis": {
            "gridcolor": "white",
            "linecolor": "white",
            "ticks": ""
           },
           "bgcolor": "#E5ECF6",
           "radialaxis": {
            "gridcolor": "white",
            "linecolor": "white",
            "ticks": ""
           }
          },
          "scene": {
           "xaxis": {
            "backgroundcolor": "#E5ECF6",
            "gridcolor": "white",
            "gridwidth": 2,
            "linecolor": "white",
            "showbackground": true,
            "ticks": "",
            "zerolinecolor": "white"
           },
           "yaxis": {
            "backgroundcolor": "#E5ECF6",
            "gridcolor": "white",
            "gridwidth": 2,
            "linecolor": "white",
            "showbackground": true,
            "ticks": "",
            "zerolinecolor": "white"
           },
           "zaxis": {
            "backgroundcolor": "#E5ECF6",
            "gridcolor": "white",
            "gridwidth": 2,
            "linecolor": "white",
            "showbackground": true,
            "ticks": "",
            "zerolinecolor": "white"
           }
          },
          "shapedefaults": {
           "line": {
            "color": "#2a3f5f"
           }
          },
          "ternary": {
           "aaxis": {
            "gridcolor": "white",
            "linecolor": "white",
            "ticks": ""
           },
           "baxis": {
            "gridcolor": "white",
            "linecolor": "white",
            "ticks": ""
           },
           "bgcolor": "#E5ECF6",
           "caxis": {
            "gridcolor": "white",
            "linecolor": "white",
            "ticks": ""
           }
          },
          "title": {
           "x": 0.05
          },
          "xaxis": {
           "automargin": true,
           "gridcolor": "white",
           "linecolor": "white",
           "ticks": "",
           "title": {
            "standoff": 15
           },
           "zerolinecolor": "white",
           "zerolinewidth": 2
          },
          "yaxis": {
           "automargin": true,
           "gridcolor": "white",
           "linecolor": "white",
           "ticks": "",
           "title": {
            "standoff": 15
           },
           "zerolinecolor": "white",
           "zerolinewidth": 2
          }
         }
        },
        "title": {
         "font": {
          "color": "#4D5663"
         }
        },
        "xaxis": {
         "gridcolor": "#E1E5ED",
         "showgrid": true,
         "tickfont": {
          "color": "#4D5663"
         },
         "title": {
          "font": {
           "color": "#4D5663"
          },
          "text": ""
         },
         "zerolinecolor": "#E1E5ED"
        },
        "yaxis": {
         "gridcolor": "#E1E5ED",
         "showgrid": true,
         "tickfont": {
          "color": "#4D5663"
         },
         "title": {
          "font": {
           "color": "#4D5663"
          },
          "text": ""
         },
         "zerolinecolor": "#E1E5ED"
        }
       }
      },
      "text/html": [
       "<div>                            <div id=\"b371ea6b-48b7-49a7-8567-720518e0cbed\" class=\"plotly-graph-div\" style=\"height:525px; width:100%;\"></div>            <script type=\"text/javascript\">                require([\"plotly\"], function(Plotly) {                    window.PLOTLYENV=window.PLOTLYENV || {};\n",
       "                    window.PLOTLYENV.BASE_URL='https://plot.ly';                                    if (document.getElementById(\"b371ea6b-48b7-49a7-8567-720518e0cbed\")) {                    Plotly.newPlot(                        \"b371ea6b-48b7-49a7-8567-720518e0cbed\",                        [{\"line\":{\"color\":\"rgba(255, 153, 51, 1.0)\",\"dash\":\"solid\",\"shape\":\"linear\",\"width\":1.3},\"marker\":{\"size\":12,\"symbol\":\"circle\"},\"mode\":\"markers\",\"name\":\"B\",\"text\":\"\",\"x\":[-1.5450841317171276,-1.413125498673202,0.9323209797782157,0.06948672060685748,-1.2523413495098872,-1.998523806904109,0.9190235994878402,-0.9119658333889711,0.48330895698670573,-0.18718041389695883,-1.4320101370003964,-1.0261708964009986,-0.2445512401393387,0.5509130159887102,-0.01880610498489131,-0.3314676127876932,-0.6148547025606768,0.5904187382004569,0.6079579957452251,1.029365744269441,0.37821917735715205,0.4853068362773339,-0.04114493743598664,0.8708159539648068,1.5460674411149098,-0.5519392483070829,-0.781020223747612,2.248475249081179,-0.7841092464880934,0.6982816726880846,-0.6817947425346943,-0.15254862845208006,0.08242693280174032,-0.6165766635482408,0.07344361303984231,-2.472226220100499,-0.7017642502166871,0.31867008055206325,-0.2599768591357568,0.1128594778484536,1.9546293514760582,1.599497463833276,1.0851296565292388,-1.467177738869882,1.6987782408729655,1.1983444774482184,0.3155444180406639,-0.08519293842820412,-0.2456642503023336,0.5499649604319629,-3.4739634005226576,-2.2523455597506286,0.6937969710072474,1.6141764343342464,1.0400077714625975,0.10041443115825265,-0.7097173257145293,1.4604101958038826,0.3293241651930765,-0.8538133138281813,1.0663441980793718,0.47825456546125206,-0.671842993091924,0.17989808836044138,-0.5713356174675095,-0.48417683159928776,-0.5958366995752875,0.440964769391051,-0.5094687351758517,1.850188864915357,1.8675119837627912,-0.7122251808699338,0.06639775250348316,-1.695337244452929,1.6820736210084517,2.1310945371850463,-2.0930601078406137,-1.770996043995373,1.1437543834138326,-1.0775717485533514,-1.2275856522468844,1.217560029308882,0.03026729574779826,-1.5261799364599762,-0.04317321966520327,0.4887696263728301,0.470451294595051,1.4973438747078496,0.03651730210198627,0.509467886559641,0.03914759134423157,1.1308562743625474,0.4847047628207645,-0.4818166423351334,-2.080158939342939,-0.3751305898439625,0.03069571986767242,-0.4639225567373533,-0.7047432345226364,0.5217812056163413],\"y\":[0.5560590486778653,-0.07793450560493444,1.4728014419360818,1.1841675005675982,0.03281836403183733,-0.6461553540733159,0.5986016228049653,-0.5717226512281799,-0.2747819332926034,0.49043949751220406,-1.1299777891524494,-0.1702095917006199,1.722509452732334,-0.10183571621992656,0.8098258836135469,-1.1063076830024827,0.057112964591251786,-1.6245497623720355,0.07215549241226307,-0.8894380820025064,-2.120833496107395,-0.08012739410150374,-0.591197681351182,0.5197983468505548,0.24142254317476586,1.7457988842999421,-1.1070059282786342,0.7913944754762602,-0.03914090883278507,0.6152536901853041,-0.05698167740111924,-0.27251337345567,-0.07551250464389586,-1.4975382351147017,-0.20273312933138704,2.3361653725747384,-0.5764544082758793,-1.1206284477949207,1.0803724020371084,0.9017473742656453,-0.02018976267946315,0.05347973046173759,-0.45391764829224956,-1.4044676816734702,-1.1989349494957657,-1.0866814888362737,1.3894900407927153,0.9162647371019855,0.4194940637068126,0.9034317144972939,-1.6191837646872886,0.006057610591446054,0.10132471015131193,-0.23082140302094117,-1.3083413724708712,-1.2795626813486651,0.062410142195700555,0.2875986079539208,0.9055903722191032,1.0916151451771925,-0.35317700404366503,-1.1509106118990473,0.23836868247584514,-1.3950447728820754,-1.5431027269159214,-0.7267103886216447,-2.918958189158711,0.3007783016160846,-0.1197534659473193,2.444338372746112,1.0811358025289786,0.3008412860349423,1.6118481390652135,-0.1653194027176514,0.5121512969539667,-1.500586263147276,-1.0521038617793856,1.6372159044057157,1.1839733648110073,0.05110509841795652,1.2103708240782325,-0.8098886634300432,0.6935184762736882,0.9200130974217491,0.2780698881923895,-0.43299394989872503,-0.7508110319139402,-0.014969382105271498,-1.6936832131901614,-2.183184500009131,0.009773417538940442,0.21650240127684667,-1.2321789658109623,-0.15811371811548136,0.520944239040899,0.360402959490052,0.8879887300703774,-0.18766955772960667,-0.23289851453897023,0.11653811732251271],\"type\":\"scatter\"}],                        {\"legend\":{\"bgcolor\":\"#F5F6F9\",\"font\":{\"color\":\"#4D5663\"}},\"paper_bgcolor\":\"#F5F6F9\",\"plot_bgcolor\":\"#F5F6F9\",\"template\":{\"data\":{\"barpolar\":[{\"marker\":{\"line\":{\"color\":\"#E5ECF6\",\"width\":0.5},\"pattern\":{\"fillmode\":\"overlay\",\"size\":10,\"solidity\":0.2}},\"type\":\"barpolar\"}],\"bar\":[{\"error_x\":{\"color\":\"#2a3f5f\"},\"error_y\":{\"color\":\"#2a3f5f\"},\"marker\":{\"line\":{\"color\":\"#E5ECF6\",\"width\":0.5},\"pattern\":{\"fillmode\":\"overlay\",\"size\":10,\"solidity\":0.2}},\"type\":\"bar\"}],\"carpet\":[{\"aaxis\":{\"endlinecolor\":\"#2a3f5f\",\"gridcolor\":\"white\",\"linecolor\":\"white\",\"minorgridcolor\":\"white\",\"startlinecolor\":\"#2a3f5f\"},\"baxis\":{\"endlinecolor\":\"#2a3f5f\",\"gridcolor\":\"white\",\"linecolor\":\"white\",\"minorgridcolor\":\"white\",\"startlinecolor\":\"#2a3f5f\"},\"type\":\"carpet\"}],\"choropleth\":[{\"colorbar\":{\"outlinewidth\":0,\"ticks\":\"\"},\"type\":\"choropleth\"}],\"contourcarpet\":[{\"colorbar\":{\"outlinewidth\":0,\"ticks\":\"\"},\"type\":\"contourcarpet\"}],\"contour\":[{\"colorbar\":{\"outlinewidth\":0,\"ticks\":\"\"},\"colorscale\":[[0.0,\"#0d0887\"],[0.1111111111111111,\"#46039f\"],[0.2222222222222222,\"#7201a8\"],[0.3333333333333333,\"#9c179e\"],[0.4444444444444444,\"#bd3786\"],[0.5555555555555556,\"#d8576b\"],[0.6666666666666666,\"#ed7953\"],[0.7777777777777778,\"#fb9f3a\"],[0.8888888888888888,\"#fdca26\"],[1.0,\"#f0f921\"]],\"type\":\"contour\"}],\"heatmapgl\":[{\"colorbar\":{\"outlinewidth\":0,\"ticks\":\"\"},\"colorscale\":[[0.0,\"#0d0887\"],[0.1111111111111111,\"#46039f\"],[0.2222222222222222,\"#7201a8\"],[0.3333333333333333,\"#9c179e\"],[0.4444444444444444,\"#bd3786\"],[0.5555555555555556,\"#d8576b\"],[0.6666666666666666,\"#ed7953\"],[0.7777777777777778,\"#fb9f3a\"],[0.8888888888888888,\"#fdca26\"],[1.0,\"#f0f921\"]],\"type\":\"heatmapgl\"}],\"heatmap\":[{\"colorbar\":{\"outlinewidth\":0,\"ticks\":\"\"},\"colorscale\":[[0.0,\"#0d0887\"],[0.1111111111111111,\"#46039f\"],[0.2222222222222222,\"#7201a8\"],[0.3333333333333333,\"#9c179e\"],[0.4444444444444444,\"#bd3786\"],[0.5555555555555556,\"#d8576b\"],[0.6666666666666666,\"#ed7953\"],[0.7777777777777778,\"#fb9f3a\"],[0.8888888888888888,\"#fdca26\"],[1.0,\"#f0f921\"]],\"type\":\"heatmap\"}],\"histogram2dcontour\":[{\"colorbar\":{\"outlinewidth\":0,\"ticks\":\"\"},\"colorscale\":[[0.0,\"#0d0887\"],[0.1111111111111111,\"#46039f\"],[0.2222222222222222,\"#7201a8\"],[0.3333333333333333,\"#9c179e\"],[0.4444444444444444,\"#bd3786\"],[0.5555555555555556,\"#d8576b\"],[0.6666666666666666,\"#ed7953\"],[0.7777777777777778,\"#fb9f3a\"],[0.8888888888888888,\"#fdca26\"],[1.0,\"#f0f921\"]],\"type\":\"histogram2dcontour\"}],\"histogram2d\":[{\"colorbar\":{\"outlinewidth\":0,\"ticks\":\"\"},\"colorscale\":[[0.0,\"#0d0887\"],[0.1111111111111111,\"#46039f\"],[0.2222222222222222,\"#7201a8\"],[0.3333333333333333,\"#9c179e\"],[0.4444444444444444,\"#bd3786\"],[0.5555555555555556,\"#d8576b\"],[0.6666666666666666,\"#ed7953\"],[0.7777777777777778,\"#fb9f3a\"],[0.8888888888888888,\"#fdca26\"],[1.0,\"#f0f921\"]],\"type\":\"histogram2d\"}],\"histogram\":[{\"marker\":{\"pattern\":{\"fillmode\":\"overlay\",\"size\":10,\"solidity\":0.2}},\"type\":\"histogram\"}],\"mesh3d\":[{\"colorbar\":{\"outlinewidth\":0,\"ticks\":\"\"},\"type\":\"mesh3d\"}],\"parcoords\":[{\"line\":{\"colorbar\":{\"outlinewidth\":0,\"ticks\":\"\"}},\"type\":\"parcoords\"}],\"pie\":[{\"automargin\":true,\"type\":\"pie\"}],\"scatter3d\":[{\"line\":{\"colorbar\":{\"outlinewidth\":0,\"ticks\":\"\"}},\"marker\":{\"colorbar\":{\"outlinewidth\":0,\"ticks\":\"\"}},\"type\":\"scatter3d\"}],\"scattercarpet\":[{\"marker\":{\"colorbar\":{\"outlinewidth\":0,\"ticks\":\"\"}},\"type\":\"scattercarpet\"}],\"scattergeo\":[{\"marker\":{\"colorbar\":{\"outlinewidth\":0,\"ticks\":\"\"}},\"type\":\"scattergeo\"}],\"scattergl\":[{\"marker\":{\"colorbar\":{\"outlinewidth\":0,\"ticks\":\"\"}},\"type\":\"scattergl\"}],\"scattermapbox\":[{\"marker\":{\"colorbar\":{\"outlinewidth\":0,\"ticks\":\"\"}},\"type\":\"scattermapbox\"}],\"scatterpolargl\":[{\"marker\":{\"colorbar\":{\"outlinewidth\":0,\"ticks\":\"\"}},\"type\":\"scatterpolargl\"}],\"scatterpolar\":[{\"marker\":{\"colorbar\":{\"outlinewidth\":0,\"ticks\":\"\"}},\"type\":\"scatterpolar\"}],\"scatter\":[{\"fillpattern\":{\"fillmode\":\"overlay\",\"size\":10,\"solidity\":0.2},\"type\":\"scatter\"}],\"scatterternary\":[{\"marker\":{\"colorbar\":{\"outlinewidth\":0,\"ticks\":\"\"}},\"type\":\"scatterternary\"}],\"surface\":[{\"colorbar\":{\"outlinewidth\":0,\"ticks\":\"\"},\"colorscale\":[[0.0,\"#0d0887\"],[0.1111111111111111,\"#46039f\"],[0.2222222222222222,\"#7201a8\"],[0.3333333333333333,\"#9c179e\"],[0.4444444444444444,\"#bd3786\"],[0.5555555555555556,\"#d8576b\"],[0.6666666666666666,\"#ed7953\"],[0.7777777777777778,\"#fb9f3a\"],[0.8888888888888888,\"#fdca26\"],[1.0,\"#f0f921\"]],\"type\":\"surface\"}],\"table\":[{\"cells\":{\"fill\":{\"color\":\"#EBF0F8\"},\"line\":{\"color\":\"white\"}},\"header\":{\"fill\":{\"color\":\"#C8D4E3\"},\"line\":{\"color\":\"white\"}},\"type\":\"table\"}]},\"layout\":{\"annotationdefaults\":{\"arrowcolor\":\"#2a3f5f\",\"arrowhead\":0,\"arrowwidth\":1},\"autotypenumbers\":\"strict\",\"coloraxis\":{\"colorbar\":{\"outlinewidth\":0,\"ticks\":\"\"}},\"colorscale\":{\"diverging\":[[0,\"#8e0152\"],[0.1,\"#c51b7d\"],[0.2,\"#de77ae\"],[0.3,\"#f1b6da\"],[0.4,\"#fde0ef\"],[0.5,\"#f7f7f7\"],[0.6,\"#e6f5d0\"],[0.7,\"#b8e186\"],[0.8,\"#7fbc41\"],[0.9,\"#4d9221\"],[1,\"#276419\"]],\"sequential\":[[0.0,\"#0d0887\"],[0.1111111111111111,\"#46039f\"],[0.2222222222222222,\"#7201a8\"],[0.3333333333333333,\"#9c179e\"],[0.4444444444444444,\"#bd3786\"],[0.5555555555555556,\"#d8576b\"],[0.6666666666666666,\"#ed7953\"],[0.7777777777777778,\"#fb9f3a\"],[0.8888888888888888,\"#fdca26\"],[1.0,\"#f0f921\"]],\"sequentialminus\":[[0.0,\"#0d0887\"],[0.1111111111111111,\"#46039f\"],[0.2222222222222222,\"#7201a8\"],[0.3333333333333333,\"#9c179e\"],[0.4444444444444444,\"#bd3786\"],[0.5555555555555556,\"#d8576b\"],[0.6666666666666666,\"#ed7953\"],[0.7777777777777778,\"#fb9f3a\"],[0.8888888888888888,\"#fdca26\"],[1.0,\"#f0f921\"]]},\"colorway\":[\"#636efa\",\"#EF553B\",\"#00cc96\",\"#ab63fa\",\"#FFA15A\",\"#19d3f3\",\"#FF6692\",\"#B6E880\",\"#FF97FF\",\"#FECB52\"],\"font\":{\"color\":\"#2a3f5f\"},\"geo\":{\"bgcolor\":\"white\",\"lakecolor\":\"white\",\"landcolor\":\"#E5ECF6\",\"showlakes\":true,\"showland\":true,\"subunitcolor\":\"white\"},\"hoverlabel\":{\"align\":\"left\"},\"hovermode\":\"closest\",\"mapbox\":{\"style\":\"light\"},\"paper_bgcolor\":\"white\",\"plot_bgcolor\":\"#E5ECF6\",\"polar\":{\"angularaxis\":{\"gridcolor\":\"white\",\"linecolor\":\"white\",\"ticks\":\"\"},\"bgcolor\":\"#E5ECF6\",\"radialaxis\":{\"gridcolor\":\"white\",\"linecolor\":\"white\",\"ticks\":\"\"}},\"scene\":{\"xaxis\":{\"backgroundcolor\":\"#E5ECF6\",\"gridcolor\":\"white\",\"gridwidth\":2,\"linecolor\":\"white\",\"showbackground\":true,\"ticks\":\"\",\"zerolinecolor\":\"white\"},\"yaxis\":{\"backgroundcolor\":\"#E5ECF6\",\"gridcolor\":\"white\",\"gridwidth\":2,\"linecolor\":\"white\",\"showbackground\":true,\"ticks\":\"\",\"zerolinecolor\":\"white\"},\"zaxis\":{\"backgroundcolor\":\"#E5ECF6\",\"gridcolor\":\"white\",\"gridwidth\":2,\"linecolor\":\"white\",\"showbackground\":true,\"ticks\":\"\",\"zerolinecolor\":\"white\"}},\"shapedefaults\":{\"line\":{\"color\":\"#2a3f5f\"}},\"ternary\":{\"aaxis\":{\"gridcolor\":\"white\",\"linecolor\":\"white\",\"ticks\":\"\"},\"baxis\":{\"gridcolor\":\"white\",\"linecolor\":\"white\",\"ticks\":\"\"},\"bgcolor\":\"#E5ECF6\",\"caxis\":{\"gridcolor\":\"white\",\"linecolor\":\"white\",\"ticks\":\"\"}},\"title\":{\"x\":0.05},\"xaxis\":{\"automargin\":true,\"gridcolor\":\"white\",\"linecolor\":\"white\",\"ticks\":\"\",\"title\":{\"standoff\":15},\"zerolinecolor\":\"white\",\"zerolinewidth\":2},\"yaxis\":{\"automargin\":true,\"gridcolor\":\"white\",\"linecolor\":\"white\",\"ticks\":\"\",\"title\":{\"standoff\":15},\"zerolinecolor\":\"white\",\"zerolinewidth\":2}}},\"title\":{\"font\":{\"color\":\"#4D5663\"}},\"xaxis\":{\"gridcolor\":\"#E1E5ED\",\"showgrid\":true,\"tickfont\":{\"color\":\"#4D5663\"},\"title\":{\"font\":{\"color\":\"#4D5663\"},\"text\":\"\"},\"zerolinecolor\":\"#E1E5ED\"},\"yaxis\":{\"gridcolor\":\"#E1E5ED\",\"showgrid\":true,\"tickfont\":{\"color\":\"#4D5663\"},\"title\":{\"font\":{\"color\":\"#4D5663\"},\"text\":\"\"},\"zerolinecolor\":\"#E1E5ED\"}},                        {\"showLink\": true, \"linkText\": \"Export to plot.ly\", \"plotlyServerURL\": \"https://plot.ly\", \"responsive\": true}                    ).then(function(){\n",
       "                            \n",
       "var gd = document.getElementById('b371ea6b-48b7-49a7-8567-720518e0cbed');\n",
       "var x = new MutationObserver(function (mutations, observer) {{\n",
       "        var display = window.getComputedStyle(gd).display;\n",
       "        if (!display || display === 'none') {{\n",
       "            console.log([gd, 'removed!']);\n",
       "            Plotly.purge(gd);\n",
       "            observer.disconnect();\n",
       "        }}\n",
       "}});\n",
       "\n",
       "// Listen for the removal of the full notebook cells\n",
       "var notebookContainer = gd.closest('#notebook-container');\n",
       "if (notebookContainer) {{\n",
       "    x.observe(notebookContainer, {childList: true});\n",
       "}}\n",
       "\n",
       "// Listen for the clearing of the current output cell\n",
       "var outputEl = gd.closest('.output');\n",
       "if (outputEl) {{\n",
       "    x.observe(outputEl, {childList: true});\n",
       "}}\n",
       "\n",
       "                        })                };                });            </script>        </div>"
      ]
     },
     "metadata": {},
     "output_type": "display_data"
    }
   ],
   "source": [
    "df.iplot(kind='scatter',x='A',y='B', mode='markers')"
   ]
  },
  {
   "cell_type": "code",
   "execution_count": 13,
   "id": "42111ab9",
   "metadata": {},
   "outputs": [
    {
     "data": {
      "application/vnd.plotly.v1+json": {
       "config": {
        "linkText": "Export to plot.ly",
        "plotlyServerURL": "https://plot.ly",
        "showLink": true
       },
       "data": [
        {
         "marker": {
          "color": "rgba(255, 153, 51, 0.6)",
          "line": {
           "color": "rgba(255, 153, 51, 1.0)",
           "width": 1
          }
         },
         "name": "Values",
         "orientation": "v",
         "text": "",
         "type": "bar",
         "x": [
          "A",
          "B",
          "C"
         ],
         "y": [
          32,
          43,
          50
         ]
        }
       ],
       "layout": {
        "legend": {
         "bgcolor": "#F5F6F9",
         "font": {
          "color": "#4D5663"
         }
        },
        "paper_bgcolor": "#F5F6F9",
        "plot_bgcolor": "#F5F6F9",
        "template": {
         "data": {
          "bar": [
           {
            "error_x": {
             "color": "#2a3f5f"
            },
            "error_y": {
             "color": "#2a3f5f"
            },
            "marker": {
             "line": {
              "color": "#E5ECF6",
              "width": 0.5
             },
             "pattern": {
              "fillmode": "overlay",
              "size": 10,
              "solidity": 0.2
             }
            },
            "type": "bar"
           }
          ],
          "barpolar": [
           {
            "marker": {
             "line": {
              "color": "#E5ECF6",
              "width": 0.5
             },
             "pattern": {
              "fillmode": "overlay",
              "size": 10,
              "solidity": 0.2
             }
            },
            "type": "barpolar"
           }
          ],
          "carpet": [
           {
            "aaxis": {
             "endlinecolor": "#2a3f5f",
             "gridcolor": "white",
             "linecolor": "white",
             "minorgridcolor": "white",
             "startlinecolor": "#2a3f5f"
            },
            "baxis": {
             "endlinecolor": "#2a3f5f",
             "gridcolor": "white",
             "linecolor": "white",
             "minorgridcolor": "white",
             "startlinecolor": "#2a3f5f"
            },
            "type": "carpet"
           }
          ],
          "choropleth": [
           {
            "colorbar": {
             "outlinewidth": 0,
             "ticks": ""
            },
            "type": "choropleth"
           }
          ],
          "contour": [
           {
            "colorbar": {
             "outlinewidth": 0,
             "ticks": ""
            },
            "colorscale": [
             [
              0,
              "#0d0887"
             ],
             [
              0.1111111111111111,
              "#46039f"
             ],
             [
              0.2222222222222222,
              "#7201a8"
             ],
             [
              0.3333333333333333,
              "#9c179e"
             ],
             [
              0.4444444444444444,
              "#bd3786"
             ],
             [
              0.5555555555555556,
              "#d8576b"
             ],
             [
              0.6666666666666666,
              "#ed7953"
             ],
             [
              0.7777777777777778,
              "#fb9f3a"
             ],
             [
              0.8888888888888888,
              "#fdca26"
             ],
             [
              1,
              "#f0f921"
             ]
            ],
            "type": "contour"
           }
          ],
          "contourcarpet": [
           {
            "colorbar": {
             "outlinewidth": 0,
             "ticks": ""
            },
            "type": "contourcarpet"
           }
          ],
          "heatmap": [
           {
            "colorbar": {
             "outlinewidth": 0,
             "ticks": ""
            },
            "colorscale": [
             [
              0,
              "#0d0887"
             ],
             [
              0.1111111111111111,
              "#46039f"
             ],
             [
              0.2222222222222222,
              "#7201a8"
             ],
             [
              0.3333333333333333,
              "#9c179e"
             ],
             [
              0.4444444444444444,
              "#bd3786"
             ],
             [
              0.5555555555555556,
              "#d8576b"
             ],
             [
              0.6666666666666666,
              "#ed7953"
             ],
             [
              0.7777777777777778,
              "#fb9f3a"
             ],
             [
              0.8888888888888888,
              "#fdca26"
             ],
             [
              1,
              "#f0f921"
             ]
            ],
            "type": "heatmap"
           }
          ],
          "heatmapgl": [
           {
            "colorbar": {
             "outlinewidth": 0,
             "ticks": ""
            },
            "colorscale": [
             [
              0,
              "#0d0887"
             ],
             [
              0.1111111111111111,
              "#46039f"
             ],
             [
              0.2222222222222222,
              "#7201a8"
             ],
             [
              0.3333333333333333,
              "#9c179e"
             ],
             [
              0.4444444444444444,
              "#bd3786"
             ],
             [
              0.5555555555555556,
              "#d8576b"
             ],
             [
              0.6666666666666666,
              "#ed7953"
             ],
             [
              0.7777777777777778,
              "#fb9f3a"
             ],
             [
              0.8888888888888888,
              "#fdca26"
             ],
             [
              1,
              "#f0f921"
             ]
            ],
            "type": "heatmapgl"
           }
          ],
          "histogram": [
           {
            "marker": {
             "pattern": {
              "fillmode": "overlay",
              "size": 10,
              "solidity": 0.2
             }
            },
            "type": "histogram"
           }
          ],
          "histogram2d": [
           {
            "colorbar": {
             "outlinewidth": 0,
             "ticks": ""
            },
            "colorscale": [
             [
              0,
              "#0d0887"
             ],
             [
              0.1111111111111111,
              "#46039f"
             ],
             [
              0.2222222222222222,
              "#7201a8"
             ],
             [
              0.3333333333333333,
              "#9c179e"
             ],
             [
              0.4444444444444444,
              "#bd3786"
             ],
             [
              0.5555555555555556,
              "#d8576b"
             ],
             [
              0.6666666666666666,
              "#ed7953"
             ],
             [
              0.7777777777777778,
              "#fb9f3a"
             ],
             [
              0.8888888888888888,
              "#fdca26"
             ],
             [
              1,
              "#f0f921"
             ]
            ],
            "type": "histogram2d"
           }
          ],
          "histogram2dcontour": [
           {
            "colorbar": {
             "outlinewidth": 0,
             "ticks": ""
            },
            "colorscale": [
             [
              0,
              "#0d0887"
             ],
             [
              0.1111111111111111,
              "#46039f"
             ],
             [
              0.2222222222222222,
              "#7201a8"
             ],
             [
              0.3333333333333333,
              "#9c179e"
             ],
             [
              0.4444444444444444,
              "#bd3786"
             ],
             [
              0.5555555555555556,
              "#d8576b"
             ],
             [
              0.6666666666666666,
              "#ed7953"
             ],
             [
              0.7777777777777778,
              "#fb9f3a"
             ],
             [
              0.8888888888888888,
              "#fdca26"
             ],
             [
              1,
              "#f0f921"
             ]
            ],
            "type": "histogram2dcontour"
           }
          ],
          "mesh3d": [
           {
            "colorbar": {
             "outlinewidth": 0,
             "ticks": ""
            },
            "type": "mesh3d"
           }
          ],
          "parcoords": [
           {
            "line": {
             "colorbar": {
              "outlinewidth": 0,
              "ticks": ""
             }
            },
            "type": "parcoords"
           }
          ],
          "pie": [
           {
            "automargin": true,
            "type": "pie"
           }
          ],
          "scatter": [
           {
            "fillpattern": {
             "fillmode": "overlay",
             "size": 10,
             "solidity": 0.2
            },
            "type": "scatter"
           }
          ],
          "scatter3d": [
           {
            "line": {
             "colorbar": {
              "outlinewidth": 0,
              "ticks": ""
             }
            },
            "marker": {
             "colorbar": {
              "outlinewidth": 0,
              "ticks": ""
             }
            },
            "type": "scatter3d"
           }
          ],
          "scattercarpet": [
           {
            "marker": {
             "colorbar": {
              "outlinewidth": 0,
              "ticks": ""
             }
            },
            "type": "scattercarpet"
           }
          ],
          "scattergeo": [
           {
            "marker": {
             "colorbar": {
              "outlinewidth": 0,
              "ticks": ""
             }
            },
            "type": "scattergeo"
           }
          ],
          "scattergl": [
           {
            "marker": {
             "colorbar": {
              "outlinewidth": 0,
              "ticks": ""
             }
            },
            "type": "scattergl"
           }
          ],
          "scattermapbox": [
           {
            "marker": {
             "colorbar": {
              "outlinewidth": 0,
              "ticks": ""
             }
            },
            "type": "scattermapbox"
           }
          ],
          "scatterpolar": [
           {
            "marker": {
             "colorbar": {
              "outlinewidth": 0,
              "ticks": ""
             }
            },
            "type": "scatterpolar"
           }
          ],
          "scatterpolargl": [
           {
            "marker": {
             "colorbar": {
              "outlinewidth": 0,
              "ticks": ""
             }
            },
            "type": "scatterpolargl"
           }
          ],
          "scatterternary": [
           {
            "marker": {
             "colorbar": {
              "outlinewidth": 0,
              "ticks": ""
             }
            },
            "type": "scatterternary"
           }
          ],
          "surface": [
           {
            "colorbar": {
             "outlinewidth": 0,
             "ticks": ""
            },
            "colorscale": [
             [
              0,
              "#0d0887"
             ],
             [
              0.1111111111111111,
              "#46039f"
             ],
             [
              0.2222222222222222,
              "#7201a8"
             ],
             [
              0.3333333333333333,
              "#9c179e"
             ],
             [
              0.4444444444444444,
              "#bd3786"
             ],
             [
              0.5555555555555556,
              "#d8576b"
             ],
             [
              0.6666666666666666,
              "#ed7953"
             ],
             [
              0.7777777777777778,
              "#fb9f3a"
             ],
             [
              0.8888888888888888,
              "#fdca26"
             ],
             [
              1,
              "#f0f921"
             ]
            ],
            "type": "surface"
           }
          ],
          "table": [
           {
            "cells": {
             "fill": {
              "color": "#EBF0F8"
             },
             "line": {
              "color": "white"
             }
            },
            "header": {
             "fill": {
              "color": "#C8D4E3"
             },
             "line": {
              "color": "white"
             }
            },
            "type": "table"
           }
          ]
         },
         "layout": {
          "annotationdefaults": {
           "arrowcolor": "#2a3f5f",
           "arrowhead": 0,
           "arrowwidth": 1
          },
          "autotypenumbers": "strict",
          "coloraxis": {
           "colorbar": {
            "outlinewidth": 0,
            "ticks": ""
           }
          },
          "colorscale": {
           "diverging": [
            [
             0,
             "#8e0152"
            ],
            [
             0.1,
             "#c51b7d"
            ],
            [
             0.2,
             "#de77ae"
            ],
            [
             0.3,
             "#f1b6da"
            ],
            [
             0.4,
             "#fde0ef"
            ],
            [
             0.5,
             "#f7f7f7"
            ],
            [
             0.6,
             "#e6f5d0"
            ],
            [
             0.7,
             "#b8e186"
            ],
            [
             0.8,
             "#7fbc41"
            ],
            [
             0.9,
             "#4d9221"
            ],
            [
             1,
             "#276419"
            ]
           ],
           "sequential": [
            [
             0,
             "#0d0887"
            ],
            [
             0.1111111111111111,
             "#46039f"
            ],
            [
             0.2222222222222222,
             "#7201a8"
            ],
            [
             0.3333333333333333,
             "#9c179e"
            ],
            [
             0.4444444444444444,
             "#bd3786"
            ],
            [
             0.5555555555555556,
             "#d8576b"
            ],
            [
             0.6666666666666666,
             "#ed7953"
            ],
            [
             0.7777777777777778,
             "#fb9f3a"
            ],
            [
             0.8888888888888888,
             "#fdca26"
            ],
            [
             1,
             "#f0f921"
            ]
           ],
           "sequentialminus": [
            [
             0,
             "#0d0887"
            ],
            [
             0.1111111111111111,
             "#46039f"
            ],
            [
             0.2222222222222222,
             "#7201a8"
            ],
            [
             0.3333333333333333,
             "#9c179e"
            ],
            [
             0.4444444444444444,
             "#bd3786"
            ],
            [
             0.5555555555555556,
             "#d8576b"
            ],
            [
             0.6666666666666666,
             "#ed7953"
            ],
            [
             0.7777777777777778,
             "#fb9f3a"
            ],
            [
             0.8888888888888888,
             "#fdca26"
            ],
            [
             1,
             "#f0f921"
            ]
           ]
          },
          "colorway": [
           "#636efa",
           "#EF553B",
           "#00cc96",
           "#ab63fa",
           "#FFA15A",
           "#19d3f3",
           "#FF6692",
           "#B6E880",
           "#FF97FF",
           "#FECB52"
          ],
          "font": {
           "color": "#2a3f5f"
          },
          "geo": {
           "bgcolor": "white",
           "lakecolor": "white",
           "landcolor": "#E5ECF6",
           "showlakes": true,
           "showland": true,
           "subunitcolor": "white"
          },
          "hoverlabel": {
           "align": "left"
          },
          "hovermode": "closest",
          "mapbox": {
           "style": "light"
          },
          "paper_bgcolor": "white",
          "plot_bgcolor": "#E5ECF6",
          "polar": {
           "angularaxis": {
            "gridcolor": "white",
            "linecolor": "white",
            "ticks": ""
           },
           "bgcolor": "#E5ECF6",
           "radialaxis": {
            "gridcolor": "white",
            "linecolor": "white",
            "ticks": ""
           }
          },
          "scene": {
           "xaxis": {
            "backgroundcolor": "#E5ECF6",
            "gridcolor": "white",
            "gridwidth": 2,
            "linecolor": "white",
            "showbackground": true,
            "ticks": "",
            "zerolinecolor": "white"
           },
           "yaxis": {
            "backgroundcolor": "#E5ECF6",
            "gridcolor": "white",
            "gridwidth": 2,
            "linecolor": "white",
            "showbackground": true,
            "ticks": "",
            "zerolinecolor": "white"
           },
           "zaxis": {
            "backgroundcolor": "#E5ECF6",
            "gridcolor": "white",
            "gridwidth": 2,
            "linecolor": "white",
            "showbackground": true,
            "ticks": "",
            "zerolinecolor": "white"
           }
          },
          "shapedefaults": {
           "line": {
            "color": "#2a3f5f"
           }
          },
          "ternary": {
           "aaxis": {
            "gridcolor": "white",
            "linecolor": "white",
            "ticks": ""
           },
           "baxis": {
            "gridcolor": "white",
            "linecolor": "white",
            "ticks": ""
           },
           "bgcolor": "#E5ECF6",
           "caxis": {
            "gridcolor": "white",
            "linecolor": "white",
            "ticks": ""
           }
          },
          "title": {
           "x": 0.05
          },
          "xaxis": {
           "automargin": true,
           "gridcolor": "white",
           "linecolor": "white",
           "ticks": "",
           "title": {
            "standoff": 15
           },
           "zerolinecolor": "white",
           "zerolinewidth": 2
          },
          "yaxis": {
           "automargin": true,
           "gridcolor": "white",
           "linecolor": "white",
           "ticks": "",
           "title": {
            "standoff": 15
           },
           "zerolinecolor": "white",
           "zerolinewidth": 2
          }
         }
        },
        "title": {
         "font": {
          "color": "#4D5663"
         }
        },
        "xaxis": {
         "gridcolor": "#E1E5ED",
         "showgrid": true,
         "tickfont": {
          "color": "#4D5663"
         },
         "title": {
          "font": {
           "color": "#4D5663"
          },
          "text": ""
         },
         "zerolinecolor": "#E1E5ED"
        },
        "yaxis": {
         "gridcolor": "#E1E5ED",
         "showgrid": true,
         "tickfont": {
          "color": "#4D5663"
         },
         "title": {
          "font": {
           "color": "#4D5663"
          },
          "text": ""
         },
         "zerolinecolor": "#E1E5ED"
        }
       }
      },
      "text/html": [
       "<div>                            <div id=\"96982f87-cf47-4a4e-8a18-8a1d57212cd9\" class=\"plotly-graph-div\" style=\"height:525px; width:100%;\"></div>            <script type=\"text/javascript\">                require([\"plotly\"], function(Plotly) {                    window.PLOTLYENV=window.PLOTLYENV || {};\n",
       "                    window.PLOTLYENV.BASE_URL='https://plot.ly';                                    if (document.getElementById(\"96982f87-cf47-4a4e-8a18-8a1d57212cd9\")) {                    Plotly.newPlot(                        \"96982f87-cf47-4a4e-8a18-8a1d57212cd9\",                        [{\"marker\":{\"color\":\"rgba(255, 153, 51, 0.6)\",\"line\":{\"color\":\"rgba(255, 153, 51, 1.0)\",\"width\":1}},\"name\":\"Values\",\"orientation\":\"v\",\"text\":\"\",\"x\":[\"A\",\"B\",\"C\"],\"y\":[32,43,50],\"type\":\"bar\"}],                        {\"legend\":{\"bgcolor\":\"#F5F6F9\",\"font\":{\"color\":\"#4D5663\"}},\"paper_bgcolor\":\"#F5F6F9\",\"plot_bgcolor\":\"#F5F6F9\",\"template\":{\"data\":{\"barpolar\":[{\"marker\":{\"line\":{\"color\":\"#E5ECF6\",\"width\":0.5},\"pattern\":{\"fillmode\":\"overlay\",\"size\":10,\"solidity\":0.2}},\"type\":\"barpolar\"}],\"bar\":[{\"error_x\":{\"color\":\"#2a3f5f\"},\"error_y\":{\"color\":\"#2a3f5f\"},\"marker\":{\"line\":{\"color\":\"#E5ECF6\",\"width\":0.5},\"pattern\":{\"fillmode\":\"overlay\",\"size\":10,\"solidity\":0.2}},\"type\":\"bar\"}],\"carpet\":[{\"aaxis\":{\"endlinecolor\":\"#2a3f5f\",\"gridcolor\":\"white\",\"linecolor\":\"white\",\"minorgridcolor\":\"white\",\"startlinecolor\":\"#2a3f5f\"},\"baxis\":{\"endlinecolor\":\"#2a3f5f\",\"gridcolor\":\"white\",\"linecolor\":\"white\",\"minorgridcolor\":\"white\",\"startlinecolor\":\"#2a3f5f\"},\"type\":\"carpet\"}],\"choropleth\":[{\"colorbar\":{\"outlinewidth\":0,\"ticks\":\"\"},\"type\":\"choropleth\"}],\"contourcarpet\":[{\"colorbar\":{\"outlinewidth\":0,\"ticks\":\"\"},\"type\":\"contourcarpet\"}],\"contour\":[{\"colorbar\":{\"outlinewidth\":0,\"ticks\":\"\"},\"colorscale\":[[0.0,\"#0d0887\"],[0.1111111111111111,\"#46039f\"],[0.2222222222222222,\"#7201a8\"],[0.3333333333333333,\"#9c179e\"],[0.4444444444444444,\"#bd3786\"],[0.5555555555555556,\"#d8576b\"],[0.6666666666666666,\"#ed7953\"],[0.7777777777777778,\"#fb9f3a\"],[0.8888888888888888,\"#fdca26\"],[1.0,\"#f0f921\"]],\"type\":\"contour\"}],\"heatmapgl\":[{\"colorbar\":{\"outlinewidth\":0,\"ticks\":\"\"},\"colorscale\":[[0.0,\"#0d0887\"],[0.1111111111111111,\"#46039f\"],[0.2222222222222222,\"#7201a8\"],[0.3333333333333333,\"#9c179e\"],[0.4444444444444444,\"#bd3786\"],[0.5555555555555556,\"#d8576b\"],[0.6666666666666666,\"#ed7953\"],[0.7777777777777778,\"#fb9f3a\"],[0.8888888888888888,\"#fdca26\"],[1.0,\"#f0f921\"]],\"type\":\"heatmapgl\"}],\"heatmap\":[{\"colorbar\":{\"outlinewidth\":0,\"ticks\":\"\"},\"colorscale\":[[0.0,\"#0d0887\"],[0.1111111111111111,\"#46039f\"],[0.2222222222222222,\"#7201a8\"],[0.3333333333333333,\"#9c179e\"],[0.4444444444444444,\"#bd3786\"],[0.5555555555555556,\"#d8576b\"],[0.6666666666666666,\"#ed7953\"],[0.7777777777777778,\"#fb9f3a\"],[0.8888888888888888,\"#fdca26\"],[1.0,\"#f0f921\"]],\"type\":\"heatmap\"}],\"histogram2dcontour\":[{\"colorbar\":{\"outlinewidth\":0,\"ticks\":\"\"},\"colorscale\":[[0.0,\"#0d0887\"],[0.1111111111111111,\"#46039f\"],[0.2222222222222222,\"#7201a8\"],[0.3333333333333333,\"#9c179e\"],[0.4444444444444444,\"#bd3786\"],[0.5555555555555556,\"#d8576b\"],[0.6666666666666666,\"#ed7953\"],[0.7777777777777778,\"#fb9f3a\"],[0.8888888888888888,\"#fdca26\"],[1.0,\"#f0f921\"]],\"type\":\"histogram2dcontour\"}],\"histogram2d\":[{\"colorbar\":{\"outlinewidth\":0,\"ticks\":\"\"},\"colorscale\":[[0.0,\"#0d0887\"],[0.1111111111111111,\"#46039f\"],[0.2222222222222222,\"#7201a8\"],[0.3333333333333333,\"#9c179e\"],[0.4444444444444444,\"#bd3786\"],[0.5555555555555556,\"#d8576b\"],[0.6666666666666666,\"#ed7953\"],[0.7777777777777778,\"#fb9f3a\"],[0.8888888888888888,\"#fdca26\"],[1.0,\"#f0f921\"]],\"type\":\"histogram2d\"}],\"histogram\":[{\"marker\":{\"pattern\":{\"fillmode\":\"overlay\",\"size\":10,\"solidity\":0.2}},\"type\":\"histogram\"}],\"mesh3d\":[{\"colorbar\":{\"outlinewidth\":0,\"ticks\":\"\"},\"type\":\"mesh3d\"}],\"parcoords\":[{\"line\":{\"colorbar\":{\"outlinewidth\":0,\"ticks\":\"\"}},\"type\":\"parcoords\"}],\"pie\":[{\"automargin\":true,\"type\":\"pie\"}],\"scatter3d\":[{\"line\":{\"colorbar\":{\"outlinewidth\":0,\"ticks\":\"\"}},\"marker\":{\"colorbar\":{\"outlinewidth\":0,\"ticks\":\"\"}},\"type\":\"scatter3d\"}],\"scattercarpet\":[{\"marker\":{\"colorbar\":{\"outlinewidth\":0,\"ticks\":\"\"}},\"type\":\"scattercarpet\"}],\"scattergeo\":[{\"marker\":{\"colorbar\":{\"outlinewidth\":0,\"ticks\":\"\"}},\"type\":\"scattergeo\"}],\"scattergl\":[{\"marker\":{\"colorbar\":{\"outlinewidth\":0,\"ticks\":\"\"}},\"type\":\"scattergl\"}],\"scattermapbox\":[{\"marker\":{\"colorbar\":{\"outlinewidth\":0,\"ticks\":\"\"}},\"type\":\"scattermapbox\"}],\"scatterpolargl\":[{\"marker\":{\"colorbar\":{\"outlinewidth\":0,\"ticks\":\"\"}},\"type\":\"scatterpolargl\"}],\"scatterpolar\":[{\"marker\":{\"colorbar\":{\"outlinewidth\":0,\"ticks\":\"\"}},\"type\":\"scatterpolar\"}],\"scatter\":[{\"fillpattern\":{\"fillmode\":\"overlay\",\"size\":10,\"solidity\":0.2},\"type\":\"scatter\"}],\"scatterternary\":[{\"marker\":{\"colorbar\":{\"outlinewidth\":0,\"ticks\":\"\"}},\"type\":\"scatterternary\"}],\"surface\":[{\"colorbar\":{\"outlinewidth\":0,\"ticks\":\"\"},\"colorscale\":[[0.0,\"#0d0887\"],[0.1111111111111111,\"#46039f\"],[0.2222222222222222,\"#7201a8\"],[0.3333333333333333,\"#9c179e\"],[0.4444444444444444,\"#bd3786\"],[0.5555555555555556,\"#d8576b\"],[0.6666666666666666,\"#ed7953\"],[0.7777777777777778,\"#fb9f3a\"],[0.8888888888888888,\"#fdca26\"],[1.0,\"#f0f921\"]],\"type\":\"surface\"}],\"table\":[{\"cells\":{\"fill\":{\"color\":\"#EBF0F8\"},\"line\":{\"color\":\"white\"}},\"header\":{\"fill\":{\"color\":\"#C8D4E3\"},\"line\":{\"color\":\"white\"}},\"type\":\"table\"}]},\"layout\":{\"annotationdefaults\":{\"arrowcolor\":\"#2a3f5f\",\"arrowhead\":0,\"arrowwidth\":1},\"autotypenumbers\":\"strict\",\"coloraxis\":{\"colorbar\":{\"outlinewidth\":0,\"ticks\":\"\"}},\"colorscale\":{\"diverging\":[[0,\"#8e0152\"],[0.1,\"#c51b7d\"],[0.2,\"#de77ae\"],[0.3,\"#f1b6da\"],[0.4,\"#fde0ef\"],[0.5,\"#f7f7f7\"],[0.6,\"#e6f5d0\"],[0.7,\"#b8e186\"],[0.8,\"#7fbc41\"],[0.9,\"#4d9221\"],[1,\"#276419\"]],\"sequential\":[[0.0,\"#0d0887\"],[0.1111111111111111,\"#46039f\"],[0.2222222222222222,\"#7201a8\"],[0.3333333333333333,\"#9c179e\"],[0.4444444444444444,\"#bd3786\"],[0.5555555555555556,\"#d8576b\"],[0.6666666666666666,\"#ed7953\"],[0.7777777777777778,\"#fb9f3a\"],[0.8888888888888888,\"#fdca26\"],[1.0,\"#f0f921\"]],\"sequentialminus\":[[0.0,\"#0d0887\"],[0.1111111111111111,\"#46039f\"],[0.2222222222222222,\"#7201a8\"],[0.3333333333333333,\"#9c179e\"],[0.4444444444444444,\"#bd3786\"],[0.5555555555555556,\"#d8576b\"],[0.6666666666666666,\"#ed7953\"],[0.7777777777777778,\"#fb9f3a\"],[0.8888888888888888,\"#fdca26\"],[1.0,\"#f0f921\"]]},\"colorway\":[\"#636efa\",\"#EF553B\",\"#00cc96\",\"#ab63fa\",\"#FFA15A\",\"#19d3f3\",\"#FF6692\",\"#B6E880\",\"#FF97FF\",\"#FECB52\"],\"font\":{\"color\":\"#2a3f5f\"},\"geo\":{\"bgcolor\":\"white\",\"lakecolor\":\"white\",\"landcolor\":\"#E5ECF6\",\"showlakes\":true,\"showland\":true,\"subunitcolor\":\"white\"},\"hoverlabel\":{\"align\":\"left\"},\"hovermode\":\"closest\",\"mapbox\":{\"style\":\"light\"},\"paper_bgcolor\":\"white\",\"plot_bgcolor\":\"#E5ECF6\",\"polar\":{\"angularaxis\":{\"gridcolor\":\"white\",\"linecolor\":\"white\",\"ticks\":\"\"},\"bgcolor\":\"#E5ECF6\",\"radialaxis\":{\"gridcolor\":\"white\",\"linecolor\":\"white\",\"ticks\":\"\"}},\"scene\":{\"xaxis\":{\"backgroundcolor\":\"#E5ECF6\",\"gridcolor\":\"white\",\"gridwidth\":2,\"linecolor\":\"white\",\"showbackground\":true,\"ticks\":\"\",\"zerolinecolor\":\"white\"},\"yaxis\":{\"backgroundcolor\":\"#E5ECF6\",\"gridcolor\":\"white\",\"gridwidth\":2,\"linecolor\":\"white\",\"showbackground\":true,\"ticks\":\"\",\"zerolinecolor\":\"white\"},\"zaxis\":{\"backgroundcolor\":\"#E5ECF6\",\"gridcolor\":\"white\",\"gridwidth\":2,\"linecolor\":\"white\",\"showbackground\":true,\"ticks\":\"\",\"zerolinecolor\":\"white\"}},\"shapedefaults\":{\"line\":{\"color\":\"#2a3f5f\"}},\"ternary\":{\"aaxis\":{\"gridcolor\":\"white\",\"linecolor\":\"white\",\"ticks\":\"\"},\"baxis\":{\"gridcolor\":\"white\",\"linecolor\":\"white\",\"ticks\":\"\"},\"bgcolor\":\"#E5ECF6\",\"caxis\":{\"gridcolor\":\"white\",\"linecolor\":\"white\",\"ticks\":\"\"}},\"title\":{\"x\":0.05},\"xaxis\":{\"automargin\":true,\"gridcolor\":\"white\",\"linecolor\":\"white\",\"ticks\":\"\",\"title\":{\"standoff\":15},\"zerolinecolor\":\"white\",\"zerolinewidth\":2},\"yaxis\":{\"automargin\":true,\"gridcolor\":\"white\",\"linecolor\":\"white\",\"ticks\":\"\",\"title\":{\"standoff\":15},\"zerolinecolor\":\"white\",\"zerolinewidth\":2}}},\"title\":{\"font\":{\"color\":\"#4D5663\"}},\"xaxis\":{\"gridcolor\":\"#E1E5ED\",\"showgrid\":true,\"tickfont\":{\"color\":\"#4D5663\"},\"title\":{\"font\":{\"color\":\"#4D5663\"},\"text\":\"\"},\"zerolinecolor\":\"#E1E5ED\"},\"yaxis\":{\"gridcolor\":\"#E1E5ED\",\"showgrid\":true,\"tickfont\":{\"color\":\"#4D5663\"},\"title\":{\"font\":{\"color\":\"#4D5663\"},\"text\":\"\"},\"zerolinecolor\":\"#E1E5ED\"}},                        {\"showLink\": true, \"linkText\": \"Export to plot.ly\", \"plotlyServerURL\": \"https://plot.ly\", \"responsive\": true}                    ).then(function(){\n",
       "                            \n",
       "var gd = document.getElementById('96982f87-cf47-4a4e-8a18-8a1d57212cd9');\n",
       "var x = new MutationObserver(function (mutations, observer) {{\n",
       "        var display = window.getComputedStyle(gd).display;\n",
       "        if (!display || display === 'none') {{\n",
       "            console.log([gd, 'removed!']);\n",
       "            Plotly.purge(gd);\n",
       "            observer.disconnect();\n",
       "        }}\n",
       "}});\n",
       "\n",
       "// Listen for the removal of the full notebook cells\n",
       "var notebookContainer = gd.closest('#notebook-container');\n",
       "if (notebookContainer) {{\n",
       "    x.observe(notebookContainer, {childList: true});\n",
       "}}\n",
       "\n",
       "// Listen for the clearing of the current output cell\n",
       "var outputEl = gd.closest('.output');\n",
       "if (outputEl) {{\n",
       "    x.observe(outputEl, {childList: true});\n",
       "}}\n",
       "\n",
       "                        })                };                });            </script>        </div>"
      ]
     },
     "metadata": {},
     "output_type": "display_data"
    }
   ],
   "source": [
    "df2.iplot(kind='bar',x='Category',y='Values')"
   ]
  },
  {
   "cell_type": "code",
   "execution_count": 14,
   "id": "5ef2e8f8",
   "metadata": {},
   "outputs": [
    {
     "data": {
      "application/vnd.plotly.v1+json": {
       "config": {
        "linkText": "Export to plot.ly",
        "plotlyServerURL": "https://plot.ly",
        "showLink": true
       },
       "data": [
        {
         "marker": {
          "color": "rgba(255, 153, 51, 0.6)",
          "line": {
           "color": "rgba(255, 153, 51, 1.0)",
           "width": 1
          }
         },
         "name": "None",
         "orientation": "v",
         "text": "",
         "type": "bar",
         "x": [
          "A",
          "B",
          "C",
          "D"
         ],
         "y": [
          -1.1901928982561725,
          -5.61665955734311,
          1.0404533095260282,
          5.870784902741521
         ]
        }
       ],
       "layout": {
        "legend": {
         "bgcolor": "#F5F6F9",
         "font": {
          "color": "#4D5663"
         }
        },
        "paper_bgcolor": "#F5F6F9",
        "plot_bgcolor": "#F5F6F9",
        "template": {
         "data": {
          "bar": [
           {
            "error_x": {
             "color": "#2a3f5f"
            },
            "error_y": {
             "color": "#2a3f5f"
            },
            "marker": {
             "line": {
              "color": "#E5ECF6",
              "width": 0.5
             },
             "pattern": {
              "fillmode": "overlay",
              "size": 10,
              "solidity": 0.2
             }
            },
            "type": "bar"
           }
          ],
          "barpolar": [
           {
            "marker": {
             "line": {
              "color": "#E5ECF6",
              "width": 0.5
             },
             "pattern": {
              "fillmode": "overlay",
              "size": 10,
              "solidity": 0.2
             }
            },
            "type": "barpolar"
           }
          ],
          "carpet": [
           {
            "aaxis": {
             "endlinecolor": "#2a3f5f",
             "gridcolor": "white",
             "linecolor": "white",
             "minorgridcolor": "white",
             "startlinecolor": "#2a3f5f"
            },
            "baxis": {
             "endlinecolor": "#2a3f5f",
             "gridcolor": "white",
             "linecolor": "white",
             "minorgridcolor": "white",
             "startlinecolor": "#2a3f5f"
            },
            "type": "carpet"
           }
          ],
          "choropleth": [
           {
            "colorbar": {
             "outlinewidth": 0,
             "ticks": ""
            },
            "type": "choropleth"
           }
          ],
          "contour": [
           {
            "colorbar": {
             "outlinewidth": 0,
             "ticks": ""
            },
            "colorscale": [
             [
              0,
              "#0d0887"
             ],
             [
              0.1111111111111111,
              "#46039f"
             ],
             [
              0.2222222222222222,
              "#7201a8"
             ],
             [
              0.3333333333333333,
              "#9c179e"
             ],
             [
              0.4444444444444444,
              "#bd3786"
             ],
             [
              0.5555555555555556,
              "#d8576b"
             ],
             [
              0.6666666666666666,
              "#ed7953"
             ],
             [
              0.7777777777777778,
              "#fb9f3a"
             ],
             [
              0.8888888888888888,
              "#fdca26"
             ],
             [
              1,
              "#f0f921"
             ]
            ],
            "type": "contour"
           }
          ],
          "contourcarpet": [
           {
            "colorbar": {
             "outlinewidth": 0,
             "ticks": ""
            },
            "type": "contourcarpet"
           }
          ],
          "heatmap": [
           {
            "colorbar": {
             "outlinewidth": 0,
             "ticks": ""
            },
            "colorscale": [
             [
              0,
              "#0d0887"
             ],
             [
              0.1111111111111111,
              "#46039f"
             ],
             [
              0.2222222222222222,
              "#7201a8"
             ],
             [
              0.3333333333333333,
              "#9c179e"
             ],
             [
              0.4444444444444444,
              "#bd3786"
             ],
             [
              0.5555555555555556,
              "#d8576b"
             ],
             [
              0.6666666666666666,
              "#ed7953"
             ],
             [
              0.7777777777777778,
              "#fb9f3a"
             ],
             [
              0.8888888888888888,
              "#fdca26"
             ],
             [
              1,
              "#f0f921"
             ]
            ],
            "type": "heatmap"
           }
          ],
          "heatmapgl": [
           {
            "colorbar": {
             "outlinewidth": 0,
             "ticks": ""
            },
            "colorscale": [
             [
              0,
              "#0d0887"
             ],
             [
              0.1111111111111111,
              "#46039f"
             ],
             [
              0.2222222222222222,
              "#7201a8"
             ],
             [
              0.3333333333333333,
              "#9c179e"
             ],
             [
              0.4444444444444444,
              "#bd3786"
             ],
             [
              0.5555555555555556,
              "#d8576b"
             ],
             [
              0.6666666666666666,
              "#ed7953"
             ],
             [
              0.7777777777777778,
              "#fb9f3a"
             ],
             [
              0.8888888888888888,
              "#fdca26"
             ],
             [
              1,
              "#f0f921"
             ]
            ],
            "type": "heatmapgl"
           }
          ],
          "histogram": [
           {
            "marker": {
             "pattern": {
              "fillmode": "overlay",
              "size": 10,
              "solidity": 0.2
             }
            },
            "type": "histogram"
           }
          ],
          "histogram2d": [
           {
            "colorbar": {
             "outlinewidth": 0,
             "ticks": ""
            },
            "colorscale": [
             [
              0,
              "#0d0887"
             ],
             [
              0.1111111111111111,
              "#46039f"
             ],
             [
              0.2222222222222222,
              "#7201a8"
             ],
             [
              0.3333333333333333,
              "#9c179e"
             ],
             [
              0.4444444444444444,
              "#bd3786"
             ],
             [
              0.5555555555555556,
              "#d8576b"
             ],
             [
              0.6666666666666666,
              "#ed7953"
             ],
             [
              0.7777777777777778,
              "#fb9f3a"
             ],
             [
              0.8888888888888888,
              "#fdca26"
             ],
             [
              1,
              "#f0f921"
             ]
            ],
            "type": "histogram2d"
           }
          ],
          "histogram2dcontour": [
           {
            "colorbar": {
             "outlinewidth": 0,
             "ticks": ""
            },
            "colorscale": [
             [
              0,
              "#0d0887"
             ],
             [
              0.1111111111111111,
              "#46039f"
             ],
             [
              0.2222222222222222,
              "#7201a8"
             ],
             [
              0.3333333333333333,
              "#9c179e"
             ],
             [
              0.4444444444444444,
              "#bd3786"
             ],
             [
              0.5555555555555556,
              "#d8576b"
             ],
             [
              0.6666666666666666,
              "#ed7953"
             ],
             [
              0.7777777777777778,
              "#fb9f3a"
             ],
             [
              0.8888888888888888,
              "#fdca26"
             ],
             [
              1,
              "#f0f921"
             ]
            ],
            "type": "histogram2dcontour"
           }
          ],
          "mesh3d": [
           {
            "colorbar": {
             "outlinewidth": 0,
             "ticks": ""
            },
            "type": "mesh3d"
           }
          ],
          "parcoords": [
           {
            "line": {
             "colorbar": {
              "outlinewidth": 0,
              "ticks": ""
             }
            },
            "type": "parcoords"
           }
          ],
          "pie": [
           {
            "automargin": true,
            "type": "pie"
           }
          ],
          "scatter": [
           {
            "fillpattern": {
             "fillmode": "overlay",
             "size": 10,
             "solidity": 0.2
            },
            "type": "scatter"
           }
          ],
          "scatter3d": [
           {
            "line": {
             "colorbar": {
              "outlinewidth": 0,
              "ticks": ""
             }
            },
            "marker": {
             "colorbar": {
              "outlinewidth": 0,
              "ticks": ""
             }
            },
            "type": "scatter3d"
           }
          ],
          "scattercarpet": [
           {
            "marker": {
             "colorbar": {
              "outlinewidth": 0,
              "ticks": ""
             }
            },
            "type": "scattercarpet"
           }
          ],
          "scattergeo": [
           {
            "marker": {
             "colorbar": {
              "outlinewidth": 0,
              "ticks": ""
             }
            },
            "type": "scattergeo"
           }
          ],
          "scattergl": [
           {
            "marker": {
             "colorbar": {
              "outlinewidth": 0,
              "ticks": ""
             }
            },
            "type": "scattergl"
           }
          ],
          "scattermapbox": [
           {
            "marker": {
             "colorbar": {
              "outlinewidth": 0,
              "ticks": ""
             }
            },
            "type": "scattermapbox"
           }
          ],
          "scatterpolar": [
           {
            "marker": {
             "colorbar": {
              "outlinewidth": 0,
              "ticks": ""
             }
            },
            "type": "scatterpolar"
           }
          ],
          "scatterpolargl": [
           {
            "marker": {
             "colorbar": {
              "outlinewidth": 0,
              "ticks": ""
             }
            },
            "type": "scatterpolargl"
           }
          ],
          "scatterternary": [
           {
            "marker": {
             "colorbar": {
              "outlinewidth": 0,
              "ticks": ""
             }
            },
            "type": "scatterternary"
           }
          ],
          "surface": [
           {
            "colorbar": {
             "outlinewidth": 0,
             "ticks": ""
            },
            "colorscale": [
             [
              0,
              "#0d0887"
             ],
             [
              0.1111111111111111,
              "#46039f"
             ],
             [
              0.2222222222222222,
              "#7201a8"
             ],
             [
              0.3333333333333333,
              "#9c179e"
             ],
             [
              0.4444444444444444,
              "#bd3786"
             ],
             [
              0.5555555555555556,
              "#d8576b"
             ],
             [
              0.6666666666666666,
              "#ed7953"
             ],
             [
              0.7777777777777778,
              "#fb9f3a"
             ],
             [
              0.8888888888888888,
              "#fdca26"
             ],
             [
              1,
              "#f0f921"
             ]
            ],
            "type": "surface"
           }
          ],
          "table": [
           {
            "cells": {
             "fill": {
              "color": "#EBF0F8"
             },
             "line": {
              "color": "white"
             }
            },
            "header": {
             "fill": {
              "color": "#C8D4E3"
             },
             "line": {
              "color": "white"
             }
            },
            "type": "table"
           }
          ]
         },
         "layout": {
          "annotationdefaults": {
           "arrowcolor": "#2a3f5f",
           "arrowhead": 0,
           "arrowwidth": 1
          },
          "autotypenumbers": "strict",
          "coloraxis": {
           "colorbar": {
            "outlinewidth": 0,
            "ticks": ""
           }
          },
          "colorscale": {
           "diverging": [
            [
             0,
             "#8e0152"
            ],
            [
             0.1,
             "#c51b7d"
            ],
            [
             0.2,
             "#de77ae"
            ],
            [
             0.3,
             "#f1b6da"
            ],
            [
             0.4,
             "#fde0ef"
            ],
            [
             0.5,
             "#f7f7f7"
            ],
            [
             0.6,
             "#e6f5d0"
            ],
            [
             0.7,
             "#b8e186"
            ],
            [
             0.8,
             "#7fbc41"
            ],
            [
             0.9,
             "#4d9221"
            ],
            [
             1,
             "#276419"
            ]
           ],
           "sequential": [
            [
             0,
             "#0d0887"
            ],
            [
             0.1111111111111111,
             "#46039f"
            ],
            [
             0.2222222222222222,
             "#7201a8"
            ],
            [
             0.3333333333333333,
             "#9c179e"
            ],
            [
             0.4444444444444444,
             "#bd3786"
            ],
            [
             0.5555555555555556,
             "#d8576b"
            ],
            [
             0.6666666666666666,
             "#ed7953"
            ],
            [
             0.7777777777777778,
             "#fb9f3a"
            ],
            [
             0.8888888888888888,
             "#fdca26"
            ],
            [
             1,
             "#f0f921"
            ]
           ],
           "sequentialminus": [
            [
             0,
             "#0d0887"
            ],
            [
             0.1111111111111111,
             "#46039f"
            ],
            [
             0.2222222222222222,
             "#7201a8"
            ],
            [
             0.3333333333333333,
             "#9c179e"
            ],
            [
             0.4444444444444444,
             "#bd3786"
            ],
            [
             0.5555555555555556,
             "#d8576b"
            ],
            [
             0.6666666666666666,
             "#ed7953"
            ],
            [
             0.7777777777777778,
             "#fb9f3a"
            ],
            [
             0.8888888888888888,
             "#fdca26"
            ],
            [
             1,
             "#f0f921"
            ]
           ]
          },
          "colorway": [
           "#636efa",
           "#EF553B",
           "#00cc96",
           "#ab63fa",
           "#FFA15A",
           "#19d3f3",
           "#FF6692",
           "#B6E880",
           "#FF97FF",
           "#FECB52"
          ],
          "font": {
           "color": "#2a3f5f"
          },
          "geo": {
           "bgcolor": "white",
           "lakecolor": "white",
           "landcolor": "#E5ECF6",
           "showlakes": true,
           "showland": true,
           "subunitcolor": "white"
          },
          "hoverlabel": {
           "align": "left"
          },
          "hovermode": "closest",
          "mapbox": {
           "style": "light"
          },
          "paper_bgcolor": "white",
          "plot_bgcolor": "#E5ECF6",
          "polar": {
           "angularaxis": {
            "gridcolor": "white",
            "linecolor": "white",
            "ticks": ""
           },
           "bgcolor": "#E5ECF6",
           "radialaxis": {
            "gridcolor": "white",
            "linecolor": "white",
            "ticks": ""
           }
          },
          "scene": {
           "xaxis": {
            "backgroundcolor": "#E5ECF6",
            "gridcolor": "white",
            "gridwidth": 2,
            "linecolor": "white",
            "showbackground": true,
            "ticks": "",
            "zerolinecolor": "white"
           },
           "yaxis": {
            "backgroundcolor": "#E5ECF6",
            "gridcolor": "white",
            "gridwidth": 2,
            "linecolor": "white",
            "showbackground": true,
            "ticks": "",
            "zerolinecolor": "white"
           },
           "zaxis": {
            "backgroundcolor": "#E5ECF6",
            "gridcolor": "white",
            "gridwidth": 2,
            "linecolor": "white",
            "showbackground": true,
            "ticks": "",
            "zerolinecolor": "white"
           }
          },
          "shapedefaults": {
           "line": {
            "color": "#2a3f5f"
           }
          },
          "ternary": {
           "aaxis": {
            "gridcolor": "white",
            "linecolor": "white",
            "ticks": ""
           },
           "baxis": {
            "gridcolor": "white",
            "linecolor": "white",
            "ticks": ""
           },
           "bgcolor": "#E5ECF6",
           "caxis": {
            "gridcolor": "white",
            "linecolor": "white",
            "ticks": ""
           }
          },
          "title": {
           "x": 0.05
          },
          "xaxis": {
           "automargin": true,
           "gridcolor": "white",
           "linecolor": "white",
           "ticks": "",
           "title": {
            "standoff": 15
           },
           "zerolinecolor": "white",
           "zerolinewidth": 2
          },
          "yaxis": {
           "automargin": true,
           "gridcolor": "white",
           "linecolor": "white",
           "ticks": "",
           "title": {
            "standoff": 15
           },
           "zerolinecolor": "white",
           "zerolinewidth": 2
          }
         }
        },
        "title": {
         "font": {
          "color": "#4D5663"
         }
        },
        "xaxis": {
         "gridcolor": "#E1E5ED",
         "showgrid": true,
         "tickfont": {
          "color": "#4D5663"
         },
         "title": {
          "font": {
           "color": "#4D5663"
          },
          "text": ""
         },
         "zerolinecolor": "#E1E5ED"
        },
        "yaxis": {
         "gridcolor": "#E1E5ED",
         "showgrid": true,
         "tickfont": {
          "color": "#4D5663"
         },
         "title": {
          "font": {
           "color": "#4D5663"
          },
          "text": ""
         },
         "zerolinecolor": "#E1E5ED"
        }
       }
      },
      "text/html": [
       "<div>                            <div id=\"c17aef49-9da1-4745-8eaf-f3da4fc7f46a\" class=\"plotly-graph-div\" style=\"height:525px; width:100%;\"></div>            <script type=\"text/javascript\">                require([\"plotly\"], function(Plotly) {                    window.PLOTLYENV=window.PLOTLYENV || {};\n",
       "                    window.PLOTLYENV.BASE_URL='https://plot.ly';                                    if (document.getElementById(\"c17aef49-9da1-4745-8eaf-f3da4fc7f46a\")) {                    Plotly.newPlot(                        \"c17aef49-9da1-4745-8eaf-f3da4fc7f46a\",                        [{\"marker\":{\"color\":\"rgba(255, 153, 51, 0.6)\",\"line\":{\"color\":\"rgba(255, 153, 51, 1.0)\",\"width\":1}},\"name\":\"None\",\"orientation\":\"v\",\"text\":\"\",\"x\":[\"A\",\"B\",\"C\",\"D\"],\"y\":[-1.1901928982561725,-5.61665955734311,1.0404533095260282,5.870784902741521],\"type\":\"bar\"}],                        {\"legend\":{\"bgcolor\":\"#F5F6F9\",\"font\":{\"color\":\"#4D5663\"}},\"paper_bgcolor\":\"#F5F6F9\",\"plot_bgcolor\":\"#F5F6F9\",\"template\":{\"data\":{\"barpolar\":[{\"marker\":{\"line\":{\"color\":\"#E5ECF6\",\"width\":0.5},\"pattern\":{\"fillmode\":\"overlay\",\"size\":10,\"solidity\":0.2}},\"type\":\"barpolar\"}],\"bar\":[{\"error_x\":{\"color\":\"#2a3f5f\"},\"error_y\":{\"color\":\"#2a3f5f\"},\"marker\":{\"line\":{\"color\":\"#E5ECF6\",\"width\":0.5},\"pattern\":{\"fillmode\":\"overlay\",\"size\":10,\"solidity\":0.2}},\"type\":\"bar\"}],\"carpet\":[{\"aaxis\":{\"endlinecolor\":\"#2a3f5f\",\"gridcolor\":\"white\",\"linecolor\":\"white\",\"minorgridcolor\":\"white\",\"startlinecolor\":\"#2a3f5f\"},\"baxis\":{\"endlinecolor\":\"#2a3f5f\",\"gridcolor\":\"white\",\"linecolor\":\"white\",\"minorgridcolor\":\"white\",\"startlinecolor\":\"#2a3f5f\"},\"type\":\"carpet\"}],\"choropleth\":[{\"colorbar\":{\"outlinewidth\":0,\"ticks\":\"\"},\"type\":\"choropleth\"}],\"contourcarpet\":[{\"colorbar\":{\"outlinewidth\":0,\"ticks\":\"\"},\"type\":\"contourcarpet\"}],\"contour\":[{\"colorbar\":{\"outlinewidth\":0,\"ticks\":\"\"},\"colorscale\":[[0.0,\"#0d0887\"],[0.1111111111111111,\"#46039f\"],[0.2222222222222222,\"#7201a8\"],[0.3333333333333333,\"#9c179e\"],[0.4444444444444444,\"#bd3786\"],[0.5555555555555556,\"#d8576b\"],[0.6666666666666666,\"#ed7953\"],[0.7777777777777778,\"#fb9f3a\"],[0.8888888888888888,\"#fdca26\"],[1.0,\"#f0f921\"]],\"type\":\"contour\"}],\"heatmapgl\":[{\"colorbar\":{\"outlinewidth\":0,\"ticks\":\"\"},\"colorscale\":[[0.0,\"#0d0887\"],[0.1111111111111111,\"#46039f\"],[0.2222222222222222,\"#7201a8\"],[0.3333333333333333,\"#9c179e\"],[0.4444444444444444,\"#bd3786\"],[0.5555555555555556,\"#d8576b\"],[0.6666666666666666,\"#ed7953\"],[0.7777777777777778,\"#fb9f3a\"],[0.8888888888888888,\"#fdca26\"],[1.0,\"#f0f921\"]],\"type\":\"heatmapgl\"}],\"heatmap\":[{\"colorbar\":{\"outlinewidth\":0,\"ticks\":\"\"},\"colorscale\":[[0.0,\"#0d0887\"],[0.1111111111111111,\"#46039f\"],[0.2222222222222222,\"#7201a8\"],[0.3333333333333333,\"#9c179e\"],[0.4444444444444444,\"#bd3786\"],[0.5555555555555556,\"#d8576b\"],[0.6666666666666666,\"#ed7953\"],[0.7777777777777778,\"#fb9f3a\"],[0.8888888888888888,\"#fdca26\"],[1.0,\"#f0f921\"]],\"type\":\"heatmap\"}],\"histogram2dcontour\":[{\"colorbar\":{\"outlinewidth\":0,\"ticks\":\"\"},\"colorscale\":[[0.0,\"#0d0887\"],[0.1111111111111111,\"#46039f\"],[0.2222222222222222,\"#7201a8\"],[0.3333333333333333,\"#9c179e\"],[0.4444444444444444,\"#bd3786\"],[0.5555555555555556,\"#d8576b\"],[0.6666666666666666,\"#ed7953\"],[0.7777777777777778,\"#fb9f3a\"],[0.8888888888888888,\"#fdca26\"],[1.0,\"#f0f921\"]],\"type\":\"histogram2dcontour\"}],\"histogram2d\":[{\"colorbar\":{\"outlinewidth\":0,\"ticks\":\"\"},\"colorscale\":[[0.0,\"#0d0887\"],[0.1111111111111111,\"#46039f\"],[0.2222222222222222,\"#7201a8\"],[0.3333333333333333,\"#9c179e\"],[0.4444444444444444,\"#bd3786\"],[0.5555555555555556,\"#d8576b\"],[0.6666666666666666,\"#ed7953\"],[0.7777777777777778,\"#fb9f3a\"],[0.8888888888888888,\"#fdca26\"],[1.0,\"#f0f921\"]],\"type\":\"histogram2d\"}],\"histogram\":[{\"marker\":{\"pattern\":{\"fillmode\":\"overlay\",\"size\":10,\"solidity\":0.2}},\"type\":\"histogram\"}],\"mesh3d\":[{\"colorbar\":{\"outlinewidth\":0,\"ticks\":\"\"},\"type\":\"mesh3d\"}],\"parcoords\":[{\"line\":{\"colorbar\":{\"outlinewidth\":0,\"ticks\":\"\"}},\"type\":\"parcoords\"}],\"pie\":[{\"automargin\":true,\"type\":\"pie\"}],\"scatter3d\":[{\"line\":{\"colorbar\":{\"outlinewidth\":0,\"ticks\":\"\"}},\"marker\":{\"colorbar\":{\"outlinewidth\":0,\"ticks\":\"\"}},\"type\":\"scatter3d\"}],\"scattercarpet\":[{\"marker\":{\"colorbar\":{\"outlinewidth\":0,\"ticks\":\"\"}},\"type\":\"scattercarpet\"}],\"scattergeo\":[{\"marker\":{\"colorbar\":{\"outlinewidth\":0,\"ticks\":\"\"}},\"type\":\"scattergeo\"}],\"scattergl\":[{\"marker\":{\"colorbar\":{\"outlinewidth\":0,\"ticks\":\"\"}},\"type\":\"scattergl\"}],\"scattermapbox\":[{\"marker\":{\"colorbar\":{\"outlinewidth\":0,\"ticks\":\"\"}},\"type\":\"scattermapbox\"}],\"scatterpolargl\":[{\"marker\":{\"colorbar\":{\"outlinewidth\":0,\"ticks\":\"\"}},\"type\":\"scatterpolargl\"}],\"scatterpolar\":[{\"marker\":{\"colorbar\":{\"outlinewidth\":0,\"ticks\":\"\"}},\"type\":\"scatterpolar\"}],\"scatter\":[{\"fillpattern\":{\"fillmode\":\"overlay\",\"size\":10,\"solidity\":0.2},\"type\":\"scatter\"}],\"scatterternary\":[{\"marker\":{\"colorbar\":{\"outlinewidth\":0,\"ticks\":\"\"}},\"type\":\"scatterternary\"}],\"surface\":[{\"colorbar\":{\"outlinewidth\":0,\"ticks\":\"\"},\"colorscale\":[[0.0,\"#0d0887\"],[0.1111111111111111,\"#46039f\"],[0.2222222222222222,\"#7201a8\"],[0.3333333333333333,\"#9c179e\"],[0.4444444444444444,\"#bd3786\"],[0.5555555555555556,\"#d8576b\"],[0.6666666666666666,\"#ed7953\"],[0.7777777777777778,\"#fb9f3a\"],[0.8888888888888888,\"#fdca26\"],[1.0,\"#f0f921\"]],\"type\":\"surface\"}],\"table\":[{\"cells\":{\"fill\":{\"color\":\"#EBF0F8\"},\"line\":{\"color\":\"white\"}},\"header\":{\"fill\":{\"color\":\"#C8D4E3\"},\"line\":{\"color\":\"white\"}},\"type\":\"table\"}]},\"layout\":{\"annotationdefaults\":{\"arrowcolor\":\"#2a3f5f\",\"arrowhead\":0,\"arrowwidth\":1},\"autotypenumbers\":\"strict\",\"coloraxis\":{\"colorbar\":{\"outlinewidth\":0,\"ticks\":\"\"}},\"colorscale\":{\"diverging\":[[0,\"#8e0152\"],[0.1,\"#c51b7d\"],[0.2,\"#de77ae\"],[0.3,\"#f1b6da\"],[0.4,\"#fde0ef\"],[0.5,\"#f7f7f7\"],[0.6,\"#e6f5d0\"],[0.7,\"#b8e186\"],[0.8,\"#7fbc41\"],[0.9,\"#4d9221\"],[1,\"#276419\"]],\"sequential\":[[0.0,\"#0d0887\"],[0.1111111111111111,\"#46039f\"],[0.2222222222222222,\"#7201a8\"],[0.3333333333333333,\"#9c179e\"],[0.4444444444444444,\"#bd3786\"],[0.5555555555555556,\"#d8576b\"],[0.6666666666666666,\"#ed7953\"],[0.7777777777777778,\"#fb9f3a\"],[0.8888888888888888,\"#fdca26\"],[1.0,\"#f0f921\"]],\"sequentialminus\":[[0.0,\"#0d0887\"],[0.1111111111111111,\"#46039f\"],[0.2222222222222222,\"#7201a8\"],[0.3333333333333333,\"#9c179e\"],[0.4444444444444444,\"#bd3786\"],[0.5555555555555556,\"#d8576b\"],[0.6666666666666666,\"#ed7953\"],[0.7777777777777778,\"#fb9f3a\"],[0.8888888888888888,\"#fdca26\"],[1.0,\"#f0f921\"]]},\"colorway\":[\"#636efa\",\"#EF553B\",\"#00cc96\",\"#ab63fa\",\"#FFA15A\",\"#19d3f3\",\"#FF6692\",\"#B6E880\",\"#FF97FF\",\"#FECB52\"],\"font\":{\"color\":\"#2a3f5f\"},\"geo\":{\"bgcolor\":\"white\",\"lakecolor\":\"white\",\"landcolor\":\"#E5ECF6\",\"showlakes\":true,\"showland\":true,\"subunitcolor\":\"white\"},\"hoverlabel\":{\"align\":\"left\"},\"hovermode\":\"closest\",\"mapbox\":{\"style\":\"light\"},\"paper_bgcolor\":\"white\",\"plot_bgcolor\":\"#E5ECF6\",\"polar\":{\"angularaxis\":{\"gridcolor\":\"white\",\"linecolor\":\"white\",\"ticks\":\"\"},\"bgcolor\":\"#E5ECF6\",\"radialaxis\":{\"gridcolor\":\"white\",\"linecolor\":\"white\",\"ticks\":\"\"}},\"scene\":{\"xaxis\":{\"backgroundcolor\":\"#E5ECF6\",\"gridcolor\":\"white\",\"gridwidth\":2,\"linecolor\":\"white\",\"showbackground\":true,\"ticks\":\"\",\"zerolinecolor\":\"white\"},\"yaxis\":{\"backgroundcolor\":\"#E5ECF6\",\"gridcolor\":\"white\",\"gridwidth\":2,\"linecolor\":\"white\",\"showbackground\":true,\"ticks\":\"\",\"zerolinecolor\":\"white\"},\"zaxis\":{\"backgroundcolor\":\"#E5ECF6\",\"gridcolor\":\"white\",\"gridwidth\":2,\"linecolor\":\"white\",\"showbackground\":true,\"ticks\":\"\",\"zerolinecolor\":\"white\"}},\"shapedefaults\":{\"line\":{\"color\":\"#2a3f5f\"}},\"ternary\":{\"aaxis\":{\"gridcolor\":\"white\",\"linecolor\":\"white\",\"ticks\":\"\"},\"baxis\":{\"gridcolor\":\"white\",\"linecolor\":\"white\",\"ticks\":\"\"},\"bgcolor\":\"#E5ECF6\",\"caxis\":{\"gridcolor\":\"white\",\"linecolor\":\"white\",\"ticks\":\"\"}},\"title\":{\"x\":0.05},\"xaxis\":{\"automargin\":true,\"gridcolor\":\"white\",\"linecolor\":\"white\",\"ticks\":\"\",\"title\":{\"standoff\":15},\"zerolinecolor\":\"white\",\"zerolinewidth\":2},\"yaxis\":{\"automargin\":true,\"gridcolor\":\"white\",\"linecolor\":\"white\",\"ticks\":\"\",\"title\":{\"standoff\":15},\"zerolinecolor\":\"white\",\"zerolinewidth\":2}}},\"title\":{\"font\":{\"color\":\"#4D5663\"}},\"xaxis\":{\"gridcolor\":\"#E1E5ED\",\"showgrid\":true,\"tickfont\":{\"color\":\"#4D5663\"},\"title\":{\"font\":{\"color\":\"#4D5663\"},\"text\":\"\"},\"zerolinecolor\":\"#E1E5ED\"},\"yaxis\":{\"gridcolor\":\"#E1E5ED\",\"showgrid\":true,\"tickfont\":{\"color\":\"#4D5663\"},\"title\":{\"font\":{\"color\":\"#4D5663\"},\"text\":\"\"},\"zerolinecolor\":\"#E1E5ED\"}},                        {\"showLink\": true, \"linkText\": \"Export to plot.ly\", \"plotlyServerURL\": \"https://plot.ly\", \"responsive\": true}                    ).then(function(){\n",
       "                            \n",
       "var gd = document.getElementById('c17aef49-9da1-4745-8eaf-f3da4fc7f46a');\n",
       "var x = new MutationObserver(function (mutations, observer) {{\n",
       "        var display = window.getComputedStyle(gd).display;\n",
       "        if (!display || display === 'none') {{\n",
       "            console.log([gd, 'removed!']);\n",
       "            Plotly.purge(gd);\n",
       "            observer.disconnect();\n",
       "        }}\n",
       "}});\n",
       "\n",
       "// Listen for the removal of the full notebook cells\n",
       "var notebookContainer = gd.closest('#notebook-container');\n",
       "if (notebookContainer) {{\n",
       "    x.observe(notebookContainer, {childList: true});\n",
       "}}\n",
       "\n",
       "// Listen for the clearing of the current output cell\n",
       "var outputEl = gd.closest('.output');\n",
       "if (outputEl) {{\n",
       "    x.observe(outputEl, {childList: true});\n",
       "}}\n",
       "\n",
       "                        })                };                });            </script>        </div>"
      ]
     },
     "metadata": {},
     "output_type": "display_data"
    }
   ],
   "source": [
    "df.sum().iplot(kind='bar')"
   ]
  },
  {
   "cell_type": "code",
   "execution_count": 15,
   "id": "72bc10b1",
   "metadata": {},
   "outputs": [
    {
     "data": {
      "application/vnd.plotly.v1+json": {
       "config": {
        "linkText": "Export to plot.ly",
        "plotlyServerURL": "https://plot.ly",
        "showLink": true
       },
       "data": [
        {
         "boxpoints": false,
         "line": {
          "width": 1.3
         },
         "marker": {
          "color": "rgba(255, 153, 51, 1.0)"
         },
         "name": "A",
         "orientation": "v",
         "type": "box",
         "y": [
          -1.5450841317171276,
          -1.413125498673202,
          0.9323209797782157,
          0.06948672060685748,
          -1.2523413495098872,
          -1.998523806904109,
          0.9190235994878402,
          -0.9119658333889711,
          0.48330895698670573,
          -0.18718041389695883,
          -1.4320101370003964,
          -1.0261708964009986,
          -0.2445512401393387,
          0.5509130159887102,
          -0.01880610498489131,
          -0.3314676127876932,
          -0.6148547025606768,
          0.5904187382004569,
          0.6079579957452251,
          1.029365744269441,
          0.37821917735715205,
          0.4853068362773339,
          -0.04114493743598664,
          0.8708159539648068,
          1.5460674411149098,
          -0.5519392483070829,
          -0.781020223747612,
          2.248475249081179,
          -0.7841092464880934,
          0.6982816726880846,
          -0.6817947425346943,
          -0.15254862845208006,
          0.08242693280174032,
          -0.6165766635482408,
          0.07344361303984231,
          -2.472226220100499,
          -0.7017642502166871,
          0.31867008055206325,
          -0.2599768591357568,
          0.1128594778484536,
          1.9546293514760582,
          1.599497463833276,
          1.0851296565292388,
          -1.467177738869882,
          1.6987782408729655,
          1.1983444774482184,
          0.3155444180406639,
          -0.08519293842820412,
          -0.2456642503023336,
          0.5499649604319629,
          -3.4739634005226576,
          -2.2523455597506286,
          0.6937969710072474,
          1.6141764343342464,
          1.0400077714625975,
          0.10041443115825265,
          -0.7097173257145293,
          1.4604101958038826,
          0.3293241651930765,
          -0.8538133138281813,
          1.0663441980793718,
          0.47825456546125206,
          -0.671842993091924,
          0.17989808836044138,
          -0.5713356174675095,
          -0.48417683159928776,
          -0.5958366995752875,
          0.440964769391051,
          -0.5094687351758517,
          1.850188864915357,
          1.8675119837627912,
          -0.7122251808699338,
          0.06639775250348316,
          -1.695337244452929,
          1.6820736210084517,
          2.1310945371850463,
          -2.0930601078406137,
          -1.770996043995373,
          1.1437543834138326,
          -1.0775717485533514,
          -1.2275856522468844,
          1.217560029308882,
          0.03026729574779826,
          -1.5261799364599762,
          -0.04317321966520327,
          0.4887696263728301,
          0.470451294595051,
          1.4973438747078496,
          0.03651730210198627,
          0.509467886559641,
          0.03914759134423157,
          1.1308562743625474,
          0.4847047628207645,
          -0.4818166423351334,
          -2.080158939342939,
          -0.3751305898439625,
          0.03069571986767242,
          -0.4639225567373533,
          -0.7047432345226364,
          0.5217812056163413
         ]
        },
        {
         "boxpoints": false,
         "line": {
          "width": 1.3
         },
         "marker": {
          "color": "rgba(55, 128, 191, 1.0)"
         },
         "name": "B",
         "orientation": "v",
         "type": "box",
         "y": [
          0.5560590486778653,
          -0.07793450560493444,
          1.4728014419360818,
          1.1841675005675982,
          0.03281836403183733,
          -0.6461553540733159,
          0.5986016228049653,
          -0.5717226512281799,
          -0.2747819332926034,
          0.49043949751220406,
          -1.1299777891524494,
          -0.1702095917006199,
          1.722509452732334,
          -0.10183571621992656,
          0.8098258836135469,
          -1.1063076830024827,
          0.057112964591251786,
          -1.6245497623720355,
          0.07215549241226307,
          -0.8894380820025064,
          -2.120833496107395,
          -0.08012739410150374,
          -0.591197681351182,
          0.5197983468505548,
          0.24142254317476586,
          1.7457988842999421,
          -1.1070059282786342,
          0.7913944754762602,
          -0.03914090883278507,
          0.6152536901853041,
          -0.05698167740111924,
          -0.27251337345567,
          -0.07551250464389586,
          -1.4975382351147017,
          -0.20273312933138704,
          2.3361653725747384,
          -0.5764544082758793,
          -1.1206284477949207,
          1.0803724020371084,
          0.9017473742656453,
          -0.02018976267946315,
          0.05347973046173759,
          -0.45391764829224956,
          -1.4044676816734702,
          -1.1989349494957657,
          -1.0866814888362737,
          1.3894900407927153,
          0.9162647371019855,
          0.4194940637068126,
          0.9034317144972939,
          -1.6191837646872886,
          0.006057610591446054,
          0.10132471015131193,
          -0.23082140302094117,
          -1.3083413724708712,
          -1.2795626813486651,
          0.062410142195700555,
          0.2875986079539208,
          0.9055903722191032,
          1.0916151451771925,
          -0.35317700404366503,
          -1.1509106118990473,
          0.23836868247584514,
          -1.3950447728820754,
          -1.5431027269159214,
          -0.7267103886216447,
          -2.918958189158711,
          0.3007783016160846,
          -0.1197534659473193,
          2.444338372746112,
          1.0811358025289786,
          0.3008412860349423,
          1.6118481390652135,
          -0.1653194027176514,
          0.5121512969539667,
          -1.500586263147276,
          -1.0521038617793856,
          1.6372159044057157,
          1.1839733648110073,
          0.05110509841795652,
          1.2103708240782325,
          -0.8098886634300432,
          0.6935184762736882,
          0.9200130974217491,
          0.2780698881923895,
          -0.43299394989872503,
          -0.7508110319139402,
          -0.014969382105271498,
          -1.6936832131901614,
          -2.183184500009131,
          0.009773417538940442,
          0.21650240127684667,
          -1.2321789658109623,
          -0.15811371811548136,
          0.520944239040899,
          0.360402959490052,
          0.8879887300703774,
          -0.18766955772960667,
          -0.23289851453897023,
          0.11653811732251271
         ]
        },
        {
         "boxpoints": false,
         "line": {
          "width": 1.3
         },
         "marker": {
          "color": "rgba(50, 171, 96, 1.0)"
         },
         "name": "C",
         "orientation": "v",
         "type": "box",
         "y": [
          1.142957461938206,
          -0.6806125573649034,
          -1.0227817586537609,
          -0.06175598305331198,
          -2.857119317247955,
          -0.8026156012737113,
          0.14515392990946177,
          1.820762759962793,
          1.7317910720259766,
          -0.5355827163986291,
          -0.013574750771533906,
          0.13444921194922171,
          0.352673207392984,
          1.0072621275292684,
          1.229927995555651,
          2.136042961479565,
          -1.1723228481945511,
          1.0089558589830174,
          1.3985559261362852,
          -0.8325731223361609,
          -1.1401256081516107,
          -0.26583330975252095,
          0.6387792414628685,
          -0.5429091362003327,
          -2.0922479775033054,
          -0.8988064239550476,
          0.6929996926165763,
          0.8818628623091056,
          0.6975676418472025,
          -0.8788684792105158,
          1.6631070617585046,
          -0.6034459243047794,
          0.38597173621564035,
          -1.523891568361597,
          -1.259879097422616,
          0.17990138581357046,
          0.10853064364027251,
          0.3813978177227395,
          -0.3707262444083515,
          0.1507286183195694,
          -0.03206019274931715,
          0.7623051414856427,
          0.4118501538568426,
          1.2688469535198004,
          -0.23414749329142184,
          -0.37638456750429633,
          -1.1939671783580035,
          -1.1365481945856537,
          1.117128111513842,
          0.4723068041592008,
          -0.28169481187048445,
          0.03544221389922512,
          -1.063811946630155,
          0.6352727159649894,
          -0.6451093744106224,
          -0.28087286275127066,
          -0.11830913064769166,
          -2.3170291871331234,
          1.8139784434024169,
          0.24672464871290536,
          0.8369353888227604,
          -2.1437155576396942,
          1.754309141274669,
          -0.007796820439026534,
          0.7853097874691335,
          0.21540818823607497,
          -0.9030716490254593,
          -0.28321721477595774,
          0.5595247854263092,
          0.0031414715485191635,
          -0.5380866274429242,
          -0.8809091716997429,
          -1.45373282111659,
          -0.51926920566855,
          0.14873266415102424,
          0.7888599874592507,
          -2.1025788190103274,
          0.17574153051825117,
          -0.9468737982747777,
          -0.9736085018597049,
          1.2450370590295512,
          -2.144827448404873,
          -1.4691766297117512,
          0.9599144161071922,
          0.15177961654430017,
          1.451066628687136,
          -0.8189034360839488,
          -1.5601601784344195,
          -0.3357026308645879,
          -0.11544518415754632,
          0.9714972848297608,
          -0.2831689584490962,
          1.5968106765083325,
          0.04953698066907284,
          0.6323746017216597,
          1.853814731873583,
          1.0547336444809297,
          1.2047613193245084,
          1.899387145980557,
          0.764393875336319
         ]
        },
        {
         "boxpoints": false,
         "line": {
          "width": 1.3
         },
         "marker": {
          "color": "rgba(128, 0, 128, 1.0)"
         },
         "name": "D",
         "orientation": "v",
         "type": "box",
         "y": [
          0.6636046017032086,
          -0.6826678579419522,
          0.6412989761567559,
          -1.5336201560910816,
          -3.0735978113266715,
          -0.4950015121392039,
          0.7227854040184063,
          -0.06021350561293821,
          -0.12416536813522329,
          1.9778048228648673,
          0.5633389809420963,
          0.5411563180282993,
          -0.42114275385464545,
          -0.7471470062784517,
          -1.3220558601645211,
          3.046616889305344,
          0.540553458484006,
          0.3517466555649153,
          0.9750666258851184,
          -1.877285662060283,
          1.4999838850754361,
          -0.7367262395859325,
          -0.3507399224979165,
          0.1458813972391933,
          -0.5666383467819421,
          -0.5850810319701142,
          0.698206429038685,
          -0.5308752434363585,
          0.043197033494854986,
          0.285808676977401,
          -0.0666281228286287,
          0.2190966997181222,
          0.9912177507573966,
          0.6767917629462028,
          -0.49298500634473946,
          1.268176424940927,
          -1.1719207677492396,
          2.022476073007396,
          0.42864837419088964,
          -1.3138253643244255,
          0.45642574016421283,
          -0.6626710733447282,
          0.7742876944256257,
          -0.3630554814665732,
          0.12421122839255876,
          -0.17281791359695634,
          1.4230929174675107,
          0.49355066858406377,
          1.0238261708187997,
          -0.10223960276495231,
          -0.9041740045931916,
          -1.0119978449638662,
          2.1630080727496757,
          1.254656380856612,
          -2.6660388378594884,
          -0.9777421327380746,
          1.067472644384756,
          -1.7242127848488038,
          -0.7947393609084901,
          0.97546616563427,
          0.46891172753877913,
          0.25938018055253853,
          0.8764022779236528,
          0.38430258464807754,
          1.174145616590082,
          0.25759815147608617,
          -1.7405595388297692,
          -0.4205321356222938,
          -0.849162893686231,
          0.12345242530678299,
          -0.10988663392928052,
          0.11420173092192624,
          0.5098330152516697,
          -0.8829850487515168,
          0.6074352104419615,
          -1.443868662604306,
          1.04937413180432,
          0.6537724159725903,
          0.5029296863520941,
          2.423710092601902,
          -1.4785653770372578,
          -1.4487117922977846,
          0.9588723637513975,
          -0.3231444498896284,
          -0.6180473746122097,
          0.6467849040614588,
          -1.5356285554458193,
          -1.342808655557535,
          0.23380153442864607,
          0.9406928117865758,
          0.33113596584484745,
          -0.6053287612428888,
          2.6812975316108987,
          1.5674687076974196,
          0.5669006248196585,
          0.9159915678356795,
          -0.41198763993783094,
          0.050642246241135704,
          -1.4167612286518538,
          -0.3277222022306663
         ]
        }
       ],
       "layout": {
        "legend": {
         "bgcolor": "#F5F6F9",
         "font": {
          "color": "#4D5663"
         }
        },
        "paper_bgcolor": "#F5F6F9",
        "plot_bgcolor": "#F5F6F9",
        "template": {
         "data": {
          "bar": [
           {
            "error_x": {
             "color": "#2a3f5f"
            },
            "error_y": {
             "color": "#2a3f5f"
            },
            "marker": {
             "line": {
              "color": "#E5ECF6",
              "width": 0.5
             },
             "pattern": {
              "fillmode": "overlay",
              "size": 10,
              "solidity": 0.2
             }
            },
            "type": "bar"
           }
          ],
          "barpolar": [
           {
            "marker": {
             "line": {
              "color": "#E5ECF6",
              "width": 0.5
             },
             "pattern": {
              "fillmode": "overlay",
              "size": 10,
              "solidity": 0.2
             }
            },
            "type": "barpolar"
           }
          ],
          "carpet": [
           {
            "aaxis": {
             "endlinecolor": "#2a3f5f",
             "gridcolor": "white",
             "linecolor": "white",
             "minorgridcolor": "white",
             "startlinecolor": "#2a3f5f"
            },
            "baxis": {
             "endlinecolor": "#2a3f5f",
             "gridcolor": "white",
             "linecolor": "white",
             "minorgridcolor": "white",
             "startlinecolor": "#2a3f5f"
            },
            "type": "carpet"
           }
          ],
          "choropleth": [
           {
            "colorbar": {
             "outlinewidth": 0,
             "ticks": ""
            },
            "type": "choropleth"
           }
          ],
          "contour": [
           {
            "colorbar": {
             "outlinewidth": 0,
             "ticks": ""
            },
            "colorscale": [
             [
              0,
              "#0d0887"
             ],
             [
              0.1111111111111111,
              "#46039f"
             ],
             [
              0.2222222222222222,
              "#7201a8"
             ],
             [
              0.3333333333333333,
              "#9c179e"
             ],
             [
              0.4444444444444444,
              "#bd3786"
             ],
             [
              0.5555555555555556,
              "#d8576b"
             ],
             [
              0.6666666666666666,
              "#ed7953"
             ],
             [
              0.7777777777777778,
              "#fb9f3a"
             ],
             [
              0.8888888888888888,
              "#fdca26"
             ],
             [
              1,
              "#f0f921"
             ]
            ],
            "type": "contour"
           }
          ],
          "contourcarpet": [
           {
            "colorbar": {
             "outlinewidth": 0,
             "ticks": ""
            },
            "type": "contourcarpet"
           }
          ],
          "heatmap": [
           {
            "colorbar": {
             "outlinewidth": 0,
             "ticks": ""
            },
            "colorscale": [
             [
              0,
              "#0d0887"
             ],
             [
              0.1111111111111111,
              "#46039f"
             ],
             [
              0.2222222222222222,
              "#7201a8"
             ],
             [
              0.3333333333333333,
              "#9c179e"
             ],
             [
              0.4444444444444444,
              "#bd3786"
             ],
             [
              0.5555555555555556,
              "#d8576b"
             ],
             [
              0.6666666666666666,
              "#ed7953"
             ],
             [
              0.7777777777777778,
              "#fb9f3a"
             ],
             [
              0.8888888888888888,
              "#fdca26"
             ],
             [
              1,
              "#f0f921"
             ]
            ],
            "type": "heatmap"
           }
          ],
          "heatmapgl": [
           {
            "colorbar": {
             "outlinewidth": 0,
             "ticks": ""
            },
            "colorscale": [
             [
              0,
              "#0d0887"
             ],
             [
              0.1111111111111111,
              "#46039f"
             ],
             [
              0.2222222222222222,
              "#7201a8"
             ],
             [
              0.3333333333333333,
              "#9c179e"
             ],
             [
              0.4444444444444444,
              "#bd3786"
             ],
             [
              0.5555555555555556,
              "#d8576b"
             ],
             [
              0.6666666666666666,
              "#ed7953"
             ],
             [
              0.7777777777777778,
              "#fb9f3a"
             ],
             [
              0.8888888888888888,
              "#fdca26"
             ],
             [
              1,
              "#f0f921"
             ]
            ],
            "type": "heatmapgl"
           }
          ],
          "histogram": [
           {
            "marker": {
             "pattern": {
              "fillmode": "overlay",
              "size": 10,
              "solidity": 0.2
             }
            },
            "type": "histogram"
           }
          ],
          "histogram2d": [
           {
            "colorbar": {
             "outlinewidth": 0,
             "ticks": ""
            },
            "colorscale": [
             [
              0,
              "#0d0887"
             ],
             [
              0.1111111111111111,
              "#46039f"
             ],
             [
              0.2222222222222222,
              "#7201a8"
             ],
             [
              0.3333333333333333,
              "#9c179e"
             ],
             [
              0.4444444444444444,
              "#bd3786"
             ],
             [
              0.5555555555555556,
              "#d8576b"
             ],
             [
              0.6666666666666666,
              "#ed7953"
             ],
             [
              0.7777777777777778,
              "#fb9f3a"
             ],
             [
              0.8888888888888888,
              "#fdca26"
             ],
             [
              1,
              "#f0f921"
             ]
            ],
            "type": "histogram2d"
           }
          ],
          "histogram2dcontour": [
           {
            "colorbar": {
             "outlinewidth": 0,
             "ticks": ""
            },
            "colorscale": [
             [
              0,
              "#0d0887"
             ],
             [
              0.1111111111111111,
              "#46039f"
             ],
             [
              0.2222222222222222,
              "#7201a8"
             ],
             [
              0.3333333333333333,
              "#9c179e"
             ],
             [
              0.4444444444444444,
              "#bd3786"
             ],
             [
              0.5555555555555556,
              "#d8576b"
             ],
             [
              0.6666666666666666,
              "#ed7953"
             ],
             [
              0.7777777777777778,
              "#fb9f3a"
             ],
             [
              0.8888888888888888,
              "#fdca26"
             ],
             [
              1,
              "#f0f921"
             ]
            ],
            "type": "histogram2dcontour"
           }
          ],
          "mesh3d": [
           {
            "colorbar": {
             "outlinewidth": 0,
             "ticks": ""
            },
            "type": "mesh3d"
           }
          ],
          "parcoords": [
           {
            "line": {
             "colorbar": {
              "outlinewidth": 0,
              "ticks": ""
             }
            },
            "type": "parcoords"
           }
          ],
          "pie": [
           {
            "automargin": true,
            "type": "pie"
           }
          ],
          "scatter": [
           {
            "fillpattern": {
             "fillmode": "overlay",
             "size": 10,
             "solidity": 0.2
            },
            "type": "scatter"
           }
          ],
          "scatter3d": [
           {
            "line": {
             "colorbar": {
              "outlinewidth": 0,
              "ticks": ""
             }
            },
            "marker": {
             "colorbar": {
              "outlinewidth": 0,
              "ticks": ""
             }
            },
            "type": "scatter3d"
           }
          ],
          "scattercarpet": [
           {
            "marker": {
             "colorbar": {
              "outlinewidth": 0,
              "ticks": ""
             }
            },
            "type": "scattercarpet"
           }
          ],
          "scattergeo": [
           {
            "marker": {
             "colorbar": {
              "outlinewidth": 0,
              "ticks": ""
             }
            },
            "type": "scattergeo"
           }
          ],
          "scattergl": [
           {
            "marker": {
             "colorbar": {
              "outlinewidth": 0,
              "ticks": ""
             }
            },
            "type": "scattergl"
           }
          ],
          "scattermapbox": [
           {
            "marker": {
             "colorbar": {
              "outlinewidth": 0,
              "ticks": ""
             }
            },
            "type": "scattermapbox"
           }
          ],
          "scatterpolar": [
           {
            "marker": {
             "colorbar": {
              "outlinewidth": 0,
              "ticks": ""
             }
            },
            "type": "scatterpolar"
           }
          ],
          "scatterpolargl": [
           {
            "marker": {
             "colorbar": {
              "outlinewidth": 0,
              "ticks": ""
             }
            },
            "type": "scatterpolargl"
           }
          ],
          "scatterternary": [
           {
            "marker": {
             "colorbar": {
              "outlinewidth": 0,
              "ticks": ""
             }
            },
            "type": "scatterternary"
           }
          ],
          "surface": [
           {
            "colorbar": {
             "outlinewidth": 0,
             "ticks": ""
            },
            "colorscale": [
             [
              0,
              "#0d0887"
             ],
             [
              0.1111111111111111,
              "#46039f"
             ],
             [
              0.2222222222222222,
              "#7201a8"
             ],
             [
              0.3333333333333333,
              "#9c179e"
             ],
             [
              0.4444444444444444,
              "#bd3786"
             ],
             [
              0.5555555555555556,
              "#d8576b"
             ],
             [
              0.6666666666666666,
              "#ed7953"
             ],
             [
              0.7777777777777778,
              "#fb9f3a"
             ],
             [
              0.8888888888888888,
              "#fdca26"
             ],
             [
              1,
              "#f0f921"
             ]
            ],
            "type": "surface"
           }
          ],
          "table": [
           {
            "cells": {
             "fill": {
              "color": "#EBF0F8"
             },
             "line": {
              "color": "white"
             }
            },
            "header": {
             "fill": {
              "color": "#C8D4E3"
             },
             "line": {
              "color": "white"
             }
            },
            "type": "table"
           }
          ]
         },
         "layout": {
          "annotationdefaults": {
           "arrowcolor": "#2a3f5f",
           "arrowhead": 0,
           "arrowwidth": 1
          },
          "autotypenumbers": "strict",
          "coloraxis": {
           "colorbar": {
            "outlinewidth": 0,
            "ticks": ""
           }
          },
          "colorscale": {
           "diverging": [
            [
             0,
             "#8e0152"
            ],
            [
             0.1,
             "#c51b7d"
            ],
            [
             0.2,
             "#de77ae"
            ],
            [
             0.3,
             "#f1b6da"
            ],
            [
             0.4,
             "#fde0ef"
            ],
            [
             0.5,
             "#f7f7f7"
            ],
            [
             0.6,
             "#e6f5d0"
            ],
            [
             0.7,
             "#b8e186"
            ],
            [
             0.8,
             "#7fbc41"
            ],
            [
             0.9,
             "#4d9221"
            ],
            [
             1,
             "#276419"
            ]
           ],
           "sequential": [
            [
             0,
             "#0d0887"
            ],
            [
             0.1111111111111111,
             "#46039f"
            ],
            [
             0.2222222222222222,
             "#7201a8"
            ],
            [
             0.3333333333333333,
             "#9c179e"
            ],
            [
             0.4444444444444444,
             "#bd3786"
            ],
            [
             0.5555555555555556,
             "#d8576b"
            ],
            [
             0.6666666666666666,
             "#ed7953"
            ],
            [
             0.7777777777777778,
             "#fb9f3a"
            ],
            [
             0.8888888888888888,
             "#fdca26"
            ],
            [
             1,
             "#f0f921"
            ]
           ],
           "sequentialminus": [
            [
             0,
             "#0d0887"
            ],
            [
             0.1111111111111111,
             "#46039f"
            ],
            [
             0.2222222222222222,
             "#7201a8"
            ],
            [
             0.3333333333333333,
             "#9c179e"
            ],
            [
             0.4444444444444444,
             "#bd3786"
            ],
            [
             0.5555555555555556,
             "#d8576b"
            ],
            [
             0.6666666666666666,
             "#ed7953"
            ],
            [
             0.7777777777777778,
             "#fb9f3a"
            ],
            [
             0.8888888888888888,
             "#fdca26"
            ],
            [
             1,
             "#f0f921"
            ]
           ]
          },
          "colorway": [
           "#636efa",
           "#EF553B",
           "#00cc96",
           "#ab63fa",
           "#FFA15A",
           "#19d3f3",
           "#FF6692",
           "#B6E880",
           "#FF97FF",
           "#FECB52"
          ],
          "font": {
           "color": "#2a3f5f"
          },
          "geo": {
           "bgcolor": "white",
           "lakecolor": "white",
           "landcolor": "#E5ECF6",
           "showlakes": true,
           "showland": true,
           "subunitcolor": "white"
          },
          "hoverlabel": {
           "align": "left"
          },
          "hovermode": "closest",
          "mapbox": {
           "style": "light"
          },
          "paper_bgcolor": "white",
          "plot_bgcolor": "#E5ECF6",
          "polar": {
           "angularaxis": {
            "gridcolor": "white",
            "linecolor": "white",
            "ticks": ""
           },
           "bgcolor": "#E5ECF6",
           "radialaxis": {
            "gridcolor": "white",
            "linecolor": "white",
            "ticks": ""
           }
          },
          "scene": {
           "xaxis": {
            "backgroundcolor": "#E5ECF6",
            "gridcolor": "white",
            "gridwidth": 2,
            "linecolor": "white",
            "showbackground": true,
            "ticks": "",
            "zerolinecolor": "white"
           },
           "yaxis": {
            "backgroundcolor": "#E5ECF6",
            "gridcolor": "white",
            "gridwidth": 2,
            "linecolor": "white",
            "showbackground": true,
            "ticks": "",
            "zerolinecolor": "white"
           },
           "zaxis": {
            "backgroundcolor": "#E5ECF6",
            "gridcolor": "white",
            "gridwidth": 2,
            "linecolor": "white",
            "showbackground": true,
            "ticks": "",
            "zerolinecolor": "white"
           }
          },
          "shapedefaults": {
           "line": {
            "color": "#2a3f5f"
           }
          },
          "ternary": {
           "aaxis": {
            "gridcolor": "white",
            "linecolor": "white",
            "ticks": ""
           },
           "baxis": {
            "gridcolor": "white",
            "linecolor": "white",
            "ticks": ""
           },
           "bgcolor": "#E5ECF6",
           "caxis": {
            "gridcolor": "white",
            "linecolor": "white",
            "ticks": ""
           }
          },
          "title": {
           "x": 0.05
          },
          "xaxis": {
           "automargin": true,
           "gridcolor": "white",
           "linecolor": "white",
           "ticks": "",
           "title": {
            "standoff": 15
           },
           "zerolinecolor": "white",
           "zerolinewidth": 2
          },
          "yaxis": {
           "automargin": true,
           "gridcolor": "white",
           "linecolor": "white",
           "ticks": "",
           "title": {
            "standoff": 15
           },
           "zerolinecolor": "white",
           "zerolinewidth": 2
          }
         }
        },
        "title": {
         "font": {
          "color": "#4D5663"
         }
        },
        "xaxis": {
         "gridcolor": "#E1E5ED",
         "showgrid": true,
         "tickfont": {
          "color": "#4D5663"
         },
         "title": {
          "font": {
           "color": "#4D5663"
          },
          "text": ""
         },
         "zerolinecolor": "#E1E5ED"
        },
        "yaxis": {
         "gridcolor": "#E1E5ED",
         "showgrid": true,
         "tickfont": {
          "color": "#4D5663"
         },
         "title": {
          "font": {
           "color": "#4D5663"
          },
          "text": ""
         },
         "zerolinecolor": "#E1E5ED"
        }
       }
      },
      "text/html": [
       "<div>                            <div id=\"0418376b-676d-4468-88da-3e45fe69a73c\" class=\"plotly-graph-div\" style=\"height:525px; width:100%;\"></div>            <script type=\"text/javascript\">                require([\"plotly\"], function(Plotly) {                    window.PLOTLYENV=window.PLOTLYENV || {};\n",
       "                    window.PLOTLYENV.BASE_URL='https://plot.ly';                                    if (document.getElementById(\"0418376b-676d-4468-88da-3e45fe69a73c\")) {                    Plotly.newPlot(                        \"0418376b-676d-4468-88da-3e45fe69a73c\",                        [{\"boxpoints\":false,\"line\":{\"width\":1.3},\"marker\":{\"color\":\"rgba(255, 153, 51, 1.0)\"},\"name\":\"A\",\"orientation\":\"v\",\"y\":[-1.5450841317171276,-1.413125498673202,0.9323209797782157,0.06948672060685748,-1.2523413495098872,-1.998523806904109,0.9190235994878402,-0.9119658333889711,0.48330895698670573,-0.18718041389695883,-1.4320101370003964,-1.0261708964009986,-0.2445512401393387,0.5509130159887102,-0.01880610498489131,-0.3314676127876932,-0.6148547025606768,0.5904187382004569,0.6079579957452251,1.029365744269441,0.37821917735715205,0.4853068362773339,-0.04114493743598664,0.8708159539648068,1.5460674411149098,-0.5519392483070829,-0.781020223747612,2.248475249081179,-0.7841092464880934,0.6982816726880846,-0.6817947425346943,-0.15254862845208006,0.08242693280174032,-0.6165766635482408,0.07344361303984231,-2.472226220100499,-0.7017642502166871,0.31867008055206325,-0.2599768591357568,0.1128594778484536,1.9546293514760582,1.599497463833276,1.0851296565292388,-1.467177738869882,1.6987782408729655,1.1983444774482184,0.3155444180406639,-0.08519293842820412,-0.2456642503023336,0.5499649604319629,-3.4739634005226576,-2.2523455597506286,0.6937969710072474,1.6141764343342464,1.0400077714625975,0.10041443115825265,-0.7097173257145293,1.4604101958038826,0.3293241651930765,-0.8538133138281813,1.0663441980793718,0.47825456546125206,-0.671842993091924,0.17989808836044138,-0.5713356174675095,-0.48417683159928776,-0.5958366995752875,0.440964769391051,-0.5094687351758517,1.850188864915357,1.8675119837627912,-0.7122251808699338,0.06639775250348316,-1.695337244452929,1.6820736210084517,2.1310945371850463,-2.0930601078406137,-1.770996043995373,1.1437543834138326,-1.0775717485533514,-1.2275856522468844,1.217560029308882,0.03026729574779826,-1.5261799364599762,-0.04317321966520327,0.4887696263728301,0.470451294595051,1.4973438747078496,0.03651730210198627,0.509467886559641,0.03914759134423157,1.1308562743625474,0.4847047628207645,-0.4818166423351334,-2.080158939342939,-0.3751305898439625,0.03069571986767242,-0.4639225567373533,-0.7047432345226364,0.5217812056163413],\"type\":\"box\"},{\"boxpoints\":false,\"line\":{\"width\":1.3},\"marker\":{\"color\":\"rgba(55, 128, 191, 1.0)\"},\"name\":\"B\",\"orientation\":\"v\",\"y\":[0.5560590486778653,-0.07793450560493444,1.4728014419360818,1.1841675005675982,0.03281836403183733,-0.6461553540733159,0.5986016228049653,-0.5717226512281799,-0.2747819332926034,0.49043949751220406,-1.1299777891524494,-0.1702095917006199,1.722509452732334,-0.10183571621992656,0.8098258836135469,-1.1063076830024827,0.057112964591251786,-1.6245497623720355,0.07215549241226307,-0.8894380820025064,-2.120833496107395,-0.08012739410150374,-0.591197681351182,0.5197983468505548,0.24142254317476586,1.7457988842999421,-1.1070059282786342,0.7913944754762602,-0.03914090883278507,0.6152536901853041,-0.05698167740111924,-0.27251337345567,-0.07551250464389586,-1.4975382351147017,-0.20273312933138704,2.3361653725747384,-0.5764544082758793,-1.1206284477949207,1.0803724020371084,0.9017473742656453,-0.02018976267946315,0.05347973046173759,-0.45391764829224956,-1.4044676816734702,-1.1989349494957657,-1.0866814888362737,1.3894900407927153,0.9162647371019855,0.4194940637068126,0.9034317144972939,-1.6191837646872886,0.006057610591446054,0.10132471015131193,-0.23082140302094117,-1.3083413724708712,-1.2795626813486651,0.062410142195700555,0.2875986079539208,0.9055903722191032,1.0916151451771925,-0.35317700404366503,-1.1509106118990473,0.23836868247584514,-1.3950447728820754,-1.5431027269159214,-0.7267103886216447,-2.918958189158711,0.3007783016160846,-0.1197534659473193,2.444338372746112,1.0811358025289786,0.3008412860349423,1.6118481390652135,-0.1653194027176514,0.5121512969539667,-1.500586263147276,-1.0521038617793856,1.6372159044057157,1.1839733648110073,0.05110509841795652,1.2103708240782325,-0.8098886634300432,0.6935184762736882,0.9200130974217491,0.2780698881923895,-0.43299394989872503,-0.7508110319139402,-0.014969382105271498,-1.6936832131901614,-2.183184500009131,0.009773417538940442,0.21650240127684667,-1.2321789658109623,-0.15811371811548136,0.520944239040899,0.360402959490052,0.8879887300703774,-0.18766955772960667,-0.23289851453897023,0.11653811732251271],\"type\":\"box\"},{\"boxpoints\":false,\"line\":{\"width\":1.3},\"marker\":{\"color\":\"rgba(50, 171, 96, 1.0)\"},\"name\":\"C\",\"orientation\":\"v\",\"y\":[1.142957461938206,-0.6806125573649034,-1.0227817586537609,-0.06175598305331198,-2.857119317247955,-0.8026156012737113,0.14515392990946177,1.820762759962793,1.7317910720259766,-0.5355827163986291,-0.013574750771533906,0.13444921194922171,0.352673207392984,1.0072621275292684,1.229927995555651,2.136042961479565,-1.1723228481945511,1.0089558589830174,1.3985559261362852,-0.8325731223361609,-1.1401256081516107,-0.26583330975252095,0.6387792414628685,-0.5429091362003327,-2.0922479775033054,-0.8988064239550476,0.6929996926165763,0.8818628623091056,0.6975676418472025,-0.8788684792105158,1.6631070617585046,-0.6034459243047794,0.38597173621564035,-1.523891568361597,-1.259879097422616,0.17990138581357046,0.10853064364027251,0.3813978177227395,-0.3707262444083515,0.1507286183195694,-0.03206019274931715,0.7623051414856427,0.4118501538568426,1.2688469535198004,-0.23414749329142184,-0.37638456750429633,-1.1939671783580035,-1.1365481945856537,1.117128111513842,0.4723068041592008,-0.28169481187048445,0.03544221389922512,-1.063811946630155,0.6352727159649894,-0.6451093744106224,-0.28087286275127066,-0.11830913064769166,-2.3170291871331234,1.8139784434024169,0.24672464871290536,0.8369353888227604,-2.1437155576396942,1.754309141274669,-0.007796820439026534,0.7853097874691335,0.21540818823607497,-0.9030716490254593,-0.28321721477595774,0.5595247854263092,0.0031414715485191635,-0.5380866274429242,-0.8809091716997429,-1.45373282111659,-0.51926920566855,0.14873266415102424,0.7888599874592507,-2.1025788190103274,0.17574153051825117,-0.9468737982747777,-0.9736085018597049,1.2450370590295512,-2.144827448404873,-1.4691766297117512,0.9599144161071922,0.15177961654430017,1.451066628687136,-0.8189034360839488,-1.5601601784344195,-0.3357026308645879,-0.11544518415754632,0.9714972848297608,-0.2831689584490962,1.5968106765083325,0.04953698066907284,0.6323746017216597,1.853814731873583,1.0547336444809297,1.2047613193245084,1.899387145980557,0.764393875336319],\"type\":\"box\"},{\"boxpoints\":false,\"line\":{\"width\":1.3},\"marker\":{\"color\":\"rgba(128, 0, 128, 1.0)\"},\"name\":\"D\",\"orientation\":\"v\",\"y\":[0.6636046017032086,-0.6826678579419522,0.6412989761567559,-1.5336201560910816,-3.0735978113266715,-0.4950015121392039,0.7227854040184063,-0.06021350561293821,-0.12416536813522329,1.9778048228648673,0.5633389809420963,0.5411563180282993,-0.42114275385464545,-0.7471470062784517,-1.3220558601645211,3.046616889305344,0.540553458484006,0.3517466555649153,0.9750666258851184,-1.877285662060283,1.4999838850754361,-0.7367262395859325,-0.3507399224979165,0.1458813972391933,-0.5666383467819421,-0.5850810319701142,0.698206429038685,-0.5308752434363585,0.043197033494854986,0.285808676977401,-0.0666281228286287,0.2190966997181222,0.9912177507573966,0.6767917629462028,-0.49298500634473946,1.268176424940927,-1.1719207677492396,2.022476073007396,0.42864837419088964,-1.3138253643244255,0.45642574016421283,-0.6626710733447282,0.7742876944256257,-0.3630554814665732,0.12421122839255876,-0.17281791359695634,1.4230929174675107,0.49355066858406377,1.0238261708187997,-0.10223960276495231,-0.9041740045931916,-1.0119978449638662,2.1630080727496757,1.254656380856612,-2.6660388378594884,-0.9777421327380746,1.067472644384756,-1.7242127848488038,-0.7947393609084901,0.97546616563427,0.46891172753877913,0.25938018055253853,0.8764022779236528,0.38430258464807754,1.174145616590082,0.25759815147608617,-1.7405595388297692,-0.4205321356222938,-0.849162893686231,0.12345242530678299,-0.10988663392928052,0.11420173092192624,0.5098330152516697,-0.8829850487515168,0.6074352104419615,-1.443868662604306,1.04937413180432,0.6537724159725903,0.5029296863520941,2.423710092601902,-1.4785653770372578,-1.4487117922977846,0.9588723637513975,-0.3231444498896284,-0.6180473746122097,0.6467849040614588,-1.5356285554458193,-1.342808655557535,0.23380153442864607,0.9406928117865758,0.33113596584484745,-0.6053287612428888,2.6812975316108987,1.5674687076974196,0.5669006248196585,0.9159915678356795,-0.41198763993783094,0.050642246241135704,-1.4167612286518538,-0.3277222022306663],\"type\":\"box\"}],                        {\"legend\":{\"bgcolor\":\"#F5F6F9\",\"font\":{\"color\":\"#4D5663\"}},\"paper_bgcolor\":\"#F5F6F9\",\"plot_bgcolor\":\"#F5F6F9\",\"template\":{\"data\":{\"barpolar\":[{\"marker\":{\"line\":{\"color\":\"#E5ECF6\",\"width\":0.5},\"pattern\":{\"fillmode\":\"overlay\",\"size\":10,\"solidity\":0.2}},\"type\":\"barpolar\"}],\"bar\":[{\"error_x\":{\"color\":\"#2a3f5f\"},\"error_y\":{\"color\":\"#2a3f5f\"},\"marker\":{\"line\":{\"color\":\"#E5ECF6\",\"width\":0.5},\"pattern\":{\"fillmode\":\"overlay\",\"size\":10,\"solidity\":0.2}},\"type\":\"bar\"}],\"carpet\":[{\"aaxis\":{\"endlinecolor\":\"#2a3f5f\",\"gridcolor\":\"white\",\"linecolor\":\"white\",\"minorgridcolor\":\"white\",\"startlinecolor\":\"#2a3f5f\"},\"baxis\":{\"endlinecolor\":\"#2a3f5f\",\"gridcolor\":\"white\",\"linecolor\":\"white\",\"minorgridcolor\":\"white\",\"startlinecolor\":\"#2a3f5f\"},\"type\":\"carpet\"}],\"choropleth\":[{\"colorbar\":{\"outlinewidth\":0,\"ticks\":\"\"},\"type\":\"choropleth\"}],\"contourcarpet\":[{\"colorbar\":{\"outlinewidth\":0,\"ticks\":\"\"},\"type\":\"contourcarpet\"}],\"contour\":[{\"colorbar\":{\"outlinewidth\":0,\"ticks\":\"\"},\"colorscale\":[[0.0,\"#0d0887\"],[0.1111111111111111,\"#46039f\"],[0.2222222222222222,\"#7201a8\"],[0.3333333333333333,\"#9c179e\"],[0.4444444444444444,\"#bd3786\"],[0.5555555555555556,\"#d8576b\"],[0.6666666666666666,\"#ed7953\"],[0.7777777777777778,\"#fb9f3a\"],[0.8888888888888888,\"#fdca26\"],[1.0,\"#f0f921\"]],\"type\":\"contour\"}],\"heatmapgl\":[{\"colorbar\":{\"outlinewidth\":0,\"ticks\":\"\"},\"colorscale\":[[0.0,\"#0d0887\"],[0.1111111111111111,\"#46039f\"],[0.2222222222222222,\"#7201a8\"],[0.3333333333333333,\"#9c179e\"],[0.4444444444444444,\"#bd3786\"],[0.5555555555555556,\"#d8576b\"],[0.6666666666666666,\"#ed7953\"],[0.7777777777777778,\"#fb9f3a\"],[0.8888888888888888,\"#fdca26\"],[1.0,\"#f0f921\"]],\"type\":\"heatmapgl\"}],\"heatmap\":[{\"colorbar\":{\"outlinewidth\":0,\"ticks\":\"\"},\"colorscale\":[[0.0,\"#0d0887\"],[0.1111111111111111,\"#46039f\"],[0.2222222222222222,\"#7201a8\"],[0.3333333333333333,\"#9c179e\"],[0.4444444444444444,\"#bd3786\"],[0.5555555555555556,\"#d8576b\"],[0.6666666666666666,\"#ed7953\"],[0.7777777777777778,\"#fb9f3a\"],[0.8888888888888888,\"#fdca26\"],[1.0,\"#f0f921\"]],\"type\":\"heatmap\"}],\"histogram2dcontour\":[{\"colorbar\":{\"outlinewidth\":0,\"ticks\":\"\"},\"colorscale\":[[0.0,\"#0d0887\"],[0.1111111111111111,\"#46039f\"],[0.2222222222222222,\"#7201a8\"],[0.3333333333333333,\"#9c179e\"],[0.4444444444444444,\"#bd3786\"],[0.5555555555555556,\"#d8576b\"],[0.6666666666666666,\"#ed7953\"],[0.7777777777777778,\"#fb9f3a\"],[0.8888888888888888,\"#fdca26\"],[1.0,\"#f0f921\"]],\"type\":\"histogram2dcontour\"}],\"histogram2d\":[{\"colorbar\":{\"outlinewidth\":0,\"ticks\":\"\"},\"colorscale\":[[0.0,\"#0d0887\"],[0.1111111111111111,\"#46039f\"],[0.2222222222222222,\"#7201a8\"],[0.3333333333333333,\"#9c179e\"],[0.4444444444444444,\"#bd3786\"],[0.5555555555555556,\"#d8576b\"],[0.6666666666666666,\"#ed7953\"],[0.7777777777777778,\"#fb9f3a\"],[0.8888888888888888,\"#fdca26\"],[1.0,\"#f0f921\"]],\"type\":\"histogram2d\"}],\"histogram\":[{\"marker\":{\"pattern\":{\"fillmode\":\"overlay\",\"size\":10,\"solidity\":0.2}},\"type\":\"histogram\"}],\"mesh3d\":[{\"colorbar\":{\"outlinewidth\":0,\"ticks\":\"\"},\"type\":\"mesh3d\"}],\"parcoords\":[{\"line\":{\"colorbar\":{\"outlinewidth\":0,\"ticks\":\"\"}},\"type\":\"parcoords\"}],\"pie\":[{\"automargin\":true,\"type\":\"pie\"}],\"scatter3d\":[{\"line\":{\"colorbar\":{\"outlinewidth\":0,\"ticks\":\"\"}},\"marker\":{\"colorbar\":{\"outlinewidth\":0,\"ticks\":\"\"}},\"type\":\"scatter3d\"}],\"scattercarpet\":[{\"marker\":{\"colorbar\":{\"outlinewidth\":0,\"ticks\":\"\"}},\"type\":\"scattercarpet\"}],\"scattergeo\":[{\"marker\":{\"colorbar\":{\"outlinewidth\":0,\"ticks\":\"\"}},\"type\":\"scattergeo\"}],\"scattergl\":[{\"marker\":{\"colorbar\":{\"outlinewidth\":0,\"ticks\":\"\"}},\"type\":\"scattergl\"}],\"scattermapbox\":[{\"marker\":{\"colorbar\":{\"outlinewidth\":0,\"ticks\":\"\"}},\"type\":\"scattermapbox\"}],\"scatterpolargl\":[{\"marker\":{\"colorbar\":{\"outlinewidth\":0,\"ticks\":\"\"}},\"type\":\"scatterpolargl\"}],\"scatterpolar\":[{\"marker\":{\"colorbar\":{\"outlinewidth\":0,\"ticks\":\"\"}},\"type\":\"scatterpolar\"}],\"scatter\":[{\"fillpattern\":{\"fillmode\":\"overlay\",\"size\":10,\"solidity\":0.2},\"type\":\"scatter\"}],\"scatterternary\":[{\"marker\":{\"colorbar\":{\"outlinewidth\":0,\"ticks\":\"\"}},\"type\":\"scatterternary\"}],\"surface\":[{\"colorbar\":{\"outlinewidth\":0,\"ticks\":\"\"},\"colorscale\":[[0.0,\"#0d0887\"],[0.1111111111111111,\"#46039f\"],[0.2222222222222222,\"#7201a8\"],[0.3333333333333333,\"#9c179e\"],[0.4444444444444444,\"#bd3786\"],[0.5555555555555556,\"#d8576b\"],[0.6666666666666666,\"#ed7953\"],[0.7777777777777778,\"#fb9f3a\"],[0.8888888888888888,\"#fdca26\"],[1.0,\"#f0f921\"]],\"type\":\"surface\"}],\"table\":[{\"cells\":{\"fill\":{\"color\":\"#EBF0F8\"},\"line\":{\"color\":\"white\"}},\"header\":{\"fill\":{\"color\":\"#C8D4E3\"},\"line\":{\"color\":\"white\"}},\"type\":\"table\"}]},\"layout\":{\"annotationdefaults\":{\"arrowcolor\":\"#2a3f5f\",\"arrowhead\":0,\"arrowwidth\":1},\"autotypenumbers\":\"strict\",\"coloraxis\":{\"colorbar\":{\"outlinewidth\":0,\"ticks\":\"\"}},\"colorscale\":{\"diverging\":[[0,\"#8e0152\"],[0.1,\"#c51b7d\"],[0.2,\"#de77ae\"],[0.3,\"#f1b6da\"],[0.4,\"#fde0ef\"],[0.5,\"#f7f7f7\"],[0.6,\"#e6f5d0\"],[0.7,\"#b8e186\"],[0.8,\"#7fbc41\"],[0.9,\"#4d9221\"],[1,\"#276419\"]],\"sequential\":[[0.0,\"#0d0887\"],[0.1111111111111111,\"#46039f\"],[0.2222222222222222,\"#7201a8\"],[0.3333333333333333,\"#9c179e\"],[0.4444444444444444,\"#bd3786\"],[0.5555555555555556,\"#d8576b\"],[0.6666666666666666,\"#ed7953\"],[0.7777777777777778,\"#fb9f3a\"],[0.8888888888888888,\"#fdca26\"],[1.0,\"#f0f921\"]],\"sequentialminus\":[[0.0,\"#0d0887\"],[0.1111111111111111,\"#46039f\"],[0.2222222222222222,\"#7201a8\"],[0.3333333333333333,\"#9c179e\"],[0.4444444444444444,\"#bd3786\"],[0.5555555555555556,\"#d8576b\"],[0.6666666666666666,\"#ed7953\"],[0.7777777777777778,\"#fb9f3a\"],[0.8888888888888888,\"#fdca26\"],[1.0,\"#f0f921\"]]},\"colorway\":[\"#636efa\",\"#EF553B\",\"#00cc96\",\"#ab63fa\",\"#FFA15A\",\"#19d3f3\",\"#FF6692\",\"#B6E880\",\"#FF97FF\",\"#FECB52\"],\"font\":{\"color\":\"#2a3f5f\"},\"geo\":{\"bgcolor\":\"white\",\"lakecolor\":\"white\",\"landcolor\":\"#E5ECF6\",\"showlakes\":true,\"showland\":true,\"subunitcolor\":\"white\"},\"hoverlabel\":{\"align\":\"left\"},\"hovermode\":\"closest\",\"mapbox\":{\"style\":\"light\"},\"paper_bgcolor\":\"white\",\"plot_bgcolor\":\"#E5ECF6\",\"polar\":{\"angularaxis\":{\"gridcolor\":\"white\",\"linecolor\":\"white\",\"ticks\":\"\"},\"bgcolor\":\"#E5ECF6\",\"radialaxis\":{\"gridcolor\":\"white\",\"linecolor\":\"white\",\"ticks\":\"\"}},\"scene\":{\"xaxis\":{\"backgroundcolor\":\"#E5ECF6\",\"gridcolor\":\"white\",\"gridwidth\":2,\"linecolor\":\"white\",\"showbackground\":true,\"ticks\":\"\",\"zerolinecolor\":\"white\"},\"yaxis\":{\"backgroundcolor\":\"#E5ECF6\",\"gridcolor\":\"white\",\"gridwidth\":2,\"linecolor\":\"white\",\"showbackground\":true,\"ticks\":\"\",\"zerolinecolor\":\"white\"},\"zaxis\":{\"backgroundcolor\":\"#E5ECF6\",\"gridcolor\":\"white\",\"gridwidth\":2,\"linecolor\":\"white\",\"showbackground\":true,\"ticks\":\"\",\"zerolinecolor\":\"white\"}},\"shapedefaults\":{\"line\":{\"color\":\"#2a3f5f\"}},\"ternary\":{\"aaxis\":{\"gridcolor\":\"white\",\"linecolor\":\"white\",\"ticks\":\"\"},\"baxis\":{\"gridcolor\":\"white\",\"linecolor\":\"white\",\"ticks\":\"\"},\"bgcolor\":\"#E5ECF6\",\"caxis\":{\"gridcolor\":\"white\",\"linecolor\":\"white\",\"ticks\":\"\"}},\"title\":{\"x\":0.05},\"xaxis\":{\"automargin\":true,\"gridcolor\":\"white\",\"linecolor\":\"white\",\"ticks\":\"\",\"title\":{\"standoff\":15},\"zerolinecolor\":\"white\",\"zerolinewidth\":2},\"yaxis\":{\"automargin\":true,\"gridcolor\":\"white\",\"linecolor\":\"white\",\"ticks\":\"\",\"title\":{\"standoff\":15},\"zerolinecolor\":\"white\",\"zerolinewidth\":2}}},\"title\":{\"font\":{\"color\":\"#4D5663\"}},\"xaxis\":{\"gridcolor\":\"#E1E5ED\",\"showgrid\":true,\"tickfont\":{\"color\":\"#4D5663\"},\"title\":{\"font\":{\"color\":\"#4D5663\"},\"text\":\"\"},\"zerolinecolor\":\"#E1E5ED\"},\"yaxis\":{\"gridcolor\":\"#E1E5ED\",\"showgrid\":true,\"tickfont\":{\"color\":\"#4D5663\"},\"title\":{\"font\":{\"color\":\"#4D5663\"},\"text\":\"\"},\"zerolinecolor\":\"#E1E5ED\"}},                        {\"showLink\": true, \"linkText\": \"Export to plot.ly\", \"plotlyServerURL\": \"https://plot.ly\", \"responsive\": true}                    ).then(function(){\n",
       "                            \n",
       "var gd = document.getElementById('0418376b-676d-4468-88da-3e45fe69a73c');\n",
       "var x = new MutationObserver(function (mutations, observer) {{\n",
       "        var display = window.getComputedStyle(gd).display;\n",
       "        if (!display || display === 'none') {{\n",
       "            console.log([gd, 'removed!']);\n",
       "            Plotly.purge(gd);\n",
       "            observer.disconnect();\n",
       "        }}\n",
       "}});\n",
       "\n",
       "// Listen for the removal of the full notebook cells\n",
       "var notebookContainer = gd.closest('#notebook-container');\n",
       "if (notebookContainer) {{\n",
       "    x.observe(notebookContainer, {childList: true});\n",
       "}}\n",
       "\n",
       "// Listen for the clearing of the current output cell\n",
       "var outputEl = gd.closest('.output');\n",
       "if (outputEl) {{\n",
       "    x.observe(outputEl, {childList: true});\n",
       "}}\n",
       "\n",
       "                        })                };                });            </script>        </div>"
      ]
     },
     "metadata": {},
     "output_type": "display_data"
    }
   ],
   "source": [
    "df.iplot(kind='box')"
   ]
  },
  {
   "cell_type": "code",
   "execution_count": 16,
   "id": "7afe0a8b",
   "metadata": {},
   "outputs": [],
   "source": [
    "df3 = pd.DataFrame({'x':[1,2,3,4,5],'y':[10,20,30,40,50],'z':[5,4,3,2,1]})"
   ]
  },
  {
   "cell_type": "code",
   "execution_count": 17,
   "id": "7b0ea310",
   "metadata": {},
   "outputs": [
    {
     "data": {
      "application/vnd.plotly.v1+json": {
       "config": {
        "linkText": "Export to plot.ly",
        "plotlyServerURL": "https://plot.ly",
        "showLink": true
       },
       "data": [
        {
         "colorscale": [
          [
           0,
           "rgb(165,0,38)"
          ],
          [
           0.1,
           "rgb(215,48,39)"
          ],
          [
           0.2,
           "rgb(244,109,67)"
          ],
          [
           0.3,
           "rgb(253,174,97)"
          ],
          [
           0.4,
           "rgb(254,224,144)"
          ],
          [
           0.5,
           "rgb(255,255,191)"
          ],
          [
           0.6,
           "rgb(224,243,248)"
          ],
          [
           0.7,
           "rgb(171,217,233)"
          ],
          [
           0.8,
           "rgb(116,173,209)"
          ],
          [
           0.9,
           "rgb(69,117,180)"
          ],
          [
           1,
           "rgb(49,54,149)"
          ]
         ],
         "type": "surface",
         "x": [
          0,
          1,
          2,
          3,
          4
         ],
         "y": [
          "x",
          "y",
          "z"
         ],
         "z": [
          [
           1,
           2,
           3,
           4,
           5
          ],
          [
           10,
           20,
           30,
           40,
           50
          ],
          [
           5,
           4,
           3,
           2,
           1
          ]
         ]
        }
       ],
       "layout": {
        "legend": {
         "bgcolor": "#F5F6F9",
         "font": {
          "color": "#4D5663"
         }
        },
        "paper_bgcolor": "#F5F6F9",
        "plot_bgcolor": "#F5F6F9",
        "template": {
         "data": {
          "bar": [
           {
            "error_x": {
             "color": "#2a3f5f"
            },
            "error_y": {
             "color": "#2a3f5f"
            },
            "marker": {
             "line": {
              "color": "#E5ECF6",
              "width": 0.5
             },
             "pattern": {
              "fillmode": "overlay",
              "size": 10,
              "solidity": 0.2
             }
            },
            "type": "bar"
           }
          ],
          "barpolar": [
           {
            "marker": {
             "line": {
              "color": "#E5ECF6",
              "width": 0.5
             },
             "pattern": {
              "fillmode": "overlay",
              "size": 10,
              "solidity": 0.2
             }
            },
            "type": "barpolar"
           }
          ],
          "carpet": [
           {
            "aaxis": {
             "endlinecolor": "#2a3f5f",
             "gridcolor": "white",
             "linecolor": "white",
             "minorgridcolor": "white",
             "startlinecolor": "#2a3f5f"
            },
            "baxis": {
             "endlinecolor": "#2a3f5f",
             "gridcolor": "white",
             "linecolor": "white",
             "minorgridcolor": "white",
             "startlinecolor": "#2a3f5f"
            },
            "type": "carpet"
           }
          ],
          "choropleth": [
           {
            "colorbar": {
             "outlinewidth": 0,
             "ticks": ""
            },
            "type": "choropleth"
           }
          ],
          "contour": [
           {
            "colorbar": {
             "outlinewidth": 0,
             "ticks": ""
            },
            "colorscale": [
             [
              0,
              "#0d0887"
             ],
             [
              0.1111111111111111,
              "#46039f"
             ],
             [
              0.2222222222222222,
              "#7201a8"
             ],
             [
              0.3333333333333333,
              "#9c179e"
             ],
             [
              0.4444444444444444,
              "#bd3786"
             ],
             [
              0.5555555555555556,
              "#d8576b"
             ],
             [
              0.6666666666666666,
              "#ed7953"
             ],
             [
              0.7777777777777778,
              "#fb9f3a"
             ],
             [
              0.8888888888888888,
              "#fdca26"
             ],
             [
              1,
              "#f0f921"
             ]
            ],
            "type": "contour"
           }
          ],
          "contourcarpet": [
           {
            "colorbar": {
             "outlinewidth": 0,
             "ticks": ""
            },
            "type": "contourcarpet"
           }
          ],
          "heatmap": [
           {
            "colorbar": {
             "outlinewidth": 0,
             "ticks": ""
            },
            "colorscale": [
             [
              0,
              "#0d0887"
             ],
             [
              0.1111111111111111,
              "#46039f"
             ],
             [
              0.2222222222222222,
              "#7201a8"
             ],
             [
              0.3333333333333333,
              "#9c179e"
             ],
             [
              0.4444444444444444,
              "#bd3786"
             ],
             [
              0.5555555555555556,
              "#d8576b"
             ],
             [
              0.6666666666666666,
              "#ed7953"
             ],
             [
              0.7777777777777778,
              "#fb9f3a"
             ],
             [
              0.8888888888888888,
              "#fdca26"
             ],
             [
              1,
              "#f0f921"
             ]
            ],
            "type": "heatmap"
           }
          ],
          "heatmapgl": [
           {
            "colorbar": {
             "outlinewidth": 0,
             "ticks": ""
            },
            "colorscale": [
             [
              0,
              "#0d0887"
             ],
             [
              0.1111111111111111,
              "#46039f"
             ],
             [
              0.2222222222222222,
              "#7201a8"
             ],
             [
              0.3333333333333333,
              "#9c179e"
             ],
             [
              0.4444444444444444,
              "#bd3786"
             ],
             [
              0.5555555555555556,
              "#d8576b"
             ],
             [
              0.6666666666666666,
              "#ed7953"
             ],
             [
              0.7777777777777778,
              "#fb9f3a"
             ],
             [
              0.8888888888888888,
              "#fdca26"
             ],
             [
              1,
              "#f0f921"
             ]
            ],
            "type": "heatmapgl"
           }
          ],
          "histogram": [
           {
            "marker": {
             "pattern": {
              "fillmode": "overlay",
              "size": 10,
              "solidity": 0.2
             }
            },
            "type": "histogram"
           }
          ],
          "histogram2d": [
           {
            "colorbar": {
             "outlinewidth": 0,
             "ticks": ""
            },
            "colorscale": [
             [
              0,
              "#0d0887"
             ],
             [
              0.1111111111111111,
              "#46039f"
             ],
             [
              0.2222222222222222,
              "#7201a8"
             ],
             [
              0.3333333333333333,
              "#9c179e"
             ],
             [
              0.4444444444444444,
              "#bd3786"
             ],
             [
              0.5555555555555556,
              "#d8576b"
             ],
             [
              0.6666666666666666,
              "#ed7953"
             ],
             [
              0.7777777777777778,
              "#fb9f3a"
             ],
             [
              0.8888888888888888,
              "#fdca26"
             ],
             [
              1,
              "#f0f921"
             ]
            ],
            "type": "histogram2d"
           }
          ],
          "histogram2dcontour": [
           {
            "colorbar": {
             "outlinewidth": 0,
             "ticks": ""
            },
            "colorscale": [
             [
              0,
              "#0d0887"
             ],
             [
              0.1111111111111111,
              "#46039f"
             ],
             [
              0.2222222222222222,
              "#7201a8"
             ],
             [
              0.3333333333333333,
              "#9c179e"
             ],
             [
              0.4444444444444444,
              "#bd3786"
             ],
             [
              0.5555555555555556,
              "#d8576b"
             ],
             [
              0.6666666666666666,
              "#ed7953"
             ],
             [
              0.7777777777777778,
              "#fb9f3a"
             ],
             [
              0.8888888888888888,
              "#fdca26"
             ],
             [
              1,
              "#f0f921"
             ]
            ],
            "type": "histogram2dcontour"
           }
          ],
          "mesh3d": [
           {
            "colorbar": {
             "outlinewidth": 0,
             "ticks": ""
            },
            "type": "mesh3d"
           }
          ],
          "parcoords": [
           {
            "line": {
             "colorbar": {
              "outlinewidth": 0,
              "ticks": ""
             }
            },
            "type": "parcoords"
           }
          ],
          "pie": [
           {
            "automargin": true,
            "type": "pie"
           }
          ],
          "scatter": [
           {
            "fillpattern": {
             "fillmode": "overlay",
             "size": 10,
             "solidity": 0.2
            },
            "type": "scatter"
           }
          ],
          "scatter3d": [
           {
            "line": {
             "colorbar": {
              "outlinewidth": 0,
              "ticks": ""
             }
            },
            "marker": {
             "colorbar": {
              "outlinewidth": 0,
              "ticks": ""
             }
            },
            "type": "scatter3d"
           }
          ],
          "scattercarpet": [
           {
            "marker": {
             "colorbar": {
              "outlinewidth": 0,
              "ticks": ""
             }
            },
            "type": "scattercarpet"
           }
          ],
          "scattergeo": [
           {
            "marker": {
             "colorbar": {
              "outlinewidth": 0,
              "ticks": ""
             }
            },
            "type": "scattergeo"
           }
          ],
          "scattergl": [
           {
            "marker": {
             "colorbar": {
              "outlinewidth": 0,
              "ticks": ""
             }
            },
            "type": "scattergl"
           }
          ],
          "scattermapbox": [
           {
            "marker": {
             "colorbar": {
              "outlinewidth": 0,
              "ticks": ""
             }
            },
            "type": "scattermapbox"
           }
          ],
          "scatterpolar": [
           {
            "marker": {
             "colorbar": {
              "outlinewidth": 0,
              "ticks": ""
             }
            },
            "type": "scatterpolar"
           }
          ],
          "scatterpolargl": [
           {
            "marker": {
             "colorbar": {
              "outlinewidth": 0,
              "ticks": ""
             }
            },
            "type": "scatterpolargl"
           }
          ],
          "scatterternary": [
           {
            "marker": {
             "colorbar": {
              "outlinewidth": 0,
              "ticks": ""
             }
            },
            "type": "scatterternary"
           }
          ],
          "surface": [
           {
            "colorbar": {
             "outlinewidth": 0,
             "ticks": ""
            },
            "colorscale": [
             [
              0,
              "#0d0887"
             ],
             [
              0.1111111111111111,
              "#46039f"
             ],
             [
              0.2222222222222222,
              "#7201a8"
             ],
             [
              0.3333333333333333,
              "#9c179e"
             ],
             [
              0.4444444444444444,
              "#bd3786"
             ],
             [
              0.5555555555555556,
              "#d8576b"
             ],
             [
              0.6666666666666666,
              "#ed7953"
             ],
             [
              0.7777777777777778,
              "#fb9f3a"
             ],
             [
              0.8888888888888888,
              "#fdca26"
             ],
             [
              1,
              "#f0f921"
             ]
            ],
            "type": "surface"
           }
          ],
          "table": [
           {
            "cells": {
             "fill": {
              "color": "#EBF0F8"
             },
             "line": {
              "color": "white"
             }
            },
            "header": {
             "fill": {
              "color": "#C8D4E3"
             },
             "line": {
              "color": "white"
             }
            },
            "type": "table"
           }
          ]
         },
         "layout": {
          "annotationdefaults": {
           "arrowcolor": "#2a3f5f",
           "arrowhead": 0,
           "arrowwidth": 1
          },
          "autotypenumbers": "strict",
          "coloraxis": {
           "colorbar": {
            "outlinewidth": 0,
            "ticks": ""
           }
          },
          "colorscale": {
           "diverging": [
            [
             0,
             "#8e0152"
            ],
            [
             0.1,
             "#c51b7d"
            ],
            [
             0.2,
             "#de77ae"
            ],
            [
             0.3,
             "#f1b6da"
            ],
            [
             0.4,
             "#fde0ef"
            ],
            [
             0.5,
             "#f7f7f7"
            ],
            [
             0.6,
             "#e6f5d0"
            ],
            [
             0.7,
             "#b8e186"
            ],
            [
             0.8,
             "#7fbc41"
            ],
            [
             0.9,
             "#4d9221"
            ],
            [
             1,
             "#276419"
            ]
           ],
           "sequential": [
            [
             0,
             "#0d0887"
            ],
            [
             0.1111111111111111,
             "#46039f"
            ],
            [
             0.2222222222222222,
             "#7201a8"
            ],
            [
             0.3333333333333333,
             "#9c179e"
            ],
            [
             0.4444444444444444,
             "#bd3786"
            ],
            [
             0.5555555555555556,
             "#d8576b"
            ],
            [
             0.6666666666666666,
             "#ed7953"
            ],
            [
             0.7777777777777778,
             "#fb9f3a"
            ],
            [
             0.8888888888888888,
             "#fdca26"
            ],
            [
             1,
             "#f0f921"
            ]
           ],
           "sequentialminus": [
            [
             0,
             "#0d0887"
            ],
            [
             0.1111111111111111,
             "#46039f"
            ],
            [
             0.2222222222222222,
             "#7201a8"
            ],
            [
             0.3333333333333333,
             "#9c179e"
            ],
            [
             0.4444444444444444,
             "#bd3786"
            ],
            [
             0.5555555555555556,
             "#d8576b"
            ],
            [
             0.6666666666666666,
             "#ed7953"
            ],
            [
             0.7777777777777778,
             "#fb9f3a"
            ],
            [
             0.8888888888888888,
             "#fdca26"
            ],
            [
             1,
             "#f0f921"
            ]
           ]
          },
          "colorway": [
           "#636efa",
           "#EF553B",
           "#00cc96",
           "#ab63fa",
           "#FFA15A",
           "#19d3f3",
           "#FF6692",
           "#B6E880",
           "#FF97FF",
           "#FECB52"
          ],
          "font": {
           "color": "#2a3f5f"
          },
          "geo": {
           "bgcolor": "white",
           "lakecolor": "white",
           "landcolor": "#E5ECF6",
           "showlakes": true,
           "showland": true,
           "subunitcolor": "white"
          },
          "hoverlabel": {
           "align": "left"
          },
          "hovermode": "closest",
          "mapbox": {
           "style": "light"
          },
          "paper_bgcolor": "white",
          "plot_bgcolor": "#E5ECF6",
          "polar": {
           "angularaxis": {
            "gridcolor": "white",
            "linecolor": "white",
            "ticks": ""
           },
           "bgcolor": "#E5ECF6",
           "radialaxis": {
            "gridcolor": "white",
            "linecolor": "white",
            "ticks": ""
           }
          },
          "scene": {
           "xaxis": {
            "backgroundcolor": "#E5ECF6",
            "gridcolor": "white",
            "gridwidth": 2,
            "linecolor": "white",
            "showbackground": true,
            "ticks": "",
            "zerolinecolor": "white"
           },
           "yaxis": {
            "backgroundcolor": "#E5ECF6",
            "gridcolor": "white",
            "gridwidth": 2,
            "linecolor": "white",
            "showbackground": true,
            "ticks": "",
            "zerolinecolor": "white"
           },
           "zaxis": {
            "backgroundcolor": "#E5ECF6",
            "gridcolor": "white",
            "gridwidth": 2,
            "linecolor": "white",
            "showbackground": true,
            "ticks": "",
            "zerolinecolor": "white"
           }
          },
          "shapedefaults": {
           "line": {
            "color": "#2a3f5f"
           }
          },
          "ternary": {
           "aaxis": {
            "gridcolor": "white",
            "linecolor": "white",
            "ticks": ""
           },
           "baxis": {
            "gridcolor": "white",
            "linecolor": "white",
            "ticks": ""
           },
           "bgcolor": "#E5ECF6",
           "caxis": {
            "gridcolor": "white",
            "linecolor": "white",
            "ticks": ""
           }
          },
          "title": {
           "x": 0.05
          },
          "xaxis": {
           "automargin": true,
           "gridcolor": "white",
           "linecolor": "white",
           "ticks": "",
           "title": {
            "standoff": 15
           },
           "zerolinecolor": "white",
           "zerolinewidth": 2
          },
          "yaxis": {
           "automargin": true,
           "gridcolor": "white",
           "linecolor": "white",
           "ticks": "",
           "title": {
            "standoff": 15
           },
           "zerolinecolor": "white",
           "zerolinewidth": 2
          }
         }
        },
        "title": {
         "font": {
          "color": "#4D5663"
         }
        },
        "xaxis": {
         "gridcolor": "#E1E5ED",
         "showgrid": true,
         "tickfont": {
          "color": "#4D5663"
         },
         "title": {
          "font": {
           "color": "#4D5663"
          },
          "text": ""
         },
         "zerolinecolor": "#E1E5ED"
        },
        "yaxis": {
         "gridcolor": "#E1E5ED",
         "showgrid": true,
         "tickfont": {
          "color": "#4D5663"
         },
         "title": {
          "font": {
           "color": "#4D5663"
          },
          "text": ""
         },
         "zerolinecolor": "#E1E5ED"
        }
       }
      },
      "text/html": [
       "<div>                            <div id=\"49fadb4a-85ca-44bf-ad38-1c1fedff089f\" class=\"plotly-graph-div\" style=\"height:525px; width:100%;\"></div>            <script type=\"text/javascript\">                require([\"plotly\"], function(Plotly) {                    window.PLOTLYENV=window.PLOTLYENV || {};\n",
       "                    window.PLOTLYENV.BASE_URL='https://plot.ly';                                    if (document.getElementById(\"49fadb4a-85ca-44bf-ad38-1c1fedff089f\")) {                    Plotly.newPlot(                        \"49fadb4a-85ca-44bf-ad38-1c1fedff089f\",                        [{\"colorscale\":[[0.0,\"rgb(165,0,38)\"],[0.1,\"rgb(215,48,39)\"],[0.2,\"rgb(244,109,67)\"],[0.3,\"rgb(253,174,97)\"],[0.4,\"rgb(254,224,144)\"],[0.5,\"rgb(255,255,191)\"],[0.6,\"rgb(224,243,248)\"],[0.7,\"rgb(171,217,233)\"],[0.8,\"rgb(116,173,209)\"],[0.9,\"rgb(69,117,180)\"],[1.0,\"rgb(49,54,149)\"]],\"x\":[0,1,2,3,4],\"y\":[\"x\",\"y\",\"z\"],\"z\":[[1,2,3,4,5],[10,20,30,40,50],[5,4,3,2,1]],\"type\":\"surface\"}],                        {\"legend\":{\"bgcolor\":\"#F5F6F9\",\"font\":{\"color\":\"#4D5663\"}},\"paper_bgcolor\":\"#F5F6F9\",\"plot_bgcolor\":\"#F5F6F9\",\"template\":{\"data\":{\"barpolar\":[{\"marker\":{\"line\":{\"color\":\"#E5ECF6\",\"width\":0.5},\"pattern\":{\"fillmode\":\"overlay\",\"size\":10,\"solidity\":0.2}},\"type\":\"barpolar\"}],\"bar\":[{\"error_x\":{\"color\":\"#2a3f5f\"},\"error_y\":{\"color\":\"#2a3f5f\"},\"marker\":{\"line\":{\"color\":\"#E5ECF6\",\"width\":0.5},\"pattern\":{\"fillmode\":\"overlay\",\"size\":10,\"solidity\":0.2}},\"type\":\"bar\"}],\"carpet\":[{\"aaxis\":{\"endlinecolor\":\"#2a3f5f\",\"gridcolor\":\"white\",\"linecolor\":\"white\",\"minorgridcolor\":\"white\",\"startlinecolor\":\"#2a3f5f\"},\"baxis\":{\"endlinecolor\":\"#2a3f5f\",\"gridcolor\":\"white\",\"linecolor\":\"white\",\"minorgridcolor\":\"white\",\"startlinecolor\":\"#2a3f5f\"},\"type\":\"carpet\"}],\"choropleth\":[{\"colorbar\":{\"outlinewidth\":0,\"ticks\":\"\"},\"type\":\"choropleth\"}],\"contourcarpet\":[{\"colorbar\":{\"outlinewidth\":0,\"ticks\":\"\"},\"type\":\"contourcarpet\"}],\"contour\":[{\"colorbar\":{\"outlinewidth\":0,\"ticks\":\"\"},\"colorscale\":[[0.0,\"#0d0887\"],[0.1111111111111111,\"#46039f\"],[0.2222222222222222,\"#7201a8\"],[0.3333333333333333,\"#9c179e\"],[0.4444444444444444,\"#bd3786\"],[0.5555555555555556,\"#d8576b\"],[0.6666666666666666,\"#ed7953\"],[0.7777777777777778,\"#fb9f3a\"],[0.8888888888888888,\"#fdca26\"],[1.0,\"#f0f921\"]],\"type\":\"contour\"}],\"heatmapgl\":[{\"colorbar\":{\"outlinewidth\":0,\"ticks\":\"\"},\"colorscale\":[[0.0,\"#0d0887\"],[0.1111111111111111,\"#46039f\"],[0.2222222222222222,\"#7201a8\"],[0.3333333333333333,\"#9c179e\"],[0.4444444444444444,\"#bd3786\"],[0.5555555555555556,\"#d8576b\"],[0.6666666666666666,\"#ed7953\"],[0.7777777777777778,\"#fb9f3a\"],[0.8888888888888888,\"#fdca26\"],[1.0,\"#f0f921\"]],\"type\":\"heatmapgl\"}],\"heatmap\":[{\"colorbar\":{\"outlinewidth\":0,\"ticks\":\"\"},\"colorscale\":[[0.0,\"#0d0887\"],[0.1111111111111111,\"#46039f\"],[0.2222222222222222,\"#7201a8\"],[0.3333333333333333,\"#9c179e\"],[0.4444444444444444,\"#bd3786\"],[0.5555555555555556,\"#d8576b\"],[0.6666666666666666,\"#ed7953\"],[0.7777777777777778,\"#fb9f3a\"],[0.8888888888888888,\"#fdca26\"],[1.0,\"#f0f921\"]],\"type\":\"heatmap\"}],\"histogram2dcontour\":[{\"colorbar\":{\"outlinewidth\":0,\"ticks\":\"\"},\"colorscale\":[[0.0,\"#0d0887\"],[0.1111111111111111,\"#46039f\"],[0.2222222222222222,\"#7201a8\"],[0.3333333333333333,\"#9c179e\"],[0.4444444444444444,\"#bd3786\"],[0.5555555555555556,\"#d8576b\"],[0.6666666666666666,\"#ed7953\"],[0.7777777777777778,\"#fb9f3a\"],[0.8888888888888888,\"#fdca26\"],[1.0,\"#f0f921\"]],\"type\":\"histogram2dcontour\"}],\"histogram2d\":[{\"colorbar\":{\"outlinewidth\":0,\"ticks\":\"\"},\"colorscale\":[[0.0,\"#0d0887\"],[0.1111111111111111,\"#46039f\"],[0.2222222222222222,\"#7201a8\"],[0.3333333333333333,\"#9c179e\"],[0.4444444444444444,\"#bd3786\"],[0.5555555555555556,\"#d8576b\"],[0.6666666666666666,\"#ed7953\"],[0.7777777777777778,\"#fb9f3a\"],[0.8888888888888888,\"#fdca26\"],[1.0,\"#f0f921\"]],\"type\":\"histogram2d\"}],\"histogram\":[{\"marker\":{\"pattern\":{\"fillmode\":\"overlay\",\"size\":10,\"solidity\":0.2}},\"type\":\"histogram\"}],\"mesh3d\":[{\"colorbar\":{\"outlinewidth\":0,\"ticks\":\"\"},\"type\":\"mesh3d\"}],\"parcoords\":[{\"line\":{\"colorbar\":{\"outlinewidth\":0,\"ticks\":\"\"}},\"type\":\"parcoords\"}],\"pie\":[{\"automargin\":true,\"type\":\"pie\"}],\"scatter3d\":[{\"line\":{\"colorbar\":{\"outlinewidth\":0,\"ticks\":\"\"}},\"marker\":{\"colorbar\":{\"outlinewidth\":0,\"ticks\":\"\"}},\"type\":\"scatter3d\"}],\"scattercarpet\":[{\"marker\":{\"colorbar\":{\"outlinewidth\":0,\"ticks\":\"\"}},\"type\":\"scattercarpet\"}],\"scattergeo\":[{\"marker\":{\"colorbar\":{\"outlinewidth\":0,\"ticks\":\"\"}},\"type\":\"scattergeo\"}],\"scattergl\":[{\"marker\":{\"colorbar\":{\"outlinewidth\":0,\"ticks\":\"\"}},\"type\":\"scattergl\"}],\"scattermapbox\":[{\"marker\":{\"colorbar\":{\"outlinewidth\":0,\"ticks\":\"\"}},\"type\":\"scattermapbox\"}],\"scatterpolargl\":[{\"marker\":{\"colorbar\":{\"outlinewidth\":0,\"ticks\":\"\"}},\"type\":\"scatterpolargl\"}],\"scatterpolar\":[{\"marker\":{\"colorbar\":{\"outlinewidth\":0,\"ticks\":\"\"}},\"type\":\"scatterpolar\"}],\"scatter\":[{\"fillpattern\":{\"fillmode\":\"overlay\",\"size\":10,\"solidity\":0.2},\"type\":\"scatter\"}],\"scatterternary\":[{\"marker\":{\"colorbar\":{\"outlinewidth\":0,\"ticks\":\"\"}},\"type\":\"scatterternary\"}],\"surface\":[{\"colorbar\":{\"outlinewidth\":0,\"ticks\":\"\"},\"colorscale\":[[0.0,\"#0d0887\"],[0.1111111111111111,\"#46039f\"],[0.2222222222222222,\"#7201a8\"],[0.3333333333333333,\"#9c179e\"],[0.4444444444444444,\"#bd3786\"],[0.5555555555555556,\"#d8576b\"],[0.6666666666666666,\"#ed7953\"],[0.7777777777777778,\"#fb9f3a\"],[0.8888888888888888,\"#fdca26\"],[1.0,\"#f0f921\"]],\"type\":\"surface\"}],\"table\":[{\"cells\":{\"fill\":{\"color\":\"#EBF0F8\"},\"line\":{\"color\":\"white\"}},\"header\":{\"fill\":{\"color\":\"#C8D4E3\"},\"line\":{\"color\":\"white\"}},\"type\":\"table\"}]},\"layout\":{\"annotationdefaults\":{\"arrowcolor\":\"#2a3f5f\",\"arrowhead\":0,\"arrowwidth\":1},\"autotypenumbers\":\"strict\",\"coloraxis\":{\"colorbar\":{\"outlinewidth\":0,\"ticks\":\"\"}},\"colorscale\":{\"diverging\":[[0,\"#8e0152\"],[0.1,\"#c51b7d\"],[0.2,\"#de77ae\"],[0.3,\"#f1b6da\"],[0.4,\"#fde0ef\"],[0.5,\"#f7f7f7\"],[0.6,\"#e6f5d0\"],[0.7,\"#b8e186\"],[0.8,\"#7fbc41\"],[0.9,\"#4d9221\"],[1,\"#276419\"]],\"sequential\":[[0.0,\"#0d0887\"],[0.1111111111111111,\"#46039f\"],[0.2222222222222222,\"#7201a8\"],[0.3333333333333333,\"#9c179e\"],[0.4444444444444444,\"#bd3786\"],[0.5555555555555556,\"#d8576b\"],[0.6666666666666666,\"#ed7953\"],[0.7777777777777778,\"#fb9f3a\"],[0.8888888888888888,\"#fdca26\"],[1.0,\"#f0f921\"]],\"sequentialminus\":[[0.0,\"#0d0887\"],[0.1111111111111111,\"#46039f\"],[0.2222222222222222,\"#7201a8\"],[0.3333333333333333,\"#9c179e\"],[0.4444444444444444,\"#bd3786\"],[0.5555555555555556,\"#d8576b\"],[0.6666666666666666,\"#ed7953\"],[0.7777777777777778,\"#fb9f3a\"],[0.8888888888888888,\"#fdca26\"],[1.0,\"#f0f921\"]]},\"colorway\":[\"#636efa\",\"#EF553B\",\"#00cc96\",\"#ab63fa\",\"#FFA15A\",\"#19d3f3\",\"#FF6692\",\"#B6E880\",\"#FF97FF\",\"#FECB52\"],\"font\":{\"color\":\"#2a3f5f\"},\"geo\":{\"bgcolor\":\"white\",\"lakecolor\":\"white\",\"landcolor\":\"#E5ECF6\",\"showlakes\":true,\"showland\":true,\"subunitcolor\":\"white\"},\"hoverlabel\":{\"align\":\"left\"},\"hovermode\":\"closest\",\"mapbox\":{\"style\":\"light\"},\"paper_bgcolor\":\"white\",\"plot_bgcolor\":\"#E5ECF6\",\"polar\":{\"angularaxis\":{\"gridcolor\":\"white\",\"linecolor\":\"white\",\"ticks\":\"\"},\"bgcolor\":\"#E5ECF6\",\"radialaxis\":{\"gridcolor\":\"white\",\"linecolor\":\"white\",\"ticks\":\"\"}},\"scene\":{\"xaxis\":{\"backgroundcolor\":\"#E5ECF6\",\"gridcolor\":\"white\",\"gridwidth\":2,\"linecolor\":\"white\",\"showbackground\":true,\"ticks\":\"\",\"zerolinecolor\":\"white\"},\"yaxis\":{\"backgroundcolor\":\"#E5ECF6\",\"gridcolor\":\"white\",\"gridwidth\":2,\"linecolor\":\"white\",\"showbackground\":true,\"ticks\":\"\",\"zerolinecolor\":\"white\"},\"zaxis\":{\"backgroundcolor\":\"#E5ECF6\",\"gridcolor\":\"white\",\"gridwidth\":2,\"linecolor\":\"white\",\"showbackground\":true,\"ticks\":\"\",\"zerolinecolor\":\"white\"}},\"shapedefaults\":{\"line\":{\"color\":\"#2a3f5f\"}},\"ternary\":{\"aaxis\":{\"gridcolor\":\"white\",\"linecolor\":\"white\",\"ticks\":\"\"},\"baxis\":{\"gridcolor\":\"white\",\"linecolor\":\"white\",\"ticks\":\"\"},\"bgcolor\":\"#E5ECF6\",\"caxis\":{\"gridcolor\":\"white\",\"linecolor\":\"white\",\"ticks\":\"\"}},\"title\":{\"x\":0.05},\"xaxis\":{\"automargin\":true,\"gridcolor\":\"white\",\"linecolor\":\"white\",\"ticks\":\"\",\"title\":{\"standoff\":15},\"zerolinecolor\":\"white\",\"zerolinewidth\":2},\"yaxis\":{\"automargin\":true,\"gridcolor\":\"white\",\"linecolor\":\"white\",\"ticks\":\"\",\"title\":{\"standoff\":15},\"zerolinecolor\":\"white\",\"zerolinewidth\":2}}},\"title\":{\"font\":{\"color\":\"#4D5663\"}},\"xaxis\":{\"gridcolor\":\"#E1E5ED\",\"showgrid\":true,\"tickfont\":{\"color\":\"#4D5663\"},\"title\":{\"font\":{\"color\":\"#4D5663\"},\"text\":\"\"},\"zerolinecolor\":\"#E1E5ED\"},\"yaxis\":{\"gridcolor\":\"#E1E5ED\",\"showgrid\":true,\"tickfont\":{\"color\":\"#4D5663\"},\"title\":{\"font\":{\"color\":\"#4D5663\"},\"text\":\"\"},\"zerolinecolor\":\"#E1E5ED\"}},                        {\"showLink\": true, \"linkText\": \"Export to plot.ly\", \"plotlyServerURL\": \"https://plot.ly\", \"responsive\": true}                    ).then(function(){\n",
       "                            \n",
       "var gd = document.getElementById('49fadb4a-85ca-44bf-ad38-1c1fedff089f');\n",
       "var x = new MutationObserver(function (mutations, observer) {{\n",
       "        var display = window.getComputedStyle(gd).display;\n",
       "        if (!display || display === 'none') {{\n",
       "            console.log([gd, 'removed!']);\n",
       "            Plotly.purge(gd);\n",
       "            observer.disconnect();\n",
       "        }}\n",
       "}});\n",
       "\n",
       "// Listen for the removal of the full notebook cells\n",
       "var notebookContainer = gd.closest('#notebook-container');\n",
       "if (notebookContainer) {{\n",
       "    x.observe(notebookContainer, {childList: true});\n",
       "}}\n",
       "\n",
       "// Listen for the clearing of the current output cell\n",
       "var outputEl = gd.closest('.output');\n",
       "if (outputEl) {{\n",
       "    x.observe(outputEl, {childList: true});\n",
       "}}\n",
       "\n",
       "                        })                };                });            </script>        </div>"
      ]
     },
     "metadata": {},
     "output_type": "display_data"
    }
   ],
   "source": [
    "df3.iplot(kind='surface',colorscale='rdylbu')"
   ]
  },
  {
   "cell_type": "code",
   "execution_count": 18,
   "id": "d2a93132",
   "metadata": {},
   "outputs": [
    {
     "data": {
      "application/vnd.plotly.v1+json": {
       "config": {
        "linkText": "Export to plot.ly",
        "plotlyServerURL": "https://plot.ly",
        "showLink": true
       },
       "data": [
        {
         "histfunc": "count",
         "histnorm": "",
         "marker": {
          "color": "rgba(255, 153, 51, 1.0)",
          "line": {
           "color": "#4D5663",
           "width": 1.3
          }
         },
         "name": "A",
         "opacity": 0.8,
         "orientation": "v",
         "type": "histogram",
         "x": [
          -1.5450841317171276,
          -1.413125498673202,
          0.9323209797782157,
          0.06948672060685748,
          -1.2523413495098872,
          -1.998523806904109,
          0.9190235994878402,
          -0.9119658333889711,
          0.48330895698670573,
          -0.18718041389695883,
          -1.4320101370003964,
          -1.0261708964009986,
          -0.2445512401393387,
          0.5509130159887102,
          -0.01880610498489131,
          -0.3314676127876932,
          -0.6148547025606768,
          0.5904187382004569,
          0.6079579957452251,
          1.029365744269441,
          0.37821917735715205,
          0.4853068362773339,
          -0.04114493743598664,
          0.8708159539648068,
          1.5460674411149098,
          -0.5519392483070829,
          -0.781020223747612,
          2.248475249081179,
          -0.7841092464880934,
          0.6982816726880846,
          -0.6817947425346943,
          -0.15254862845208006,
          0.08242693280174032,
          -0.6165766635482408,
          0.07344361303984231,
          -2.472226220100499,
          -0.7017642502166871,
          0.31867008055206325,
          -0.2599768591357568,
          0.1128594778484536,
          1.9546293514760582,
          1.599497463833276,
          1.0851296565292388,
          -1.467177738869882,
          1.6987782408729655,
          1.1983444774482184,
          0.3155444180406639,
          -0.08519293842820412,
          -0.2456642503023336,
          0.5499649604319629,
          -3.4739634005226576,
          -2.2523455597506286,
          0.6937969710072474,
          1.6141764343342464,
          1.0400077714625975,
          0.10041443115825265,
          -0.7097173257145293,
          1.4604101958038826,
          0.3293241651930765,
          -0.8538133138281813,
          1.0663441980793718,
          0.47825456546125206,
          -0.671842993091924,
          0.17989808836044138,
          -0.5713356174675095,
          -0.48417683159928776,
          -0.5958366995752875,
          0.440964769391051,
          -0.5094687351758517,
          1.850188864915357,
          1.8675119837627912,
          -0.7122251808699338,
          0.06639775250348316,
          -1.695337244452929,
          1.6820736210084517,
          2.1310945371850463,
          -2.0930601078406137,
          -1.770996043995373,
          1.1437543834138326,
          -1.0775717485533514,
          -1.2275856522468844,
          1.217560029308882,
          0.03026729574779826,
          -1.5261799364599762,
          -0.04317321966520327,
          0.4887696263728301,
          0.470451294595051,
          1.4973438747078496,
          0.03651730210198627,
          0.509467886559641,
          0.03914759134423157,
          1.1308562743625474,
          0.4847047628207645,
          -0.4818166423351334,
          -2.080158939342939,
          -0.3751305898439625,
          0.03069571986767242,
          -0.4639225567373533,
          -0.7047432345226364,
          0.5217812056163413
         ]
        },
        {
         "histfunc": "count",
         "histnorm": "",
         "marker": {
          "color": "rgba(55, 128, 191, 1.0)",
          "line": {
           "color": "#4D5663",
           "width": 1.3
          }
         },
         "name": "B",
         "opacity": 0.8,
         "orientation": "v",
         "type": "histogram",
         "x": [
          0.5560590486778653,
          -0.07793450560493444,
          1.4728014419360818,
          1.1841675005675982,
          0.03281836403183733,
          -0.6461553540733159,
          0.5986016228049653,
          -0.5717226512281799,
          -0.2747819332926034,
          0.49043949751220406,
          -1.1299777891524494,
          -0.1702095917006199,
          1.722509452732334,
          -0.10183571621992656,
          0.8098258836135469,
          -1.1063076830024827,
          0.057112964591251786,
          -1.6245497623720355,
          0.07215549241226307,
          -0.8894380820025064,
          -2.120833496107395,
          -0.08012739410150374,
          -0.591197681351182,
          0.5197983468505548,
          0.24142254317476586,
          1.7457988842999421,
          -1.1070059282786342,
          0.7913944754762602,
          -0.03914090883278507,
          0.6152536901853041,
          -0.05698167740111924,
          -0.27251337345567,
          -0.07551250464389586,
          -1.4975382351147017,
          -0.20273312933138704,
          2.3361653725747384,
          -0.5764544082758793,
          -1.1206284477949207,
          1.0803724020371084,
          0.9017473742656453,
          -0.02018976267946315,
          0.05347973046173759,
          -0.45391764829224956,
          -1.4044676816734702,
          -1.1989349494957657,
          -1.0866814888362737,
          1.3894900407927153,
          0.9162647371019855,
          0.4194940637068126,
          0.9034317144972939,
          -1.6191837646872886,
          0.006057610591446054,
          0.10132471015131193,
          -0.23082140302094117,
          -1.3083413724708712,
          -1.2795626813486651,
          0.062410142195700555,
          0.2875986079539208,
          0.9055903722191032,
          1.0916151451771925,
          -0.35317700404366503,
          -1.1509106118990473,
          0.23836868247584514,
          -1.3950447728820754,
          -1.5431027269159214,
          -0.7267103886216447,
          -2.918958189158711,
          0.3007783016160846,
          -0.1197534659473193,
          2.444338372746112,
          1.0811358025289786,
          0.3008412860349423,
          1.6118481390652135,
          -0.1653194027176514,
          0.5121512969539667,
          -1.500586263147276,
          -1.0521038617793856,
          1.6372159044057157,
          1.1839733648110073,
          0.05110509841795652,
          1.2103708240782325,
          -0.8098886634300432,
          0.6935184762736882,
          0.9200130974217491,
          0.2780698881923895,
          -0.43299394989872503,
          -0.7508110319139402,
          -0.014969382105271498,
          -1.6936832131901614,
          -2.183184500009131,
          0.009773417538940442,
          0.21650240127684667,
          -1.2321789658109623,
          -0.15811371811548136,
          0.520944239040899,
          0.360402959490052,
          0.8879887300703774,
          -0.18766955772960667,
          -0.23289851453897023,
          0.11653811732251271
         ]
        },
        {
         "histfunc": "count",
         "histnorm": "",
         "marker": {
          "color": "rgba(50, 171, 96, 1.0)",
          "line": {
           "color": "#4D5663",
           "width": 1.3
          }
         },
         "name": "C",
         "opacity": 0.8,
         "orientation": "v",
         "type": "histogram",
         "x": [
          1.142957461938206,
          -0.6806125573649034,
          -1.0227817586537609,
          -0.06175598305331198,
          -2.857119317247955,
          -0.8026156012737113,
          0.14515392990946177,
          1.820762759962793,
          1.7317910720259766,
          -0.5355827163986291,
          -0.013574750771533906,
          0.13444921194922171,
          0.352673207392984,
          1.0072621275292684,
          1.229927995555651,
          2.136042961479565,
          -1.1723228481945511,
          1.0089558589830174,
          1.3985559261362852,
          -0.8325731223361609,
          -1.1401256081516107,
          -0.26583330975252095,
          0.6387792414628685,
          -0.5429091362003327,
          -2.0922479775033054,
          -0.8988064239550476,
          0.6929996926165763,
          0.8818628623091056,
          0.6975676418472025,
          -0.8788684792105158,
          1.6631070617585046,
          -0.6034459243047794,
          0.38597173621564035,
          -1.523891568361597,
          -1.259879097422616,
          0.17990138581357046,
          0.10853064364027251,
          0.3813978177227395,
          -0.3707262444083515,
          0.1507286183195694,
          -0.03206019274931715,
          0.7623051414856427,
          0.4118501538568426,
          1.2688469535198004,
          -0.23414749329142184,
          -0.37638456750429633,
          -1.1939671783580035,
          -1.1365481945856537,
          1.117128111513842,
          0.4723068041592008,
          -0.28169481187048445,
          0.03544221389922512,
          -1.063811946630155,
          0.6352727159649894,
          -0.6451093744106224,
          -0.28087286275127066,
          -0.11830913064769166,
          -2.3170291871331234,
          1.8139784434024169,
          0.24672464871290536,
          0.8369353888227604,
          -2.1437155576396942,
          1.754309141274669,
          -0.007796820439026534,
          0.7853097874691335,
          0.21540818823607497,
          -0.9030716490254593,
          -0.28321721477595774,
          0.5595247854263092,
          0.0031414715485191635,
          -0.5380866274429242,
          -0.8809091716997429,
          -1.45373282111659,
          -0.51926920566855,
          0.14873266415102424,
          0.7888599874592507,
          -2.1025788190103274,
          0.17574153051825117,
          -0.9468737982747777,
          -0.9736085018597049,
          1.2450370590295512,
          -2.144827448404873,
          -1.4691766297117512,
          0.9599144161071922,
          0.15177961654430017,
          1.451066628687136,
          -0.8189034360839488,
          -1.5601601784344195,
          -0.3357026308645879,
          -0.11544518415754632,
          0.9714972848297608,
          -0.2831689584490962,
          1.5968106765083325,
          0.04953698066907284,
          0.6323746017216597,
          1.853814731873583,
          1.0547336444809297,
          1.2047613193245084,
          1.899387145980557,
          0.764393875336319
         ]
        },
        {
         "histfunc": "count",
         "histnorm": "",
         "marker": {
          "color": "rgba(128, 0, 128, 1.0)",
          "line": {
           "color": "#4D5663",
           "width": 1.3
          }
         },
         "name": "D",
         "opacity": 0.8,
         "orientation": "v",
         "type": "histogram",
         "x": [
          0.6636046017032086,
          -0.6826678579419522,
          0.6412989761567559,
          -1.5336201560910816,
          -3.0735978113266715,
          -0.4950015121392039,
          0.7227854040184063,
          -0.06021350561293821,
          -0.12416536813522329,
          1.9778048228648673,
          0.5633389809420963,
          0.5411563180282993,
          -0.42114275385464545,
          -0.7471470062784517,
          -1.3220558601645211,
          3.046616889305344,
          0.540553458484006,
          0.3517466555649153,
          0.9750666258851184,
          -1.877285662060283,
          1.4999838850754361,
          -0.7367262395859325,
          -0.3507399224979165,
          0.1458813972391933,
          -0.5666383467819421,
          -0.5850810319701142,
          0.698206429038685,
          -0.5308752434363585,
          0.043197033494854986,
          0.285808676977401,
          -0.0666281228286287,
          0.2190966997181222,
          0.9912177507573966,
          0.6767917629462028,
          -0.49298500634473946,
          1.268176424940927,
          -1.1719207677492396,
          2.022476073007396,
          0.42864837419088964,
          -1.3138253643244255,
          0.45642574016421283,
          -0.6626710733447282,
          0.7742876944256257,
          -0.3630554814665732,
          0.12421122839255876,
          -0.17281791359695634,
          1.4230929174675107,
          0.49355066858406377,
          1.0238261708187997,
          -0.10223960276495231,
          -0.9041740045931916,
          -1.0119978449638662,
          2.1630080727496757,
          1.254656380856612,
          -2.6660388378594884,
          -0.9777421327380746,
          1.067472644384756,
          -1.7242127848488038,
          -0.7947393609084901,
          0.97546616563427,
          0.46891172753877913,
          0.25938018055253853,
          0.8764022779236528,
          0.38430258464807754,
          1.174145616590082,
          0.25759815147608617,
          -1.7405595388297692,
          -0.4205321356222938,
          -0.849162893686231,
          0.12345242530678299,
          -0.10988663392928052,
          0.11420173092192624,
          0.5098330152516697,
          -0.8829850487515168,
          0.6074352104419615,
          -1.443868662604306,
          1.04937413180432,
          0.6537724159725903,
          0.5029296863520941,
          2.423710092601902,
          -1.4785653770372578,
          -1.4487117922977846,
          0.9588723637513975,
          -0.3231444498896284,
          -0.6180473746122097,
          0.6467849040614588,
          -1.5356285554458193,
          -1.342808655557535,
          0.23380153442864607,
          0.9406928117865758,
          0.33113596584484745,
          -0.6053287612428888,
          2.6812975316108987,
          1.5674687076974196,
          0.5669006248196585,
          0.9159915678356795,
          -0.41198763993783094,
          0.050642246241135704,
          -1.4167612286518538,
          -0.3277222022306663
         ]
        }
       ],
       "layout": {
        "barmode": "overlay",
        "legend": {
         "bgcolor": "#F5F6F9",
         "font": {
          "color": "#4D5663"
         }
        },
        "paper_bgcolor": "#F5F6F9",
        "plot_bgcolor": "#F5F6F9",
        "template": {
         "data": {
          "bar": [
           {
            "error_x": {
             "color": "#2a3f5f"
            },
            "error_y": {
             "color": "#2a3f5f"
            },
            "marker": {
             "line": {
              "color": "#E5ECF6",
              "width": 0.5
             },
             "pattern": {
              "fillmode": "overlay",
              "size": 10,
              "solidity": 0.2
             }
            },
            "type": "bar"
           }
          ],
          "barpolar": [
           {
            "marker": {
             "line": {
              "color": "#E5ECF6",
              "width": 0.5
             },
             "pattern": {
              "fillmode": "overlay",
              "size": 10,
              "solidity": 0.2
             }
            },
            "type": "barpolar"
           }
          ],
          "carpet": [
           {
            "aaxis": {
             "endlinecolor": "#2a3f5f",
             "gridcolor": "white",
             "linecolor": "white",
             "minorgridcolor": "white",
             "startlinecolor": "#2a3f5f"
            },
            "baxis": {
             "endlinecolor": "#2a3f5f",
             "gridcolor": "white",
             "linecolor": "white",
             "minorgridcolor": "white",
             "startlinecolor": "#2a3f5f"
            },
            "type": "carpet"
           }
          ],
          "choropleth": [
           {
            "colorbar": {
             "outlinewidth": 0,
             "ticks": ""
            },
            "type": "choropleth"
           }
          ],
          "contour": [
           {
            "colorbar": {
             "outlinewidth": 0,
             "ticks": ""
            },
            "colorscale": [
             [
              0,
              "#0d0887"
             ],
             [
              0.1111111111111111,
              "#46039f"
             ],
             [
              0.2222222222222222,
              "#7201a8"
             ],
             [
              0.3333333333333333,
              "#9c179e"
             ],
             [
              0.4444444444444444,
              "#bd3786"
             ],
             [
              0.5555555555555556,
              "#d8576b"
             ],
             [
              0.6666666666666666,
              "#ed7953"
             ],
             [
              0.7777777777777778,
              "#fb9f3a"
             ],
             [
              0.8888888888888888,
              "#fdca26"
             ],
             [
              1,
              "#f0f921"
             ]
            ],
            "type": "contour"
           }
          ],
          "contourcarpet": [
           {
            "colorbar": {
             "outlinewidth": 0,
             "ticks": ""
            },
            "type": "contourcarpet"
           }
          ],
          "heatmap": [
           {
            "colorbar": {
             "outlinewidth": 0,
             "ticks": ""
            },
            "colorscale": [
             [
              0,
              "#0d0887"
             ],
             [
              0.1111111111111111,
              "#46039f"
             ],
             [
              0.2222222222222222,
              "#7201a8"
             ],
             [
              0.3333333333333333,
              "#9c179e"
             ],
             [
              0.4444444444444444,
              "#bd3786"
             ],
             [
              0.5555555555555556,
              "#d8576b"
             ],
             [
              0.6666666666666666,
              "#ed7953"
             ],
             [
              0.7777777777777778,
              "#fb9f3a"
             ],
             [
              0.8888888888888888,
              "#fdca26"
             ],
             [
              1,
              "#f0f921"
             ]
            ],
            "type": "heatmap"
           }
          ],
          "heatmapgl": [
           {
            "colorbar": {
             "outlinewidth": 0,
             "ticks": ""
            },
            "colorscale": [
             [
              0,
              "#0d0887"
             ],
             [
              0.1111111111111111,
              "#46039f"
             ],
             [
              0.2222222222222222,
              "#7201a8"
             ],
             [
              0.3333333333333333,
              "#9c179e"
             ],
             [
              0.4444444444444444,
              "#bd3786"
             ],
             [
              0.5555555555555556,
              "#d8576b"
             ],
             [
              0.6666666666666666,
              "#ed7953"
             ],
             [
              0.7777777777777778,
              "#fb9f3a"
             ],
             [
              0.8888888888888888,
              "#fdca26"
             ],
             [
              1,
              "#f0f921"
             ]
            ],
            "type": "heatmapgl"
           }
          ],
          "histogram": [
           {
            "marker": {
             "pattern": {
              "fillmode": "overlay",
              "size": 10,
              "solidity": 0.2
             }
            },
            "type": "histogram"
           }
          ],
          "histogram2d": [
           {
            "colorbar": {
             "outlinewidth": 0,
             "ticks": ""
            },
            "colorscale": [
             [
              0,
              "#0d0887"
             ],
             [
              0.1111111111111111,
              "#46039f"
             ],
             [
              0.2222222222222222,
              "#7201a8"
             ],
             [
              0.3333333333333333,
              "#9c179e"
             ],
             [
              0.4444444444444444,
              "#bd3786"
             ],
             [
              0.5555555555555556,
              "#d8576b"
             ],
             [
              0.6666666666666666,
              "#ed7953"
             ],
             [
              0.7777777777777778,
              "#fb9f3a"
             ],
             [
              0.8888888888888888,
              "#fdca26"
             ],
             [
              1,
              "#f0f921"
             ]
            ],
            "type": "histogram2d"
           }
          ],
          "histogram2dcontour": [
           {
            "colorbar": {
             "outlinewidth": 0,
             "ticks": ""
            },
            "colorscale": [
             [
              0,
              "#0d0887"
             ],
             [
              0.1111111111111111,
              "#46039f"
             ],
             [
              0.2222222222222222,
              "#7201a8"
             ],
             [
              0.3333333333333333,
              "#9c179e"
             ],
             [
              0.4444444444444444,
              "#bd3786"
             ],
             [
              0.5555555555555556,
              "#d8576b"
             ],
             [
              0.6666666666666666,
              "#ed7953"
             ],
             [
              0.7777777777777778,
              "#fb9f3a"
             ],
             [
              0.8888888888888888,
              "#fdca26"
             ],
             [
              1,
              "#f0f921"
             ]
            ],
            "type": "histogram2dcontour"
           }
          ],
          "mesh3d": [
           {
            "colorbar": {
             "outlinewidth": 0,
             "ticks": ""
            },
            "type": "mesh3d"
           }
          ],
          "parcoords": [
           {
            "line": {
             "colorbar": {
              "outlinewidth": 0,
              "ticks": ""
             }
            },
            "type": "parcoords"
           }
          ],
          "pie": [
           {
            "automargin": true,
            "type": "pie"
           }
          ],
          "scatter": [
           {
            "fillpattern": {
             "fillmode": "overlay",
             "size": 10,
             "solidity": 0.2
            },
            "type": "scatter"
           }
          ],
          "scatter3d": [
           {
            "line": {
             "colorbar": {
              "outlinewidth": 0,
              "ticks": ""
             }
            },
            "marker": {
             "colorbar": {
              "outlinewidth": 0,
              "ticks": ""
             }
            },
            "type": "scatter3d"
           }
          ],
          "scattercarpet": [
           {
            "marker": {
             "colorbar": {
              "outlinewidth": 0,
              "ticks": ""
             }
            },
            "type": "scattercarpet"
           }
          ],
          "scattergeo": [
           {
            "marker": {
             "colorbar": {
              "outlinewidth": 0,
              "ticks": ""
             }
            },
            "type": "scattergeo"
           }
          ],
          "scattergl": [
           {
            "marker": {
             "colorbar": {
              "outlinewidth": 0,
              "ticks": ""
             }
            },
            "type": "scattergl"
           }
          ],
          "scattermapbox": [
           {
            "marker": {
             "colorbar": {
              "outlinewidth": 0,
              "ticks": ""
             }
            },
            "type": "scattermapbox"
           }
          ],
          "scatterpolar": [
           {
            "marker": {
             "colorbar": {
              "outlinewidth": 0,
              "ticks": ""
             }
            },
            "type": "scatterpolar"
           }
          ],
          "scatterpolargl": [
           {
            "marker": {
             "colorbar": {
              "outlinewidth": 0,
              "ticks": ""
             }
            },
            "type": "scatterpolargl"
           }
          ],
          "scatterternary": [
           {
            "marker": {
             "colorbar": {
              "outlinewidth": 0,
              "ticks": ""
             }
            },
            "type": "scatterternary"
           }
          ],
          "surface": [
           {
            "colorbar": {
             "outlinewidth": 0,
             "ticks": ""
            },
            "colorscale": [
             [
              0,
              "#0d0887"
             ],
             [
              0.1111111111111111,
              "#46039f"
             ],
             [
              0.2222222222222222,
              "#7201a8"
             ],
             [
              0.3333333333333333,
              "#9c179e"
             ],
             [
              0.4444444444444444,
              "#bd3786"
             ],
             [
              0.5555555555555556,
              "#d8576b"
             ],
             [
              0.6666666666666666,
              "#ed7953"
             ],
             [
              0.7777777777777778,
              "#fb9f3a"
             ],
             [
              0.8888888888888888,
              "#fdca26"
             ],
             [
              1,
              "#f0f921"
             ]
            ],
            "type": "surface"
           }
          ],
          "table": [
           {
            "cells": {
             "fill": {
              "color": "#EBF0F8"
             },
             "line": {
              "color": "white"
             }
            },
            "header": {
             "fill": {
              "color": "#C8D4E3"
             },
             "line": {
              "color": "white"
             }
            },
            "type": "table"
           }
          ]
         },
         "layout": {
          "annotationdefaults": {
           "arrowcolor": "#2a3f5f",
           "arrowhead": 0,
           "arrowwidth": 1
          },
          "autotypenumbers": "strict",
          "coloraxis": {
           "colorbar": {
            "outlinewidth": 0,
            "ticks": ""
           }
          },
          "colorscale": {
           "diverging": [
            [
             0,
             "#8e0152"
            ],
            [
             0.1,
             "#c51b7d"
            ],
            [
             0.2,
             "#de77ae"
            ],
            [
             0.3,
             "#f1b6da"
            ],
            [
             0.4,
             "#fde0ef"
            ],
            [
             0.5,
             "#f7f7f7"
            ],
            [
             0.6,
             "#e6f5d0"
            ],
            [
             0.7,
             "#b8e186"
            ],
            [
             0.8,
             "#7fbc41"
            ],
            [
             0.9,
             "#4d9221"
            ],
            [
             1,
             "#276419"
            ]
           ],
           "sequential": [
            [
             0,
             "#0d0887"
            ],
            [
             0.1111111111111111,
             "#46039f"
            ],
            [
             0.2222222222222222,
             "#7201a8"
            ],
            [
             0.3333333333333333,
             "#9c179e"
            ],
            [
             0.4444444444444444,
             "#bd3786"
            ],
            [
             0.5555555555555556,
             "#d8576b"
            ],
            [
             0.6666666666666666,
             "#ed7953"
            ],
            [
             0.7777777777777778,
             "#fb9f3a"
            ],
            [
             0.8888888888888888,
             "#fdca26"
            ],
            [
             1,
             "#f0f921"
            ]
           ],
           "sequentialminus": [
            [
             0,
             "#0d0887"
            ],
            [
             0.1111111111111111,
             "#46039f"
            ],
            [
             0.2222222222222222,
             "#7201a8"
            ],
            [
             0.3333333333333333,
             "#9c179e"
            ],
            [
             0.4444444444444444,
             "#bd3786"
            ],
            [
             0.5555555555555556,
             "#d8576b"
            ],
            [
             0.6666666666666666,
             "#ed7953"
            ],
            [
             0.7777777777777778,
             "#fb9f3a"
            ],
            [
             0.8888888888888888,
             "#fdca26"
            ],
            [
             1,
             "#f0f921"
            ]
           ]
          },
          "colorway": [
           "#636efa",
           "#EF553B",
           "#00cc96",
           "#ab63fa",
           "#FFA15A",
           "#19d3f3",
           "#FF6692",
           "#B6E880",
           "#FF97FF",
           "#FECB52"
          ],
          "font": {
           "color": "#2a3f5f"
          },
          "geo": {
           "bgcolor": "white",
           "lakecolor": "white",
           "landcolor": "#E5ECF6",
           "showlakes": true,
           "showland": true,
           "subunitcolor": "white"
          },
          "hoverlabel": {
           "align": "left"
          },
          "hovermode": "closest",
          "mapbox": {
           "style": "light"
          },
          "paper_bgcolor": "white",
          "plot_bgcolor": "#E5ECF6",
          "polar": {
           "angularaxis": {
            "gridcolor": "white",
            "linecolor": "white",
            "ticks": ""
           },
           "bgcolor": "#E5ECF6",
           "radialaxis": {
            "gridcolor": "white",
            "linecolor": "white",
            "ticks": ""
           }
          },
          "scene": {
           "xaxis": {
            "backgroundcolor": "#E5ECF6",
            "gridcolor": "white",
            "gridwidth": 2,
            "linecolor": "white",
            "showbackground": true,
            "ticks": "",
            "zerolinecolor": "white"
           },
           "yaxis": {
            "backgroundcolor": "#E5ECF6",
            "gridcolor": "white",
            "gridwidth": 2,
            "linecolor": "white",
            "showbackground": true,
            "ticks": "",
            "zerolinecolor": "white"
           },
           "zaxis": {
            "backgroundcolor": "#E5ECF6",
            "gridcolor": "white",
            "gridwidth": 2,
            "linecolor": "white",
            "showbackground": true,
            "ticks": "",
            "zerolinecolor": "white"
           }
          },
          "shapedefaults": {
           "line": {
            "color": "#2a3f5f"
           }
          },
          "ternary": {
           "aaxis": {
            "gridcolor": "white",
            "linecolor": "white",
            "ticks": ""
           },
           "baxis": {
            "gridcolor": "white",
            "linecolor": "white",
            "ticks": ""
           },
           "bgcolor": "#E5ECF6",
           "caxis": {
            "gridcolor": "white",
            "linecolor": "white",
            "ticks": ""
           }
          },
          "title": {
           "x": 0.05
          },
          "xaxis": {
           "automargin": true,
           "gridcolor": "white",
           "linecolor": "white",
           "ticks": "",
           "title": {
            "standoff": 15
           },
           "zerolinecolor": "white",
           "zerolinewidth": 2
          },
          "yaxis": {
           "automargin": true,
           "gridcolor": "white",
           "linecolor": "white",
           "ticks": "",
           "title": {
            "standoff": 15
           },
           "zerolinecolor": "white",
           "zerolinewidth": 2
          }
         }
        },
        "title": {
         "font": {
          "color": "#4D5663"
         }
        },
        "xaxis": {
         "gridcolor": "#E1E5ED",
         "showgrid": true,
         "tickfont": {
          "color": "#4D5663"
         },
         "title": {
          "font": {
           "color": "#4D5663"
          },
          "text": ""
         },
         "zerolinecolor": "#E1E5ED"
        },
        "yaxis": {
         "gridcolor": "#E1E5ED",
         "showgrid": true,
         "tickfont": {
          "color": "#4D5663"
         },
         "title": {
          "font": {
           "color": "#4D5663"
          },
          "text": ""
         },
         "zerolinecolor": "#E1E5ED"
        }
       }
      },
      "text/html": [
       "<div>                            <div id=\"65f8f1f8-ab17-42e3-87a4-fe05c7c62b5f\" class=\"plotly-graph-div\" style=\"height:525px; width:100%;\"></div>            <script type=\"text/javascript\">                require([\"plotly\"], function(Plotly) {                    window.PLOTLYENV=window.PLOTLYENV || {};\n",
       "                    window.PLOTLYENV.BASE_URL='https://plot.ly';                                    if (document.getElementById(\"65f8f1f8-ab17-42e3-87a4-fe05c7c62b5f\")) {                    Plotly.newPlot(                        \"65f8f1f8-ab17-42e3-87a4-fe05c7c62b5f\",                        [{\"histfunc\":\"count\",\"histnorm\":\"\",\"marker\":{\"color\":\"rgba(255, 153, 51, 1.0)\",\"line\":{\"color\":\"#4D5663\",\"width\":1.3}},\"name\":\"A\",\"opacity\":0.8,\"orientation\":\"v\",\"x\":[-1.5450841317171276,-1.413125498673202,0.9323209797782157,0.06948672060685748,-1.2523413495098872,-1.998523806904109,0.9190235994878402,-0.9119658333889711,0.48330895698670573,-0.18718041389695883,-1.4320101370003964,-1.0261708964009986,-0.2445512401393387,0.5509130159887102,-0.01880610498489131,-0.3314676127876932,-0.6148547025606768,0.5904187382004569,0.6079579957452251,1.029365744269441,0.37821917735715205,0.4853068362773339,-0.04114493743598664,0.8708159539648068,1.5460674411149098,-0.5519392483070829,-0.781020223747612,2.248475249081179,-0.7841092464880934,0.6982816726880846,-0.6817947425346943,-0.15254862845208006,0.08242693280174032,-0.6165766635482408,0.07344361303984231,-2.472226220100499,-0.7017642502166871,0.31867008055206325,-0.2599768591357568,0.1128594778484536,1.9546293514760582,1.599497463833276,1.0851296565292388,-1.467177738869882,1.6987782408729655,1.1983444774482184,0.3155444180406639,-0.08519293842820412,-0.2456642503023336,0.5499649604319629,-3.4739634005226576,-2.2523455597506286,0.6937969710072474,1.6141764343342464,1.0400077714625975,0.10041443115825265,-0.7097173257145293,1.4604101958038826,0.3293241651930765,-0.8538133138281813,1.0663441980793718,0.47825456546125206,-0.671842993091924,0.17989808836044138,-0.5713356174675095,-0.48417683159928776,-0.5958366995752875,0.440964769391051,-0.5094687351758517,1.850188864915357,1.8675119837627912,-0.7122251808699338,0.06639775250348316,-1.695337244452929,1.6820736210084517,2.1310945371850463,-2.0930601078406137,-1.770996043995373,1.1437543834138326,-1.0775717485533514,-1.2275856522468844,1.217560029308882,0.03026729574779826,-1.5261799364599762,-0.04317321966520327,0.4887696263728301,0.470451294595051,1.4973438747078496,0.03651730210198627,0.509467886559641,0.03914759134423157,1.1308562743625474,0.4847047628207645,-0.4818166423351334,-2.080158939342939,-0.3751305898439625,0.03069571986767242,-0.4639225567373533,-0.7047432345226364,0.5217812056163413],\"type\":\"histogram\"},{\"histfunc\":\"count\",\"histnorm\":\"\",\"marker\":{\"color\":\"rgba(55, 128, 191, 1.0)\",\"line\":{\"color\":\"#4D5663\",\"width\":1.3}},\"name\":\"B\",\"opacity\":0.8,\"orientation\":\"v\",\"x\":[0.5560590486778653,-0.07793450560493444,1.4728014419360818,1.1841675005675982,0.03281836403183733,-0.6461553540733159,0.5986016228049653,-0.5717226512281799,-0.2747819332926034,0.49043949751220406,-1.1299777891524494,-0.1702095917006199,1.722509452732334,-0.10183571621992656,0.8098258836135469,-1.1063076830024827,0.057112964591251786,-1.6245497623720355,0.07215549241226307,-0.8894380820025064,-2.120833496107395,-0.08012739410150374,-0.591197681351182,0.5197983468505548,0.24142254317476586,1.7457988842999421,-1.1070059282786342,0.7913944754762602,-0.03914090883278507,0.6152536901853041,-0.05698167740111924,-0.27251337345567,-0.07551250464389586,-1.4975382351147017,-0.20273312933138704,2.3361653725747384,-0.5764544082758793,-1.1206284477949207,1.0803724020371084,0.9017473742656453,-0.02018976267946315,0.05347973046173759,-0.45391764829224956,-1.4044676816734702,-1.1989349494957657,-1.0866814888362737,1.3894900407927153,0.9162647371019855,0.4194940637068126,0.9034317144972939,-1.6191837646872886,0.006057610591446054,0.10132471015131193,-0.23082140302094117,-1.3083413724708712,-1.2795626813486651,0.062410142195700555,0.2875986079539208,0.9055903722191032,1.0916151451771925,-0.35317700404366503,-1.1509106118990473,0.23836868247584514,-1.3950447728820754,-1.5431027269159214,-0.7267103886216447,-2.918958189158711,0.3007783016160846,-0.1197534659473193,2.444338372746112,1.0811358025289786,0.3008412860349423,1.6118481390652135,-0.1653194027176514,0.5121512969539667,-1.500586263147276,-1.0521038617793856,1.6372159044057157,1.1839733648110073,0.05110509841795652,1.2103708240782325,-0.8098886634300432,0.6935184762736882,0.9200130974217491,0.2780698881923895,-0.43299394989872503,-0.7508110319139402,-0.014969382105271498,-1.6936832131901614,-2.183184500009131,0.009773417538940442,0.21650240127684667,-1.2321789658109623,-0.15811371811548136,0.520944239040899,0.360402959490052,0.8879887300703774,-0.18766955772960667,-0.23289851453897023,0.11653811732251271],\"type\":\"histogram\"},{\"histfunc\":\"count\",\"histnorm\":\"\",\"marker\":{\"color\":\"rgba(50, 171, 96, 1.0)\",\"line\":{\"color\":\"#4D5663\",\"width\":1.3}},\"name\":\"C\",\"opacity\":0.8,\"orientation\":\"v\",\"x\":[1.142957461938206,-0.6806125573649034,-1.0227817586537609,-0.06175598305331198,-2.857119317247955,-0.8026156012737113,0.14515392990946177,1.820762759962793,1.7317910720259766,-0.5355827163986291,-0.013574750771533906,0.13444921194922171,0.352673207392984,1.0072621275292684,1.229927995555651,2.136042961479565,-1.1723228481945511,1.0089558589830174,1.3985559261362852,-0.8325731223361609,-1.1401256081516107,-0.26583330975252095,0.6387792414628685,-0.5429091362003327,-2.0922479775033054,-0.8988064239550476,0.6929996926165763,0.8818628623091056,0.6975676418472025,-0.8788684792105158,1.6631070617585046,-0.6034459243047794,0.38597173621564035,-1.523891568361597,-1.259879097422616,0.17990138581357046,0.10853064364027251,0.3813978177227395,-0.3707262444083515,0.1507286183195694,-0.03206019274931715,0.7623051414856427,0.4118501538568426,1.2688469535198004,-0.23414749329142184,-0.37638456750429633,-1.1939671783580035,-1.1365481945856537,1.117128111513842,0.4723068041592008,-0.28169481187048445,0.03544221389922512,-1.063811946630155,0.6352727159649894,-0.6451093744106224,-0.28087286275127066,-0.11830913064769166,-2.3170291871331234,1.8139784434024169,0.24672464871290536,0.8369353888227604,-2.1437155576396942,1.754309141274669,-0.007796820439026534,0.7853097874691335,0.21540818823607497,-0.9030716490254593,-0.28321721477595774,0.5595247854263092,0.0031414715485191635,-0.5380866274429242,-0.8809091716997429,-1.45373282111659,-0.51926920566855,0.14873266415102424,0.7888599874592507,-2.1025788190103274,0.17574153051825117,-0.9468737982747777,-0.9736085018597049,1.2450370590295512,-2.144827448404873,-1.4691766297117512,0.9599144161071922,0.15177961654430017,1.451066628687136,-0.8189034360839488,-1.5601601784344195,-0.3357026308645879,-0.11544518415754632,0.9714972848297608,-0.2831689584490962,1.5968106765083325,0.04953698066907284,0.6323746017216597,1.853814731873583,1.0547336444809297,1.2047613193245084,1.899387145980557,0.764393875336319],\"type\":\"histogram\"},{\"histfunc\":\"count\",\"histnorm\":\"\",\"marker\":{\"color\":\"rgba(128, 0, 128, 1.0)\",\"line\":{\"color\":\"#4D5663\",\"width\":1.3}},\"name\":\"D\",\"opacity\":0.8,\"orientation\":\"v\",\"x\":[0.6636046017032086,-0.6826678579419522,0.6412989761567559,-1.5336201560910816,-3.0735978113266715,-0.4950015121392039,0.7227854040184063,-0.06021350561293821,-0.12416536813522329,1.9778048228648673,0.5633389809420963,0.5411563180282993,-0.42114275385464545,-0.7471470062784517,-1.3220558601645211,3.046616889305344,0.540553458484006,0.3517466555649153,0.9750666258851184,-1.877285662060283,1.4999838850754361,-0.7367262395859325,-0.3507399224979165,0.1458813972391933,-0.5666383467819421,-0.5850810319701142,0.698206429038685,-0.5308752434363585,0.043197033494854986,0.285808676977401,-0.0666281228286287,0.2190966997181222,0.9912177507573966,0.6767917629462028,-0.49298500634473946,1.268176424940927,-1.1719207677492396,2.022476073007396,0.42864837419088964,-1.3138253643244255,0.45642574016421283,-0.6626710733447282,0.7742876944256257,-0.3630554814665732,0.12421122839255876,-0.17281791359695634,1.4230929174675107,0.49355066858406377,1.0238261708187997,-0.10223960276495231,-0.9041740045931916,-1.0119978449638662,2.1630080727496757,1.254656380856612,-2.6660388378594884,-0.9777421327380746,1.067472644384756,-1.7242127848488038,-0.7947393609084901,0.97546616563427,0.46891172753877913,0.25938018055253853,0.8764022779236528,0.38430258464807754,1.174145616590082,0.25759815147608617,-1.7405595388297692,-0.4205321356222938,-0.849162893686231,0.12345242530678299,-0.10988663392928052,0.11420173092192624,0.5098330152516697,-0.8829850487515168,0.6074352104419615,-1.443868662604306,1.04937413180432,0.6537724159725903,0.5029296863520941,2.423710092601902,-1.4785653770372578,-1.4487117922977846,0.9588723637513975,-0.3231444498896284,-0.6180473746122097,0.6467849040614588,-1.5356285554458193,-1.342808655557535,0.23380153442864607,0.9406928117865758,0.33113596584484745,-0.6053287612428888,2.6812975316108987,1.5674687076974196,0.5669006248196585,0.9159915678356795,-0.41198763993783094,0.050642246241135704,-1.4167612286518538,-0.3277222022306663],\"type\":\"histogram\"}],                        {\"barmode\":\"overlay\",\"legend\":{\"bgcolor\":\"#F5F6F9\",\"font\":{\"color\":\"#4D5663\"}},\"paper_bgcolor\":\"#F5F6F9\",\"plot_bgcolor\":\"#F5F6F9\",\"template\":{\"data\":{\"barpolar\":[{\"marker\":{\"line\":{\"color\":\"#E5ECF6\",\"width\":0.5},\"pattern\":{\"fillmode\":\"overlay\",\"size\":10,\"solidity\":0.2}},\"type\":\"barpolar\"}],\"bar\":[{\"error_x\":{\"color\":\"#2a3f5f\"},\"error_y\":{\"color\":\"#2a3f5f\"},\"marker\":{\"line\":{\"color\":\"#E5ECF6\",\"width\":0.5},\"pattern\":{\"fillmode\":\"overlay\",\"size\":10,\"solidity\":0.2}},\"type\":\"bar\"}],\"carpet\":[{\"aaxis\":{\"endlinecolor\":\"#2a3f5f\",\"gridcolor\":\"white\",\"linecolor\":\"white\",\"minorgridcolor\":\"white\",\"startlinecolor\":\"#2a3f5f\"},\"baxis\":{\"endlinecolor\":\"#2a3f5f\",\"gridcolor\":\"white\",\"linecolor\":\"white\",\"minorgridcolor\":\"white\",\"startlinecolor\":\"#2a3f5f\"},\"type\":\"carpet\"}],\"choropleth\":[{\"colorbar\":{\"outlinewidth\":0,\"ticks\":\"\"},\"type\":\"choropleth\"}],\"contourcarpet\":[{\"colorbar\":{\"outlinewidth\":0,\"ticks\":\"\"},\"type\":\"contourcarpet\"}],\"contour\":[{\"colorbar\":{\"outlinewidth\":0,\"ticks\":\"\"},\"colorscale\":[[0.0,\"#0d0887\"],[0.1111111111111111,\"#46039f\"],[0.2222222222222222,\"#7201a8\"],[0.3333333333333333,\"#9c179e\"],[0.4444444444444444,\"#bd3786\"],[0.5555555555555556,\"#d8576b\"],[0.6666666666666666,\"#ed7953\"],[0.7777777777777778,\"#fb9f3a\"],[0.8888888888888888,\"#fdca26\"],[1.0,\"#f0f921\"]],\"type\":\"contour\"}],\"heatmapgl\":[{\"colorbar\":{\"outlinewidth\":0,\"ticks\":\"\"},\"colorscale\":[[0.0,\"#0d0887\"],[0.1111111111111111,\"#46039f\"],[0.2222222222222222,\"#7201a8\"],[0.3333333333333333,\"#9c179e\"],[0.4444444444444444,\"#bd3786\"],[0.5555555555555556,\"#d8576b\"],[0.6666666666666666,\"#ed7953\"],[0.7777777777777778,\"#fb9f3a\"],[0.8888888888888888,\"#fdca26\"],[1.0,\"#f0f921\"]],\"type\":\"heatmapgl\"}],\"heatmap\":[{\"colorbar\":{\"outlinewidth\":0,\"ticks\":\"\"},\"colorscale\":[[0.0,\"#0d0887\"],[0.1111111111111111,\"#46039f\"],[0.2222222222222222,\"#7201a8\"],[0.3333333333333333,\"#9c179e\"],[0.4444444444444444,\"#bd3786\"],[0.5555555555555556,\"#d8576b\"],[0.6666666666666666,\"#ed7953\"],[0.7777777777777778,\"#fb9f3a\"],[0.8888888888888888,\"#fdca26\"],[1.0,\"#f0f921\"]],\"type\":\"heatmap\"}],\"histogram2dcontour\":[{\"colorbar\":{\"outlinewidth\":0,\"ticks\":\"\"},\"colorscale\":[[0.0,\"#0d0887\"],[0.1111111111111111,\"#46039f\"],[0.2222222222222222,\"#7201a8\"],[0.3333333333333333,\"#9c179e\"],[0.4444444444444444,\"#bd3786\"],[0.5555555555555556,\"#d8576b\"],[0.6666666666666666,\"#ed7953\"],[0.7777777777777778,\"#fb9f3a\"],[0.8888888888888888,\"#fdca26\"],[1.0,\"#f0f921\"]],\"type\":\"histogram2dcontour\"}],\"histogram2d\":[{\"colorbar\":{\"outlinewidth\":0,\"ticks\":\"\"},\"colorscale\":[[0.0,\"#0d0887\"],[0.1111111111111111,\"#46039f\"],[0.2222222222222222,\"#7201a8\"],[0.3333333333333333,\"#9c179e\"],[0.4444444444444444,\"#bd3786\"],[0.5555555555555556,\"#d8576b\"],[0.6666666666666666,\"#ed7953\"],[0.7777777777777778,\"#fb9f3a\"],[0.8888888888888888,\"#fdca26\"],[1.0,\"#f0f921\"]],\"type\":\"histogram2d\"}],\"histogram\":[{\"marker\":{\"pattern\":{\"fillmode\":\"overlay\",\"size\":10,\"solidity\":0.2}},\"type\":\"histogram\"}],\"mesh3d\":[{\"colorbar\":{\"outlinewidth\":0,\"ticks\":\"\"},\"type\":\"mesh3d\"}],\"parcoords\":[{\"line\":{\"colorbar\":{\"outlinewidth\":0,\"ticks\":\"\"}},\"type\":\"parcoords\"}],\"pie\":[{\"automargin\":true,\"type\":\"pie\"}],\"scatter3d\":[{\"line\":{\"colorbar\":{\"outlinewidth\":0,\"ticks\":\"\"}},\"marker\":{\"colorbar\":{\"outlinewidth\":0,\"ticks\":\"\"}},\"type\":\"scatter3d\"}],\"scattercarpet\":[{\"marker\":{\"colorbar\":{\"outlinewidth\":0,\"ticks\":\"\"}},\"type\":\"scattercarpet\"}],\"scattergeo\":[{\"marker\":{\"colorbar\":{\"outlinewidth\":0,\"ticks\":\"\"}},\"type\":\"scattergeo\"}],\"scattergl\":[{\"marker\":{\"colorbar\":{\"outlinewidth\":0,\"ticks\":\"\"}},\"type\":\"scattergl\"}],\"scattermapbox\":[{\"marker\":{\"colorbar\":{\"outlinewidth\":0,\"ticks\":\"\"}},\"type\":\"scattermapbox\"}],\"scatterpolargl\":[{\"marker\":{\"colorbar\":{\"outlinewidth\":0,\"ticks\":\"\"}},\"type\":\"scatterpolargl\"}],\"scatterpolar\":[{\"marker\":{\"colorbar\":{\"outlinewidth\":0,\"ticks\":\"\"}},\"type\":\"scatterpolar\"}],\"scatter\":[{\"fillpattern\":{\"fillmode\":\"overlay\",\"size\":10,\"solidity\":0.2},\"type\":\"scatter\"}],\"scatterternary\":[{\"marker\":{\"colorbar\":{\"outlinewidth\":0,\"ticks\":\"\"}},\"type\":\"scatterternary\"}],\"surface\":[{\"colorbar\":{\"outlinewidth\":0,\"ticks\":\"\"},\"colorscale\":[[0.0,\"#0d0887\"],[0.1111111111111111,\"#46039f\"],[0.2222222222222222,\"#7201a8\"],[0.3333333333333333,\"#9c179e\"],[0.4444444444444444,\"#bd3786\"],[0.5555555555555556,\"#d8576b\"],[0.6666666666666666,\"#ed7953\"],[0.7777777777777778,\"#fb9f3a\"],[0.8888888888888888,\"#fdca26\"],[1.0,\"#f0f921\"]],\"type\":\"surface\"}],\"table\":[{\"cells\":{\"fill\":{\"color\":\"#EBF0F8\"},\"line\":{\"color\":\"white\"}},\"header\":{\"fill\":{\"color\":\"#C8D4E3\"},\"line\":{\"color\":\"white\"}},\"type\":\"table\"}]},\"layout\":{\"annotationdefaults\":{\"arrowcolor\":\"#2a3f5f\",\"arrowhead\":0,\"arrowwidth\":1},\"autotypenumbers\":\"strict\",\"coloraxis\":{\"colorbar\":{\"outlinewidth\":0,\"ticks\":\"\"}},\"colorscale\":{\"diverging\":[[0,\"#8e0152\"],[0.1,\"#c51b7d\"],[0.2,\"#de77ae\"],[0.3,\"#f1b6da\"],[0.4,\"#fde0ef\"],[0.5,\"#f7f7f7\"],[0.6,\"#e6f5d0\"],[0.7,\"#b8e186\"],[0.8,\"#7fbc41\"],[0.9,\"#4d9221\"],[1,\"#276419\"]],\"sequential\":[[0.0,\"#0d0887\"],[0.1111111111111111,\"#46039f\"],[0.2222222222222222,\"#7201a8\"],[0.3333333333333333,\"#9c179e\"],[0.4444444444444444,\"#bd3786\"],[0.5555555555555556,\"#d8576b\"],[0.6666666666666666,\"#ed7953\"],[0.7777777777777778,\"#fb9f3a\"],[0.8888888888888888,\"#fdca26\"],[1.0,\"#f0f921\"]],\"sequentialminus\":[[0.0,\"#0d0887\"],[0.1111111111111111,\"#46039f\"],[0.2222222222222222,\"#7201a8\"],[0.3333333333333333,\"#9c179e\"],[0.4444444444444444,\"#bd3786\"],[0.5555555555555556,\"#d8576b\"],[0.6666666666666666,\"#ed7953\"],[0.7777777777777778,\"#fb9f3a\"],[0.8888888888888888,\"#fdca26\"],[1.0,\"#f0f921\"]]},\"colorway\":[\"#636efa\",\"#EF553B\",\"#00cc96\",\"#ab63fa\",\"#FFA15A\",\"#19d3f3\",\"#FF6692\",\"#B6E880\",\"#FF97FF\",\"#FECB52\"],\"font\":{\"color\":\"#2a3f5f\"},\"geo\":{\"bgcolor\":\"white\",\"lakecolor\":\"white\",\"landcolor\":\"#E5ECF6\",\"showlakes\":true,\"showland\":true,\"subunitcolor\":\"white\"},\"hoverlabel\":{\"align\":\"left\"},\"hovermode\":\"closest\",\"mapbox\":{\"style\":\"light\"},\"paper_bgcolor\":\"white\",\"plot_bgcolor\":\"#E5ECF6\",\"polar\":{\"angularaxis\":{\"gridcolor\":\"white\",\"linecolor\":\"white\",\"ticks\":\"\"},\"bgcolor\":\"#E5ECF6\",\"radialaxis\":{\"gridcolor\":\"white\",\"linecolor\":\"white\",\"ticks\":\"\"}},\"scene\":{\"xaxis\":{\"backgroundcolor\":\"#E5ECF6\",\"gridcolor\":\"white\",\"gridwidth\":2,\"linecolor\":\"white\",\"showbackground\":true,\"ticks\":\"\",\"zerolinecolor\":\"white\"},\"yaxis\":{\"backgroundcolor\":\"#E5ECF6\",\"gridcolor\":\"white\",\"gridwidth\":2,\"linecolor\":\"white\",\"showbackground\":true,\"ticks\":\"\",\"zerolinecolor\":\"white\"},\"zaxis\":{\"backgroundcolor\":\"#E5ECF6\",\"gridcolor\":\"white\",\"gridwidth\":2,\"linecolor\":\"white\",\"showbackground\":true,\"ticks\":\"\",\"zerolinecolor\":\"white\"}},\"shapedefaults\":{\"line\":{\"color\":\"#2a3f5f\"}},\"ternary\":{\"aaxis\":{\"gridcolor\":\"white\",\"linecolor\":\"white\",\"ticks\":\"\"},\"baxis\":{\"gridcolor\":\"white\",\"linecolor\":\"white\",\"ticks\":\"\"},\"bgcolor\":\"#E5ECF6\",\"caxis\":{\"gridcolor\":\"white\",\"linecolor\":\"white\",\"ticks\":\"\"}},\"title\":{\"x\":0.05},\"xaxis\":{\"automargin\":true,\"gridcolor\":\"white\",\"linecolor\":\"white\",\"ticks\":\"\",\"title\":{\"standoff\":15},\"zerolinecolor\":\"white\",\"zerolinewidth\":2},\"yaxis\":{\"automargin\":true,\"gridcolor\":\"white\",\"linecolor\":\"white\",\"ticks\":\"\",\"title\":{\"standoff\":15},\"zerolinecolor\":\"white\",\"zerolinewidth\":2}}},\"title\":{\"font\":{\"color\":\"#4D5663\"}},\"xaxis\":{\"gridcolor\":\"#E1E5ED\",\"showgrid\":true,\"tickfont\":{\"color\":\"#4D5663\"},\"title\":{\"font\":{\"color\":\"#4D5663\"},\"text\":\"\"},\"zerolinecolor\":\"#E1E5ED\"},\"yaxis\":{\"gridcolor\":\"#E1E5ED\",\"showgrid\":true,\"tickfont\":{\"color\":\"#4D5663\"},\"title\":{\"font\":{\"color\":\"#4D5663\"},\"text\":\"\"},\"zerolinecolor\":\"#E1E5ED\"}},                        {\"showLink\": true, \"linkText\": \"Export to plot.ly\", \"plotlyServerURL\": \"https://plot.ly\", \"responsive\": true}                    ).then(function(){\n",
       "                            \n",
       "var gd = document.getElementById('65f8f1f8-ab17-42e3-87a4-fe05c7c62b5f');\n",
       "var x = new MutationObserver(function (mutations, observer) {{\n",
       "        var display = window.getComputedStyle(gd).display;\n",
       "        if (!display || display === 'none') {{\n",
       "            console.log([gd, 'removed!']);\n",
       "            Plotly.purge(gd);\n",
       "            observer.disconnect();\n",
       "        }}\n",
       "}});\n",
       "\n",
       "// Listen for the removal of the full notebook cells\n",
       "var notebookContainer = gd.closest('#notebook-container');\n",
       "if (notebookContainer) {{\n",
       "    x.observe(notebookContainer, {childList: true});\n",
       "}}\n",
       "\n",
       "// Listen for the clearing of the current output cell\n",
       "var outputEl = gd.closest('.output');\n",
       "if (outputEl) {{\n",
       "    x.observe(outputEl, {childList: true});\n",
       "}}\n",
       "\n",
       "                        })                };                });            </script>        </div>"
      ]
     },
     "metadata": {},
     "output_type": "display_data"
    }
   ],
   "source": [
    "df.iplot(kind='hist')"
   ]
  },
  {
   "cell_type": "code",
   "execution_count": 19,
   "id": "c01fa80d",
   "metadata": {},
   "outputs": [
    {
     "data": {
      "application/vnd.plotly.v1+json": {
       "config": {
        "linkText": "Export to plot.ly",
        "plotlyServerURL": "https://plot.ly",
        "showLink": true
       },
       "data": [
        {
         "marker": {
          "color": [
           "orange",
           "orange",
           "orange",
           "orange",
           "orange",
           "orange",
           "orange",
           "orange",
           "orange",
           "orange",
           "orange",
           "orange",
           "orange",
           "orange",
           "orange",
           "orange",
           "orange",
           "orange",
           "orange",
           "orange",
           "orange",
           "orange",
           "orange",
           "orange",
           "orange",
           "orange",
           "orange",
           "orange",
           "orange",
           "orange",
           "orange",
           "orange",
           "orange",
           "orange",
           "orange",
           "orange",
           "orange",
           "orange",
           "orange",
           "orange",
           "orange",
           "orange",
           "orange",
           "orange",
           "orange",
           "orange",
           "orange",
           "orange",
           "orange",
           "orange",
           "orange",
           "orange",
           "orange",
           "orange",
           "orange",
           "orange",
           "orange",
           "orange",
           "orange",
           "orange",
           "orange",
           "orange",
           "orange",
           "orange",
           "orange",
           "orange",
           "orange",
           "orange",
           "orange",
           "orange",
           "orange",
           "orange",
           "orange",
           "orange",
           "orange",
           "orange",
           "orange",
           "orange",
           "orange",
           "orange",
           "orange",
           "orange",
           "orange",
           "orange",
           "orange",
           "orange",
           "orange",
           "orange",
           "orange",
           "orange",
           "orange",
           "orange",
           "orange",
           "orange",
           "orange",
           "orange",
           "orange",
           "orange",
           "orange",
           "orange"
          ],
          "line": {
           "width": 1.3
          },
          "size": [
           92,
           55,
           48,
           67,
           12,
           53,
           72,
           105,
           103,
           58,
           68,
           71,
           76,
           89,
           93,
           112,
           45,
           89,
           97,
           52,
           46,
           63,
           82,
           58,
           27,
           51,
           83,
           86,
           83,
           51,
           102,
           57,
           76,
           38,
           43,
           72,
           71,
           76,
           61,
           72,
           68,
           84,
           77,
           94,
           64,
           61,
           45,
           46,
           91,
           78,
           63,
           69,
           47,
           81,
           56,
           63,
           66,
           22,
           105,
           74,
           85,
           26,
           104,
           69,
           84,
           73,
           51,
           63,
           80,
           69,
           58,
           51,
           40,
           58,
           72,
           85,
           27,
           72,
           50,
           49,
           94,
           26,
           39,
           88,
           72,
           98,
           52,
           37,
           62,
           66,
           88,
           63,
           101,
           70,
           81,
           106,
           90,
           93,
           107,
           84
          ],
          "symbol": "circle"
         },
         "mode": "markers",
         "text": "",
         "type": "scatter",
         "x": [
          -1.5450841317171276,
          -1.413125498673202,
          0.9323209797782157,
          0.06948672060685748,
          -1.2523413495098872,
          -1.998523806904109,
          0.9190235994878402,
          -0.9119658333889711,
          0.48330895698670573,
          -0.18718041389695883,
          -1.4320101370003964,
          -1.0261708964009986,
          -0.2445512401393387,
          0.5509130159887102,
          -0.01880610498489131,
          -0.3314676127876932,
          -0.6148547025606768,
          0.5904187382004569,
          0.6079579957452251,
          1.029365744269441,
          0.37821917735715205,
          0.4853068362773339,
          -0.04114493743598664,
          0.8708159539648068,
          1.5460674411149098,
          -0.5519392483070829,
          -0.781020223747612,
          2.248475249081179,
          -0.7841092464880934,
          0.6982816726880846,
          -0.6817947425346943,
          -0.15254862845208006,
          0.08242693280174032,
          -0.6165766635482408,
          0.07344361303984231,
          -2.472226220100499,
          -0.7017642502166871,
          0.31867008055206325,
          -0.2599768591357568,
          0.1128594778484536,
          1.9546293514760582,
          1.599497463833276,
          1.0851296565292388,
          -1.467177738869882,
          1.6987782408729655,
          1.1983444774482184,
          0.3155444180406639,
          -0.08519293842820412,
          -0.2456642503023336,
          0.5499649604319629,
          -3.4739634005226576,
          -2.2523455597506286,
          0.6937969710072474,
          1.6141764343342464,
          1.0400077714625975,
          0.10041443115825265,
          -0.7097173257145293,
          1.4604101958038826,
          0.3293241651930765,
          -0.8538133138281813,
          1.0663441980793718,
          0.47825456546125206,
          -0.671842993091924,
          0.17989808836044138,
          -0.5713356174675095,
          -0.48417683159928776,
          -0.5958366995752875,
          0.440964769391051,
          -0.5094687351758517,
          1.850188864915357,
          1.8675119837627912,
          -0.7122251808699338,
          0.06639775250348316,
          -1.695337244452929,
          1.6820736210084517,
          2.1310945371850463,
          -2.0930601078406137,
          -1.770996043995373,
          1.1437543834138326,
          -1.0775717485533514,
          -1.2275856522468844,
          1.217560029308882,
          0.03026729574779826,
          -1.5261799364599762,
          -0.04317321966520327,
          0.4887696263728301,
          0.470451294595051,
          1.4973438747078496,
          0.03651730210198627,
          0.509467886559641,
          0.03914759134423157,
          1.1308562743625474,
          0.4847047628207645,
          -0.4818166423351334,
          -2.080158939342939,
          -0.3751305898439625,
          0.03069571986767242,
          -0.4639225567373533,
          -0.7047432345226364,
          0.5217812056163413
         ],
         "y": [
          0.5560590486778653,
          -0.07793450560493444,
          1.4728014419360818,
          1.1841675005675982,
          0.03281836403183733,
          -0.6461553540733159,
          0.5986016228049653,
          -0.5717226512281799,
          -0.2747819332926034,
          0.49043949751220406,
          -1.1299777891524494,
          -0.1702095917006199,
          1.722509452732334,
          -0.10183571621992656,
          0.8098258836135469,
          -1.1063076830024827,
          0.057112964591251786,
          -1.6245497623720355,
          0.07215549241226307,
          -0.8894380820025064,
          -2.120833496107395,
          -0.08012739410150374,
          -0.591197681351182,
          0.5197983468505548,
          0.24142254317476586,
          1.7457988842999421,
          -1.1070059282786342,
          0.7913944754762602,
          -0.03914090883278507,
          0.6152536901853041,
          -0.05698167740111924,
          -0.27251337345567,
          -0.07551250464389586,
          -1.4975382351147017,
          -0.20273312933138704,
          2.3361653725747384,
          -0.5764544082758793,
          -1.1206284477949207,
          1.0803724020371084,
          0.9017473742656453,
          -0.02018976267946315,
          0.05347973046173759,
          -0.45391764829224956,
          -1.4044676816734702,
          -1.1989349494957657,
          -1.0866814888362737,
          1.3894900407927153,
          0.9162647371019855,
          0.4194940637068126,
          0.9034317144972939,
          -1.6191837646872886,
          0.006057610591446054,
          0.10132471015131193,
          -0.23082140302094117,
          -1.3083413724708712,
          -1.2795626813486651,
          0.062410142195700555,
          0.2875986079539208,
          0.9055903722191032,
          1.0916151451771925,
          -0.35317700404366503,
          -1.1509106118990473,
          0.23836868247584514,
          -1.3950447728820754,
          -1.5431027269159214,
          -0.7267103886216447,
          -2.918958189158711,
          0.3007783016160846,
          -0.1197534659473193,
          2.444338372746112,
          1.0811358025289786,
          0.3008412860349423,
          1.6118481390652135,
          -0.1653194027176514,
          0.5121512969539667,
          -1.500586263147276,
          -1.0521038617793856,
          1.6372159044057157,
          1.1839733648110073,
          0.05110509841795652,
          1.2103708240782325,
          -0.8098886634300432,
          0.6935184762736882,
          0.9200130974217491,
          0.2780698881923895,
          -0.43299394989872503,
          -0.7508110319139402,
          -0.014969382105271498,
          -1.6936832131901614,
          -2.183184500009131,
          0.009773417538940442,
          0.21650240127684667,
          -1.2321789658109623,
          -0.15811371811548136,
          0.520944239040899,
          0.360402959490052,
          0.8879887300703774,
          -0.18766955772960667,
          -0.23289851453897023,
          0.11653811732251271
         ]
        }
       ],
       "layout": {
        "legend": {
         "bgcolor": "#F5F6F9",
         "font": {
          "color": "#4D5663"
         }
        },
        "paper_bgcolor": "#F5F6F9",
        "plot_bgcolor": "#F5F6F9",
        "template": {
         "data": {
          "bar": [
           {
            "error_x": {
             "color": "#2a3f5f"
            },
            "error_y": {
             "color": "#2a3f5f"
            },
            "marker": {
             "line": {
              "color": "#E5ECF6",
              "width": 0.5
             },
             "pattern": {
              "fillmode": "overlay",
              "size": 10,
              "solidity": 0.2
             }
            },
            "type": "bar"
           }
          ],
          "barpolar": [
           {
            "marker": {
             "line": {
              "color": "#E5ECF6",
              "width": 0.5
             },
             "pattern": {
              "fillmode": "overlay",
              "size": 10,
              "solidity": 0.2
             }
            },
            "type": "barpolar"
           }
          ],
          "carpet": [
           {
            "aaxis": {
             "endlinecolor": "#2a3f5f",
             "gridcolor": "white",
             "linecolor": "white",
             "minorgridcolor": "white",
             "startlinecolor": "#2a3f5f"
            },
            "baxis": {
             "endlinecolor": "#2a3f5f",
             "gridcolor": "white",
             "linecolor": "white",
             "minorgridcolor": "white",
             "startlinecolor": "#2a3f5f"
            },
            "type": "carpet"
           }
          ],
          "choropleth": [
           {
            "colorbar": {
             "outlinewidth": 0,
             "ticks": ""
            },
            "type": "choropleth"
           }
          ],
          "contour": [
           {
            "colorbar": {
             "outlinewidth": 0,
             "ticks": ""
            },
            "colorscale": [
             [
              0,
              "#0d0887"
             ],
             [
              0.1111111111111111,
              "#46039f"
             ],
             [
              0.2222222222222222,
              "#7201a8"
             ],
             [
              0.3333333333333333,
              "#9c179e"
             ],
             [
              0.4444444444444444,
              "#bd3786"
             ],
             [
              0.5555555555555556,
              "#d8576b"
             ],
             [
              0.6666666666666666,
              "#ed7953"
             ],
             [
              0.7777777777777778,
              "#fb9f3a"
             ],
             [
              0.8888888888888888,
              "#fdca26"
             ],
             [
              1,
              "#f0f921"
             ]
            ],
            "type": "contour"
           }
          ],
          "contourcarpet": [
           {
            "colorbar": {
             "outlinewidth": 0,
             "ticks": ""
            },
            "type": "contourcarpet"
           }
          ],
          "heatmap": [
           {
            "colorbar": {
             "outlinewidth": 0,
             "ticks": ""
            },
            "colorscale": [
             [
              0,
              "#0d0887"
             ],
             [
              0.1111111111111111,
              "#46039f"
             ],
             [
              0.2222222222222222,
              "#7201a8"
             ],
             [
              0.3333333333333333,
              "#9c179e"
             ],
             [
              0.4444444444444444,
              "#bd3786"
             ],
             [
              0.5555555555555556,
              "#d8576b"
             ],
             [
              0.6666666666666666,
              "#ed7953"
             ],
             [
              0.7777777777777778,
              "#fb9f3a"
             ],
             [
              0.8888888888888888,
              "#fdca26"
             ],
             [
              1,
              "#f0f921"
             ]
            ],
            "type": "heatmap"
           }
          ],
          "heatmapgl": [
           {
            "colorbar": {
             "outlinewidth": 0,
             "ticks": ""
            },
            "colorscale": [
             [
              0,
              "#0d0887"
             ],
             [
              0.1111111111111111,
              "#46039f"
             ],
             [
              0.2222222222222222,
              "#7201a8"
             ],
             [
              0.3333333333333333,
              "#9c179e"
             ],
             [
              0.4444444444444444,
              "#bd3786"
             ],
             [
              0.5555555555555556,
              "#d8576b"
             ],
             [
              0.6666666666666666,
              "#ed7953"
             ],
             [
              0.7777777777777778,
              "#fb9f3a"
             ],
             [
              0.8888888888888888,
              "#fdca26"
             ],
             [
              1,
              "#f0f921"
             ]
            ],
            "type": "heatmapgl"
           }
          ],
          "histogram": [
           {
            "marker": {
             "pattern": {
              "fillmode": "overlay",
              "size": 10,
              "solidity": 0.2
             }
            },
            "type": "histogram"
           }
          ],
          "histogram2d": [
           {
            "colorbar": {
             "outlinewidth": 0,
             "ticks": ""
            },
            "colorscale": [
             [
              0,
              "#0d0887"
             ],
             [
              0.1111111111111111,
              "#46039f"
             ],
             [
              0.2222222222222222,
              "#7201a8"
             ],
             [
              0.3333333333333333,
              "#9c179e"
             ],
             [
              0.4444444444444444,
              "#bd3786"
             ],
             [
              0.5555555555555556,
              "#d8576b"
             ],
             [
              0.6666666666666666,
              "#ed7953"
             ],
             [
              0.7777777777777778,
              "#fb9f3a"
             ],
             [
              0.8888888888888888,
              "#fdca26"
             ],
             [
              1,
              "#f0f921"
             ]
            ],
            "type": "histogram2d"
           }
          ],
          "histogram2dcontour": [
           {
            "colorbar": {
             "outlinewidth": 0,
             "ticks": ""
            },
            "colorscale": [
             [
              0,
              "#0d0887"
             ],
             [
              0.1111111111111111,
              "#46039f"
             ],
             [
              0.2222222222222222,
              "#7201a8"
             ],
             [
              0.3333333333333333,
              "#9c179e"
             ],
             [
              0.4444444444444444,
              "#bd3786"
             ],
             [
              0.5555555555555556,
              "#d8576b"
             ],
             [
              0.6666666666666666,
              "#ed7953"
             ],
             [
              0.7777777777777778,
              "#fb9f3a"
             ],
             [
              0.8888888888888888,
              "#fdca26"
             ],
             [
              1,
              "#f0f921"
             ]
            ],
            "type": "histogram2dcontour"
           }
          ],
          "mesh3d": [
           {
            "colorbar": {
             "outlinewidth": 0,
             "ticks": ""
            },
            "type": "mesh3d"
           }
          ],
          "parcoords": [
           {
            "line": {
             "colorbar": {
              "outlinewidth": 0,
              "ticks": ""
             }
            },
            "type": "parcoords"
           }
          ],
          "pie": [
           {
            "automargin": true,
            "type": "pie"
           }
          ],
          "scatter": [
           {
            "fillpattern": {
             "fillmode": "overlay",
             "size": 10,
             "solidity": 0.2
            },
            "type": "scatter"
           }
          ],
          "scatter3d": [
           {
            "line": {
             "colorbar": {
              "outlinewidth": 0,
              "ticks": ""
             }
            },
            "marker": {
             "colorbar": {
              "outlinewidth": 0,
              "ticks": ""
             }
            },
            "type": "scatter3d"
           }
          ],
          "scattercarpet": [
           {
            "marker": {
             "colorbar": {
              "outlinewidth": 0,
              "ticks": ""
             }
            },
            "type": "scattercarpet"
           }
          ],
          "scattergeo": [
           {
            "marker": {
             "colorbar": {
              "outlinewidth": 0,
              "ticks": ""
             }
            },
            "type": "scattergeo"
           }
          ],
          "scattergl": [
           {
            "marker": {
             "colorbar": {
              "outlinewidth": 0,
              "ticks": ""
             }
            },
            "type": "scattergl"
           }
          ],
          "scattermapbox": [
           {
            "marker": {
             "colorbar": {
              "outlinewidth": 0,
              "ticks": ""
             }
            },
            "type": "scattermapbox"
           }
          ],
          "scatterpolar": [
           {
            "marker": {
             "colorbar": {
              "outlinewidth": 0,
              "ticks": ""
             }
            },
            "type": "scatterpolar"
           }
          ],
          "scatterpolargl": [
           {
            "marker": {
             "colorbar": {
              "outlinewidth": 0,
              "ticks": ""
             }
            },
            "type": "scatterpolargl"
           }
          ],
          "scatterternary": [
           {
            "marker": {
             "colorbar": {
              "outlinewidth": 0,
              "ticks": ""
             }
            },
            "type": "scatterternary"
           }
          ],
          "surface": [
           {
            "colorbar": {
             "outlinewidth": 0,
             "ticks": ""
            },
            "colorscale": [
             [
              0,
              "#0d0887"
             ],
             [
              0.1111111111111111,
              "#46039f"
             ],
             [
              0.2222222222222222,
              "#7201a8"
             ],
             [
              0.3333333333333333,
              "#9c179e"
             ],
             [
              0.4444444444444444,
              "#bd3786"
             ],
             [
              0.5555555555555556,
              "#d8576b"
             ],
             [
              0.6666666666666666,
              "#ed7953"
             ],
             [
              0.7777777777777778,
              "#fb9f3a"
             ],
             [
              0.8888888888888888,
              "#fdca26"
             ],
             [
              1,
              "#f0f921"
             ]
            ],
            "type": "surface"
           }
          ],
          "table": [
           {
            "cells": {
             "fill": {
              "color": "#EBF0F8"
             },
             "line": {
              "color": "white"
             }
            },
            "header": {
             "fill": {
              "color": "#C8D4E3"
             },
             "line": {
              "color": "white"
             }
            },
            "type": "table"
           }
          ]
         },
         "layout": {
          "annotationdefaults": {
           "arrowcolor": "#2a3f5f",
           "arrowhead": 0,
           "arrowwidth": 1
          },
          "autotypenumbers": "strict",
          "coloraxis": {
           "colorbar": {
            "outlinewidth": 0,
            "ticks": ""
           }
          },
          "colorscale": {
           "diverging": [
            [
             0,
             "#8e0152"
            ],
            [
             0.1,
             "#c51b7d"
            ],
            [
             0.2,
             "#de77ae"
            ],
            [
             0.3,
             "#f1b6da"
            ],
            [
             0.4,
             "#fde0ef"
            ],
            [
             0.5,
             "#f7f7f7"
            ],
            [
             0.6,
             "#e6f5d0"
            ],
            [
             0.7,
             "#b8e186"
            ],
            [
             0.8,
             "#7fbc41"
            ],
            [
             0.9,
             "#4d9221"
            ],
            [
             1,
             "#276419"
            ]
           ],
           "sequential": [
            [
             0,
             "#0d0887"
            ],
            [
             0.1111111111111111,
             "#46039f"
            ],
            [
             0.2222222222222222,
             "#7201a8"
            ],
            [
             0.3333333333333333,
             "#9c179e"
            ],
            [
             0.4444444444444444,
             "#bd3786"
            ],
            [
             0.5555555555555556,
             "#d8576b"
            ],
            [
             0.6666666666666666,
             "#ed7953"
            ],
            [
             0.7777777777777778,
             "#fb9f3a"
            ],
            [
             0.8888888888888888,
             "#fdca26"
            ],
            [
             1,
             "#f0f921"
            ]
           ],
           "sequentialminus": [
            [
             0,
             "#0d0887"
            ],
            [
             0.1111111111111111,
             "#46039f"
            ],
            [
             0.2222222222222222,
             "#7201a8"
            ],
            [
             0.3333333333333333,
             "#9c179e"
            ],
            [
             0.4444444444444444,
             "#bd3786"
            ],
            [
             0.5555555555555556,
             "#d8576b"
            ],
            [
             0.6666666666666666,
             "#ed7953"
            ],
            [
             0.7777777777777778,
             "#fb9f3a"
            ],
            [
             0.8888888888888888,
             "#fdca26"
            ],
            [
             1,
             "#f0f921"
            ]
           ]
          },
          "colorway": [
           "#636efa",
           "#EF553B",
           "#00cc96",
           "#ab63fa",
           "#FFA15A",
           "#19d3f3",
           "#FF6692",
           "#B6E880",
           "#FF97FF",
           "#FECB52"
          ],
          "font": {
           "color": "#2a3f5f"
          },
          "geo": {
           "bgcolor": "white",
           "lakecolor": "white",
           "landcolor": "#E5ECF6",
           "showlakes": true,
           "showland": true,
           "subunitcolor": "white"
          },
          "hoverlabel": {
           "align": "left"
          },
          "hovermode": "closest",
          "mapbox": {
           "style": "light"
          },
          "paper_bgcolor": "white",
          "plot_bgcolor": "#E5ECF6",
          "polar": {
           "angularaxis": {
            "gridcolor": "white",
            "linecolor": "white",
            "ticks": ""
           },
           "bgcolor": "#E5ECF6",
           "radialaxis": {
            "gridcolor": "white",
            "linecolor": "white",
            "ticks": ""
           }
          },
          "scene": {
           "xaxis": {
            "backgroundcolor": "#E5ECF6",
            "gridcolor": "white",
            "gridwidth": 2,
            "linecolor": "white",
            "showbackground": true,
            "ticks": "",
            "zerolinecolor": "white"
           },
           "yaxis": {
            "backgroundcolor": "#E5ECF6",
            "gridcolor": "white",
            "gridwidth": 2,
            "linecolor": "white",
            "showbackground": true,
            "ticks": "",
            "zerolinecolor": "white"
           },
           "zaxis": {
            "backgroundcolor": "#E5ECF6",
            "gridcolor": "white",
            "gridwidth": 2,
            "linecolor": "white",
            "showbackground": true,
            "ticks": "",
            "zerolinecolor": "white"
           }
          },
          "shapedefaults": {
           "line": {
            "color": "#2a3f5f"
           }
          },
          "ternary": {
           "aaxis": {
            "gridcolor": "white",
            "linecolor": "white",
            "ticks": ""
           },
           "baxis": {
            "gridcolor": "white",
            "linecolor": "white",
            "ticks": ""
           },
           "bgcolor": "#E5ECF6",
           "caxis": {
            "gridcolor": "white",
            "linecolor": "white",
            "ticks": ""
           }
          },
          "title": {
           "x": 0.05
          },
          "xaxis": {
           "automargin": true,
           "gridcolor": "white",
           "linecolor": "white",
           "ticks": "",
           "title": {
            "standoff": 15
           },
           "zerolinecolor": "white",
           "zerolinewidth": 2
          },
          "yaxis": {
           "automargin": true,
           "gridcolor": "white",
           "linecolor": "white",
           "ticks": "",
           "title": {
            "standoff": 15
           },
           "zerolinecolor": "white",
           "zerolinewidth": 2
          }
         }
        },
        "title": {
         "font": {
          "color": "#4D5663"
         }
        },
        "xaxis": {
         "gridcolor": "#E1E5ED",
         "showgrid": true,
         "tickfont": {
          "color": "#4D5663"
         },
         "title": {
          "font": {
           "color": "#4D5663"
          },
          "text": ""
         },
         "zerolinecolor": "#E1E5ED"
        },
        "yaxis": {
         "gridcolor": "#E1E5ED",
         "showgrid": true,
         "tickfont": {
          "color": "#4D5663"
         },
         "title": {
          "font": {
           "color": "#4D5663"
          },
          "text": ""
         },
         "zerolinecolor": "#E1E5ED"
        }
       }
      },
      "text/html": [
       "<div>                            <div id=\"5f3b065a-e2b6-4b62-8f32-888aa78abc6d\" class=\"plotly-graph-div\" style=\"height:525px; width:100%;\"></div>            <script type=\"text/javascript\">                require([\"plotly\"], function(Plotly) {                    window.PLOTLYENV=window.PLOTLYENV || {};\n",
       "                    window.PLOTLYENV.BASE_URL='https://plot.ly';                                    if (document.getElementById(\"5f3b065a-e2b6-4b62-8f32-888aa78abc6d\")) {                    Plotly.newPlot(                        \"5f3b065a-e2b6-4b62-8f32-888aa78abc6d\",                        [{\"marker\":{\"color\":[\"orange\",\"orange\",\"orange\",\"orange\",\"orange\",\"orange\",\"orange\",\"orange\",\"orange\",\"orange\",\"orange\",\"orange\",\"orange\",\"orange\",\"orange\",\"orange\",\"orange\",\"orange\",\"orange\",\"orange\",\"orange\",\"orange\",\"orange\",\"orange\",\"orange\",\"orange\",\"orange\",\"orange\",\"orange\",\"orange\",\"orange\",\"orange\",\"orange\",\"orange\",\"orange\",\"orange\",\"orange\",\"orange\",\"orange\",\"orange\",\"orange\",\"orange\",\"orange\",\"orange\",\"orange\",\"orange\",\"orange\",\"orange\",\"orange\",\"orange\",\"orange\",\"orange\",\"orange\",\"orange\",\"orange\",\"orange\",\"orange\",\"orange\",\"orange\",\"orange\",\"orange\",\"orange\",\"orange\",\"orange\",\"orange\",\"orange\",\"orange\",\"orange\",\"orange\",\"orange\",\"orange\",\"orange\",\"orange\",\"orange\",\"orange\",\"orange\",\"orange\",\"orange\",\"orange\",\"orange\",\"orange\",\"orange\",\"orange\",\"orange\",\"orange\",\"orange\",\"orange\",\"orange\",\"orange\",\"orange\",\"orange\",\"orange\",\"orange\",\"orange\",\"orange\",\"orange\",\"orange\",\"orange\",\"orange\",\"orange\"],\"line\":{\"width\":1.3},\"size\":[92,55,48,67,12,53,72,105,103,58,68,71,76,89,93,112,45,89,97,52,46,63,82,58,27,51,83,86,83,51,102,57,76,38,43,72,71,76,61,72,68,84,77,94,64,61,45,46,91,78,63,69,47,81,56,63,66,22,105,74,85,26,104,69,84,73,51,63,80,69,58,51,40,58,72,85,27,72,50,49,94,26,39,88,72,98,52,37,62,66,88,63,101,70,81,106,90,93,107,84],\"symbol\":\"circle\"},\"mode\":\"markers\",\"text\":\"\",\"x\":[-1.5450841317171276,-1.413125498673202,0.9323209797782157,0.06948672060685748,-1.2523413495098872,-1.998523806904109,0.9190235994878402,-0.9119658333889711,0.48330895698670573,-0.18718041389695883,-1.4320101370003964,-1.0261708964009986,-0.2445512401393387,0.5509130159887102,-0.01880610498489131,-0.3314676127876932,-0.6148547025606768,0.5904187382004569,0.6079579957452251,1.029365744269441,0.37821917735715205,0.4853068362773339,-0.04114493743598664,0.8708159539648068,1.5460674411149098,-0.5519392483070829,-0.781020223747612,2.248475249081179,-0.7841092464880934,0.6982816726880846,-0.6817947425346943,-0.15254862845208006,0.08242693280174032,-0.6165766635482408,0.07344361303984231,-2.472226220100499,-0.7017642502166871,0.31867008055206325,-0.2599768591357568,0.1128594778484536,1.9546293514760582,1.599497463833276,1.0851296565292388,-1.467177738869882,1.6987782408729655,1.1983444774482184,0.3155444180406639,-0.08519293842820412,-0.2456642503023336,0.5499649604319629,-3.4739634005226576,-2.2523455597506286,0.6937969710072474,1.6141764343342464,1.0400077714625975,0.10041443115825265,-0.7097173257145293,1.4604101958038826,0.3293241651930765,-0.8538133138281813,1.0663441980793718,0.47825456546125206,-0.671842993091924,0.17989808836044138,-0.5713356174675095,-0.48417683159928776,-0.5958366995752875,0.440964769391051,-0.5094687351758517,1.850188864915357,1.8675119837627912,-0.7122251808699338,0.06639775250348316,-1.695337244452929,1.6820736210084517,2.1310945371850463,-2.0930601078406137,-1.770996043995373,1.1437543834138326,-1.0775717485533514,-1.2275856522468844,1.217560029308882,0.03026729574779826,-1.5261799364599762,-0.04317321966520327,0.4887696263728301,0.470451294595051,1.4973438747078496,0.03651730210198627,0.509467886559641,0.03914759134423157,1.1308562743625474,0.4847047628207645,-0.4818166423351334,-2.080158939342939,-0.3751305898439625,0.03069571986767242,-0.4639225567373533,-0.7047432345226364,0.5217812056163413],\"y\":[0.5560590486778653,-0.07793450560493444,1.4728014419360818,1.1841675005675982,0.03281836403183733,-0.6461553540733159,0.5986016228049653,-0.5717226512281799,-0.2747819332926034,0.49043949751220406,-1.1299777891524494,-0.1702095917006199,1.722509452732334,-0.10183571621992656,0.8098258836135469,-1.1063076830024827,0.057112964591251786,-1.6245497623720355,0.07215549241226307,-0.8894380820025064,-2.120833496107395,-0.08012739410150374,-0.591197681351182,0.5197983468505548,0.24142254317476586,1.7457988842999421,-1.1070059282786342,0.7913944754762602,-0.03914090883278507,0.6152536901853041,-0.05698167740111924,-0.27251337345567,-0.07551250464389586,-1.4975382351147017,-0.20273312933138704,2.3361653725747384,-0.5764544082758793,-1.1206284477949207,1.0803724020371084,0.9017473742656453,-0.02018976267946315,0.05347973046173759,-0.45391764829224956,-1.4044676816734702,-1.1989349494957657,-1.0866814888362737,1.3894900407927153,0.9162647371019855,0.4194940637068126,0.9034317144972939,-1.6191837646872886,0.006057610591446054,0.10132471015131193,-0.23082140302094117,-1.3083413724708712,-1.2795626813486651,0.062410142195700555,0.2875986079539208,0.9055903722191032,1.0916151451771925,-0.35317700404366503,-1.1509106118990473,0.23836868247584514,-1.3950447728820754,-1.5431027269159214,-0.7267103886216447,-2.918958189158711,0.3007783016160846,-0.1197534659473193,2.444338372746112,1.0811358025289786,0.3008412860349423,1.6118481390652135,-0.1653194027176514,0.5121512969539667,-1.500586263147276,-1.0521038617793856,1.6372159044057157,1.1839733648110073,0.05110509841795652,1.2103708240782325,-0.8098886634300432,0.6935184762736882,0.9200130974217491,0.2780698881923895,-0.43299394989872503,-0.7508110319139402,-0.014969382105271498,-1.6936832131901614,-2.183184500009131,0.009773417538940442,0.21650240127684667,-1.2321789658109623,-0.15811371811548136,0.520944239040899,0.360402959490052,0.8879887300703774,-0.18766955772960667,-0.23289851453897023,0.11653811732251271],\"type\":\"scatter\"}],                        {\"legend\":{\"bgcolor\":\"#F5F6F9\",\"font\":{\"color\":\"#4D5663\"}},\"paper_bgcolor\":\"#F5F6F9\",\"plot_bgcolor\":\"#F5F6F9\",\"template\":{\"data\":{\"barpolar\":[{\"marker\":{\"line\":{\"color\":\"#E5ECF6\",\"width\":0.5},\"pattern\":{\"fillmode\":\"overlay\",\"size\":10,\"solidity\":0.2}},\"type\":\"barpolar\"}],\"bar\":[{\"error_x\":{\"color\":\"#2a3f5f\"},\"error_y\":{\"color\":\"#2a3f5f\"},\"marker\":{\"line\":{\"color\":\"#E5ECF6\",\"width\":0.5},\"pattern\":{\"fillmode\":\"overlay\",\"size\":10,\"solidity\":0.2}},\"type\":\"bar\"}],\"carpet\":[{\"aaxis\":{\"endlinecolor\":\"#2a3f5f\",\"gridcolor\":\"white\",\"linecolor\":\"white\",\"minorgridcolor\":\"white\",\"startlinecolor\":\"#2a3f5f\"},\"baxis\":{\"endlinecolor\":\"#2a3f5f\",\"gridcolor\":\"white\",\"linecolor\":\"white\",\"minorgridcolor\":\"white\",\"startlinecolor\":\"#2a3f5f\"},\"type\":\"carpet\"}],\"choropleth\":[{\"colorbar\":{\"outlinewidth\":0,\"ticks\":\"\"},\"type\":\"choropleth\"}],\"contourcarpet\":[{\"colorbar\":{\"outlinewidth\":0,\"ticks\":\"\"},\"type\":\"contourcarpet\"}],\"contour\":[{\"colorbar\":{\"outlinewidth\":0,\"ticks\":\"\"},\"colorscale\":[[0.0,\"#0d0887\"],[0.1111111111111111,\"#46039f\"],[0.2222222222222222,\"#7201a8\"],[0.3333333333333333,\"#9c179e\"],[0.4444444444444444,\"#bd3786\"],[0.5555555555555556,\"#d8576b\"],[0.6666666666666666,\"#ed7953\"],[0.7777777777777778,\"#fb9f3a\"],[0.8888888888888888,\"#fdca26\"],[1.0,\"#f0f921\"]],\"type\":\"contour\"}],\"heatmapgl\":[{\"colorbar\":{\"outlinewidth\":0,\"ticks\":\"\"},\"colorscale\":[[0.0,\"#0d0887\"],[0.1111111111111111,\"#46039f\"],[0.2222222222222222,\"#7201a8\"],[0.3333333333333333,\"#9c179e\"],[0.4444444444444444,\"#bd3786\"],[0.5555555555555556,\"#d8576b\"],[0.6666666666666666,\"#ed7953\"],[0.7777777777777778,\"#fb9f3a\"],[0.8888888888888888,\"#fdca26\"],[1.0,\"#f0f921\"]],\"type\":\"heatmapgl\"}],\"heatmap\":[{\"colorbar\":{\"outlinewidth\":0,\"ticks\":\"\"},\"colorscale\":[[0.0,\"#0d0887\"],[0.1111111111111111,\"#46039f\"],[0.2222222222222222,\"#7201a8\"],[0.3333333333333333,\"#9c179e\"],[0.4444444444444444,\"#bd3786\"],[0.5555555555555556,\"#d8576b\"],[0.6666666666666666,\"#ed7953\"],[0.7777777777777778,\"#fb9f3a\"],[0.8888888888888888,\"#fdca26\"],[1.0,\"#f0f921\"]],\"type\":\"heatmap\"}],\"histogram2dcontour\":[{\"colorbar\":{\"outlinewidth\":0,\"ticks\":\"\"},\"colorscale\":[[0.0,\"#0d0887\"],[0.1111111111111111,\"#46039f\"],[0.2222222222222222,\"#7201a8\"],[0.3333333333333333,\"#9c179e\"],[0.4444444444444444,\"#bd3786\"],[0.5555555555555556,\"#d8576b\"],[0.6666666666666666,\"#ed7953\"],[0.7777777777777778,\"#fb9f3a\"],[0.8888888888888888,\"#fdca26\"],[1.0,\"#f0f921\"]],\"type\":\"histogram2dcontour\"}],\"histogram2d\":[{\"colorbar\":{\"outlinewidth\":0,\"ticks\":\"\"},\"colorscale\":[[0.0,\"#0d0887\"],[0.1111111111111111,\"#46039f\"],[0.2222222222222222,\"#7201a8\"],[0.3333333333333333,\"#9c179e\"],[0.4444444444444444,\"#bd3786\"],[0.5555555555555556,\"#d8576b\"],[0.6666666666666666,\"#ed7953\"],[0.7777777777777778,\"#fb9f3a\"],[0.8888888888888888,\"#fdca26\"],[1.0,\"#f0f921\"]],\"type\":\"histogram2d\"}],\"histogram\":[{\"marker\":{\"pattern\":{\"fillmode\":\"overlay\",\"size\":10,\"solidity\":0.2}},\"type\":\"histogram\"}],\"mesh3d\":[{\"colorbar\":{\"outlinewidth\":0,\"ticks\":\"\"},\"type\":\"mesh3d\"}],\"parcoords\":[{\"line\":{\"colorbar\":{\"outlinewidth\":0,\"ticks\":\"\"}},\"type\":\"parcoords\"}],\"pie\":[{\"automargin\":true,\"type\":\"pie\"}],\"scatter3d\":[{\"line\":{\"colorbar\":{\"outlinewidth\":0,\"ticks\":\"\"}},\"marker\":{\"colorbar\":{\"outlinewidth\":0,\"ticks\":\"\"}},\"type\":\"scatter3d\"}],\"scattercarpet\":[{\"marker\":{\"colorbar\":{\"outlinewidth\":0,\"ticks\":\"\"}},\"type\":\"scattercarpet\"}],\"scattergeo\":[{\"marker\":{\"colorbar\":{\"outlinewidth\":0,\"ticks\":\"\"}},\"type\":\"scattergeo\"}],\"scattergl\":[{\"marker\":{\"colorbar\":{\"outlinewidth\":0,\"ticks\":\"\"}},\"type\":\"scattergl\"}],\"scattermapbox\":[{\"marker\":{\"colorbar\":{\"outlinewidth\":0,\"ticks\":\"\"}},\"type\":\"scattermapbox\"}],\"scatterpolargl\":[{\"marker\":{\"colorbar\":{\"outlinewidth\":0,\"ticks\":\"\"}},\"type\":\"scatterpolargl\"}],\"scatterpolar\":[{\"marker\":{\"colorbar\":{\"outlinewidth\":0,\"ticks\":\"\"}},\"type\":\"scatterpolar\"}],\"scatter\":[{\"fillpattern\":{\"fillmode\":\"overlay\",\"size\":10,\"solidity\":0.2},\"type\":\"scatter\"}],\"scatterternary\":[{\"marker\":{\"colorbar\":{\"outlinewidth\":0,\"ticks\":\"\"}},\"type\":\"scatterternary\"}],\"surface\":[{\"colorbar\":{\"outlinewidth\":0,\"ticks\":\"\"},\"colorscale\":[[0.0,\"#0d0887\"],[0.1111111111111111,\"#46039f\"],[0.2222222222222222,\"#7201a8\"],[0.3333333333333333,\"#9c179e\"],[0.4444444444444444,\"#bd3786\"],[0.5555555555555556,\"#d8576b\"],[0.6666666666666666,\"#ed7953\"],[0.7777777777777778,\"#fb9f3a\"],[0.8888888888888888,\"#fdca26\"],[1.0,\"#f0f921\"]],\"type\":\"surface\"}],\"table\":[{\"cells\":{\"fill\":{\"color\":\"#EBF0F8\"},\"line\":{\"color\":\"white\"}},\"header\":{\"fill\":{\"color\":\"#C8D4E3\"},\"line\":{\"color\":\"white\"}},\"type\":\"table\"}]},\"layout\":{\"annotationdefaults\":{\"arrowcolor\":\"#2a3f5f\",\"arrowhead\":0,\"arrowwidth\":1},\"autotypenumbers\":\"strict\",\"coloraxis\":{\"colorbar\":{\"outlinewidth\":0,\"ticks\":\"\"}},\"colorscale\":{\"diverging\":[[0,\"#8e0152\"],[0.1,\"#c51b7d\"],[0.2,\"#de77ae\"],[0.3,\"#f1b6da\"],[0.4,\"#fde0ef\"],[0.5,\"#f7f7f7\"],[0.6,\"#e6f5d0\"],[0.7,\"#b8e186\"],[0.8,\"#7fbc41\"],[0.9,\"#4d9221\"],[1,\"#276419\"]],\"sequential\":[[0.0,\"#0d0887\"],[0.1111111111111111,\"#46039f\"],[0.2222222222222222,\"#7201a8\"],[0.3333333333333333,\"#9c179e\"],[0.4444444444444444,\"#bd3786\"],[0.5555555555555556,\"#d8576b\"],[0.6666666666666666,\"#ed7953\"],[0.7777777777777778,\"#fb9f3a\"],[0.8888888888888888,\"#fdca26\"],[1.0,\"#f0f921\"]],\"sequentialminus\":[[0.0,\"#0d0887\"],[0.1111111111111111,\"#46039f\"],[0.2222222222222222,\"#7201a8\"],[0.3333333333333333,\"#9c179e\"],[0.4444444444444444,\"#bd3786\"],[0.5555555555555556,\"#d8576b\"],[0.6666666666666666,\"#ed7953\"],[0.7777777777777778,\"#fb9f3a\"],[0.8888888888888888,\"#fdca26\"],[1.0,\"#f0f921\"]]},\"colorway\":[\"#636efa\",\"#EF553B\",\"#00cc96\",\"#ab63fa\",\"#FFA15A\",\"#19d3f3\",\"#FF6692\",\"#B6E880\",\"#FF97FF\",\"#FECB52\"],\"font\":{\"color\":\"#2a3f5f\"},\"geo\":{\"bgcolor\":\"white\",\"lakecolor\":\"white\",\"landcolor\":\"#E5ECF6\",\"showlakes\":true,\"showland\":true,\"subunitcolor\":\"white\"},\"hoverlabel\":{\"align\":\"left\"},\"hovermode\":\"closest\",\"mapbox\":{\"style\":\"light\"},\"paper_bgcolor\":\"white\",\"plot_bgcolor\":\"#E5ECF6\",\"polar\":{\"angularaxis\":{\"gridcolor\":\"white\",\"linecolor\":\"white\",\"ticks\":\"\"},\"bgcolor\":\"#E5ECF6\",\"radialaxis\":{\"gridcolor\":\"white\",\"linecolor\":\"white\",\"ticks\":\"\"}},\"scene\":{\"xaxis\":{\"backgroundcolor\":\"#E5ECF6\",\"gridcolor\":\"white\",\"gridwidth\":2,\"linecolor\":\"white\",\"showbackground\":true,\"ticks\":\"\",\"zerolinecolor\":\"white\"},\"yaxis\":{\"backgroundcolor\":\"#E5ECF6\",\"gridcolor\":\"white\",\"gridwidth\":2,\"linecolor\":\"white\",\"showbackground\":true,\"ticks\":\"\",\"zerolinecolor\":\"white\"},\"zaxis\":{\"backgroundcolor\":\"#E5ECF6\",\"gridcolor\":\"white\",\"gridwidth\":2,\"linecolor\":\"white\",\"showbackground\":true,\"ticks\":\"\",\"zerolinecolor\":\"white\"}},\"shapedefaults\":{\"line\":{\"color\":\"#2a3f5f\"}},\"ternary\":{\"aaxis\":{\"gridcolor\":\"white\",\"linecolor\":\"white\",\"ticks\":\"\"},\"baxis\":{\"gridcolor\":\"white\",\"linecolor\":\"white\",\"ticks\":\"\"},\"bgcolor\":\"#E5ECF6\",\"caxis\":{\"gridcolor\":\"white\",\"linecolor\":\"white\",\"ticks\":\"\"}},\"title\":{\"x\":0.05},\"xaxis\":{\"automargin\":true,\"gridcolor\":\"white\",\"linecolor\":\"white\",\"ticks\":\"\",\"title\":{\"standoff\":15},\"zerolinecolor\":\"white\",\"zerolinewidth\":2},\"yaxis\":{\"automargin\":true,\"gridcolor\":\"white\",\"linecolor\":\"white\",\"ticks\":\"\",\"title\":{\"standoff\":15},\"zerolinecolor\":\"white\",\"zerolinewidth\":2}}},\"title\":{\"font\":{\"color\":\"#4D5663\"}},\"xaxis\":{\"gridcolor\":\"#E1E5ED\",\"showgrid\":true,\"tickfont\":{\"color\":\"#4D5663\"},\"title\":{\"font\":{\"color\":\"#4D5663\"},\"text\":\"\"},\"zerolinecolor\":\"#E1E5ED\"},\"yaxis\":{\"gridcolor\":\"#E1E5ED\",\"showgrid\":true,\"tickfont\":{\"color\":\"#4D5663\"},\"title\":{\"font\":{\"color\":\"#4D5663\"},\"text\":\"\"},\"zerolinecolor\":\"#E1E5ED\"}},                        {\"showLink\": true, \"linkText\": \"Export to plot.ly\", \"plotlyServerURL\": \"https://plot.ly\", \"responsive\": true}                    ).then(function(){\n",
       "                            \n",
       "var gd = document.getElementById('5f3b065a-e2b6-4b62-8f32-888aa78abc6d');\n",
       "var x = new MutationObserver(function (mutations, observer) {{\n",
       "        var display = window.getComputedStyle(gd).display;\n",
       "        if (!display || display === 'none') {{\n",
       "            console.log([gd, 'removed!']);\n",
       "            Plotly.purge(gd);\n",
       "            observer.disconnect();\n",
       "        }}\n",
       "}});\n",
       "\n",
       "// Listen for the removal of the full notebook cells\n",
       "var notebookContainer = gd.closest('#notebook-container');\n",
       "if (notebookContainer) {{\n",
       "    x.observe(notebookContainer, {childList: true});\n",
       "}}\n",
       "\n",
       "// Listen for the clearing of the current output cell\n",
       "var outputEl = gd.closest('.output');\n",
       "if (outputEl) {{\n",
       "    x.observe(outputEl, {childList: true});\n",
       "}}\n",
       "\n",
       "                        })                };                });            </script>        </div>"
      ]
     },
     "metadata": {},
     "output_type": "display_data"
    }
   ],
   "source": [
    "df.iplot(kind='bubble', x='A',y='B',size='C',color='orange')"
   ]
  },
  {
   "cell_type": "code",
   "execution_count": 20,
   "id": "07c269f2",
   "metadata": {},
   "outputs": [
    {
     "data": {
      "application/vnd.plotly.v1+json": {
       "config": {
        "linkText": "Export to plot.ly",
        "plotlyServerURL": "https://plot.ly",
        "showLink": true
       },
       "data": [
        {
         "histfunc": "count",
         "histnorm": "",
         "marker": {
          "color": "rgba(255, 153, 51, 1.0)",
          "line": {
           "color": "#4D5663",
           "width": 1.3
          }
         },
         "name": "A",
         "nbinsx": 10,
         "opacity": 0.8,
         "orientation": "v",
         "type": "histogram",
         "x": [
          -1.5450841317171276,
          -1.413125498673202,
          0.9323209797782157,
          0.06948672060685748,
          -1.2523413495098872,
          -1.998523806904109,
          0.9190235994878402,
          -0.9119658333889711,
          0.48330895698670573,
          -0.18718041389695883,
          -1.4320101370003964,
          -1.0261708964009986,
          -0.2445512401393387,
          0.5509130159887102,
          -0.01880610498489131,
          -0.3314676127876932,
          -0.6148547025606768,
          0.5904187382004569,
          0.6079579957452251,
          1.029365744269441,
          0.37821917735715205,
          0.4853068362773339,
          -0.04114493743598664,
          0.8708159539648068,
          1.5460674411149098,
          -0.5519392483070829,
          -0.781020223747612,
          2.248475249081179,
          -0.7841092464880934,
          0.6982816726880846,
          -0.6817947425346943,
          -0.15254862845208006,
          0.08242693280174032,
          -0.6165766635482408,
          0.07344361303984231,
          -2.472226220100499,
          -0.7017642502166871,
          0.31867008055206325,
          -0.2599768591357568,
          0.1128594778484536,
          1.9546293514760582,
          1.599497463833276,
          1.0851296565292388,
          -1.467177738869882,
          1.6987782408729655,
          1.1983444774482184,
          0.3155444180406639,
          -0.08519293842820412,
          -0.2456642503023336,
          0.5499649604319629,
          -3.4739634005226576,
          -2.2523455597506286,
          0.6937969710072474,
          1.6141764343342464,
          1.0400077714625975,
          0.10041443115825265,
          -0.7097173257145293,
          1.4604101958038826,
          0.3293241651930765,
          -0.8538133138281813,
          1.0663441980793718,
          0.47825456546125206,
          -0.671842993091924,
          0.17989808836044138,
          -0.5713356174675095,
          -0.48417683159928776,
          -0.5958366995752875,
          0.440964769391051,
          -0.5094687351758517,
          1.850188864915357,
          1.8675119837627912,
          -0.7122251808699338,
          0.06639775250348316,
          -1.695337244452929,
          1.6820736210084517,
          2.1310945371850463,
          -2.0930601078406137,
          -1.770996043995373,
          1.1437543834138326,
          -1.0775717485533514,
          -1.2275856522468844,
          1.217560029308882,
          0.03026729574779826,
          -1.5261799364599762,
          -0.04317321966520327,
          0.4887696263728301,
          0.470451294595051,
          1.4973438747078496,
          0.03651730210198627,
          0.509467886559641,
          0.03914759134423157,
          1.1308562743625474,
          0.4847047628207645,
          -0.4818166423351334,
          -2.080158939342939,
          -0.3751305898439625,
          0.03069571986767242,
          -0.4639225567373533,
          -0.7047432345226364,
          0.5217812056163413
         ],
         "xaxis": "x",
         "yaxis": "y"
        },
        {
         "line": {
          "color": "rgba(128, 128, 128, 1.0)",
          "dash": "solid",
          "shape": "linear",
          "width": 1.3
         },
         "marker": {
          "size": 2,
          "symbol": "circle"
         },
         "mode": "markers",
         "name": "A",
         "text": "",
         "type": "scatter",
         "x": [
          0.5560590486778653,
          -0.07793450560493444,
          1.4728014419360818,
          1.1841675005675982,
          0.03281836403183733,
          -0.6461553540733159,
          0.5986016228049653,
          -0.5717226512281799,
          -0.2747819332926034,
          0.49043949751220406,
          -1.1299777891524494,
          -0.1702095917006199,
          1.722509452732334,
          -0.10183571621992656,
          0.8098258836135469,
          -1.1063076830024827,
          0.057112964591251786,
          -1.6245497623720355,
          0.07215549241226307,
          -0.8894380820025064,
          -2.120833496107395,
          -0.08012739410150374,
          -0.591197681351182,
          0.5197983468505548,
          0.24142254317476586,
          1.7457988842999421,
          -1.1070059282786342,
          0.7913944754762602,
          -0.03914090883278507,
          0.6152536901853041,
          -0.05698167740111924,
          -0.27251337345567,
          -0.07551250464389586,
          -1.4975382351147017,
          -0.20273312933138704,
          2.3361653725747384,
          -0.5764544082758793,
          -1.1206284477949207,
          1.0803724020371084,
          0.9017473742656453,
          -0.02018976267946315,
          0.05347973046173759,
          -0.45391764829224956,
          -1.4044676816734702,
          -1.1989349494957657,
          -1.0866814888362737,
          1.3894900407927153,
          0.9162647371019855,
          0.4194940637068126,
          0.9034317144972939,
          -1.6191837646872886,
          0.006057610591446054,
          0.10132471015131193,
          -0.23082140302094117,
          -1.3083413724708712,
          -1.2795626813486651,
          0.062410142195700555,
          0.2875986079539208,
          0.9055903722191032,
          1.0916151451771925,
          -0.35317700404366503,
          -1.1509106118990473,
          0.23836868247584514,
          -1.3950447728820754,
          -1.5431027269159214,
          -0.7267103886216447,
          -2.918958189158711,
          0.3007783016160846,
          -0.1197534659473193,
          2.444338372746112,
          1.0811358025289786,
          0.3008412860349423,
          1.6118481390652135,
          -0.1653194027176514,
          0.5121512969539667,
          -1.500586263147276,
          -1.0521038617793856,
          1.6372159044057157,
          1.1839733648110073,
          0.05110509841795652,
          1.2103708240782325,
          -0.8098886634300432,
          0.6935184762736882,
          0.9200130974217491,
          0.2780698881923895,
          -0.43299394989872503,
          -0.7508110319139402,
          -0.014969382105271498,
          -1.6936832131901614,
          -2.183184500009131,
          0.009773417538940442,
          0.21650240127684667,
          -1.2321789658109623,
          -0.15811371811548136,
          0.520944239040899,
          0.360402959490052,
          0.8879887300703774,
          -0.18766955772960667,
          -0.23289851453897023,
          0.11653811732251271
         ],
         "xaxis": "x2",
         "y": [
          -1.5450841317171276,
          -1.413125498673202,
          0.9323209797782157,
          0.06948672060685748,
          -1.2523413495098872,
          -1.998523806904109,
          0.9190235994878402,
          -0.9119658333889711,
          0.48330895698670573,
          -0.18718041389695883,
          -1.4320101370003964,
          -1.0261708964009986,
          -0.2445512401393387,
          0.5509130159887102,
          -0.01880610498489131,
          -0.3314676127876932,
          -0.6148547025606768,
          0.5904187382004569,
          0.6079579957452251,
          1.029365744269441,
          0.37821917735715205,
          0.4853068362773339,
          -0.04114493743598664,
          0.8708159539648068,
          1.5460674411149098,
          -0.5519392483070829,
          -0.781020223747612,
          2.248475249081179,
          -0.7841092464880934,
          0.6982816726880846,
          -0.6817947425346943,
          -0.15254862845208006,
          0.08242693280174032,
          -0.6165766635482408,
          0.07344361303984231,
          -2.472226220100499,
          -0.7017642502166871,
          0.31867008055206325,
          -0.2599768591357568,
          0.1128594778484536,
          1.9546293514760582,
          1.599497463833276,
          1.0851296565292388,
          -1.467177738869882,
          1.6987782408729655,
          1.1983444774482184,
          0.3155444180406639,
          -0.08519293842820412,
          -0.2456642503023336,
          0.5499649604319629,
          -3.4739634005226576,
          -2.2523455597506286,
          0.6937969710072474,
          1.6141764343342464,
          1.0400077714625975,
          0.10041443115825265,
          -0.7097173257145293,
          1.4604101958038826,
          0.3293241651930765,
          -0.8538133138281813,
          1.0663441980793718,
          0.47825456546125206,
          -0.671842993091924,
          0.17989808836044138,
          -0.5713356174675095,
          -0.48417683159928776,
          -0.5958366995752875,
          0.440964769391051,
          -0.5094687351758517,
          1.850188864915357,
          1.8675119837627912,
          -0.7122251808699338,
          0.06639775250348316,
          -1.695337244452929,
          1.6820736210084517,
          2.1310945371850463,
          -2.0930601078406137,
          -1.770996043995373,
          1.1437543834138326,
          -1.0775717485533514,
          -1.2275856522468844,
          1.217560029308882,
          0.03026729574779826,
          -1.5261799364599762,
          -0.04317321966520327,
          0.4887696263728301,
          0.470451294595051,
          1.4973438747078496,
          0.03651730210198627,
          0.509467886559641,
          0.03914759134423157,
          1.1308562743625474,
          0.4847047628207645,
          -0.4818166423351334,
          -2.080158939342939,
          -0.3751305898439625,
          0.03069571986767242,
          -0.4639225567373533,
          -0.7047432345226364,
          0.5217812056163413
         ],
         "yaxis": "y2"
        },
        {
         "line": {
          "color": "rgba(128, 128, 128, 1.0)",
          "dash": "solid",
          "shape": "linear",
          "width": 1.3
         },
         "marker": {
          "size": 2,
          "symbol": "circle"
         },
         "mode": "markers",
         "name": "A",
         "text": "",
         "type": "scatter",
         "x": [
          1.142957461938206,
          -0.6806125573649034,
          -1.0227817586537609,
          -0.06175598305331198,
          -2.857119317247955,
          -0.8026156012737113,
          0.14515392990946177,
          1.820762759962793,
          1.7317910720259766,
          -0.5355827163986291,
          -0.013574750771533906,
          0.13444921194922171,
          0.352673207392984,
          1.0072621275292684,
          1.229927995555651,
          2.136042961479565,
          -1.1723228481945511,
          1.0089558589830174,
          1.3985559261362852,
          -0.8325731223361609,
          -1.1401256081516107,
          -0.26583330975252095,
          0.6387792414628685,
          -0.5429091362003327,
          -2.0922479775033054,
          -0.8988064239550476,
          0.6929996926165763,
          0.8818628623091056,
          0.6975676418472025,
          -0.8788684792105158,
          1.6631070617585046,
          -0.6034459243047794,
          0.38597173621564035,
          -1.523891568361597,
          -1.259879097422616,
          0.17990138581357046,
          0.10853064364027251,
          0.3813978177227395,
          -0.3707262444083515,
          0.1507286183195694,
          -0.03206019274931715,
          0.7623051414856427,
          0.4118501538568426,
          1.2688469535198004,
          -0.23414749329142184,
          -0.37638456750429633,
          -1.1939671783580035,
          -1.1365481945856537,
          1.117128111513842,
          0.4723068041592008,
          -0.28169481187048445,
          0.03544221389922512,
          -1.063811946630155,
          0.6352727159649894,
          -0.6451093744106224,
          -0.28087286275127066,
          -0.11830913064769166,
          -2.3170291871331234,
          1.8139784434024169,
          0.24672464871290536,
          0.8369353888227604,
          -2.1437155576396942,
          1.754309141274669,
          -0.007796820439026534,
          0.7853097874691335,
          0.21540818823607497,
          -0.9030716490254593,
          -0.28321721477595774,
          0.5595247854263092,
          0.0031414715485191635,
          -0.5380866274429242,
          -0.8809091716997429,
          -1.45373282111659,
          -0.51926920566855,
          0.14873266415102424,
          0.7888599874592507,
          -2.1025788190103274,
          0.17574153051825117,
          -0.9468737982747777,
          -0.9736085018597049,
          1.2450370590295512,
          -2.144827448404873,
          -1.4691766297117512,
          0.9599144161071922,
          0.15177961654430017,
          1.451066628687136,
          -0.8189034360839488,
          -1.5601601784344195,
          -0.3357026308645879,
          -0.11544518415754632,
          0.9714972848297608,
          -0.2831689584490962,
          1.5968106765083325,
          0.04953698066907284,
          0.6323746017216597,
          1.853814731873583,
          1.0547336444809297,
          1.2047613193245084,
          1.899387145980557,
          0.764393875336319
         ],
         "xaxis": "x3",
         "y": [
          -1.5450841317171276,
          -1.413125498673202,
          0.9323209797782157,
          0.06948672060685748,
          -1.2523413495098872,
          -1.998523806904109,
          0.9190235994878402,
          -0.9119658333889711,
          0.48330895698670573,
          -0.18718041389695883,
          -1.4320101370003964,
          -1.0261708964009986,
          -0.2445512401393387,
          0.5509130159887102,
          -0.01880610498489131,
          -0.3314676127876932,
          -0.6148547025606768,
          0.5904187382004569,
          0.6079579957452251,
          1.029365744269441,
          0.37821917735715205,
          0.4853068362773339,
          -0.04114493743598664,
          0.8708159539648068,
          1.5460674411149098,
          -0.5519392483070829,
          -0.781020223747612,
          2.248475249081179,
          -0.7841092464880934,
          0.6982816726880846,
          -0.6817947425346943,
          -0.15254862845208006,
          0.08242693280174032,
          -0.6165766635482408,
          0.07344361303984231,
          -2.472226220100499,
          -0.7017642502166871,
          0.31867008055206325,
          -0.2599768591357568,
          0.1128594778484536,
          1.9546293514760582,
          1.599497463833276,
          1.0851296565292388,
          -1.467177738869882,
          1.6987782408729655,
          1.1983444774482184,
          0.3155444180406639,
          -0.08519293842820412,
          -0.2456642503023336,
          0.5499649604319629,
          -3.4739634005226576,
          -2.2523455597506286,
          0.6937969710072474,
          1.6141764343342464,
          1.0400077714625975,
          0.10041443115825265,
          -0.7097173257145293,
          1.4604101958038826,
          0.3293241651930765,
          -0.8538133138281813,
          1.0663441980793718,
          0.47825456546125206,
          -0.671842993091924,
          0.17989808836044138,
          -0.5713356174675095,
          -0.48417683159928776,
          -0.5958366995752875,
          0.440964769391051,
          -0.5094687351758517,
          1.850188864915357,
          1.8675119837627912,
          -0.7122251808699338,
          0.06639775250348316,
          -1.695337244452929,
          1.6820736210084517,
          2.1310945371850463,
          -2.0930601078406137,
          -1.770996043995373,
          1.1437543834138326,
          -1.0775717485533514,
          -1.2275856522468844,
          1.217560029308882,
          0.03026729574779826,
          -1.5261799364599762,
          -0.04317321966520327,
          0.4887696263728301,
          0.470451294595051,
          1.4973438747078496,
          0.03651730210198627,
          0.509467886559641,
          0.03914759134423157,
          1.1308562743625474,
          0.4847047628207645,
          -0.4818166423351334,
          -2.080158939342939,
          -0.3751305898439625,
          0.03069571986767242,
          -0.4639225567373533,
          -0.7047432345226364,
          0.5217812056163413
         ],
         "yaxis": "y3"
        },
        {
         "line": {
          "color": "rgba(128, 128, 128, 1.0)",
          "dash": "solid",
          "shape": "linear",
          "width": 1.3
         },
         "marker": {
          "size": 2,
          "symbol": "circle"
         },
         "mode": "markers",
         "name": "A",
         "text": "",
         "type": "scatter",
         "x": [
          0.6636046017032086,
          -0.6826678579419522,
          0.6412989761567559,
          -1.5336201560910816,
          -3.0735978113266715,
          -0.4950015121392039,
          0.7227854040184063,
          -0.06021350561293821,
          -0.12416536813522329,
          1.9778048228648673,
          0.5633389809420963,
          0.5411563180282993,
          -0.42114275385464545,
          -0.7471470062784517,
          -1.3220558601645211,
          3.046616889305344,
          0.540553458484006,
          0.3517466555649153,
          0.9750666258851184,
          -1.877285662060283,
          1.4999838850754361,
          -0.7367262395859325,
          -0.3507399224979165,
          0.1458813972391933,
          -0.5666383467819421,
          -0.5850810319701142,
          0.698206429038685,
          -0.5308752434363585,
          0.043197033494854986,
          0.285808676977401,
          -0.0666281228286287,
          0.2190966997181222,
          0.9912177507573966,
          0.6767917629462028,
          -0.49298500634473946,
          1.268176424940927,
          -1.1719207677492396,
          2.022476073007396,
          0.42864837419088964,
          -1.3138253643244255,
          0.45642574016421283,
          -0.6626710733447282,
          0.7742876944256257,
          -0.3630554814665732,
          0.12421122839255876,
          -0.17281791359695634,
          1.4230929174675107,
          0.49355066858406377,
          1.0238261708187997,
          -0.10223960276495231,
          -0.9041740045931916,
          -1.0119978449638662,
          2.1630080727496757,
          1.254656380856612,
          -2.6660388378594884,
          -0.9777421327380746,
          1.067472644384756,
          -1.7242127848488038,
          -0.7947393609084901,
          0.97546616563427,
          0.46891172753877913,
          0.25938018055253853,
          0.8764022779236528,
          0.38430258464807754,
          1.174145616590082,
          0.25759815147608617,
          -1.7405595388297692,
          -0.4205321356222938,
          -0.849162893686231,
          0.12345242530678299,
          -0.10988663392928052,
          0.11420173092192624,
          0.5098330152516697,
          -0.8829850487515168,
          0.6074352104419615,
          -1.443868662604306,
          1.04937413180432,
          0.6537724159725903,
          0.5029296863520941,
          2.423710092601902,
          -1.4785653770372578,
          -1.4487117922977846,
          0.9588723637513975,
          -0.3231444498896284,
          -0.6180473746122097,
          0.6467849040614588,
          -1.5356285554458193,
          -1.342808655557535,
          0.23380153442864607,
          0.9406928117865758,
          0.33113596584484745,
          -0.6053287612428888,
          2.6812975316108987,
          1.5674687076974196,
          0.5669006248196585,
          0.9159915678356795,
          -0.41198763993783094,
          0.050642246241135704,
          -1.4167612286518538,
          -0.3277222022306663
         ],
         "xaxis": "x4",
         "y": [
          -1.5450841317171276,
          -1.413125498673202,
          0.9323209797782157,
          0.06948672060685748,
          -1.2523413495098872,
          -1.998523806904109,
          0.9190235994878402,
          -0.9119658333889711,
          0.48330895698670573,
          -0.18718041389695883,
          -1.4320101370003964,
          -1.0261708964009986,
          -0.2445512401393387,
          0.5509130159887102,
          -0.01880610498489131,
          -0.3314676127876932,
          -0.6148547025606768,
          0.5904187382004569,
          0.6079579957452251,
          1.029365744269441,
          0.37821917735715205,
          0.4853068362773339,
          -0.04114493743598664,
          0.8708159539648068,
          1.5460674411149098,
          -0.5519392483070829,
          -0.781020223747612,
          2.248475249081179,
          -0.7841092464880934,
          0.6982816726880846,
          -0.6817947425346943,
          -0.15254862845208006,
          0.08242693280174032,
          -0.6165766635482408,
          0.07344361303984231,
          -2.472226220100499,
          -0.7017642502166871,
          0.31867008055206325,
          -0.2599768591357568,
          0.1128594778484536,
          1.9546293514760582,
          1.599497463833276,
          1.0851296565292388,
          -1.467177738869882,
          1.6987782408729655,
          1.1983444774482184,
          0.3155444180406639,
          -0.08519293842820412,
          -0.2456642503023336,
          0.5499649604319629,
          -3.4739634005226576,
          -2.2523455597506286,
          0.6937969710072474,
          1.6141764343342464,
          1.0400077714625975,
          0.10041443115825265,
          -0.7097173257145293,
          1.4604101958038826,
          0.3293241651930765,
          -0.8538133138281813,
          1.0663441980793718,
          0.47825456546125206,
          -0.671842993091924,
          0.17989808836044138,
          -0.5713356174675095,
          -0.48417683159928776,
          -0.5958366995752875,
          0.440964769391051,
          -0.5094687351758517,
          1.850188864915357,
          1.8675119837627912,
          -0.7122251808699338,
          0.06639775250348316,
          -1.695337244452929,
          1.6820736210084517,
          2.1310945371850463,
          -2.0930601078406137,
          -1.770996043995373,
          1.1437543834138326,
          -1.0775717485533514,
          -1.2275856522468844,
          1.217560029308882,
          0.03026729574779826,
          -1.5261799364599762,
          -0.04317321966520327,
          0.4887696263728301,
          0.470451294595051,
          1.4973438747078496,
          0.03651730210198627,
          0.509467886559641,
          0.03914759134423157,
          1.1308562743625474,
          0.4847047628207645,
          -0.4818166423351334,
          -2.080158939342939,
          -0.3751305898439625,
          0.03069571986767242,
          -0.4639225567373533,
          -0.7047432345226364,
          0.5217812056163413
         ],
         "yaxis": "y4"
        },
        {
         "line": {
          "color": "rgba(128, 128, 128, 1.0)",
          "dash": "solid",
          "shape": "linear",
          "width": 1.3
         },
         "marker": {
          "size": 2,
          "symbol": "circle"
         },
         "mode": "markers",
         "name": "B",
         "text": "",
         "type": "scatter",
         "x": [
          -1.5450841317171276,
          -1.413125498673202,
          0.9323209797782157,
          0.06948672060685748,
          -1.2523413495098872,
          -1.998523806904109,
          0.9190235994878402,
          -0.9119658333889711,
          0.48330895698670573,
          -0.18718041389695883,
          -1.4320101370003964,
          -1.0261708964009986,
          -0.2445512401393387,
          0.5509130159887102,
          -0.01880610498489131,
          -0.3314676127876932,
          -0.6148547025606768,
          0.5904187382004569,
          0.6079579957452251,
          1.029365744269441,
          0.37821917735715205,
          0.4853068362773339,
          -0.04114493743598664,
          0.8708159539648068,
          1.5460674411149098,
          -0.5519392483070829,
          -0.781020223747612,
          2.248475249081179,
          -0.7841092464880934,
          0.6982816726880846,
          -0.6817947425346943,
          -0.15254862845208006,
          0.08242693280174032,
          -0.6165766635482408,
          0.07344361303984231,
          -2.472226220100499,
          -0.7017642502166871,
          0.31867008055206325,
          -0.2599768591357568,
          0.1128594778484536,
          1.9546293514760582,
          1.599497463833276,
          1.0851296565292388,
          -1.467177738869882,
          1.6987782408729655,
          1.1983444774482184,
          0.3155444180406639,
          -0.08519293842820412,
          -0.2456642503023336,
          0.5499649604319629,
          -3.4739634005226576,
          -2.2523455597506286,
          0.6937969710072474,
          1.6141764343342464,
          1.0400077714625975,
          0.10041443115825265,
          -0.7097173257145293,
          1.4604101958038826,
          0.3293241651930765,
          -0.8538133138281813,
          1.0663441980793718,
          0.47825456546125206,
          -0.671842993091924,
          0.17989808836044138,
          -0.5713356174675095,
          -0.48417683159928776,
          -0.5958366995752875,
          0.440964769391051,
          -0.5094687351758517,
          1.850188864915357,
          1.8675119837627912,
          -0.7122251808699338,
          0.06639775250348316,
          -1.695337244452929,
          1.6820736210084517,
          2.1310945371850463,
          -2.0930601078406137,
          -1.770996043995373,
          1.1437543834138326,
          -1.0775717485533514,
          -1.2275856522468844,
          1.217560029308882,
          0.03026729574779826,
          -1.5261799364599762,
          -0.04317321966520327,
          0.4887696263728301,
          0.470451294595051,
          1.4973438747078496,
          0.03651730210198627,
          0.509467886559641,
          0.03914759134423157,
          1.1308562743625474,
          0.4847047628207645,
          -0.4818166423351334,
          -2.080158939342939,
          -0.3751305898439625,
          0.03069571986767242,
          -0.4639225567373533,
          -0.7047432345226364,
          0.5217812056163413
         ],
         "xaxis": "x5",
         "y": [
          0.5560590486778653,
          -0.07793450560493444,
          1.4728014419360818,
          1.1841675005675982,
          0.03281836403183733,
          -0.6461553540733159,
          0.5986016228049653,
          -0.5717226512281799,
          -0.2747819332926034,
          0.49043949751220406,
          -1.1299777891524494,
          -0.1702095917006199,
          1.722509452732334,
          -0.10183571621992656,
          0.8098258836135469,
          -1.1063076830024827,
          0.057112964591251786,
          -1.6245497623720355,
          0.07215549241226307,
          -0.8894380820025064,
          -2.120833496107395,
          -0.08012739410150374,
          -0.591197681351182,
          0.5197983468505548,
          0.24142254317476586,
          1.7457988842999421,
          -1.1070059282786342,
          0.7913944754762602,
          -0.03914090883278507,
          0.6152536901853041,
          -0.05698167740111924,
          -0.27251337345567,
          -0.07551250464389586,
          -1.4975382351147017,
          -0.20273312933138704,
          2.3361653725747384,
          -0.5764544082758793,
          -1.1206284477949207,
          1.0803724020371084,
          0.9017473742656453,
          -0.02018976267946315,
          0.05347973046173759,
          -0.45391764829224956,
          -1.4044676816734702,
          -1.1989349494957657,
          -1.0866814888362737,
          1.3894900407927153,
          0.9162647371019855,
          0.4194940637068126,
          0.9034317144972939,
          -1.6191837646872886,
          0.006057610591446054,
          0.10132471015131193,
          -0.23082140302094117,
          -1.3083413724708712,
          -1.2795626813486651,
          0.062410142195700555,
          0.2875986079539208,
          0.9055903722191032,
          1.0916151451771925,
          -0.35317700404366503,
          -1.1509106118990473,
          0.23836868247584514,
          -1.3950447728820754,
          -1.5431027269159214,
          -0.7267103886216447,
          -2.918958189158711,
          0.3007783016160846,
          -0.1197534659473193,
          2.444338372746112,
          1.0811358025289786,
          0.3008412860349423,
          1.6118481390652135,
          -0.1653194027176514,
          0.5121512969539667,
          -1.500586263147276,
          -1.0521038617793856,
          1.6372159044057157,
          1.1839733648110073,
          0.05110509841795652,
          1.2103708240782325,
          -0.8098886634300432,
          0.6935184762736882,
          0.9200130974217491,
          0.2780698881923895,
          -0.43299394989872503,
          -0.7508110319139402,
          -0.014969382105271498,
          -1.6936832131901614,
          -2.183184500009131,
          0.009773417538940442,
          0.21650240127684667,
          -1.2321789658109623,
          -0.15811371811548136,
          0.520944239040899,
          0.360402959490052,
          0.8879887300703774,
          -0.18766955772960667,
          -0.23289851453897023,
          0.11653811732251271
         ],
         "yaxis": "y5"
        },
        {
         "histfunc": "count",
         "histnorm": "",
         "marker": {
          "color": "rgba(55, 128, 191, 1.0)",
          "line": {
           "color": "#4D5663",
           "width": 1.3
          }
         },
         "name": "B",
         "nbinsx": 10,
         "opacity": 0.8,
         "orientation": "v",
         "type": "histogram",
         "x": [
          0.5560590486778653,
          -0.07793450560493444,
          1.4728014419360818,
          1.1841675005675982,
          0.03281836403183733,
          -0.6461553540733159,
          0.5986016228049653,
          -0.5717226512281799,
          -0.2747819332926034,
          0.49043949751220406,
          -1.1299777891524494,
          -0.1702095917006199,
          1.722509452732334,
          -0.10183571621992656,
          0.8098258836135469,
          -1.1063076830024827,
          0.057112964591251786,
          -1.6245497623720355,
          0.07215549241226307,
          -0.8894380820025064,
          -2.120833496107395,
          -0.08012739410150374,
          -0.591197681351182,
          0.5197983468505548,
          0.24142254317476586,
          1.7457988842999421,
          -1.1070059282786342,
          0.7913944754762602,
          -0.03914090883278507,
          0.6152536901853041,
          -0.05698167740111924,
          -0.27251337345567,
          -0.07551250464389586,
          -1.4975382351147017,
          -0.20273312933138704,
          2.3361653725747384,
          -0.5764544082758793,
          -1.1206284477949207,
          1.0803724020371084,
          0.9017473742656453,
          -0.02018976267946315,
          0.05347973046173759,
          -0.45391764829224956,
          -1.4044676816734702,
          -1.1989349494957657,
          -1.0866814888362737,
          1.3894900407927153,
          0.9162647371019855,
          0.4194940637068126,
          0.9034317144972939,
          -1.6191837646872886,
          0.006057610591446054,
          0.10132471015131193,
          -0.23082140302094117,
          -1.3083413724708712,
          -1.2795626813486651,
          0.062410142195700555,
          0.2875986079539208,
          0.9055903722191032,
          1.0916151451771925,
          -0.35317700404366503,
          -1.1509106118990473,
          0.23836868247584514,
          -1.3950447728820754,
          -1.5431027269159214,
          -0.7267103886216447,
          -2.918958189158711,
          0.3007783016160846,
          -0.1197534659473193,
          2.444338372746112,
          1.0811358025289786,
          0.3008412860349423,
          1.6118481390652135,
          -0.1653194027176514,
          0.5121512969539667,
          -1.500586263147276,
          -1.0521038617793856,
          1.6372159044057157,
          1.1839733648110073,
          0.05110509841795652,
          1.2103708240782325,
          -0.8098886634300432,
          0.6935184762736882,
          0.9200130974217491,
          0.2780698881923895,
          -0.43299394989872503,
          -0.7508110319139402,
          -0.014969382105271498,
          -1.6936832131901614,
          -2.183184500009131,
          0.009773417538940442,
          0.21650240127684667,
          -1.2321789658109623,
          -0.15811371811548136,
          0.520944239040899,
          0.360402959490052,
          0.8879887300703774,
          -0.18766955772960667,
          -0.23289851453897023,
          0.11653811732251271
         ],
         "xaxis": "x6",
         "yaxis": "y6"
        },
        {
         "line": {
          "color": "rgba(128, 128, 128, 1.0)",
          "dash": "solid",
          "shape": "linear",
          "width": 1.3
         },
         "marker": {
          "size": 2,
          "symbol": "circle"
         },
         "mode": "markers",
         "name": "B",
         "text": "",
         "type": "scatter",
         "x": [
          1.142957461938206,
          -0.6806125573649034,
          -1.0227817586537609,
          -0.06175598305331198,
          -2.857119317247955,
          -0.8026156012737113,
          0.14515392990946177,
          1.820762759962793,
          1.7317910720259766,
          -0.5355827163986291,
          -0.013574750771533906,
          0.13444921194922171,
          0.352673207392984,
          1.0072621275292684,
          1.229927995555651,
          2.136042961479565,
          -1.1723228481945511,
          1.0089558589830174,
          1.3985559261362852,
          -0.8325731223361609,
          -1.1401256081516107,
          -0.26583330975252095,
          0.6387792414628685,
          -0.5429091362003327,
          -2.0922479775033054,
          -0.8988064239550476,
          0.6929996926165763,
          0.8818628623091056,
          0.6975676418472025,
          -0.8788684792105158,
          1.6631070617585046,
          -0.6034459243047794,
          0.38597173621564035,
          -1.523891568361597,
          -1.259879097422616,
          0.17990138581357046,
          0.10853064364027251,
          0.3813978177227395,
          -0.3707262444083515,
          0.1507286183195694,
          -0.03206019274931715,
          0.7623051414856427,
          0.4118501538568426,
          1.2688469535198004,
          -0.23414749329142184,
          -0.37638456750429633,
          -1.1939671783580035,
          -1.1365481945856537,
          1.117128111513842,
          0.4723068041592008,
          -0.28169481187048445,
          0.03544221389922512,
          -1.063811946630155,
          0.6352727159649894,
          -0.6451093744106224,
          -0.28087286275127066,
          -0.11830913064769166,
          -2.3170291871331234,
          1.8139784434024169,
          0.24672464871290536,
          0.8369353888227604,
          -2.1437155576396942,
          1.754309141274669,
          -0.007796820439026534,
          0.7853097874691335,
          0.21540818823607497,
          -0.9030716490254593,
          -0.28321721477595774,
          0.5595247854263092,
          0.0031414715485191635,
          -0.5380866274429242,
          -0.8809091716997429,
          -1.45373282111659,
          -0.51926920566855,
          0.14873266415102424,
          0.7888599874592507,
          -2.1025788190103274,
          0.17574153051825117,
          -0.9468737982747777,
          -0.9736085018597049,
          1.2450370590295512,
          -2.144827448404873,
          -1.4691766297117512,
          0.9599144161071922,
          0.15177961654430017,
          1.451066628687136,
          -0.8189034360839488,
          -1.5601601784344195,
          -0.3357026308645879,
          -0.11544518415754632,
          0.9714972848297608,
          -0.2831689584490962,
          1.5968106765083325,
          0.04953698066907284,
          0.6323746017216597,
          1.853814731873583,
          1.0547336444809297,
          1.2047613193245084,
          1.899387145980557,
          0.764393875336319
         ],
         "xaxis": "x7",
         "y": [
          0.5560590486778653,
          -0.07793450560493444,
          1.4728014419360818,
          1.1841675005675982,
          0.03281836403183733,
          -0.6461553540733159,
          0.5986016228049653,
          -0.5717226512281799,
          -0.2747819332926034,
          0.49043949751220406,
          -1.1299777891524494,
          -0.1702095917006199,
          1.722509452732334,
          -0.10183571621992656,
          0.8098258836135469,
          -1.1063076830024827,
          0.057112964591251786,
          -1.6245497623720355,
          0.07215549241226307,
          -0.8894380820025064,
          -2.120833496107395,
          -0.08012739410150374,
          -0.591197681351182,
          0.5197983468505548,
          0.24142254317476586,
          1.7457988842999421,
          -1.1070059282786342,
          0.7913944754762602,
          -0.03914090883278507,
          0.6152536901853041,
          -0.05698167740111924,
          -0.27251337345567,
          -0.07551250464389586,
          -1.4975382351147017,
          -0.20273312933138704,
          2.3361653725747384,
          -0.5764544082758793,
          -1.1206284477949207,
          1.0803724020371084,
          0.9017473742656453,
          -0.02018976267946315,
          0.05347973046173759,
          -0.45391764829224956,
          -1.4044676816734702,
          -1.1989349494957657,
          -1.0866814888362737,
          1.3894900407927153,
          0.9162647371019855,
          0.4194940637068126,
          0.9034317144972939,
          -1.6191837646872886,
          0.006057610591446054,
          0.10132471015131193,
          -0.23082140302094117,
          -1.3083413724708712,
          -1.2795626813486651,
          0.062410142195700555,
          0.2875986079539208,
          0.9055903722191032,
          1.0916151451771925,
          -0.35317700404366503,
          -1.1509106118990473,
          0.23836868247584514,
          -1.3950447728820754,
          -1.5431027269159214,
          -0.7267103886216447,
          -2.918958189158711,
          0.3007783016160846,
          -0.1197534659473193,
          2.444338372746112,
          1.0811358025289786,
          0.3008412860349423,
          1.6118481390652135,
          -0.1653194027176514,
          0.5121512969539667,
          -1.500586263147276,
          -1.0521038617793856,
          1.6372159044057157,
          1.1839733648110073,
          0.05110509841795652,
          1.2103708240782325,
          -0.8098886634300432,
          0.6935184762736882,
          0.9200130974217491,
          0.2780698881923895,
          -0.43299394989872503,
          -0.7508110319139402,
          -0.014969382105271498,
          -1.6936832131901614,
          -2.183184500009131,
          0.009773417538940442,
          0.21650240127684667,
          -1.2321789658109623,
          -0.15811371811548136,
          0.520944239040899,
          0.360402959490052,
          0.8879887300703774,
          -0.18766955772960667,
          -0.23289851453897023,
          0.11653811732251271
         ],
         "yaxis": "y7"
        },
        {
         "line": {
          "color": "rgba(128, 128, 128, 1.0)",
          "dash": "solid",
          "shape": "linear",
          "width": 1.3
         },
         "marker": {
          "size": 2,
          "symbol": "circle"
         },
         "mode": "markers",
         "name": "B",
         "text": "",
         "type": "scatter",
         "x": [
          0.6636046017032086,
          -0.6826678579419522,
          0.6412989761567559,
          -1.5336201560910816,
          -3.0735978113266715,
          -0.4950015121392039,
          0.7227854040184063,
          -0.06021350561293821,
          -0.12416536813522329,
          1.9778048228648673,
          0.5633389809420963,
          0.5411563180282993,
          -0.42114275385464545,
          -0.7471470062784517,
          -1.3220558601645211,
          3.046616889305344,
          0.540553458484006,
          0.3517466555649153,
          0.9750666258851184,
          -1.877285662060283,
          1.4999838850754361,
          -0.7367262395859325,
          -0.3507399224979165,
          0.1458813972391933,
          -0.5666383467819421,
          -0.5850810319701142,
          0.698206429038685,
          -0.5308752434363585,
          0.043197033494854986,
          0.285808676977401,
          -0.0666281228286287,
          0.2190966997181222,
          0.9912177507573966,
          0.6767917629462028,
          -0.49298500634473946,
          1.268176424940927,
          -1.1719207677492396,
          2.022476073007396,
          0.42864837419088964,
          -1.3138253643244255,
          0.45642574016421283,
          -0.6626710733447282,
          0.7742876944256257,
          -0.3630554814665732,
          0.12421122839255876,
          -0.17281791359695634,
          1.4230929174675107,
          0.49355066858406377,
          1.0238261708187997,
          -0.10223960276495231,
          -0.9041740045931916,
          -1.0119978449638662,
          2.1630080727496757,
          1.254656380856612,
          -2.6660388378594884,
          -0.9777421327380746,
          1.067472644384756,
          -1.7242127848488038,
          -0.7947393609084901,
          0.97546616563427,
          0.46891172753877913,
          0.25938018055253853,
          0.8764022779236528,
          0.38430258464807754,
          1.174145616590082,
          0.25759815147608617,
          -1.7405595388297692,
          -0.4205321356222938,
          -0.849162893686231,
          0.12345242530678299,
          -0.10988663392928052,
          0.11420173092192624,
          0.5098330152516697,
          -0.8829850487515168,
          0.6074352104419615,
          -1.443868662604306,
          1.04937413180432,
          0.6537724159725903,
          0.5029296863520941,
          2.423710092601902,
          -1.4785653770372578,
          -1.4487117922977846,
          0.9588723637513975,
          -0.3231444498896284,
          -0.6180473746122097,
          0.6467849040614588,
          -1.5356285554458193,
          -1.342808655557535,
          0.23380153442864607,
          0.9406928117865758,
          0.33113596584484745,
          -0.6053287612428888,
          2.6812975316108987,
          1.5674687076974196,
          0.5669006248196585,
          0.9159915678356795,
          -0.41198763993783094,
          0.050642246241135704,
          -1.4167612286518538,
          -0.3277222022306663
         ],
         "xaxis": "x8",
         "y": [
          0.5560590486778653,
          -0.07793450560493444,
          1.4728014419360818,
          1.1841675005675982,
          0.03281836403183733,
          -0.6461553540733159,
          0.5986016228049653,
          -0.5717226512281799,
          -0.2747819332926034,
          0.49043949751220406,
          -1.1299777891524494,
          -0.1702095917006199,
          1.722509452732334,
          -0.10183571621992656,
          0.8098258836135469,
          -1.1063076830024827,
          0.057112964591251786,
          -1.6245497623720355,
          0.07215549241226307,
          -0.8894380820025064,
          -2.120833496107395,
          -0.08012739410150374,
          -0.591197681351182,
          0.5197983468505548,
          0.24142254317476586,
          1.7457988842999421,
          -1.1070059282786342,
          0.7913944754762602,
          -0.03914090883278507,
          0.6152536901853041,
          -0.05698167740111924,
          -0.27251337345567,
          -0.07551250464389586,
          -1.4975382351147017,
          -0.20273312933138704,
          2.3361653725747384,
          -0.5764544082758793,
          -1.1206284477949207,
          1.0803724020371084,
          0.9017473742656453,
          -0.02018976267946315,
          0.05347973046173759,
          -0.45391764829224956,
          -1.4044676816734702,
          -1.1989349494957657,
          -1.0866814888362737,
          1.3894900407927153,
          0.9162647371019855,
          0.4194940637068126,
          0.9034317144972939,
          -1.6191837646872886,
          0.006057610591446054,
          0.10132471015131193,
          -0.23082140302094117,
          -1.3083413724708712,
          -1.2795626813486651,
          0.062410142195700555,
          0.2875986079539208,
          0.9055903722191032,
          1.0916151451771925,
          -0.35317700404366503,
          -1.1509106118990473,
          0.23836868247584514,
          -1.3950447728820754,
          -1.5431027269159214,
          -0.7267103886216447,
          -2.918958189158711,
          0.3007783016160846,
          -0.1197534659473193,
          2.444338372746112,
          1.0811358025289786,
          0.3008412860349423,
          1.6118481390652135,
          -0.1653194027176514,
          0.5121512969539667,
          -1.500586263147276,
          -1.0521038617793856,
          1.6372159044057157,
          1.1839733648110073,
          0.05110509841795652,
          1.2103708240782325,
          -0.8098886634300432,
          0.6935184762736882,
          0.9200130974217491,
          0.2780698881923895,
          -0.43299394989872503,
          -0.7508110319139402,
          -0.014969382105271498,
          -1.6936832131901614,
          -2.183184500009131,
          0.009773417538940442,
          0.21650240127684667,
          -1.2321789658109623,
          -0.15811371811548136,
          0.520944239040899,
          0.360402959490052,
          0.8879887300703774,
          -0.18766955772960667,
          -0.23289851453897023,
          0.11653811732251271
         ],
         "yaxis": "y8"
        },
        {
         "line": {
          "color": "rgba(128, 128, 128, 1.0)",
          "dash": "solid",
          "shape": "linear",
          "width": 1.3
         },
         "marker": {
          "size": 2,
          "symbol": "circle"
         },
         "mode": "markers",
         "name": "C",
         "text": "",
         "type": "scatter",
         "x": [
          -1.5450841317171276,
          -1.413125498673202,
          0.9323209797782157,
          0.06948672060685748,
          -1.2523413495098872,
          -1.998523806904109,
          0.9190235994878402,
          -0.9119658333889711,
          0.48330895698670573,
          -0.18718041389695883,
          -1.4320101370003964,
          -1.0261708964009986,
          -0.2445512401393387,
          0.5509130159887102,
          -0.01880610498489131,
          -0.3314676127876932,
          -0.6148547025606768,
          0.5904187382004569,
          0.6079579957452251,
          1.029365744269441,
          0.37821917735715205,
          0.4853068362773339,
          -0.04114493743598664,
          0.8708159539648068,
          1.5460674411149098,
          -0.5519392483070829,
          -0.781020223747612,
          2.248475249081179,
          -0.7841092464880934,
          0.6982816726880846,
          -0.6817947425346943,
          -0.15254862845208006,
          0.08242693280174032,
          -0.6165766635482408,
          0.07344361303984231,
          -2.472226220100499,
          -0.7017642502166871,
          0.31867008055206325,
          -0.2599768591357568,
          0.1128594778484536,
          1.9546293514760582,
          1.599497463833276,
          1.0851296565292388,
          -1.467177738869882,
          1.6987782408729655,
          1.1983444774482184,
          0.3155444180406639,
          -0.08519293842820412,
          -0.2456642503023336,
          0.5499649604319629,
          -3.4739634005226576,
          -2.2523455597506286,
          0.6937969710072474,
          1.6141764343342464,
          1.0400077714625975,
          0.10041443115825265,
          -0.7097173257145293,
          1.4604101958038826,
          0.3293241651930765,
          -0.8538133138281813,
          1.0663441980793718,
          0.47825456546125206,
          -0.671842993091924,
          0.17989808836044138,
          -0.5713356174675095,
          -0.48417683159928776,
          -0.5958366995752875,
          0.440964769391051,
          -0.5094687351758517,
          1.850188864915357,
          1.8675119837627912,
          -0.7122251808699338,
          0.06639775250348316,
          -1.695337244452929,
          1.6820736210084517,
          2.1310945371850463,
          -2.0930601078406137,
          -1.770996043995373,
          1.1437543834138326,
          -1.0775717485533514,
          -1.2275856522468844,
          1.217560029308882,
          0.03026729574779826,
          -1.5261799364599762,
          -0.04317321966520327,
          0.4887696263728301,
          0.470451294595051,
          1.4973438747078496,
          0.03651730210198627,
          0.509467886559641,
          0.03914759134423157,
          1.1308562743625474,
          0.4847047628207645,
          -0.4818166423351334,
          -2.080158939342939,
          -0.3751305898439625,
          0.03069571986767242,
          -0.4639225567373533,
          -0.7047432345226364,
          0.5217812056163413
         ],
         "xaxis": "x9",
         "y": [
          1.142957461938206,
          -0.6806125573649034,
          -1.0227817586537609,
          -0.06175598305331198,
          -2.857119317247955,
          -0.8026156012737113,
          0.14515392990946177,
          1.820762759962793,
          1.7317910720259766,
          -0.5355827163986291,
          -0.013574750771533906,
          0.13444921194922171,
          0.352673207392984,
          1.0072621275292684,
          1.229927995555651,
          2.136042961479565,
          -1.1723228481945511,
          1.0089558589830174,
          1.3985559261362852,
          -0.8325731223361609,
          -1.1401256081516107,
          -0.26583330975252095,
          0.6387792414628685,
          -0.5429091362003327,
          -2.0922479775033054,
          -0.8988064239550476,
          0.6929996926165763,
          0.8818628623091056,
          0.6975676418472025,
          -0.8788684792105158,
          1.6631070617585046,
          -0.6034459243047794,
          0.38597173621564035,
          -1.523891568361597,
          -1.259879097422616,
          0.17990138581357046,
          0.10853064364027251,
          0.3813978177227395,
          -0.3707262444083515,
          0.1507286183195694,
          -0.03206019274931715,
          0.7623051414856427,
          0.4118501538568426,
          1.2688469535198004,
          -0.23414749329142184,
          -0.37638456750429633,
          -1.1939671783580035,
          -1.1365481945856537,
          1.117128111513842,
          0.4723068041592008,
          -0.28169481187048445,
          0.03544221389922512,
          -1.063811946630155,
          0.6352727159649894,
          -0.6451093744106224,
          -0.28087286275127066,
          -0.11830913064769166,
          -2.3170291871331234,
          1.8139784434024169,
          0.24672464871290536,
          0.8369353888227604,
          -2.1437155576396942,
          1.754309141274669,
          -0.007796820439026534,
          0.7853097874691335,
          0.21540818823607497,
          -0.9030716490254593,
          -0.28321721477595774,
          0.5595247854263092,
          0.0031414715485191635,
          -0.5380866274429242,
          -0.8809091716997429,
          -1.45373282111659,
          -0.51926920566855,
          0.14873266415102424,
          0.7888599874592507,
          -2.1025788190103274,
          0.17574153051825117,
          -0.9468737982747777,
          -0.9736085018597049,
          1.2450370590295512,
          -2.144827448404873,
          -1.4691766297117512,
          0.9599144161071922,
          0.15177961654430017,
          1.451066628687136,
          -0.8189034360839488,
          -1.5601601784344195,
          -0.3357026308645879,
          -0.11544518415754632,
          0.9714972848297608,
          -0.2831689584490962,
          1.5968106765083325,
          0.04953698066907284,
          0.6323746017216597,
          1.853814731873583,
          1.0547336444809297,
          1.2047613193245084,
          1.899387145980557,
          0.764393875336319
         ],
         "yaxis": "y9"
        },
        {
         "line": {
          "color": "rgba(128, 128, 128, 1.0)",
          "dash": "solid",
          "shape": "linear",
          "width": 1.3
         },
         "marker": {
          "size": 2,
          "symbol": "circle"
         },
         "mode": "markers",
         "name": "C",
         "text": "",
         "type": "scatter",
         "x": [
          0.5560590486778653,
          -0.07793450560493444,
          1.4728014419360818,
          1.1841675005675982,
          0.03281836403183733,
          -0.6461553540733159,
          0.5986016228049653,
          -0.5717226512281799,
          -0.2747819332926034,
          0.49043949751220406,
          -1.1299777891524494,
          -0.1702095917006199,
          1.722509452732334,
          -0.10183571621992656,
          0.8098258836135469,
          -1.1063076830024827,
          0.057112964591251786,
          -1.6245497623720355,
          0.07215549241226307,
          -0.8894380820025064,
          -2.120833496107395,
          -0.08012739410150374,
          -0.591197681351182,
          0.5197983468505548,
          0.24142254317476586,
          1.7457988842999421,
          -1.1070059282786342,
          0.7913944754762602,
          -0.03914090883278507,
          0.6152536901853041,
          -0.05698167740111924,
          -0.27251337345567,
          -0.07551250464389586,
          -1.4975382351147017,
          -0.20273312933138704,
          2.3361653725747384,
          -0.5764544082758793,
          -1.1206284477949207,
          1.0803724020371084,
          0.9017473742656453,
          -0.02018976267946315,
          0.05347973046173759,
          -0.45391764829224956,
          -1.4044676816734702,
          -1.1989349494957657,
          -1.0866814888362737,
          1.3894900407927153,
          0.9162647371019855,
          0.4194940637068126,
          0.9034317144972939,
          -1.6191837646872886,
          0.006057610591446054,
          0.10132471015131193,
          -0.23082140302094117,
          -1.3083413724708712,
          -1.2795626813486651,
          0.062410142195700555,
          0.2875986079539208,
          0.9055903722191032,
          1.0916151451771925,
          -0.35317700404366503,
          -1.1509106118990473,
          0.23836868247584514,
          -1.3950447728820754,
          -1.5431027269159214,
          -0.7267103886216447,
          -2.918958189158711,
          0.3007783016160846,
          -0.1197534659473193,
          2.444338372746112,
          1.0811358025289786,
          0.3008412860349423,
          1.6118481390652135,
          -0.1653194027176514,
          0.5121512969539667,
          -1.500586263147276,
          -1.0521038617793856,
          1.6372159044057157,
          1.1839733648110073,
          0.05110509841795652,
          1.2103708240782325,
          -0.8098886634300432,
          0.6935184762736882,
          0.9200130974217491,
          0.2780698881923895,
          -0.43299394989872503,
          -0.7508110319139402,
          -0.014969382105271498,
          -1.6936832131901614,
          -2.183184500009131,
          0.009773417538940442,
          0.21650240127684667,
          -1.2321789658109623,
          -0.15811371811548136,
          0.520944239040899,
          0.360402959490052,
          0.8879887300703774,
          -0.18766955772960667,
          -0.23289851453897023,
          0.11653811732251271
         ],
         "xaxis": "x10",
         "y": [
          1.142957461938206,
          -0.6806125573649034,
          -1.0227817586537609,
          -0.06175598305331198,
          -2.857119317247955,
          -0.8026156012737113,
          0.14515392990946177,
          1.820762759962793,
          1.7317910720259766,
          -0.5355827163986291,
          -0.013574750771533906,
          0.13444921194922171,
          0.352673207392984,
          1.0072621275292684,
          1.229927995555651,
          2.136042961479565,
          -1.1723228481945511,
          1.0089558589830174,
          1.3985559261362852,
          -0.8325731223361609,
          -1.1401256081516107,
          -0.26583330975252095,
          0.6387792414628685,
          -0.5429091362003327,
          -2.0922479775033054,
          -0.8988064239550476,
          0.6929996926165763,
          0.8818628623091056,
          0.6975676418472025,
          -0.8788684792105158,
          1.6631070617585046,
          -0.6034459243047794,
          0.38597173621564035,
          -1.523891568361597,
          -1.259879097422616,
          0.17990138581357046,
          0.10853064364027251,
          0.3813978177227395,
          -0.3707262444083515,
          0.1507286183195694,
          -0.03206019274931715,
          0.7623051414856427,
          0.4118501538568426,
          1.2688469535198004,
          -0.23414749329142184,
          -0.37638456750429633,
          -1.1939671783580035,
          -1.1365481945856537,
          1.117128111513842,
          0.4723068041592008,
          -0.28169481187048445,
          0.03544221389922512,
          -1.063811946630155,
          0.6352727159649894,
          -0.6451093744106224,
          -0.28087286275127066,
          -0.11830913064769166,
          -2.3170291871331234,
          1.8139784434024169,
          0.24672464871290536,
          0.8369353888227604,
          -2.1437155576396942,
          1.754309141274669,
          -0.007796820439026534,
          0.7853097874691335,
          0.21540818823607497,
          -0.9030716490254593,
          -0.28321721477595774,
          0.5595247854263092,
          0.0031414715485191635,
          -0.5380866274429242,
          -0.8809091716997429,
          -1.45373282111659,
          -0.51926920566855,
          0.14873266415102424,
          0.7888599874592507,
          -2.1025788190103274,
          0.17574153051825117,
          -0.9468737982747777,
          -0.9736085018597049,
          1.2450370590295512,
          -2.144827448404873,
          -1.4691766297117512,
          0.9599144161071922,
          0.15177961654430017,
          1.451066628687136,
          -0.8189034360839488,
          -1.5601601784344195,
          -0.3357026308645879,
          -0.11544518415754632,
          0.9714972848297608,
          -0.2831689584490962,
          1.5968106765083325,
          0.04953698066907284,
          0.6323746017216597,
          1.853814731873583,
          1.0547336444809297,
          1.2047613193245084,
          1.899387145980557,
          0.764393875336319
         ],
         "yaxis": "y10"
        },
        {
         "histfunc": "count",
         "histnorm": "",
         "marker": {
          "color": "rgba(50, 171, 96, 1.0)",
          "line": {
           "color": "#4D5663",
           "width": 1.3
          }
         },
         "name": "C",
         "nbinsx": 10,
         "opacity": 0.8,
         "orientation": "v",
         "type": "histogram",
         "x": [
          1.142957461938206,
          -0.6806125573649034,
          -1.0227817586537609,
          -0.06175598305331198,
          -2.857119317247955,
          -0.8026156012737113,
          0.14515392990946177,
          1.820762759962793,
          1.7317910720259766,
          -0.5355827163986291,
          -0.013574750771533906,
          0.13444921194922171,
          0.352673207392984,
          1.0072621275292684,
          1.229927995555651,
          2.136042961479565,
          -1.1723228481945511,
          1.0089558589830174,
          1.3985559261362852,
          -0.8325731223361609,
          -1.1401256081516107,
          -0.26583330975252095,
          0.6387792414628685,
          -0.5429091362003327,
          -2.0922479775033054,
          -0.8988064239550476,
          0.6929996926165763,
          0.8818628623091056,
          0.6975676418472025,
          -0.8788684792105158,
          1.6631070617585046,
          -0.6034459243047794,
          0.38597173621564035,
          -1.523891568361597,
          -1.259879097422616,
          0.17990138581357046,
          0.10853064364027251,
          0.3813978177227395,
          -0.3707262444083515,
          0.1507286183195694,
          -0.03206019274931715,
          0.7623051414856427,
          0.4118501538568426,
          1.2688469535198004,
          -0.23414749329142184,
          -0.37638456750429633,
          -1.1939671783580035,
          -1.1365481945856537,
          1.117128111513842,
          0.4723068041592008,
          -0.28169481187048445,
          0.03544221389922512,
          -1.063811946630155,
          0.6352727159649894,
          -0.6451093744106224,
          -0.28087286275127066,
          -0.11830913064769166,
          -2.3170291871331234,
          1.8139784434024169,
          0.24672464871290536,
          0.8369353888227604,
          -2.1437155576396942,
          1.754309141274669,
          -0.007796820439026534,
          0.7853097874691335,
          0.21540818823607497,
          -0.9030716490254593,
          -0.28321721477595774,
          0.5595247854263092,
          0.0031414715485191635,
          -0.5380866274429242,
          -0.8809091716997429,
          -1.45373282111659,
          -0.51926920566855,
          0.14873266415102424,
          0.7888599874592507,
          -2.1025788190103274,
          0.17574153051825117,
          -0.9468737982747777,
          -0.9736085018597049,
          1.2450370590295512,
          -2.144827448404873,
          -1.4691766297117512,
          0.9599144161071922,
          0.15177961654430017,
          1.451066628687136,
          -0.8189034360839488,
          -1.5601601784344195,
          -0.3357026308645879,
          -0.11544518415754632,
          0.9714972848297608,
          -0.2831689584490962,
          1.5968106765083325,
          0.04953698066907284,
          0.6323746017216597,
          1.853814731873583,
          1.0547336444809297,
          1.2047613193245084,
          1.899387145980557,
          0.764393875336319
         ],
         "xaxis": "x11",
         "yaxis": "y11"
        },
        {
         "line": {
          "color": "rgba(128, 128, 128, 1.0)",
          "dash": "solid",
          "shape": "linear",
          "width": 1.3
         },
         "marker": {
          "size": 2,
          "symbol": "circle"
         },
         "mode": "markers",
         "name": "C",
         "text": "",
         "type": "scatter",
         "x": [
          0.6636046017032086,
          -0.6826678579419522,
          0.6412989761567559,
          -1.5336201560910816,
          -3.0735978113266715,
          -0.4950015121392039,
          0.7227854040184063,
          -0.06021350561293821,
          -0.12416536813522329,
          1.9778048228648673,
          0.5633389809420963,
          0.5411563180282993,
          -0.42114275385464545,
          -0.7471470062784517,
          -1.3220558601645211,
          3.046616889305344,
          0.540553458484006,
          0.3517466555649153,
          0.9750666258851184,
          -1.877285662060283,
          1.4999838850754361,
          -0.7367262395859325,
          -0.3507399224979165,
          0.1458813972391933,
          -0.5666383467819421,
          -0.5850810319701142,
          0.698206429038685,
          -0.5308752434363585,
          0.043197033494854986,
          0.285808676977401,
          -0.0666281228286287,
          0.2190966997181222,
          0.9912177507573966,
          0.6767917629462028,
          -0.49298500634473946,
          1.268176424940927,
          -1.1719207677492396,
          2.022476073007396,
          0.42864837419088964,
          -1.3138253643244255,
          0.45642574016421283,
          -0.6626710733447282,
          0.7742876944256257,
          -0.3630554814665732,
          0.12421122839255876,
          -0.17281791359695634,
          1.4230929174675107,
          0.49355066858406377,
          1.0238261708187997,
          -0.10223960276495231,
          -0.9041740045931916,
          -1.0119978449638662,
          2.1630080727496757,
          1.254656380856612,
          -2.6660388378594884,
          -0.9777421327380746,
          1.067472644384756,
          -1.7242127848488038,
          -0.7947393609084901,
          0.97546616563427,
          0.46891172753877913,
          0.25938018055253853,
          0.8764022779236528,
          0.38430258464807754,
          1.174145616590082,
          0.25759815147608617,
          -1.7405595388297692,
          -0.4205321356222938,
          -0.849162893686231,
          0.12345242530678299,
          -0.10988663392928052,
          0.11420173092192624,
          0.5098330152516697,
          -0.8829850487515168,
          0.6074352104419615,
          -1.443868662604306,
          1.04937413180432,
          0.6537724159725903,
          0.5029296863520941,
          2.423710092601902,
          -1.4785653770372578,
          -1.4487117922977846,
          0.9588723637513975,
          -0.3231444498896284,
          -0.6180473746122097,
          0.6467849040614588,
          -1.5356285554458193,
          -1.342808655557535,
          0.23380153442864607,
          0.9406928117865758,
          0.33113596584484745,
          -0.6053287612428888,
          2.6812975316108987,
          1.5674687076974196,
          0.5669006248196585,
          0.9159915678356795,
          -0.41198763993783094,
          0.050642246241135704,
          -1.4167612286518538,
          -0.3277222022306663
         ],
         "xaxis": "x12",
         "y": [
          1.142957461938206,
          -0.6806125573649034,
          -1.0227817586537609,
          -0.06175598305331198,
          -2.857119317247955,
          -0.8026156012737113,
          0.14515392990946177,
          1.820762759962793,
          1.7317910720259766,
          -0.5355827163986291,
          -0.013574750771533906,
          0.13444921194922171,
          0.352673207392984,
          1.0072621275292684,
          1.229927995555651,
          2.136042961479565,
          -1.1723228481945511,
          1.0089558589830174,
          1.3985559261362852,
          -0.8325731223361609,
          -1.1401256081516107,
          -0.26583330975252095,
          0.6387792414628685,
          -0.5429091362003327,
          -2.0922479775033054,
          -0.8988064239550476,
          0.6929996926165763,
          0.8818628623091056,
          0.6975676418472025,
          -0.8788684792105158,
          1.6631070617585046,
          -0.6034459243047794,
          0.38597173621564035,
          -1.523891568361597,
          -1.259879097422616,
          0.17990138581357046,
          0.10853064364027251,
          0.3813978177227395,
          -0.3707262444083515,
          0.1507286183195694,
          -0.03206019274931715,
          0.7623051414856427,
          0.4118501538568426,
          1.2688469535198004,
          -0.23414749329142184,
          -0.37638456750429633,
          -1.1939671783580035,
          -1.1365481945856537,
          1.117128111513842,
          0.4723068041592008,
          -0.28169481187048445,
          0.03544221389922512,
          -1.063811946630155,
          0.6352727159649894,
          -0.6451093744106224,
          -0.28087286275127066,
          -0.11830913064769166,
          -2.3170291871331234,
          1.8139784434024169,
          0.24672464871290536,
          0.8369353888227604,
          -2.1437155576396942,
          1.754309141274669,
          -0.007796820439026534,
          0.7853097874691335,
          0.21540818823607497,
          -0.9030716490254593,
          -0.28321721477595774,
          0.5595247854263092,
          0.0031414715485191635,
          -0.5380866274429242,
          -0.8809091716997429,
          -1.45373282111659,
          -0.51926920566855,
          0.14873266415102424,
          0.7888599874592507,
          -2.1025788190103274,
          0.17574153051825117,
          -0.9468737982747777,
          -0.9736085018597049,
          1.2450370590295512,
          -2.144827448404873,
          -1.4691766297117512,
          0.9599144161071922,
          0.15177961654430017,
          1.451066628687136,
          -0.8189034360839488,
          -1.5601601784344195,
          -0.3357026308645879,
          -0.11544518415754632,
          0.9714972848297608,
          -0.2831689584490962,
          1.5968106765083325,
          0.04953698066907284,
          0.6323746017216597,
          1.853814731873583,
          1.0547336444809297,
          1.2047613193245084,
          1.899387145980557,
          0.764393875336319
         ],
         "yaxis": "y12"
        },
        {
         "line": {
          "color": "rgba(128, 128, 128, 1.0)",
          "dash": "solid",
          "shape": "linear",
          "width": 1.3
         },
         "marker": {
          "size": 2,
          "symbol": "circle"
         },
         "mode": "markers",
         "name": "D",
         "text": "",
         "type": "scatter",
         "x": [
          -1.5450841317171276,
          -1.413125498673202,
          0.9323209797782157,
          0.06948672060685748,
          -1.2523413495098872,
          -1.998523806904109,
          0.9190235994878402,
          -0.9119658333889711,
          0.48330895698670573,
          -0.18718041389695883,
          -1.4320101370003964,
          -1.0261708964009986,
          -0.2445512401393387,
          0.5509130159887102,
          -0.01880610498489131,
          -0.3314676127876932,
          -0.6148547025606768,
          0.5904187382004569,
          0.6079579957452251,
          1.029365744269441,
          0.37821917735715205,
          0.4853068362773339,
          -0.04114493743598664,
          0.8708159539648068,
          1.5460674411149098,
          -0.5519392483070829,
          -0.781020223747612,
          2.248475249081179,
          -0.7841092464880934,
          0.6982816726880846,
          -0.6817947425346943,
          -0.15254862845208006,
          0.08242693280174032,
          -0.6165766635482408,
          0.07344361303984231,
          -2.472226220100499,
          -0.7017642502166871,
          0.31867008055206325,
          -0.2599768591357568,
          0.1128594778484536,
          1.9546293514760582,
          1.599497463833276,
          1.0851296565292388,
          -1.467177738869882,
          1.6987782408729655,
          1.1983444774482184,
          0.3155444180406639,
          -0.08519293842820412,
          -0.2456642503023336,
          0.5499649604319629,
          -3.4739634005226576,
          -2.2523455597506286,
          0.6937969710072474,
          1.6141764343342464,
          1.0400077714625975,
          0.10041443115825265,
          -0.7097173257145293,
          1.4604101958038826,
          0.3293241651930765,
          -0.8538133138281813,
          1.0663441980793718,
          0.47825456546125206,
          -0.671842993091924,
          0.17989808836044138,
          -0.5713356174675095,
          -0.48417683159928776,
          -0.5958366995752875,
          0.440964769391051,
          -0.5094687351758517,
          1.850188864915357,
          1.8675119837627912,
          -0.7122251808699338,
          0.06639775250348316,
          -1.695337244452929,
          1.6820736210084517,
          2.1310945371850463,
          -2.0930601078406137,
          -1.770996043995373,
          1.1437543834138326,
          -1.0775717485533514,
          -1.2275856522468844,
          1.217560029308882,
          0.03026729574779826,
          -1.5261799364599762,
          -0.04317321966520327,
          0.4887696263728301,
          0.470451294595051,
          1.4973438747078496,
          0.03651730210198627,
          0.509467886559641,
          0.03914759134423157,
          1.1308562743625474,
          0.4847047628207645,
          -0.4818166423351334,
          -2.080158939342939,
          -0.3751305898439625,
          0.03069571986767242,
          -0.4639225567373533,
          -0.7047432345226364,
          0.5217812056163413
         ],
         "xaxis": "x13",
         "y": [
          0.6636046017032086,
          -0.6826678579419522,
          0.6412989761567559,
          -1.5336201560910816,
          -3.0735978113266715,
          -0.4950015121392039,
          0.7227854040184063,
          -0.06021350561293821,
          -0.12416536813522329,
          1.9778048228648673,
          0.5633389809420963,
          0.5411563180282993,
          -0.42114275385464545,
          -0.7471470062784517,
          -1.3220558601645211,
          3.046616889305344,
          0.540553458484006,
          0.3517466555649153,
          0.9750666258851184,
          -1.877285662060283,
          1.4999838850754361,
          -0.7367262395859325,
          -0.3507399224979165,
          0.1458813972391933,
          -0.5666383467819421,
          -0.5850810319701142,
          0.698206429038685,
          -0.5308752434363585,
          0.043197033494854986,
          0.285808676977401,
          -0.0666281228286287,
          0.2190966997181222,
          0.9912177507573966,
          0.6767917629462028,
          -0.49298500634473946,
          1.268176424940927,
          -1.1719207677492396,
          2.022476073007396,
          0.42864837419088964,
          -1.3138253643244255,
          0.45642574016421283,
          -0.6626710733447282,
          0.7742876944256257,
          -0.3630554814665732,
          0.12421122839255876,
          -0.17281791359695634,
          1.4230929174675107,
          0.49355066858406377,
          1.0238261708187997,
          -0.10223960276495231,
          -0.9041740045931916,
          -1.0119978449638662,
          2.1630080727496757,
          1.254656380856612,
          -2.6660388378594884,
          -0.9777421327380746,
          1.067472644384756,
          -1.7242127848488038,
          -0.7947393609084901,
          0.97546616563427,
          0.46891172753877913,
          0.25938018055253853,
          0.8764022779236528,
          0.38430258464807754,
          1.174145616590082,
          0.25759815147608617,
          -1.7405595388297692,
          -0.4205321356222938,
          -0.849162893686231,
          0.12345242530678299,
          -0.10988663392928052,
          0.11420173092192624,
          0.5098330152516697,
          -0.8829850487515168,
          0.6074352104419615,
          -1.443868662604306,
          1.04937413180432,
          0.6537724159725903,
          0.5029296863520941,
          2.423710092601902,
          -1.4785653770372578,
          -1.4487117922977846,
          0.9588723637513975,
          -0.3231444498896284,
          -0.6180473746122097,
          0.6467849040614588,
          -1.5356285554458193,
          -1.342808655557535,
          0.23380153442864607,
          0.9406928117865758,
          0.33113596584484745,
          -0.6053287612428888,
          2.6812975316108987,
          1.5674687076974196,
          0.5669006248196585,
          0.9159915678356795,
          -0.41198763993783094,
          0.050642246241135704,
          -1.4167612286518538,
          -0.3277222022306663
         ],
         "yaxis": "y13"
        },
        {
         "line": {
          "color": "rgba(128, 128, 128, 1.0)",
          "dash": "solid",
          "shape": "linear",
          "width": 1.3
         },
         "marker": {
          "size": 2,
          "symbol": "circle"
         },
         "mode": "markers",
         "name": "D",
         "text": "",
         "type": "scatter",
         "x": [
          0.5560590486778653,
          -0.07793450560493444,
          1.4728014419360818,
          1.1841675005675982,
          0.03281836403183733,
          -0.6461553540733159,
          0.5986016228049653,
          -0.5717226512281799,
          -0.2747819332926034,
          0.49043949751220406,
          -1.1299777891524494,
          -0.1702095917006199,
          1.722509452732334,
          -0.10183571621992656,
          0.8098258836135469,
          -1.1063076830024827,
          0.057112964591251786,
          -1.6245497623720355,
          0.07215549241226307,
          -0.8894380820025064,
          -2.120833496107395,
          -0.08012739410150374,
          -0.591197681351182,
          0.5197983468505548,
          0.24142254317476586,
          1.7457988842999421,
          -1.1070059282786342,
          0.7913944754762602,
          -0.03914090883278507,
          0.6152536901853041,
          -0.05698167740111924,
          -0.27251337345567,
          -0.07551250464389586,
          -1.4975382351147017,
          -0.20273312933138704,
          2.3361653725747384,
          -0.5764544082758793,
          -1.1206284477949207,
          1.0803724020371084,
          0.9017473742656453,
          -0.02018976267946315,
          0.05347973046173759,
          -0.45391764829224956,
          -1.4044676816734702,
          -1.1989349494957657,
          -1.0866814888362737,
          1.3894900407927153,
          0.9162647371019855,
          0.4194940637068126,
          0.9034317144972939,
          -1.6191837646872886,
          0.006057610591446054,
          0.10132471015131193,
          -0.23082140302094117,
          -1.3083413724708712,
          -1.2795626813486651,
          0.062410142195700555,
          0.2875986079539208,
          0.9055903722191032,
          1.0916151451771925,
          -0.35317700404366503,
          -1.1509106118990473,
          0.23836868247584514,
          -1.3950447728820754,
          -1.5431027269159214,
          -0.7267103886216447,
          -2.918958189158711,
          0.3007783016160846,
          -0.1197534659473193,
          2.444338372746112,
          1.0811358025289786,
          0.3008412860349423,
          1.6118481390652135,
          -0.1653194027176514,
          0.5121512969539667,
          -1.500586263147276,
          -1.0521038617793856,
          1.6372159044057157,
          1.1839733648110073,
          0.05110509841795652,
          1.2103708240782325,
          -0.8098886634300432,
          0.6935184762736882,
          0.9200130974217491,
          0.2780698881923895,
          -0.43299394989872503,
          -0.7508110319139402,
          -0.014969382105271498,
          -1.6936832131901614,
          -2.183184500009131,
          0.009773417538940442,
          0.21650240127684667,
          -1.2321789658109623,
          -0.15811371811548136,
          0.520944239040899,
          0.360402959490052,
          0.8879887300703774,
          -0.18766955772960667,
          -0.23289851453897023,
          0.11653811732251271
         ],
         "xaxis": "x14",
         "y": [
          0.6636046017032086,
          -0.6826678579419522,
          0.6412989761567559,
          -1.5336201560910816,
          -3.0735978113266715,
          -0.4950015121392039,
          0.7227854040184063,
          -0.06021350561293821,
          -0.12416536813522329,
          1.9778048228648673,
          0.5633389809420963,
          0.5411563180282993,
          -0.42114275385464545,
          -0.7471470062784517,
          -1.3220558601645211,
          3.046616889305344,
          0.540553458484006,
          0.3517466555649153,
          0.9750666258851184,
          -1.877285662060283,
          1.4999838850754361,
          -0.7367262395859325,
          -0.3507399224979165,
          0.1458813972391933,
          -0.5666383467819421,
          -0.5850810319701142,
          0.698206429038685,
          -0.5308752434363585,
          0.043197033494854986,
          0.285808676977401,
          -0.0666281228286287,
          0.2190966997181222,
          0.9912177507573966,
          0.6767917629462028,
          -0.49298500634473946,
          1.268176424940927,
          -1.1719207677492396,
          2.022476073007396,
          0.42864837419088964,
          -1.3138253643244255,
          0.45642574016421283,
          -0.6626710733447282,
          0.7742876944256257,
          -0.3630554814665732,
          0.12421122839255876,
          -0.17281791359695634,
          1.4230929174675107,
          0.49355066858406377,
          1.0238261708187997,
          -0.10223960276495231,
          -0.9041740045931916,
          -1.0119978449638662,
          2.1630080727496757,
          1.254656380856612,
          -2.6660388378594884,
          -0.9777421327380746,
          1.067472644384756,
          -1.7242127848488038,
          -0.7947393609084901,
          0.97546616563427,
          0.46891172753877913,
          0.25938018055253853,
          0.8764022779236528,
          0.38430258464807754,
          1.174145616590082,
          0.25759815147608617,
          -1.7405595388297692,
          -0.4205321356222938,
          -0.849162893686231,
          0.12345242530678299,
          -0.10988663392928052,
          0.11420173092192624,
          0.5098330152516697,
          -0.8829850487515168,
          0.6074352104419615,
          -1.443868662604306,
          1.04937413180432,
          0.6537724159725903,
          0.5029296863520941,
          2.423710092601902,
          -1.4785653770372578,
          -1.4487117922977846,
          0.9588723637513975,
          -0.3231444498896284,
          -0.6180473746122097,
          0.6467849040614588,
          -1.5356285554458193,
          -1.342808655557535,
          0.23380153442864607,
          0.9406928117865758,
          0.33113596584484745,
          -0.6053287612428888,
          2.6812975316108987,
          1.5674687076974196,
          0.5669006248196585,
          0.9159915678356795,
          -0.41198763993783094,
          0.050642246241135704,
          -1.4167612286518538,
          -0.3277222022306663
         ],
         "yaxis": "y14"
        },
        {
         "line": {
          "color": "rgba(128, 128, 128, 1.0)",
          "dash": "solid",
          "shape": "linear",
          "width": 1.3
         },
         "marker": {
          "size": 2,
          "symbol": "circle"
         },
         "mode": "markers",
         "name": "D",
         "text": "",
         "type": "scatter",
         "x": [
          1.142957461938206,
          -0.6806125573649034,
          -1.0227817586537609,
          -0.06175598305331198,
          -2.857119317247955,
          -0.8026156012737113,
          0.14515392990946177,
          1.820762759962793,
          1.7317910720259766,
          -0.5355827163986291,
          -0.013574750771533906,
          0.13444921194922171,
          0.352673207392984,
          1.0072621275292684,
          1.229927995555651,
          2.136042961479565,
          -1.1723228481945511,
          1.0089558589830174,
          1.3985559261362852,
          -0.8325731223361609,
          -1.1401256081516107,
          -0.26583330975252095,
          0.6387792414628685,
          -0.5429091362003327,
          -2.0922479775033054,
          -0.8988064239550476,
          0.6929996926165763,
          0.8818628623091056,
          0.6975676418472025,
          -0.8788684792105158,
          1.6631070617585046,
          -0.6034459243047794,
          0.38597173621564035,
          -1.523891568361597,
          -1.259879097422616,
          0.17990138581357046,
          0.10853064364027251,
          0.3813978177227395,
          -0.3707262444083515,
          0.1507286183195694,
          -0.03206019274931715,
          0.7623051414856427,
          0.4118501538568426,
          1.2688469535198004,
          -0.23414749329142184,
          -0.37638456750429633,
          -1.1939671783580035,
          -1.1365481945856537,
          1.117128111513842,
          0.4723068041592008,
          -0.28169481187048445,
          0.03544221389922512,
          -1.063811946630155,
          0.6352727159649894,
          -0.6451093744106224,
          -0.28087286275127066,
          -0.11830913064769166,
          -2.3170291871331234,
          1.8139784434024169,
          0.24672464871290536,
          0.8369353888227604,
          -2.1437155576396942,
          1.754309141274669,
          -0.007796820439026534,
          0.7853097874691335,
          0.21540818823607497,
          -0.9030716490254593,
          -0.28321721477595774,
          0.5595247854263092,
          0.0031414715485191635,
          -0.5380866274429242,
          -0.8809091716997429,
          -1.45373282111659,
          -0.51926920566855,
          0.14873266415102424,
          0.7888599874592507,
          -2.1025788190103274,
          0.17574153051825117,
          -0.9468737982747777,
          -0.9736085018597049,
          1.2450370590295512,
          -2.144827448404873,
          -1.4691766297117512,
          0.9599144161071922,
          0.15177961654430017,
          1.451066628687136,
          -0.8189034360839488,
          -1.5601601784344195,
          -0.3357026308645879,
          -0.11544518415754632,
          0.9714972848297608,
          -0.2831689584490962,
          1.5968106765083325,
          0.04953698066907284,
          0.6323746017216597,
          1.853814731873583,
          1.0547336444809297,
          1.2047613193245084,
          1.899387145980557,
          0.764393875336319
         ],
         "xaxis": "x15",
         "y": [
          0.6636046017032086,
          -0.6826678579419522,
          0.6412989761567559,
          -1.5336201560910816,
          -3.0735978113266715,
          -0.4950015121392039,
          0.7227854040184063,
          -0.06021350561293821,
          -0.12416536813522329,
          1.9778048228648673,
          0.5633389809420963,
          0.5411563180282993,
          -0.42114275385464545,
          -0.7471470062784517,
          -1.3220558601645211,
          3.046616889305344,
          0.540553458484006,
          0.3517466555649153,
          0.9750666258851184,
          -1.877285662060283,
          1.4999838850754361,
          -0.7367262395859325,
          -0.3507399224979165,
          0.1458813972391933,
          -0.5666383467819421,
          -0.5850810319701142,
          0.698206429038685,
          -0.5308752434363585,
          0.043197033494854986,
          0.285808676977401,
          -0.0666281228286287,
          0.2190966997181222,
          0.9912177507573966,
          0.6767917629462028,
          -0.49298500634473946,
          1.268176424940927,
          -1.1719207677492396,
          2.022476073007396,
          0.42864837419088964,
          -1.3138253643244255,
          0.45642574016421283,
          -0.6626710733447282,
          0.7742876944256257,
          -0.3630554814665732,
          0.12421122839255876,
          -0.17281791359695634,
          1.4230929174675107,
          0.49355066858406377,
          1.0238261708187997,
          -0.10223960276495231,
          -0.9041740045931916,
          -1.0119978449638662,
          2.1630080727496757,
          1.254656380856612,
          -2.6660388378594884,
          -0.9777421327380746,
          1.067472644384756,
          -1.7242127848488038,
          -0.7947393609084901,
          0.97546616563427,
          0.46891172753877913,
          0.25938018055253853,
          0.8764022779236528,
          0.38430258464807754,
          1.174145616590082,
          0.25759815147608617,
          -1.7405595388297692,
          -0.4205321356222938,
          -0.849162893686231,
          0.12345242530678299,
          -0.10988663392928052,
          0.11420173092192624,
          0.5098330152516697,
          -0.8829850487515168,
          0.6074352104419615,
          -1.443868662604306,
          1.04937413180432,
          0.6537724159725903,
          0.5029296863520941,
          2.423710092601902,
          -1.4785653770372578,
          -1.4487117922977846,
          0.9588723637513975,
          -0.3231444498896284,
          -0.6180473746122097,
          0.6467849040614588,
          -1.5356285554458193,
          -1.342808655557535,
          0.23380153442864607,
          0.9406928117865758,
          0.33113596584484745,
          -0.6053287612428888,
          2.6812975316108987,
          1.5674687076974196,
          0.5669006248196585,
          0.9159915678356795,
          -0.41198763993783094,
          0.050642246241135704,
          -1.4167612286518538,
          -0.3277222022306663
         ],
         "yaxis": "y15"
        },
        {
         "histfunc": "count",
         "histnorm": "",
         "marker": {
          "color": "rgba(128, 0, 128, 1.0)",
          "line": {
           "color": "#4D5663",
           "width": 1.3
          }
         },
         "name": "D",
         "nbinsx": 10,
         "opacity": 0.8,
         "orientation": "v",
         "type": "histogram",
         "x": [
          0.6636046017032086,
          -0.6826678579419522,
          0.6412989761567559,
          -1.5336201560910816,
          -3.0735978113266715,
          -0.4950015121392039,
          0.7227854040184063,
          -0.06021350561293821,
          -0.12416536813522329,
          1.9778048228648673,
          0.5633389809420963,
          0.5411563180282993,
          -0.42114275385464545,
          -0.7471470062784517,
          -1.3220558601645211,
          3.046616889305344,
          0.540553458484006,
          0.3517466555649153,
          0.9750666258851184,
          -1.877285662060283,
          1.4999838850754361,
          -0.7367262395859325,
          -0.3507399224979165,
          0.1458813972391933,
          -0.5666383467819421,
          -0.5850810319701142,
          0.698206429038685,
          -0.5308752434363585,
          0.043197033494854986,
          0.285808676977401,
          -0.0666281228286287,
          0.2190966997181222,
          0.9912177507573966,
          0.6767917629462028,
          -0.49298500634473946,
          1.268176424940927,
          -1.1719207677492396,
          2.022476073007396,
          0.42864837419088964,
          -1.3138253643244255,
          0.45642574016421283,
          -0.6626710733447282,
          0.7742876944256257,
          -0.3630554814665732,
          0.12421122839255876,
          -0.17281791359695634,
          1.4230929174675107,
          0.49355066858406377,
          1.0238261708187997,
          -0.10223960276495231,
          -0.9041740045931916,
          -1.0119978449638662,
          2.1630080727496757,
          1.254656380856612,
          -2.6660388378594884,
          -0.9777421327380746,
          1.067472644384756,
          -1.7242127848488038,
          -0.7947393609084901,
          0.97546616563427,
          0.46891172753877913,
          0.25938018055253853,
          0.8764022779236528,
          0.38430258464807754,
          1.174145616590082,
          0.25759815147608617,
          -1.7405595388297692,
          -0.4205321356222938,
          -0.849162893686231,
          0.12345242530678299,
          -0.10988663392928052,
          0.11420173092192624,
          0.5098330152516697,
          -0.8829850487515168,
          0.6074352104419615,
          -1.443868662604306,
          1.04937413180432,
          0.6537724159725903,
          0.5029296863520941,
          2.423710092601902,
          -1.4785653770372578,
          -1.4487117922977846,
          0.9588723637513975,
          -0.3231444498896284,
          -0.6180473746122097,
          0.6467849040614588,
          -1.5356285554458193,
          -1.342808655557535,
          0.23380153442864607,
          0.9406928117865758,
          0.33113596584484745,
          -0.6053287612428888,
          2.6812975316108987,
          1.5674687076974196,
          0.5669006248196585,
          0.9159915678356795,
          -0.41198763993783094,
          0.050642246241135704,
          -1.4167612286518538,
          -0.3277222022306663
         ],
         "xaxis": "x16",
         "yaxis": "y16"
        }
       ],
       "layout": {
        "bargap": 0.02,
        "legend": {
         "bgcolor": "#F5F6F9",
         "font": {
          "color": "#4D5663"
         }
        },
        "paper_bgcolor": "#F5F6F9",
        "plot_bgcolor": "#F5F6F9",
        "showlegend": false,
        "template": {
         "data": {
          "bar": [
           {
            "error_x": {
             "color": "#2a3f5f"
            },
            "error_y": {
             "color": "#2a3f5f"
            },
            "marker": {
             "line": {
              "color": "#E5ECF6",
              "width": 0.5
             },
             "pattern": {
              "fillmode": "overlay",
              "size": 10,
              "solidity": 0.2
             }
            },
            "type": "bar"
           }
          ],
          "barpolar": [
           {
            "marker": {
             "line": {
              "color": "#E5ECF6",
              "width": 0.5
             },
             "pattern": {
              "fillmode": "overlay",
              "size": 10,
              "solidity": 0.2
             }
            },
            "type": "barpolar"
           }
          ],
          "carpet": [
           {
            "aaxis": {
             "endlinecolor": "#2a3f5f",
             "gridcolor": "white",
             "linecolor": "white",
             "minorgridcolor": "white",
             "startlinecolor": "#2a3f5f"
            },
            "baxis": {
             "endlinecolor": "#2a3f5f",
             "gridcolor": "white",
             "linecolor": "white",
             "minorgridcolor": "white",
             "startlinecolor": "#2a3f5f"
            },
            "type": "carpet"
           }
          ],
          "choropleth": [
           {
            "colorbar": {
             "outlinewidth": 0,
             "ticks": ""
            },
            "type": "choropleth"
           }
          ],
          "contour": [
           {
            "colorbar": {
             "outlinewidth": 0,
             "ticks": ""
            },
            "colorscale": [
             [
              0,
              "#0d0887"
             ],
             [
              0.1111111111111111,
              "#46039f"
             ],
             [
              0.2222222222222222,
              "#7201a8"
             ],
             [
              0.3333333333333333,
              "#9c179e"
             ],
             [
              0.4444444444444444,
              "#bd3786"
             ],
             [
              0.5555555555555556,
              "#d8576b"
             ],
             [
              0.6666666666666666,
              "#ed7953"
             ],
             [
              0.7777777777777778,
              "#fb9f3a"
             ],
             [
              0.8888888888888888,
              "#fdca26"
             ],
             [
              1,
              "#f0f921"
             ]
            ],
            "type": "contour"
           }
          ],
          "contourcarpet": [
           {
            "colorbar": {
             "outlinewidth": 0,
             "ticks": ""
            },
            "type": "contourcarpet"
           }
          ],
          "heatmap": [
           {
            "colorbar": {
             "outlinewidth": 0,
             "ticks": ""
            },
            "colorscale": [
             [
              0,
              "#0d0887"
             ],
             [
              0.1111111111111111,
              "#46039f"
             ],
             [
              0.2222222222222222,
              "#7201a8"
             ],
             [
              0.3333333333333333,
              "#9c179e"
             ],
             [
              0.4444444444444444,
              "#bd3786"
             ],
             [
              0.5555555555555556,
              "#d8576b"
             ],
             [
              0.6666666666666666,
              "#ed7953"
             ],
             [
              0.7777777777777778,
              "#fb9f3a"
             ],
             [
              0.8888888888888888,
              "#fdca26"
             ],
             [
              1,
              "#f0f921"
             ]
            ],
            "type": "heatmap"
           }
          ],
          "heatmapgl": [
           {
            "colorbar": {
             "outlinewidth": 0,
             "ticks": ""
            },
            "colorscale": [
             [
              0,
              "#0d0887"
             ],
             [
              0.1111111111111111,
              "#46039f"
             ],
             [
              0.2222222222222222,
              "#7201a8"
             ],
             [
              0.3333333333333333,
              "#9c179e"
             ],
             [
              0.4444444444444444,
              "#bd3786"
             ],
             [
              0.5555555555555556,
              "#d8576b"
             ],
             [
              0.6666666666666666,
              "#ed7953"
             ],
             [
              0.7777777777777778,
              "#fb9f3a"
             ],
             [
              0.8888888888888888,
              "#fdca26"
             ],
             [
              1,
              "#f0f921"
             ]
            ],
            "type": "heatmapgl"
           }
          ],
          "histogram": [
           {
            "marker": {
             "pattern": {
              "fillmode": "overlay",
              "size": 10,
              "solidity": 0.2
             }
            },
            "type": "histogram"
           }
          ],
          "histogram2d": [
           {
            "colorbar": {
             "outlinewidth": 0,
             "ticks": ""
            },
            "colorscale": [
             [
              0,
              "#0d0887"
             ],
             [
              0.1111111111111111,
              "#46039f"
             ],
             [
              0.2222222222222222,
              "#7201a8"
             ],
             [
              0.3333333333333333,
              "#9c179e"
             ],
             [
              0.4444444444444444,
              "#bd3786"
             ],
             [
              0.5555555555555556,
              "#d8576b"
             ],
             [
              0.6666666666666666,
              "#ed7953"
             ],
             [
              0.7777777777777778,
              "#fb9f3a"
             ],
             [
              0.8888888888888888,
              "#fdca26"
             ],
             [
              1,
              "#f0f921"
             ]
            ],
            "type": "histogram2d"
           }
          ],
          "histogram2dcontour": [
           {
            "colorbar": {
             "outlinewidth": 0,
             "ticks": ""
            },
            "colorscale": [
             [
              0,
              "#0d0887"
             ],
             [
              0.1111111111111111,
              "#46039f"
             ],
             [
              0.2222222222222222,
              "#7201a8"
             ],
             [
              0.3333333333333333,
              "#9c179e"
             ],
             [
              0.4444444444444444,
              "#bd3786"
             ],
             [
              0.5555555555555556,
              "#d8576b"
             ],
             [
              0.6666666666666666,
              "#ed7953"
             ],
             [
              0.7777777777777778,
              "#fb9f3a"
             ],
             [
              0.8888888888888888,
              "#fdca26"
             ],
             [
              1,
              "#f0f921"
             ]
            ],
            "type": "histogram2dcontour"
           }
          ],
          "mesh3d": [
           {
            "colorbar": {
             "outlinewidth": 0,
             "ticks": ""
            },
            "type": "mesh3d"
           }
          ],
          "parcoords": [
           {
            "line": {
             "colorbar": {
              "outlinewidth": 0,
              "ticks": ""
             }
            },
            "type": "parcoords"
           }
          ],
          "pie": [
           {
            "automargin": true,
            "type": "pie"
           }
          ],
          "scatter": [
           {
            "fillpattern": {
             "fillmode": "overlay",
             "size": 10,
             "solidity": 0.2
            },
            "type": "scatter"
           }
          ],
          "scatter3d": [
           {
            "line": {
             "colorbar": {
              "outlinewidth": 0,
              "ticks": ""
             }
            },
            "marker": {
             "colorbar": {
              "outlinewidth": 0,
              "ticks": ""
             }
            },
            "type": "scatter3d"
           }
          ],
          "scattercarpet": [
           {
            "marker": {
             "colorbar": {
              "outlinewidth": 0,
              "ticks": ""
             }
            },
            "type": "scattercarpet"
           }
          ],
          "scattergeo": [
           {
            "marker": {
             "colorbar": {
              "outlinewidth": 0,
              "ticks": ""
             }
            },
            "type": "scattergeo"
           }
          ],
          "scattergl": [
           {
            "marker": {
             "colorbar": {
              "outlinewidth": 0,
              "ticks": ""
             }
            },
            "type": "scattergl"
           }
          ],
          "scattermapbox": [
           {
            "marker": {
             "colorbar": {
              "outlinewidth": 0,
              "ticks": ""
             }
            },
            "type": "scattermapbox"
           }
          ],
          "scatterpolar": [
           {
            "marker": {
             "colorbar": {
              "outlinewidth": 0,
              "ticks": ""
             }
            },
            "type": "scatterpolar"
           }
          ],
          "scatterpolargl": [
           {
            "marker": {
             "colorbar": {
              "outlinewidth": 0,
              "ticks": ""
             }
            },
            "type": "scatterpolargl"
           }
          ],
          "scatterternary": [
           {
            "marker": {
             "colorbar": {
              "outlinewidth": 0,
              "ticks": ""
             }
            },
            "type": "scatterternary"
           }
          ],
          "surface": [
           {
            "colorbar": {
             "outlinewidth": 0,
             "ticks": ""
            },
            "colorscale": [
             [
              0,
              "#0d0887"
             ],
             [
              0.1111111111111111,
              "#46039f"
             ],
             [
              0.2222222222222222,
              "#7201a8"
             ],
             [
              0.3333333333333333,
              "#9c179e"
             ],
             [
              0.4444444444444444,
              "#bd3786"
             ],
             [
              0.5555555555555556,
              "#d8576b"
             ],
             [
              0.6666666666666666,
              "#ed7953"
             ],
             [
              0.7777777777777778,
              "#fb9f3a"
             ],
             [
              0.8888888888888888,
              "#fdca26"
             ],
             [
              1,
              "#f0f921"
             ]
            ],
            "type": "surface"
           }
          ],
          "table": [
           {
            "cells": {
             "fill": {
              "color": "#EBF0F8"
             },
             "line": {
              "color": "white"
             }
            },
            "header": {
             "fill": {
              "color": "#C8D4E3"
             },
             "line": {
              "color": "white"
             }
            },
            "type": "table"
           }
          ]
         },
         "layout": {
          "annotationdefaults": {
           "arrowcolor": "#2a3f5f",
           "arrowhead": 0,
           "arrowwidth": 1
          },
          "autotypenumbers": "strict",
          "coloraxis": {
           "colorbar": {
            "outlinewidth": 0,
            "ticks": ""
           }
          },
          "colorscale": {
           "diverging": [
            [
             0,
             "#8e0152"
            ],
            [
             0.1,
             "#c51b7d"
            ],
            [
             0.2,
             "#de77ae"
            ],
            [
             0.3,
             "#f1b6da"
            ],
            [
             0.4,
             "#fde0ef"
            ],
            [
             0.5,
             "#f7f7f7"
            ],
            [
             0.6,
             "#e6f5d0"
            ],
            [
             0.7,
             "#b8e186"
            ],
            [
             0.8,
             "#7fbc41"
            ],
            [
             0.9,
             "#4d9221"
            ],
            [
             1,
             "#276419"
            ]
           ],
           "sequential": [
            [
             0,
             "#0d0887"
            ],
            [
             0.1111111111111111,
             "#46039f"
            ],
            [
             0.2222222222222222,
             "#7201a8"
            ],
            [
             0.3333333333333333,
             "#9c179e"
            ],
            [
             0.4444444444444444,
             "#bd3786"
            ],
            [
             0.5555555555555556,
             "#d8576b"
            ],
            [
             0.6666666666666666,
             "#ed7953"
            ],
            [
             0.7777777777777778,
             "#fb9f3a"
            ],
            [
             0.8888888888888888,
             "#fdca26"
            ],
            [
             1,
             "#f0f921"
            ]
           ],
           "sequentialminus": [
            [
             0,
             "#0d0887"
            ],
            [
             0.1111111111111111,
             "#46039f"
            ],
            [
             0.2222222222222222,
             "#7201a8"
            ],
            [
             0.3333333333333333,
             "#9c179e"
            ],
            [
             0.4444444444444444,
             "#bd3786"
            ],
            [
             0.5555555555555556,
             "#d8576b"
            ],
            [
             0.6666666666666666,
             "#ed7953"
            ],
            [
             0.7777777777777778,
             "#fb9f3a"
            ],
            [
             0.8888888888888888,
             "#fdca26"
            ],
            [
             1,
             "#f0f921"
            ]
           ]
          },
          "colorway": [
           "#636efa",
           "#EF553B",
           "#00cc96",
           "#ab63fa",
           "#FFA15A",
           "#19d3f3",
           "#FF6692",
           "#B6E880",
           "#FF97FF",
           "#FECB52"
          ],
          "font": {
           "color": "#2a3f5f"
          },
          "geo": {
           "bgcolor": "white",
           "lakecolor": "white",
           "landcolor": "#E5ECF6",
           "showlakes": true,
           "showland": true,
           "subunitcolor": "white"
          },
          "hoverlabel": {
           "align": "left"
          },
          "hovermode": "closest",
          "mapbox": {
           "style": "light"
          },
          "paper_bgcolor": "white",
          "plot_bgcolor": "#E5ECF6",
          "polar": {
           "angularaxis": {
            "gridcolor": "white",
            "linecolor": "white",
            "ticks": ""
           },
           "bgcolor": "#E5ECF6",
           "radialaxis": {
            "gridcolor": "white",
            "linecolor": "white",
            "ticks": ""
           }
          },
          "scene": {
           "xaxis": {
            "backgroundcolor": "#E5ECF6",
            "gridcolor": "white",
            "gridwidth": 2,
            "linecolor": "white",
            "showbackground": true,
            "ticks": "",
            "zerolinecolor": "white"
           },
           "yaxis": {
            "backgroundcolor": "#E5ECF6",
            "gridcolor": "white",
            "gridwidth": 2,
            "linecolor": "white",
            "showbackground": true,
            "ticks": "",
            "zerolinecolor": "white"
           },
           "zaxis": {
            "backgroundcolor": "#E5ECF6",
            "gridcolor": "white",
            "gridwidth": 2,
            "linecolor": "white",
            "showbackground": true,
            "ticks": "",
            "zerolinecolor": "white"
           }
          },
          "shapedefaults": {
           "line": {
            "color": "#2a3f5f"
           }
          },
          "ternary": {
           "aaxis": {
            "gridcolor": "white",
            "linecolor": "white",
            "ticks": ""
           },
           "baxis": {
            "gridcolor": "white",
            "linecolor": "white",
            "ticks": ""
           },
           "bgcolor": "#E5ECF6",
           "caxis": {
            "gridcolor": "white",
            "linecolor": "white",
            "ticks": ""
           }
          },
          "title": {
           "x": 0.05
          },
          "xaxis": {
           "automargin": true,
           "gridcolor": "white",
           "linecolor": "white",
           "ticks": "",
           "title": {
            "standoff": 15
           },
           "zerolinecolor": "white",
           "zerolinewidth": 2
          },
          "yaxis": {
           "automargin": true,
           "gridcolor": "white",
           "linecolor": "white",
           "ticks": "",
           "title": {
            "standoff": 15
           },
           "zerolinecolor": "white",
           "zerolinewidth": 2
          }
         }
        },
        "title": {
         "font": {
          "color": "#4D5663"
         }
        },
        "xaxis": {
         "anchor": "y",
         "domain": [
          0,
          0.2125
         ],
         "gridcolor": "#E1E5ED",
         "showgrid": false,
         "tickfont": {
          "color": "#4D5663"
         },
         "title": {
          "font": {
           "color": "#4D5663"
          },
          "text": ""
         },
         "zerolinecolor": "#E1E5ED"
        },
        "xaxis10": {
         "anchor": "y10",
         "domain": [
          0.2625,
          0.475
         ],
         "gridcolor": "#E1E5ED",
         "showgrid": false,
         "tickfont": {
          "color": "#4D5663"
         },
         "title": {
          "font": {
           "color": "#4D5663"
          },
          "text": ""
         },
         "zerolinecolor": "#E1E5ED"
        },
        "xaxis11": {
         "anchor": "y11",
         "domain": [
          0.525,
          0.7375
         ],
         "gridcolor": "#E1E5ED",
         "showgrid": false,
         "tickfont": {
          "color": "#4D5663"
         },
         "title": {
          "font": {
           "color": "#4D5663"
          },
          "text": ""
         },
         "zerolinecolor": "#E1E5ED"
        },
        "xaxis12": {
         "anchor": "y12",
         "domain": [
          0.7875,
          1
         ],
         "gridcolor": "#E1E5ED",
         "showgrid": false,
         "tickfont": {
          "color": "#4D5663"
         },
         "title": {
          "font": {
           "color": "#4D5663"
          },
          "text": ""
         },
         "zerolinecolor": "#E1E5ED"
        },
        "xaxis13": {
         "anchor": "y13",
         "domain": [
          0,
          0.2125
         ],
         "gridcolor": "#E1E5ED",
         "showgrid": false,
         "tickfont": {
          "color": "#4D5663"
         },
         "title": {
          "font": {
           "color": "#4D5663"
          },
          "text": ""
         },
         "zerolinecolor": "#E1E5ED"
        },
        "xaxis14": {
         "anchor": "y14",
         "domain": [
          0.2625,
          0.475
         ],
         "gridcolor": "#E1E5ED",
         "showgrid": false,
         "tickfont": {
          "color": "#4D5663"
         },
         "title": {
          "font": {
           "color": "#4D5663"
          },
          "text": ""
         },
         "zerolinecolor": "#E1E5ED"
        },
        "xaxis15": {
         "anchor": "y15",
         "domain": [
          0.525,
          0.7375
         ],
         "gridcolor": "#E1E5ED",
         "showgrid": false,
         "tickfont": {
          "color": "#4D5663"
         },
         "title": {
          "font": {
           "color": "#4D5663"
          },
          "text": ""
         },
         "zerolinecolor": "#E1E5ED"
        },
        "xaxis16": {
         "anchor": "y16",
         "domain": [
          0.7875,
          1
         ],
         "gridcolor": "#E1E5ED",
         "showgrid": false,
         "tickfont": {
          "color": "#4D5663"
         },
         "title": {
          "font": {
           "color": "#4D5663"
          },
          "text": ""
         },
         "zerolinecolor": "#E1E5ED"
        },
        "xaxis2": {
         "anchor": "y2",
         "domain": [
          0.2625,
          0.475
         ],
         "gridcolor": "#E1E5ED",
         "showgrid": false,
         "tickfont": {
          "color": "#4D5663"
         },
         "title": {
          "font": {
           "color": "#4D5663"
          },
          "text": ""
         },
         "zerolinecolor": "#E1E5ED"
        },
        "xaxis3": {
         "anchor": "y3",
         "domain": [
          0.525,
          0.7375
         ],
         "gridcolor": "#E1E5ED",
         "showgrid": false,
         "tickfont": {
          "color": "#4D5663"
         },
         "title": {
          "font": {
           "color": "#4D5663"
          },
          "text": ""
         },
         "zerolinecolor": "#E1E5ED"
        },
        "xaxis4": {
         "anchor": "y4",
         "domain": [
          0.7875,
          1
         ],
         "gridcolor": "#E1E5ED",
         "showgrid": false,
         "tickfont": {
          "color": "#4D5663"
         },
         "title": {
          "font": {
           "color": "#4D5663"
          },
          "text": ""
         },
         "zerolinecolor": "#E1E5ED"
        },
        "xaxis5": {
         "anchor": "y5",
         "domain": [
          0,
          0.2125
         ],
         "gridcolor": "#E1E5ED",
         "showgrid": false,
         "tickfont": {
          "color": "#4D5663"
         },
         "title": {
          "font": {
           "color": "#4D5663"
          },
          "text": ""
         },
         "zerolinecolor": "#E1E5ED"
        },
        "xaxis6": {
         "anchor": "y6",
         "domain": [
          0.2625,
          0.475
         ],
         "gridcolor": "#E1E5ED",
         "showgrid": false,
         "tickfont": {
          "color": "#4D5663"
         },
         "title": {
          "font": {
           "color": "#4D5663"
          },
          "text": ""
         },
         "zerolinecolor": "#E1E5ED"
        },
        "xaxis7": {
         "anchor": "y7",
         "domain": [
          0.525,
          0.7375
         ],
         "gridcolor": "#E1E5ED",
         "showgrid": false,
         "tickfont": {
          "color": "#4D5663"
         },
         "title": {
          "font": {
           "color": "#4D5663"
          },
          "text": ""
         },
         "zerolinecolor": "#E1E5ED"
        },
        "xaxis8": {
         "anchor": "y8",
         "domain": [
          0.7875,
          1
         ],
         "gridcolor": "#E1E5ED",
         "showgrid": false,
         "tickfont": {
          "color": "#4D5663"
         },
         "title": {
          "font": {
           "color": "#4D5663"
          },
          "text": ""
         },
         "zerolinecolor": "#E1E5ED"
        },
        "xaxis9": {
         "anchor": "y9",
         "domain": [
          0,
          0.2125
         ],
         "gridcolor": "#E1E5ED",
         "showgrid": false,
         "tickfont": {
          "color": "#4D5663"
         },
         "title": {
          "font": {
           "color": "#4D5663"
          },
          "text": ""
         },
         "zerolinecolor": "#E1E5ED"
        },
        "yaxis": {
         "anchor": "x",
         "domain": [
          0.8025,
          1
         ],
         "gridcolor": "#E1E5ED",
         "showgrid": false,
         "tickfont": {
          "color": "#4D5663"
         },
         "title": {
          "font": {
           "color": "#4D5663"
          },
          "text": ""
         },
         "zerolinecolor": "#E1E5ED"
        },
        "yaxis10": {
         "anchor": "x10",
         "domain": [
          0.2675,
          0.465
         ],
         "gridcolor": "#E1E5ED",
         "showgrid": false,
         "tickfont": {
          "color": "#4D5663"
         },
         "title": {
          "font": {
           "color": "#4D5663"
          },
          "text": ""
         },
         "zerolinecolor": "#E1E5ED"
        },
        "yaxis11": {
         "anchor": "x11",
         "domain": [
          0.2675,
          0.465
         ],
         "gridcolor": "#E1E5ED",
         "showgrid": false,
         "tickfont": {
          "color": "#4D5663"
         },
         "title": {
          "font": {
           "color": "#4D5663"
          },
          "text": ""
         },
         "zerolinecolor": "#E1E5ED"
        },
        "yaxis12": {
         "anchor": "x12",
         "domain": [
          0.2675,
          0.465
         ],
         "gridcolor": "#E1E5ED",
         "showgrid": false,
         "tickfont": {
          "color": "#4D5663"
         },
         "title": {
          "font": {
           "color": "#4D5663"
          },
          "text": ""
         },
         "zerolinecolor": "#E1E5ED"
        },
        "yaxis13": {
         "anchor": "x13",
         "domain": [
          0,
          0.1975
         ],
         "gridcolor": "#E1E5ED",
         "showgrid": false,
         "tickfont": {
          "color": "#4D5663"
         },
         "title": {
          "font": {
           "color": "#4D5663"
          },
          "text": ""
         },
         "zerolinecolor": "#E1E5ED"
        },
        "yaxis14": {
         "anchor": "x14",
         "domain": [
          0,
          0.1975
         ],
         "gridcolor": "#E1E5ED",
         "showgrid": false,
         "tickfont": {
          "color": "#4D5663"
         },
         "title": {
          "font": {
           "color": "#4D5663"
          },
          "text": ""
         },
         "zerolinecolor": "#E1E5ED"
        },
        "yaxis15": {
         "anchor": "x15",
         "domain": [
          0,
          0.1975
         ],
         "gridcolor": "#E1E5ED",
         "showgrid": false,
         "tickfont": {
          "color": "#4D5663"
         },
         "title": {
          "font": {
           "color": "#4D5663"
          },
          "text": ""
         },
         "zerolinecolor": "#E1E5ED"
        },
        "yaxis16": {
         "anchor": "x16",
         "domain": [
          0,
          0.1975
         ],
         "gridcolor": "#E1E5ED",
         "showgrid": false,
         "tickfont": {
          "color": "#4D5663"
         },
         "title": {
          "font": {
           "color": "#4D5663"
          },
          "text": ""
         },
         "zerolinecolor": "#E1E5ED"
        },
        "yaxis2": {
         "anchor": "x2",
         "domain": [
          0.8025,
          1
         ],
         "gridcolor": "#E1E5ED",
         "showgrid": false,
         "tickfont": {
          "color": "#4D5663"
         },
         "title": {
          "font": {
           "color": "#4D5663"
          },
          "text": ""
         },
         "zerolinecolor": "#E1E5ED"
        },
        "yaxis3": {
         "anchor": "x3",
         "domain": [
          0.8025,
          1
         ],
         "gridcolor": "#E1E5ED",
         "showgrid": false,
         "tickfont": {
          "color": "#4D5663"
         },
         "title": {
          "font": {
           "color": "#4D5663"
          },
          "text": ""
         },
         "zerolinecolor": "#E1E5ED"
        },
        "yaxis4": {
         "anchor": "x4",
         "domain": [
          0.8025,
          1
         ],
         "gridcolor": "#E1E5ED",
         "showgrid": false,
         "tickfont": {
          "color": "#4D5663"
         },
         "title": {
          "font": {
           "color": "#4D5663"
          },
          "text": ""
         },
         "zerolinecolor": "#E1E5ED"
        },
        "yaxis5": {
         "anchor": "x5",
         "domain": [
          0.535,
          0.7325
         ],
         "gridcolor": "#E1E5ED",
         "showgrid": false,
         "tickfont": {
          "color": "#4D5663"
         },
         "title": {
          "font": {
           "color": "#4D5663"
          },
          "text": ""
         },
         "zerolinecolor": "#E1E5ED"
        },
        "yaxis6": {
         "anchor": "x6",
         "domain": [
          0.535,
          0.7325
         ],
         "gridcolor": "#E1E5ED",
         "showgrid": false,
         "tickfont": {
          "color": "#4D5663"
         },
         "title": {
          "font": {
           "color": "#4D5663"
          },
          "text": ""
         },
         "zerolinecolor": "#E1E5ED"
        },
        "yaxis7": {
         "anchor": "x7",
         "domain": [
          0.535,
          0.7325
         ],
         "gridcolor": "#E1E5ED",
         "showgrid": false,
         "tickfont": {
          "color": "#4D5663"
         },
         "title": {
          "font": {
           "color": "#4D5663"
          },
          "text": ""
         },
         "zerolinecolor": "#E1E5ED"
        },
        "yaxis8": {
         "anchor": "x8",
         "domain": [
          0.535,
          0.7325
         ],
         "gridcolor": "#E1E5ED",
         "showgrid": false,
         "tickfont": {
          "color": "#4D5663"
         },
         "title": {
          "font": {
           "color": "#4D5663"
          },
          "text": ""
         },
         "zerolinecolor": "#E1E5ED"
        },
        "yaxis9": {
         "anchor": "x9",
         "domain": [
          0.2675,
          0.465
         ],
         "gridcolor": "#E1E5ED",
         "showgrid": false,
         "tickfont": {
          "color": "#4D5663"
         },
         "title": {
          "font": {
           "color": "#4D5663"
          },
          "text": ""
         },
         "zerolinecolor": "#E1E5ED"
        }
       }
      },
      "text/html": [
       "<div>                            <div id=\"03703377-9ee3-411e-93fe-ba34a5cd035f\" class=\"plotly-graph-div\" style=\"height:525px; width:100%;\"></div>            <script type=\"text/javascript\">                require([\"plotly\"], function(Plotly) {                    window.PLOTLYENV=window.PLOTLYENV || {};\n",
       "                    window.PLOTLYENV.BASE_URL='https://plot.ly';                                    if (document.getElementById(\"03703377-9ee3-411e-93fe-ba34a5cd035f\")) {                    Plotly.newPlot(                        \"03703377-9ee3-411e-93fe-ba34a5cd035f\",                        [{\"histfunc\":\"count\",\"histnorm\":\"\",\"marker\":{\"color\":\"rgba(255, 153, 51, 1.0)\",\"line\":{\"color\":\"#4D5663\",\"width\":1.3}},\"name\":\"A\",\"nbinsx\":10,\"opacity\":0.8,\"orientation\":\"v\",\"x\":[-1.5450841317171276,-1.413125498673202,0.9323209797782157,0.06948672060685748,-1.2523413495098872,-1.998523806904109,0.9190235994878402,-0.9119658333889711,0.48330895698670573,-0.18718041389695883,-1.4320101370003964,-1.0261708964009986,-0.2445512401393387,0.5509130159887102,-0.01880610498489131,-0.3314676127876932,-0.6148547025606768,0.5904187382004569,0.6079579957452251,1.029365744269441,0.37821917735715205,0.4853068362773339,-0.04114493743598664,0.8708159539648068,1.5460674411149098,-0.5519392483070829,-0.781020223747612,2.248475249081179,-0.7841092464880934,0.6982816726880846,-0.6817947425346943,-0.15254862845208006,0.08242693280174032,-0.6165766635482408,0.07344361303984231,-2.472226220100499,-0.7017642502166871,0.31867008055206325,-0.2599768591357568,0.1128594778484536,1.9546293514760582,1.599497463833276,1.0851296565292388,-1.467177738869882,1.6987782408729655,1.1983444774482184,0.3155444180406639,-0.08519293842820412,-0.2456642503023336,0.5499649604319629,-3.4739634005226576,-2.2523455597506286,0.6937969710072474,1.6141764343342464,1.0400077714625975,0.10041443115825265,-0.7097173257145293,1.4604101958038826,0.3293241651930765,-0.8538133138281813,1.0663441980793718,0.47825456546125206,-0.671842993091924,0.17989808836044138,-0.5713356174675095,-0.48417683159928776,-0.5958366995752875,0.440964769391051,-0.5094687351758517,1.850188864915357,1.8675119837627912,-0.7122251808699338,0.06639775250348316,-1.695337244452929,1.6820736210084517,2.1310945371850463,-2.0930601078406137,-1.770996043995373,1.1437543834138326,-1.0775717485533514,-1.2275856522468844,1.217560029308882,0.03026729574779826,-1.5261799364599762,-0.04317321966520327,0.4887696263728301,0.470451294595051,1.4973438747078496,0.03651730210198627,0.509467886559641,0.03914759134423157,1.1308562743625474,0.4847047628207645,-0.4818166423351334,-2.080158939342939,-0.3751305898439625,0.03069571986767242,-0.4639225567373533,-0.7047432345226364,0.5217812056163413],\"xaxis\":\"x\",\"yaxis\":\"y\",\"type\":\"histogram\"},{\"line\":{\"color\":\"rgba(128, 128, 128, 1.0)\",\"dash\":\"solid\",\"shape\":\"linear\",\"width\":1.3},\"marker\":{\"size\":2,\"symbol\":\"circle\"},\"mode\":\"markers\",\"name\":\"A\",\"text\":\"\",\"x\":[0.5560590486778653,-0.07793450560493444,1.4728014419360818,1.1841675005675982,0.03281836403183733,-0.6461553540733159,0.5986016228049653,-0.5717226512281799,-0.2747819332926034,0.49043949751220406,-1.1299777891524494,-0.1702095917006199,1.722509452732334,-0.10183571621992656,0.8098258836135469,-1.1063076830024827,0.057112964591251786,-1.6245497623720355,0.07215549241226307,-0.8894380820025064,-2.120833496107395,-0.08012739410150374,-0.591197681351182,0.5197983468505548,0.24142254317476586,1.7457988842999421,-1.1070059282786342,0.7913944754762602,-0.03914090883278507,0.6152536901853041,-0.05698167740111924,-0.27251337345567,-0.07551250464389586,-1.4975382351147017,-0.20273312933138704,2.3361653725747384,-0.5764544082758793,-1.1206284477949207,1.0803724020371084,0.9017473742656453,-0.02018976267946315,0.05347973046173759,-0.45391764829224956,-1.4044676816734702,-1.1989349494957657,-1.0866814888362737,1.3894900407927153,0.9162647371019855,0.4194940637068126,0.9034317144972939,-1.6191837646872886,0.006057610591446054,0.10132471015131193,-0.23082140302094117,-1.3083413724708712,-1.2795626813486651,0.062410142195700555,0.2875986079539208,0.9055903722191032,1.0916151451771925,-0.35317700404366503,-1.1509106118990473,0.23836868247584514,-1.3950447728820754,-1.5431027269159214,-0.7267103886216447,-2.918958189158711,0.3007783016160846,-0.1197534659473193,2.444338372746112,1.0811358025289786,0.3008412860349423,1.6118481390652135,-0.1653194027176514,0.5121512969539667,-1.500586263147276,-1.0521038617793856,1.6372159044057157,1.1839733648110073,0.05110509841795652,1.2103708240782325,-0.8098886634300432,0.6935184762736882,0.9200130974217491,0.2780698881923895,-0.43299394989872503,-0.7508110319139402,-0.014969382105271498,-1.6936832131901614,-2.183184500009131,0.009773417538940442,0.21650240127684667,-1.2321789658109623,-0.15811371811548136,0.520944239040899,0.360402959490052,0.8879887300703774,-0.18766955772960667,-0.23289851453897023,0.11653811732251271],\"xaxis\":\"x2\",\"y\":[-1.5450841317171276,-1.413125498673202,0.9323209797782157,0.06948672060685748,-1.2523413495098872,-1.998523806904109,0.9190235994878402,-0.9119658333889711,0.48330895698670573,-0.18718041389695883,-1.4320101370003964,-1.0261708964009986,-0.2445512401393387,0.5509130159887102,-0.01880610498489131,-0.3314676127876932,-0.6148547025606768,0.5904187382004569,0.6079579957452251,1.029365744269441,0.37821917735715205,0.4853068362773339,-0.04114493743598664,0.8708159539648068,1.5460674411149098,-0.5519392483070829,-0.781020223747612,2.248475249081179,-0.7841092464880934,0.6982816726880846,-0.6817947425346943,-0.15254862845208006,0.08242693280174032,-0.6165766635482408,0.07344361303984231,-2.472226220100499,-0.7017642502166871,0.31867008055206325,-0.2599768591357568,0.1128594778484536,1.9546293514760582,1.599497463833276,1.0851296565292388,-1.467177738869882,1.6987782408729655,1.1983444774482184,0.3155444180406639,-0.08519293842820412,-0.2456642503023336,0.5499649604319629,-3.4739634005226576,-2.2523455597506286,0.6937969710072474,1.6141764343342464,1.0400077714625975,0.10041443115825265,-0.7097173257145293,1.4604101958038826,0.3293241651930765,-0.8538133138281813,1.0663441980793718,0.47825456546125206,-0.671842993091924,0.17989808836044138,-0.5713356174675095,-0.48417683159928776,-0.5958366995752875,0.440964769391051,-0.5094687351758517,1.850188864915357,1.8675119837627912,-0.7122251808699338,0.06639775250348316,-1.695337244452929,1.6820736210084517,2.1310945371850463,-2.0930601078406137,-1.770996043995373,1.1437543834138326,-1.0775717485533514,-1.2275856522468844,1.217560029308882,0.03026729574779826,-1.5261799364599762,-0.04317321966520327,0.4887696263728301,0.470451294595051,1.4973438747078496,0.03651730210198627,0.509467886559641,0.03914759134423157,1.1308562743625474,0.4847047628207645,-0.4818166423351334,-2.080158939342939,-0.3751305898439625,0.03069571986767242,-0.4639225567373533,-0.7047432345226364,0.5217812056163413],\"yaxis\":\"y2\",\"type\":\"scatter\"},{\"line\":{\"color\":\"rgba(128, 128, 128, 1.0)\",\"dash\":\"solid\",\"shape\":\"linear\",\"width\":1.3},\"marker\":{\"size\":2,\"symbol\":\"circle\"},\"mode\":\"markers\",\"name\":\"A\",\"text\":\"\",\"x\":[1.142957461938206,-0.6806125573649034,-1.0227817586537609,-0.06175598305331198,-2.857119317247955,-0.8026156012737113,0.14515392990946177,1.820762759962793,1.7317910720259766,-0.5355827163986291,-0.013574750771533906,0.13444921194922171,0.352673207392984,1.0072621275292684,1.229927995555651,2.136042961479565,-1.1723228481945511,1.0089558589830174,1.3985559261362852,-0.8325731223361609,-1.1401256081516107,-0.26583330975252095,0.6387792414628685,-0.5429091362003327,-2.0922479775033054,-0.8988064239550476,0.6929996926165763,0.8818628623091056,0.6975676418472025,-0.8788684792105158,1.6631070617585046,-0.6034459243047794,0.38597173621564035,-1.523891568361597,-1.259879097422616,0.17990138581357046,0.10853064364027251,0.3813978177227395,-0.3707262444083515,0.1507286183195694,-0.03206019274931715,0.7623051414856427,0.4118501538568426,1.2688469535198004,-0.23414749329142184,-0.37638456750429633,-1.1939671783580035,-1.1365481945856537,1.117128111513842,0.4723068041592008,-0.28169481187048445,0.03544221389922512,-1.063811946630155,0.6352727159649894,-0.6451093744106224,-0.28087286275127066,-0.11830913064769166,-2.3170291871331234,1.8139784434024169,0.24672464871290536,0.8369353888227604,-2.1437155576396942,1.754309141274669,-0.007796820439026534,0.7853097874691335,0.21540818823607497,-0.9030716490254593,-0.28321721477595774,0.5595247854263092,0.0031414715485191635,-0.5380866274429242,-0.8809091716997429,-1.45373282111659,-0.51926920566855,0.14873266415102424,0.7888599874592507,-2.1025788190103274,0.17574153051825117,-0.9468737982747777,-0.9736085018597049,1.2450370590295512,-2.144827448404873,-1.4691766297117512,0.9599144161071922,0.15177961654430017,1.451066628687136,-0.8189034360839488,-1.5601601784344195,-0.3357026308645879,-0.11544518415754632,0.9714972848297608,-0.2831689584490962,1.5968106765083325,0.04953698066907284,0.6323746017216597,1.853814731873583,1.0547336444809297,1.2047613193245084,1.899387145980557,0.764393875336319],\"xaxis\":\"x3\",\"y\":[-1.5450841317171276,-1.413125498673202,0.9323209797782157,0.06948672060685748,-1.2523413495098872,-1.998523806904109,0.9190235994878402,-0.9119658333889711,0.48330895698670573,-0.18718041389695883,-1.4320101370003964,-1.0261708964009986,-0.2445512401393387,0.5509130159887102,-0.01880610498489131,-0.3314676127876932,-0.6148547025606768,0.5904187382004569,0.6079579957452251,1.029365744269441,0.37821917735715205,0.4853068362773339,-0.04114493743598664,0.8708159539648068,1.5460674411149098,-0.5519392483070829,-0.781020223747612,2.248475249081179,-0.7841092464880934,0.6982816726880846,-0.6817947425346943,-0.15254862845208006,0.08242693280174032,-0.6165766635482408,0.07344361303984231,-2.472226220100499,-0.7017642502166871,0.31867008055206325,-0.2599768591357568,0.1128594778484536,1.9546293514760582,1.599497463833276,1.0851296565292388,-1.467177738869882,1.6987782408729655,1.1983444774482184,0.3155444180406639,-0.08519293842820412,-0.2456642503023336,0.5499649604319629,-3.4739634005226576,-2.2523455597506286,0.6937969710072474,1.6141764343342464,1.0400077714625975,0.10041443115825265,-0.7097173257145293,1.4604101958038826,0.3293241651930765,-0.8538133138281813,1.0663441980793718,0.47825456546125206,-0.671842993091924,0.17989808836044138,-0.5713356174675095,-0.48417683159928776,-0.5958366995752875,0.440964769391051,-0.5094687351758517,1.850188864915357,1.8675119837627912,-0.7122251808699338,0.06639775250348316,-1.695337244452929,1.6820736210084517,2.1310945371850463,-2.0930601078406137,-1.770996043995373,1.1437543834138326,-1.0775717485533514,-1.2275856522468844,1.217560029308882,0.03026729574779826,-1.5261799364599762,-0.04317321966520327,0.4887696263728301,0.470451294595051,1.4973438747078496,0.03651730210198627,0.509467886559641,0.03914759134423157,1.1308562743625474,0.4847047628207645,-0.4818166423351334,-2.080158939342939,-0.3751305898439625,0.03069571986767242,-0.4639225567373533,-0.7047432345226364,0.5217812056163413],\"yaxis\":\"y3\",\"type\":\"scatter\"},{\"line\":{\"color\":\"rgba(128, 128, 128, 1.0)\",\"dash\":\"solid\",\"shape\":\"linear\",\"width\":1.3},\"marker\":{\"size\":2,\"symbol\":\"circle\"},\"mode\":\"markers\",\"name\":\"A\",\"text\":\"\",\"x\":[0.6636046017032086,-0.6826678579419522,0.6412989761567559,-1.5336201560910816,-3.0735978113266715,-0.4950015121392039,0.7227854040184063,-0.06021350561293821,-0.12416536813522329,1.9778048228648673,0.5633389809420963,0.5411563180282993,-0.42114275385464545,-0.7471470062784517,-1.3220558601645211,3.046616889305344,0.540553458484006,0.3517466555649153,0.9750666258851184,-1.877285662060283,1.4999838850754361,-0.7367262395859325,-0.3507399224979165,0.1458813972391933,-0.5666383467819421,-0.5850810319701142,0.698206429038685,-0.5308752434363585,0.043197033494854986,0.285808676977401,-0.0666281228286287,0.2190966997181222,0.9912177507573966,0.6767917629462028,-0.49298500634473946,1.268176424940927,-1.1719207677492396,2.022476073007396,0.42864837419088964,-1.3138253643244255,0.45642574016421283,-0.6626710733447282,0.7742876944256257,-0.3630554814665732,0.12421122839255876,-0.17281791359695634,1.4230929174675107,0.49355066858406377,1.0238261708187997,-0.10223960276495231,-0.9041740045931916,-1.0119978449638662,2.1630080727496757,1.254656380856612,-2.6660388378594884,-0.9777421327380746,1.067472644384756,-1.7242127848488038,-0.7947393609084901,0.97546616563427,0.46891172753877913,0.25938018055253853,0.8764022779236528,0.38430258464807754,1.174145616590082,0.25759815147608617,-1.7405595388297692,-0.4205321356222938,-0.849162893686231,0.12345242530678299,-0.10988663392928052,0.11420173092192624,0.5098330152516697,-0.8829850487515168,0.6074352104419615,-1.443868662604306,1.04937413180432,0.6537724159725903,0.5029296863520941,2.423710092601902,-1.4785653770372578,-1.4487117922977846,0.9588723637513975,-0.3231444498896284,-0.6180473746122097,0.6467849040614588,-1.5356285554458193,-1.342808655557535,0.23380153442864607,0.9406928117865758,0.33113596584484745,-0.6053287612428888,2.6812975316108987,1.5674687076974196,0.5669006248196585,0.9159915678356795,-0.41198763993783094,0.050642246241135704,-1.4167612286518538,-0.3277222022306663],\"xaxis\":\"x4\",\"y\":[-1.5450841317171276,-1.413125498673202,0.9323209797782157,0.06948672060685748,-1.2523413495098872,-1.998523806904109,0.9190235994878402,-0.9119658333889711,0.48330895698670573,-0.18718041389695883,-1.4320101370003964,-1.0261708964009986,-0.2445512401393387,0.5509130159887102,-0.01880610498489131,-0.3314676127876932,-0.6148547025606768,0.5904187382004569,0.6079579957452251,1.029365744269441,0.37821917735715205,0.4853068362773339,-0.04114493743598664,0.8708159539648068,1.5460674411149098,-0.5519392483070829,-0.781020223747612,2.248475249081179,-0.7841092464880934,0.6982816726880846,-0.6817947425346943,-0.15254862845208006,0.08242693280174032,-0.6165766635482408,0.07344361303984231,-2.472226220100499,-0.7017642502166871,0.31867008055206325,-0.2599768591357568,0.1128594778484536,1.9546293514760582,1.599497463833276,1.0851296565292388,-1.467177738869882,1.6987782408729655,1.1983444774482184,0.3155444180406639,-0.08519293842820412,-0.2456642503023336,0.5499649604319629,-3.4739634005226576,-2.2523455597506286,0.6937969710072474,1.6141764343342464,1.0400077714625975,0.10041443115825265,-0.7097173257145293,1.4604101958038826,0.3293241651930765,-0.8538133138281813,1.0663441980793718,0.47825456546125206,-0.671842993091924,0.17989808836044138,-0.5713356174675095,-0.48417683159928776,-0.5958366995752875,0.440964769391051,-0.5094687351758517,1.850188864915357,1.8675119837627912,-0.7122251808699338,0.06639775250348316,-1.695337244452929,1.6820736210084517,2.1310945371850463,-2.0930601078406137,-1.770996043995373,1.1437543834138326,-1.0775717485533514,-1.2275856522468844,1.217560029308882,0.03026729574779826,-1.5261799364599762,-0.04317321966520327,0.4887696263728301,0.470451294595051,1.4973438747078496,0.03651730210198627,0.509467886559641,0.03914759134423157,1.1308562743625474,0.4847047628207645,-0.4818166423351334,-2.080158939342939,-0.3751305898439625,0.03069571986767242,-0.4639225567373533,-0.7047432345226364,0.5217812056163413],\"yaxis\":\"y4\",\"type\":\"scatter\"},{\"line\":{\"color\":\"rgba(128, 128, 128, 1.0)\",\"dash\":\"solid\",\"shape\":\"linear\",\"width\":1.3},\"marker\":{\"size\":2,\"symbol\":\"circle\"},\"mode\":\"markers\",\"name\":\"B\",\"text\":\"\",\"x\":[-1.5450841317171276,-1.413125498673202,0.9323209797782157,0.06948672060685748,-1.2523413495098872,-1.998523806904109,0.9190235994878402,-0.9119658333889711,0.48330895698670573,-0.18718041389695883,-1.4320101370003964,-1.0261708964009986,-0.2445512401393387,0.5509130159887102,-0.01880610498489131,-0.3314676127876932,-0.6148547025606768,0.5904187382004569,0.6079579957452251,1.029365744269441,0.37821917735715205,0.4853068362773339,-0.04114493743598664,0.8708159539648068,1.5460674411149098,-0.5519392483070829,-0.781020223747612,2.248475249081179,-0.7841092464880934,0.6982816726880846,-0.6817947425346943,-0.15254862845208006,0.08242693280174032,-0.6165766635482408,0.07344361303984231,-2.472226220100499,-0.7017642502166871,0.31867008055206325,-0.2599768591357568,0.1128594778484536,1.9546293514760582,1.599497463833276,1.0851296565292388,-1.467177738869882,1.6987782408729655,1.1983444774482184,0.3155444180406639,-0.08519293842820412,-0.2456642503023336,0.5499649604319629,-3.4739634005226576,-2.2523455597506286,0.6937969710072474,1.6141764343342464,1.0400077714625975,0.10041443115825265,-0.7097173257145293,1.4604101958038826,0.3293241651930765,-0.8538133138281813,1.0663441980793718,0.47825456546125206,-0.671842993091924,0.17989808836044138,-0.5713356174675095,-0.48417683159928776,-0.5958366995752875,0.440964769391051,-0.5094687351758517,1.850188864915357,1.8675119837627912,-0.7122251808699338,0.06639775250348316,-1.695337244452929,1.6820736210084517,2.1310945371850463,-2.0930601078406137,-1.770996043995373,1.1437543834138326,-1.0775717485533514,-1.2275856522468844,1.217560029308882,0.03026729574779826,-1.5261799364599762,-0.04317321966520327,0.4887696263728301,0.470451294595051,1.4973438747078496,0.03651730210198627,0.509467886559641,0.03914759134423157,1.1308562743625474,0.4847047628207645,-0.4818166423351334,-2.080158939342939,-0.3751305898439625,0.03069571986767242,-0.4639225567373533,-0.7047432345226364,0.5217812056163413],\"xaxis\":\"x5\",\"y\":[0.5560590486778653,-0.07793450560493444,1.4728014419360818,1.1841675005675982,0.03281836403183733,-0.6461553540733159,0.5986016228049653,-0.5717226512281799,-0.2747819332926034,0.49043949751220406,-1.1299777891524494,-0.1702095917006199,1.722509452732334,-0.10183571621992656,0.8098258836135469,-1.1063076830024827,0.057112964591251786,-1.6245497623720355,0.07215549241226307,-0.8894380820025064,-2.120833496107395,-0.08012739410150374,-0.591197681351182,0.5197983468505548,0.24142254317476586,1.7457988842999421,-1.1070059282786342,0.7913944754762602,-0.03914090883278507,0.6152536901853041,-0.05698167740111924,-0.27251337345567,-0.07551250464389586,-1.4975382351147017,-0.20273312933138704,2.3361653725747384,-0.5764544082758793,-1.1206284477949207,1.0803724020371084,0.9017473742656453,-0.02018976267946315,0.05347973046173759,-0.45391764829224956,-1.4044676816734702,-1.1989349494957657,-1.0866814888362737,1.3894900407927153,0.9162647371019855,0.4194940637068126,0.9034317144972939,-1.6191837646872886,0.006057610591446054,0.10132471015131193,-0.23082140302094117,-1.3083413724708712,-1.2795626813486651,0.062410142195700555,0.2875986079539208,0.9055903722191032,1.0916151451771925,-0.35317700404366503,-1.1509106118990473,0.23836868247584514,-1.3950447728820754,-1.5431027269159214,-0.7267103886216447,-2.918958189158711,0.3007783016160846,-0.1197534659473193,2.444338372746112,1.0811358025289786,0.3008412860349423,1.6118481390652135,-0.1653194027176514,0.5121512969539667,-1.500586263147276,-1.0521038617793856,1.6372159044057157,1.1839733648110073,0.05110509841795652,1.2103708240782325,-0.8098886634300432,0.6935184762736882,0.9200130974217491,0.2780698881923895,-0.43299394989872503,-0.7508110319139402,-0.014969382105271498,-1.6936832131901614,-2.183184500009131,0.009773417538940442,0.21650240127684667,-1.2321789658109623,-0.15811371811548136,0.520944239040899,0.360402959490052,0.8879887300703774,-0.18766955772960667,-0.23289851453897023,0.11653811732251271],\"yaxis\":\"y5\",\"type\":\"scatter\"},{\"histfunc\":\"count\",\"histnorm\":\"\",\"marker\":{\"color\":\"rgba(55, 128, 191, 1.0)\",\"line\":{\"color\":\"#4D5663\",\"width\":1.3}},\"name\":\"B\",\"nbinsx\":10,\"opacity\":0.8,\"orientation\":\"v\",\"x\":[0.5560590486778653,-0.07793450560493444,1.4728014419360818,1.1841675005675982,0.03281836403183733,-0.6461553540733159,0.5986016228049653,-0.5717226512281799,-0.2747819332926034,0.49043949751220406,-1.1299777891524494,-0.1702095917006199,1.722509452732334,-0.10183571621992656,0.8098258836135469,-1.1063076830024827,0.057112964591251786,-1.6245497623720355,0.07215549241226307,-0.8894380820025064,-2.120833496107395,-0.08012739410150374,-0.591197681351182,0.5197983468505548,0.24142254317476586,1.7457988842999421,-1.1070059282786342,0.7913944754762602,-0.03914090883278507,0.6152536901853041,-0.05698167740111924,-0.27251337345567,-0.07551250464389586,-1.4975382351147017,-0.20273312933138704,2.3361653725747384,-0.5764544082758793,-1.1206284477949207,1.0803724020371084,0.9017473742656453,-0.02018976267946315,0.05347973046173759,-0.45391764829224956,-1.4044676816734702,-1.1989349494957657,-1.0866814888362737,1.3894900407927153,0.9162647371019855,0.4194940637068126,0.9034317144972939,-1.6191837646872886,0.006057610591446054,0.10132471015131193,-0.23082140302094117,-1.3083413724708712,-1.2795626813486651,0.062410142195700555,0.2875986079539208,0.9055903722191032,1.0916151451771925,-0.35317700404366503,-1.1509106118990473,0.23836868247584514,-1.3950447728820754,-1.5431027269159214,-0.7267103886216447,-2.918958189158711,0.3007783016160846,-0.1197534659473193,2.444338372746112,1.0811358025289786,0.3008412860349423,1.6118481390652135,-0.1653194027176514,0.5121512969539667,-1.500586263147276,-1.0521038617793856,1.6372159044057157,1.1839733648110073,0.05110509841795652,1.2103708240782325,-0.8098886634300432,0.6935184762736882,0.9200130974217491,0.2780698881923895,-0.43299394989872503,-0.7508110319139402,-0.014969382105271498,-1.6936832131901614,-2.183184500009131,0.009773417538940442,0.21650240127684667,-1.2321789658109623,-0.15811371811548136,0.520944239040899,0.360402959490052,0.8879887300703774,-0.18766955772960667,-0.23289851453897023,0.11653811732251271],\"xaxis\":\"x6\",\"yaxis\":\"y6\",\"type\":\"histogram\"},{\"line\":{\"color\":\"rgba(128, 128, 128, 1.0)\",\"dash\":\"solid\",\"shape\":\"linear\",\"width\":1.3},\"marker\":{\"size\":2,\"symbol\":\"circle\"},\"mode\":\"markers\",\"name\":\"B\",\"text\":\"\",\"x\":[1.142957461938206,-0.6806125573649034,-1.0227817586537609,-0.06175598305331198,-2.857119317247955,-0.8026156012737113,0.14515392990946177,1.820762759962793,1.7317910720259766,-0.5355827163986291,-0.013574750771533906,0.13444921194922171,0.352673207392984,1.0072621275292684,1.229927995555651,2.136042961479565,-1.1723228481945511,1.0089558589830174,1.3985559261362852,-0.8325731223361609,-1.1401256081516107,-0.26583330975252095,0.6387792414628685,-0.5429091362003327,-2.0922479775033054,-0.8988064239550476,0.6929996926165763,0.8818628623091056,0.6975676418472025,-0.8788684792105158,1.6631070617585046,-0.6034459243047794,0.38597173621564035,-1.523891568361597,-1.259879097422616,0.17990138581357046,0.10853064364027251,0.3813978177227395,-0.3707262444083515,0.1507286183195694,-0.03206019274931715,0.7623051414856427,0.4118501538568426,1.2688469535198004,-0.23414749329142184,-0.37638456750429633,-1.1939671783580035,-1.1365481945856537,1.117128111513842,0.4723068041592008,-0.28169481187048445,0.03544221389922512,-1.063811946630155,0.6352727159649894,-0.6451093744106224,-0.28087286275127066,-0.11830913064769166,-2.3170291871331234,1.8139784434024169,0.24672464871290536,0.8369353888227604,-2.1437155576396942,1.754309141274669,-0.007796820439026534,0.7853097874691335,0.21540818823607497,-0.9030716490254593,-0.28321721477595774,0.5595247854263092,0.0031414715485191635,-0.5380866274429242,-0.8809091716997429,-1.45373282111659,-0.51926920566855,0.14873266415102424,0.7888599874592507,-2.1025788190103274,0.17574153051825117,-0.9468737982747777,-0.9736085018597049,1.2450370590295512,-2.144827448404873,-1.4691766297117512,0.9599144161071922,0.15177961654430017,1.451066628687136,-0.8189034360839488,-1.5601601784344195,-0.3357026308645879,-0.11544518415754632,0.9714972848297608,-0.2831689584490962,1.5968106765083325,0.04953698066907284,0.6323746017216597,1.853814731873583,1.0547336444809297,1.2047613193245084,1.899387145980557,0.764393875336319],\"xaxis\":\"x7\",\"y\":[0.5560590486778653,-0.07793450560493444,1.4728014419360818,1.1841675005675982,0.03281836403183733,-0.6461553540733159,0.5986016228049653,-0.5717226512281799,-0.2747819332926034,0.49043949751220406,-1.1299777891524494,-0.1702095917006199,1.722509452732334,-0.10183571621992656,0.8098258836135469,-1.1063076830024827,0.057112964591251786,-1.6245497623720355,0.07215549241226307,-0.8894380820025064,-2.120833496107395,-0.08012739410150374,-0.591197681351182,0.5197983468505548,0.24142254317476586,1.7457988842999421,-1.1070059282786342,0.7913944754762602,-0.03914090883278507,0.6152536901853041,-0.05698167740111924,-0.27251337345567,-0.07551250464389586,-1.4975382351147017,-0.20273312933138704,2.3361653725747384,-0.5764544082758793,-1.1206284477949207,1.0803724020371084,0.9017473742656453,-0.02018976267946315,0.05347973046173759,-0.45391764829224956,-1.4044676816734702,-1.1989349494957657,-1.0866814888362737,1.3894900407927153,0.9162647371019855,0.4194940637068126,0.9034317144972939,-1.6191837646872886,0.006057610591446054,0.10132471015131193,-0.23082140302094117,-1.3083413724708712,-1.2795626813486651,0.062410142195700555,0.2875986079539208,0.9055903722191032,1.0916151451771925,-0.35317700404366503,-1.1509106118990473,0.23836868247584514,-1.3950447728820754,-1.5431027269159214,-0.7267103886216447,-2.918958189158711,0.3007783016160846,-0.1197534659473193,2.444338372746112,1.0811358025289786,0.3008412860349423,1.6118481390652135,-0.1653194027176514,0.5121512969539667,-1.500586263147276,-1.0521038617793856,1.6372159044057157,1.1839733648110073,0.05110509841795652,1.2103708240782325,-0.8098886634300432,0.6935184762736882,0.9200130974217491,0.2780698881923895,-0.43299394989872503,-0.7508110319139402,-0.014969382105271498,-1.6936832131901614,-2.183184500009131,0.009773417538940442,0.21650240127684667,-1.2321789658109623,-0.15811371811548136,0.520944239040899,0.360402959490052,0.8879887300703774,-0.18766955772960667,-0.23289851453897023,0.11653811732251271],\"yaxis\":\"y7\",\"type\":\"scatter\"},{\"line\":{\"color\":\"rgba(128, 128, 128, 1.0)\",\"dash\":\"solid\",\"shape\":\"linear\",\"width\":1.3},\"marker\":{\"size\":2,\"symbol\":\"circle\"},\"mode\":\"markers\",\"name\":\"B\",\"text\":\"\",\"x\":[0.6636046017032086,-0.6826678579419522,0.6412989761567559,-1.5336201560910816,-3.0735978113266715,-0.4950015121392039,0.7227854040184063,-0.06021350561293821,-0.12416536813522329,1.9778048228648673,0.5633389809420963,0.5411563180282993,-0.42114275385464545,-0.7471470062784517,-1.3220558601645211,3.046616889305344,0.540553458484006,0.3517466555649153,0.9750666258851184,-1.877285662060283,1.4999838850754361,-0.7367262395859325,-0.3507399224979165,0.1458813972391933,-0.5666383467819421,-0.5850810319701142,0.698206429038685,-0.5308752434363585,0.043197033494854986,0.285808676977401,-0.0666281228286287,0.2190966997181222,0.9912177507573966,0.6767917629462028,-0.49298500634473946,1.268176424940927,-1.1719207677492396,2.022476073007396,0.42864837419088964,-1.3138253643244255,0.45642574016421283,-0.6626710733447282,0.7742876944256257,-0.3630554814665732,0.12421122839255876,-0.17281791359695634,1.4230929174675107,0.49355066858406377,1.0238261708187997,-0.10223960276495231,-0.9041740045931916,-1.0119978449638662,2.1630080727496757,1.254656380856612,-2.6660388378594884,-0.9777421327380746,1.067472644384756,-1.7242127848488038,-0.7947393609084901,0.97546616563427,0.46891172753877913,0.25938018055253853,0.8764022779236528,0.38430258464807754,1.174145616590082,0.25759815147608617,-1.7405595388297692,-0.4205321356222938,-0.849162893686231,0.12345242530678299,-0.10988663392928052,0.11420173092192624,0.5098330152516697,-0.8829850487515168,0.6074352104419615,-1.443868662604306,1.04937413180432,0.6537724159725903,0.5029296863520941,2.423710092601902,-1.4785653770372578,-1.4487117922977846,0.9588723637513975,-0.3231444498896284,-0.6180473746122097,0.6467849040614588,-1.5356285554458193,-1.342808655557535,0.23380153442864607,0.9406928117865758,0.33113596584484745,-0.6053287612428888,2.6812975316108987,1.5674687076974196,0.5669006248196585,0.9159915678356795,-0.41198763993783094,0.050642246241135704,-1.4167612286518538,-0.3277222022306663],\"xaxis\":\"x8\",\"y\":[0.5560590486778653,-0.07793450560493444,1.4728014419360818,1.1841675005675982,0.03281836403183733,-0.6461553540733159,0.5986016228049653,-0.5717226512281799,-0.2747819332926034,0.49043949751220406,-1.1299777891524494,-0.1702095917006199,1.722509452732334,-0.10183571621992656,0.8098258836135469,-1.1063076830024827,0.057112964591251786,-1.6245497623720355,0.07215549241226307,-0.8894380820025064,-2.120833496107395,-0.08012739410150374,-0.591197681351182,0.5197983468505548,0.24142254317476586,1.7457988842999421,-1.1070059282786342,0.7913944754762602,-0.03914090883278507,0.6152536901853041,-0.05698167740111924,-0.27251337345567,-0.07551250464389586,-1.4975382351147017,-0.20273312933138704,2.3361653725747384,-0.5764544082758793,-1.1206284477949207,1.0803724020371084,0.9017473742656453,-0.02018976267946315,0.05347973046173759,-0.45391764829224956,-1.4044676816734702,-1.1989349494957657,-1.0866814888362737,1.3894900407927153,0.9162647371019855,0.4194940637068126,0.9034317144972939,-1.6191837646872886,0.006057610591446054,0.10132471015131193,-0.23082140302094117,-1.3083413724708712,-1.2795626813486651,0.062410142195700555,0.2875986079539208,0.9055903722191032,1.0916151451771925,-0.35317700404366503,-1.1509106118990473,0.23836868247584514,-1.3950447728820754,-1.5431027269159214,-0.7267103886216447,-2.918958189158711,0.3007783016160846,-0.1197534659473193,2.444338372746112,1.0811358025289786,0.3008412860349423,1.6118481390652135,-0.1653194027176514,0.5121512969539667,-1.500586263147276,-1.0521038617793856,1.6372159044057157,1.1839733648110073,0.05110509841795652,1.2103708240782325,-0.8098886634300432,0.6935184762736882,0.9200130974217491,0.2780698881923895,-0.43299394989872503,-0.7508110319139402,-0.014969382105271498,-1.6936832131901614,-2.183184500009131,0.009773417538940442,0.21650240127684667,-1.2321789658109623,-0.15811371811548136,0.520944239040899,0.360402959490052,0.8879887300703774,-0.18766955772960667,-0.23289851453897023,0.11653811732251271],\"yaxis\":\"y8\",\"type\":\"scatter\"},{\"line\":{\"color\":\"rgba(128, 128, 128, 1.0)\",\"dash\":\"solid\",\"shape\":\"linear\",\"width\":1.3},\"marker\":{\"size\":2,\"symbol\":\"circle\"},\"mode\":\"markers\",\"name\":\"C\",\"text\":\"\",\"x\":[-1.5450841317171276,-1.413125498673202,0.9323209797782157,0.06948672060685748,-1.2523413495098872,-1.998523806904109,0.9190235994878402,-0.9119658333889711,0.48330895698670573,-0.18718041389695883,-1.4320101370003964,-1.0261708964009986,-0.2445512401393387,0.5509130159887102,-0.01880610498489131,-0.3314676127876932,-0.6148547025606768,0.5904187382004569,0.6079579957452251,1.029365744269441,0.37821917735715205,0.4853068362773339,-0.04114493743598664,0.8708159539648068,1.5460674411149098,-0.5519392483070829,-0.781020223747612,2.248475249081179,-0.7841092464880934,0.6982816726880846,-0.6817947425346943,-0.15254862845208006,0.08242693280174032,-0.6165766635482408,0.07344361303984231,-2.472226220100499,-0.7017642502166871,0.31867008055206325,-0.2599768591357568,0.1128594778484536,1.9546293514760582,1.599497463833276,1.0851296565292388,-1.467177738869882,1.6987782408729655,1.1983444774482184,0.3155444180406639,-0.08519293842820412,-0.2456642503023336,0.5499649604319629,-3.4739634005226576,-2.2523455597506286,0.6937969710072474,1.6141764343342464,1.0400077714625975,0.10041443115825265,-0.7097173257145293,1.4604101958038826,0.3293241651930765,-0.8538133138281813,1.0663441980793718,0.47825456546125206,-0.671842993091924,0.17989808836044138,-0.5713356174675095,-0.48417683159928776,-0.5958366995752875,0.440964769391051,-0.5094687351758517,1.850188864915357,1.8675119837627912,-0.7122251808699338,0.06639775250348316,-1.695337244452929,1.6820736210084517,2.1310945371850463,-2.0930601078406137,-1.770996043995373,1.1437543834138326,-1.0775717485533514,-1.2275856522468844,1.217560029308882,0.03026729574779826,-1.5261799364599762,-0.04317321966520327,0.4887696263728301,0.470451294595051,1.4973438747078496,0.03651730210198627,0.509467886559641,0.03914759134423157,1.1308562743625474,0.4847047628207645,-0.4818166423351334,-2.080158939342939,-0.3751305898439625,0.03069571986767242,-0.4639225567373533,-0.7047432345226364,0.5217812056163413],\"xaxis\":\"x9\",\"y\":[1.142957461938206,-0.6806125573649034,-1.0227817586537609,-0.06175598305331198,-2.857119317247955,-0.8026156012737113,0.14515392990946177,1.820762759962793,1.7317910720259766,-0.5355827163986291,-0.013574750771533906,0.13444921194922171,0.352673207392984,1.0072621275292684,1.229927995555651,2.136042961479565,-1.1723228481945511,1.0089558589830174,1.3985559261362852,-0.8325731223361609,-1.1401256081516107,-0.26583330975252095,0.6387792414628685,-0.5429091362003327,-2.0922479775033054,-0.8988064239550476,0.6929996926165763,0.8818628623091056,0.6975676418472025,-0.8788684792105158,1.6631070617585046,-0.6034459243047794,0.38597173621564035,-1.523891568361597,-1.259879097422616,0.17990138581357046,0.10853064364027251,0.3813978177227395,-0.3707262444083515,0.1507286183195694,-0.03206019274931715,0.7623051414856427,0.4118501538568426,1.2688469535198004,-0.23414749329142184,-0.37638456750429633,-1.1939671783580035,-1.1365481945856537,1.117128111513842,0.4723068041592008,-0.28169481187048445,0.03544221389922512,-1.063811946630155,0.6352727159649894,-0.6451093744106224,-0.28087286275127066,-0.11830913064769166,-2.3170291871331234,1.8139784434024169,0.24672464871290536,0.8369353888227604,-2.1437155576396942,1.754309141274669,-0.007796820439026534,0.7853097874691335,0.21540818823607497,-0.9030716490254593,-0.28321721477595774,0.5595247854263092,0.0031414715485191635,-0.5380866274429242,-0.8809091716997429,-1.45373282111659,-0.51926920566855,0.14873266415102424,0.7888599874592507,-2.1025788190103274,0.17574153051825117,-0.9468737982747777,-0.9736085018597049,1.2450370590295512,-2.144827448404873,-1.4691766297117512,0.9599144161071922,0.15177961654430017,1.451066628687136,-0.8189034360839488,-1.5601601784344195,-0.3357026308645879,-0.11544518415754632,0.9714972848297608,-0.2831689584490962,1.5968106765083325,0.04953698066907284,0.6323746017216597,1.853814731873583,1.0547336444809297,1.2047613193245084,1.899387145980557,0.764393875336319],\"yaxis\":\"y9\",\"type\":\"scatter\"},{\"line\":{\"color\":\"rgba(128, 128, 128, 1.0)\",\"dash\":\"solid\",\"shape\":\"linear\",\"width\":1.3},\"marker\":{\"size\":2,\"symbol\":\"circle\"},\"mode\":\"markers\",\"name\":\"C\",\"text\":\"\",\"x\":[0.5560590486778653,-0.07793450560493444,1.4728014419360818,1.1841675005675982,0.03281836403183733,-0.6461553540733159,0.5986016228049653,-0.5717226512281799,-0.2747819332926034,0.49043949751220406,-1.1299777891524494,-0.1702095917006199,1.722509452732334,-0.10183571621992656,0.8098258836135469,-1.1063076830024827,0.057112964591251786,-1.6245497623720355,0.07215549241226307,-0.8894380820025064,-2.120833496107395,-0.08012739410150374,-0.591197681351182,0.5197983468505548,0.24142254317476586,1.7457988842999421,-1.1070059282786342,0.7913944754762602,-0.03914090883278507,0.6152536901853041,-0.05698167740111924,-0.27251337345567,-0.07551250464389586,-1.4975382351147017,-0.20273312933138704,2.3361653725747384,-0.5764544082758793,-1.1206284477949207,1.0803724020371084,0.9017473742656453,-0.02018976267946315,0.05347973046173759,-0.45391764829224956,-1.4044676816734702,-1.1989349494957657,-1.0866814888362737,1.3894900407927153,0.9162647371019855,0.4194940637068126,0.9034317144972939,-1.6191837646872886,0.006057610591446054,0.10132471015131193,-0.23082140302094117,-1.3083413724708712,-1.2795626813486651,0.062410142195700555,0.2875986079539208,0.9055903722191032,1.0916151451771925,-0.35317700404366503,-1.1509106118990473,0.23836868247584514,-1.3950447728820754,-1.5431027269159214,-0.7267103886216447,-2.918958189158711,0.3007783016160846,-0.1197534659473193,2.444338372746112,1.0811358025289786,0.3008412860349423,1.6118481390652135,-0.1653194027176514,0.5121512969539667,-1.500586263147276,-1.0521038617793856,1.6372159044057157,1.1839733648110073,0.05110509841795652,1.2103708240782325,-0.8098886634300432,0.6935184762736882,0.9200130974217491,0.2780698881923895,-0.43299394989872503,-0.7508110319139402,-0.014969382105271498,-1.6936832131901614,-2.183184500009131,0.009773417538940442,0.21650240127684667,-1.2321789658109623,-0.15811371811548136,0.520944239040899,0.360402959490052,0.8879887300703774,-0.18766955772960667,-0.23289851453897023,0.11653811732251271],\"xaxis\":\"x10\",\"y\":[1.142957461938206,-0.6806125573649034,-1.0227817586537609,-0.06175598305331198,-2.857119317247955,-0.8026156012737113,0.14515392990946177,1.820762759962793,1.7317910720259766,-0.5355827163986291,-0.013574750771533906,0.13444921194922171,0.352673207392984,1.0072621275292684,1.229927995555651,2.136042961479565,-1.1723228481945511,1.0089558589830174,1.3985559261362852,-0.8325731223361609,-1.1401256081516107,-0.26583330975252095,0.6387792414628685,-0.5429091362003327,-2.0922479775033054,-0.8988064239550476,0.6929996926165763,0.8818628623091056,0.6975676418472025,-0.8788684792105158,1.6631070617585046,-0.6034459243047794,0.38597173621564035,-1.523891568361597,-1.259879097422616,0.17990138581357046,0.10853064364027251,0.3813978177227395,-0.3707262444083515,0.1507286183195694,-0.03206019274931715,0.7623051414856427,0.4118501538568426,1.2688469535198004,-0.23414749329142184,-0.37638456750429633,-1.1939671783580035,-1.1365481945856537,1.117128111513842,0.4723068041592008,-0.28169481187048445,0.03544221389922512,-1.063811946630155,0.6352727159649894,-0.6451093744106224,-0.28087286275127066,-0.11830913064769166,-2.3170291871331234,1.8139784434024169,0.24672464871290536,0.8369353888227604,-2.1437155576396942,1.754309141274669,-0.007796820439026534,0.7853097874691335,0.21540818823607497,-0.9030716490254593,-0.28321721477595774,0.5595247854263092,0.0031414715485191635,-0.5380866274429242,-0.8809091716997429,-1.45373282111659,-0.51926920566855,0.14873266415102424,0.7888599874592507,-2.1025788190103274,0.17574153051825117,-0.9468737982747777,-0.9736085018597049,1.2450370590295512,-2.144827448404873,-1.4691766297117512,0.9599144161071922,0.15177961654430017,1.451066628687136,-0.8189034360839488,-1.5601601784344195,-0.3357026308645879,-0.11544518415754632,0.9714972848297608,-0.2831689584490962,1.5968106765083325,0.04953698066907284,0.6323746017216597,1.853814731873583,1.0547336444809297,1.2047613193245084,1.899387145980557,0.764393875336319],\"yaxis\":\"y10\",\"type\":\"scatter\"},{\"histfunc\":\"count\",\"histnorm\":\"\",\"marker\":{\"color\":\"rgba(50, 171, 96, 1.0)\",\"line\":{\"color\":\"#4D5663\",\"width\":1.3}},\"name\":\"C\",\"nbinsx\":10,\"opacity\":0.8,\"orientation\":\"v\",\"x\":[1.142957461938206,-0.6806125573649034,-1.0227817586537609,-0.06175598305331198,-2.857119317247955,-0.8026156012737113,0.14515392990946177,1.820762759962793,1.7317910720259766,-0.5355827163986291,-0.013574750771533906,0.13444921194922171,0.352673207392984,1.0072621275292684,1.229927995555651,2.136042961479565,-1.1723228481945511,1.0089558589830174,1.3985559261362852,-0.8325731223361609,-1.1401256081516107,-0.26583330975252095,0.6387792414628685,-0.5429091362003327,-2.0922479775033054,-0.8988064239550476,0.6929996926165763,0.8818628623091056,0.6975676418472025,-0.8788684792105158,1.6631070617585046,-0.6034459243047794,0.38597173621564035,-1.523891568361597,-1.259879097422616,0.17990138581357046,0.10853064364027251,0.3813978177227395,-0.3707262444083515,0.1507286183195694,-0.03206019274931715,0.7623051414856427,0.4118501538568426,1.2688469535198004,-0.23414749329142184,-0.37638456750429633,-1.1939671783580035,-1.1365481945856537,1.117128111513842,0.4723068041592008,-0.28169481187048445,0.03544221389922512,-1.063811946630155,0.6352727159649894,-0.6451093744106224,-0.28087286275127066,-0.11830913064769166,-2.3170291871331234,1.8139784434024169,0.24672464871290536,0.8369353888227604,-2.1437155576396942,1.754309141274669,-0.007796820439026534,0.7853097874691335,0.21540818823607497,-0.9030716490254593,-0.28321721477595774,0.5595247854263092,0.0031414715485191635,-0.5380866274429242,-0.8809091716997429,-1.45373282111659,-0.51926920566855,0.14873266415102424,0.7888599874592507,-2.1025788190103274,0.17574153051825117,-0.9468737982747777,-0.9736085018597049,1.2450370590295512,-2.144827448404873,-1.4691766297117512,0.9599144161071922,0.15177961654430017,1.451066628687136,-0.8189034360839488,-1.5601601784344195,-0.3357026308645879,-0.11544518415754632,0.9714972848297608,-0.2831689584490962,1.5968106765083325,0.04953698066907284,0.6323746017216597,1.853814731873583,1.0547336444809297,1.2047613193245084,1.899387145980557,0.764393875336319],\"xaxis\":\"x11\",\"yaxis\":\"y11\",\"type\":\"histogram\"},{\"line\":{\"color\":\"rgba(128, 128, 128, 1.0)\",\"dash\":\"solid\",\"shape\":\"linear\",\"width\":1.3},\"marker\":{\"size\":2,\"symbol\":\"circle\"},\"mode\":\"markers\",\"name\":\"C\",\"text\":\"\",\"x\":[0.6636046017032086,-0.6826678579419522,0.6412989761567559,-1.5336201560910816,-3.0735978113266715,-0.4950015121392039,0.7227854040184063,-0.06021350561293821,-0.12416536813522329,1.9778048228648673,0.5633389809420963,0.5411563180282993,-0.42114275385464545,-0.7471470062784517,-1.3220558601645211,3.046616889305344,0.540553458484006,0.3517466555649153,0.9750666258851184,-1.877285662060283,1.4999838850754361,-0.7367262395859325,-0.3507399224979165,0.1458813972391933,-0.5666383467819421,-0.5850810319701142,0.698206429038685,-0.5308752434363585,0.043197033494854986,0.285808676977401,-0.0666281228286287,0.2190966997181222,0.9912177507573966,0.6767917629462028,-0.49298500634473946,1.268176424940927,-1.1719207677492396,2.022476073007396,0.42864837419088964,-1.3138253643244255,0.45642574016421283,-0.6626710733447282,0.7742876944256257,-0.3630554814665732,0.12421122839255876,-0.17281791359695634,1.4230929174675107,0.49355066858406377,1.0238261708187997,-0.10223960276495231,-0.9041740045931916,-1.0119978449638662,2.1630080727496757,1.254656380856612,-2.6660388378594884,-0.9777421327380746,1.067472644384756,-1.7242127848488038,-0.7947393609084901,0.97546616563427,0.46891172753877913,0.25938018055253853,0.8764022779236528,0.38430258464807754,1.174145616590082,0.25759815147608617,-1.7405595388297692,-0.4205321356222938,-0.849162893686231,0.12345242530678299,-0.10988663392928052,0.11420173092192624,0.5098330152516697,-0.8829850487515168,0.6074352104419615,-1.443868662604306,1.04937413180432,0.6537724159725903,0.5029296863520941,2.423710092601902,-1.4785653770372578,-1.4487117922977846,0.9588723637513975,-0.3231444498896284,-0.6180473746122097,0.6467849040614588,-1.5356285554458193,-1.342808655557535,0.23380153442864607,0.9406928117865758,0.33113596584484745,-0.6053287612428888,2.6812975316108987,1.5674687076974196,0.5669006248196585,0.9159915678356795,-0.41198763993783094,0.050642246241135704,-1.4167612286518538,-0.3277222022306663],\"xaxis\":\"x12\",\"y\":[1.142957461938206,-0.6806125573649034,-1.0227817586537609,-0.06175598305331198,-2.857119317247955,-0.8026156012737113,0.14515392990946177,1.820762759962793,1.7317910720259766,-0.5355827163986291,-0.013574750771533906,0.13444921194922171,0.352673207392984,1.0072621275292684,1.229927995555651,2.136042961479565,-1.1723228481945511,1.0089558589830174,1.3985559261362852,-0.8325731223361609,-1.1401256081516107,-0.26583330975252095,0.6387792414628685,-0.5429091362003327,-2.0922479775033054,-0.8988064239550476,0.6929996926165763,0.8818628623091056,0.6975676418472025,-0.8788684792105158,1.6631070617585046,-0.6034459243047794,0.38597173621564035,-1.523891568361597,-1.259879097422616,0.17990138581357046,0.10853064364027251,0.3813978177227395,-0.3707262444083515,0.1507286183195694,-0.03206019274931715,0.7623051414856427,0.4118501538568426,1.2688469535198004,-0.23414749329142184,-0.37638456750429633,-1.1939671783580035,-1.1365481945856537,1.117128111513842,0.4723068041592008,-0.28169481187048445,0.03544221389922512,-1.063811946630155,0.6352727159649894,-0.6451093744106224,-0.28087286275127066,-0.11830913064769166,-2.3170291871331234,1.8139784434024169,0.24672464871290536,0.8369353888227604,-2.1437155576396942,1.754309141274669,-0.007796820439026534,0.7853097874691335,0.21540818823607497,-0.9030716490254593,-0.28321721477595774,0.5595247854263092,0.0031414715485191635,-0.5380866274429242,-0.8809091716997429,-1.45373282111659,-0.51926920566855,0.14873266415102424,0.7888599874592507,-2.1025788190103274,0.17574153051825117,-0.9468737982747777,-0.9736085018597049,1.2450370590295512,-2.144827448404873,-1.4691766297117512,0.9599144161071922,0.15177961654430017,1.451066628687136,-0.8189034360839488,-1.5601601784344195,-0.3357026308645879,-0.11544518415754632,0.9714972848297608,-0.2831689584490962,1.5968106765083325,0.04953698066907284,0.6323746017216597,1.853814731873583,1.0547336444809297,1.2047613193245084,1.899387145980557,0.764393875336319],\"yaxis\":\"y12\",\"type\":\"scatter\"},{\"line\":{\"color\":\"rgba(128, 128, 128, 1.0)\",\"dash\":\"solid\",\"shape\":\"linear\",\"width\":1.3},\"marker\":{\"size\":2,\"symbol\":\"circle\"},\"mode\":\"markers\",\"name\":\"D\",\"text\":\"\",\"x\":[-1.5450841317171276,-1.413125498673202,0.9323209797782157,0.06948672060685748,-1.2523413495098872,-1.998523806904109,0.9190235994878402,-0.9119658333889711,0.48330895698670573,-0.18718041389695883,-1.4320101370003964,-1.0261708964009986,-0.2445512401393387,0.5509130159887102,-0.01880610498489131,-0.3314676127876932,-0.6148547025606768,0.5904187382004569,0.6079579957452251,1.029365744269441,0.37821917735715205,0.4853068362773339,-0.04114493743598664,0.8708159539648068,1.5460674411149098,-0.5519392483070829,-0.781020223747612,2.248475249081179,-0.7841092464880934,0.6982816726880846,-0.6817947425346943,-0.15254862845208006,0.08242693280174032,-0.6165766635482408,0.07344361303984231,-2.472226220100499,-0.7017642502166871,0.31867008055206325,-0.2599768591357568,0.1128594778484536,1.9546293514760582,1.599497463833276,1.0851296565292388,-1.467177738869882,1.6987782408729655,1.1983444774482184,0.3155444180406639,-0.08519293842820412,-0.2456642503023336,0.5499649604319629,-3.4739634005226576,-2.2523455597506286,0.6937969710072474,1.6141764343342464,1.0400077714625975,0.10041443115825265,-0.7097173257145293,1.4604101958038826,0.3293241651930765,-0.8538133138281813,1.0663441980793718,0.47825456546125206,-0.671842993091924,0.17989808836044138,-0.5713356174675095,-0.48417683159928776,-0.5958366995752875,0.440964769391051,-0.5094687351758517,1.850188864915357,1.8675119837627912,-0.7122251808699338,0.06639775250348316,-1.695337244452929,1.6820736210084517,2.1310945371850463,-2.0930601078406137,-1.770996043995373,1.1437543834138326,-1.0775717485533514,-1.2275856522468844,1.217560029308882,0.03026729574779826,-1.5261799364599762,-0.04317321966520327,0.4887696263728301,0.470451294595051,1.4973438747078496,0.03651730210198627,0.509467886559641,0.03914759134423157,1.1308562743625474,0.4847047628207645,-0.4818166423351334,-2.080158939342939,-0.3751305898439625,0.03069571986767242,-0.4639225567373533,-0.7047432345226364,0.5217812056163413],\"xaxis\":\"x13\",\"y\":[0.6636046017032086,-0.6826678579419522,0.6412989761567559,-1.5336201560910816,-3.0735978113266715,-0.4950015121392039,0.7227854040184063,-0.06021350561293821,-0.12416536813522329,1.9778048228648673,0.5633389809420963,0.5411563180282993,-0.42114275385464545,-0.7471470062784517,-1.3220558601645211,3.046616889305344,0.540553458484006,0.3517466555649153,0.9750666258851184,-1.877285662060283,1.4999838850754361,-0.7367262395859325,-0.3507399224979165,0.1458813972391933,-0.5666383467819421,-0.5850810319701142,0.698206429038685,-0.5308752434363585,0.043197033494854986,0.285808676977401,-0.0666281228286287,0.2190966997181222,0.9912177507573966,0.6767917629462028,-0.49298500634473946,1.268176424940927,-1.1719207677492396,2.022476073007396,0.42864837419088964,-1.3138253643244255,0.45642574016421283,-0.6626710733447282,0.7742876944256257,-0.3630554814665732,0.12421122839255876,-0.17281791359695634,1.4230929174675107,0.49355066858406377,1.0238261708187997,-0.10223960276495231,-0.9041740045931916,-1.0119978449638662,2.1630080727496757,1.254656380856612,-2.6660388378594884,-0.9777421327380746,1.067472644384756,-1.7242127848488038,-0.7947393609084901,0.97546616563427,0.46891172753877913,0.25938018055253853,0.8764022779236528,0.38430258464807754,1.174145616590082,0.25759815147608617,-1.7405595388297692,-0.4205321356222938,-0.849162893686231,0.12345242530678299,-0.10988663392928052,0.11420173092192624,0.5098330152516697,-0.8829850487515168,0.6074352104419615,-1.443868662604306,1.04937413180432,0.6537724159725903,0.5029296863520941,2.423710092601902,-1.4785653770372578,-1.4487117922977846,0.9588723637513975,-0.3231444498896284,-0.6180473746122097,0.6467849040614588,-1.5356285554458193,-1.342808655557535,0.23380153442864607,0.9406928117865758,0.33113596584484745,-0.6053287612428888,2.6812975316108987,1.5674687076974196,0.5669006248196585,0.9159915678356795,-0.41198763993783094,0.050642246241135704,-1.4167612286518538,-0.3277222022306663],\"yaxis\":\"y13\",\"type\":\"scatter\"},{\"line\":{\"color\":\"rgba(128, 128, 128, 1.0)\",\"dash\":\"solid\",\"shape\":\"linear\",\"width\":1.3},\"marker\":{\"size\":2,\"symbol\":\"circle\"},\"mode\":\"markers\",\"name\":\"D\",\"text\":\"\",\"x\":[0.5560590486778653,-0.07793450560493444,1.4728014419360818,1.1841675005675982,0.03281836403183733,-0.6461553540733159,0.5986016228049653,-0.5717226512281799,-0.2747819332926034,0.49043949751220406,-1.1299777891524494,-0.1702095917006199,1.722509452732334,-0.10183571621992656,0.8098258836135469,-1.1063076830024827,0.057112964591251786,-1.6245497623720355,0.07215549241226307,-0.8894380820025064,-2.120833496107395,-0.08012739410150374,-0.591197681351182,0.5197983468505548,0.24142254317476586,1.7457988842999421,-1.1070059282786342,0.7913944754762602,-0.03914090883278507,0.6152536901853041,-0.05698167740111924,-0.27251337345567,-0.07551250464389586,-1.4975382351147017,-0.20273312933138704,2.3361653725747384,-0.5764544082758793,-1.1206284477949207,1.0803724020371084,0.9017473742656453,-0.02018976267946315,0.05347973046173759,-0.45391764829224956,-1.4044676816734702,-1.1989349494957657,-1.0866814888362737,1.3894900407927153,0.9162647371019855,0.4194940637068126,0.9034317144972939,-1.6191837646872886,0.006057610591446054,0.10132471015131193,-0.23082140302094117,-1.3083413724708712,-1.2795626813486651,0.062410142195700555,0.2875986079539208,0.9055903722191032,1.0916151451771925,-0.35317700404366503,-1.1509106118990473,0.23836868247584514,-1.3950447728820754,-1.5431027269159214,-0.7267103886216447,-2.918958189158711,0.3007783016160846,-0.1197534659473193,2.444338372746112,1.0811358025289786,0.3008412860349423,1.6118481390652135,-0.1653194027176514,0.5121512969539667,-1.500586263147276,-1.0521038617793856,1.6372159044057157,1.1839733648110073,0.05110509841795652,1.2103708240782325,-0.8098886634300432,0.6935184762736882,0.9200130974217491,0.2780698881923895,-0.43299394989872503,-0.7508110319139402,-0.014969382105271498,-1.6936832131901614,-2.183184500009131,0.009773417538940442,0.21650240127684667,-1.2321789658109623,-0.15811371811548136,0.520944239040899,0.360402959490052,0.8879887300703774,-0.18766955772960667,-0.23289851453897023,0.11653811732251271],\"xaxis\":\"x14\",\"y\":[0.6636046017032086,-0.6826678579419522,0.6412989761567559,-1.5336201560910816,-3.0735978113266715,-0.4950015121392039,0.7227854040184063,-0.06021350561293821,-0.12416536813522329,1.9778048228648673,0.5633389809420963,0.5411563180282993,-0.42114275385464545,-0.7471470062784517,-1.3220558601645211,3.046616889305344,0.540553458484006,0.3517466555649153,0.9750666258851184,-1.877285662060283,1.4999838850754361,-0.7367262395859325,-0.3507399224979165,0.1458813972391933,-0.5666383467819421,-0.5850810319701142,0.698206429038685,-0.5308752434363585,0.043197033494854986,0.285808676977401,-0.0666281228286287,0.2190966997181222,0.9912177507573966,0.6767917629462028,-0.49298500634473946,1.268176424940927,-1.1719207677492396,2.022476073007396,0.42864837419088964,-1.3138253643244255,0.45642574016421283,-0.6626710733447282,0.7742876944256257,-0.3630554814665732,0.12421122839255876,-0.17281791359695634,1.4230929174675107,0.49355066858406377,1.0238261708187997,-0.10223960276495231,-0.9041740045931916,-1.0119978449638662,2.1630080727496757,1.254656380856612,-2.6660388378594884,-0.9777421327380746,1.067472644384756,-1.7242127848488038,-0.7947393609084901,0.97546616563427,0.46891172753877913,0.25938018055253853,0.8764022779236528,0.38430258464807754,1.174145616590082,0.25759815147608617,-1.7405595388297692,-0.4205321356222938,-0.849162893686231,0.12345242530678299,-0.10988663392928052,0.11420173092192624,0.5098330152516697,-0.8829850487515168,0.6074352104419615,-1.443868662604306,1.04937413180432,0.6537724159725903,0.5029296863520941,2.423710092601902,-1.4785653770372578,-1.4487117922977846,0.9588723637513975,-0.3231444498896284,-0.6180473746122097,0.6467849040614588,-1.5356285554458193,-1.342808655557535,0.23380153442864607,0.9406928117865758,0.33113596584484745,-0.6053287612428888,2.6812975316108987,1.5674687076974196,0.5669006248196585,0.9159915678356795,-0.41198763993783094,0.050642246241135704,-1.4167612286518538,-0.3277222022306663],\"yaxis\":\"y14\",\"type\":\"scatter\"},{\"line\":{\"color\":\"rgba(128, 128, 128, 1.0)\",\"dash\":\"solid\",\"shape\":\"linear\",\"width\":1.3},\"marker\":{\"size\":2,\"symbol\":\"circle\"},\"mode\":\"markers\",\"name\":\"D\",\"text\":\"\",\"x\":[1.142957461938206,-0.6806125573649034,-1.0227817586537609,-0.06175598305331198,-2.857119317247955,-0.8026156012737113,0.14515392990946177,1.820762759962793,1.7317910720259766,-0.5355827163986291,-0.013574750771533906,0.13444921194922171,0.352673207392984,1.0072621275292684,1.229927995555651,2.136042961479565,-1.1723228481945511,1.0089558589830174,1.3985559261362852,-0.8325731223361609,-1.1401256081516107,-0.26583330975252095,0.6387792414628685,-0.5429091362003327,-2.0922479775033054,-0.8988064239550476,0.6929996926165763,0.8818628623091056,0.6975676418472025,-0.8788684792105158,1.6631070617585046,-0.6034459243047794,0.38597173621564035,-1.523891568361597,-1.259879097422616,0.17990138581357046,0.10853064364027251,0.3813978177227395,-0.3707262444083515,0.1507286183195694,-0.03206019274931715,0.7623051414856427,0.4118501538568426,1.2688469535198004,-0.23414749329142184,-0.37638456750429633,-1.1939671783580035,-1.1365481945856537,1.117128111513842,0.4723068041592008,-0.28169481187048445,0.03544221389922512,-1.063811946630155,0.6352727159649894,-0.6451093744106224,-0.28087286275127066,-0.11830913064769166,-2.3170291871331234,1.8139784434024169,0.24672464871290536,0.8369353888227604,-2.1437155576396942,1.754309141274669,-0.007796820439026534,0.7853097874691335,0.21540818823607497,-0.9030716490254593,-0.28321721477595774,0.5595247854263092,0.0031414715485191635,-0.5380866274429242,-0.8809091716997429,-1.45373282111659,-0.51926920566855,0.14873266415102424,0.7888599874592507,-2.1025788190103274,0.17574153051825117,-0.9468737982747777,-0.9736085018597049,1.2450370590295512,-2.144827448404873,-1.4691766297117512,0.9599144161071922,0.15177961654430017,1.451066628687136,-0.8189034360839488,-1.5601601784344195,-0.3357026308645879,-0.11544518415754632,0.9714972848297608,-0.2831689584490962,1.5968106765083325,0.04953698066907284,0.6323746017216597,1.853814731873583,1.0547336444809297,1.2047613193245084,1.899387145980557,0.764393875336319],\"xaxis\":\"x15\",\"y\":[0.6636046017032086,-0.6826678579419522,0.6412989761567559,-1.5336201560910816,-3.0735978113266715,-0.4950015121392039,0.7227854040184063,-0.06021350561293821,-0.12416536813522329,1.9778048228648673,0.5633389809420963,0.5411563180282993,-0.42114275385464545,-0.7471470062784517,-1.3220558601645211,3.046616889305344,0.540553458484006,0.3517466555649153,0.9750666258851184,-1.877285662060283,1.4999838850754361,-0.7367262395859325,-0.3507399224979165,0.1458813972391933,-0.5666383467819421,-0.5850810319701142,0.698206429038685,-0.5308752434363585,0.043197033494854986,0.285808676977401,-0.0666281228286287,0.2190966997181222,0.9912177507573966,0.6767917629462028,-0.49298500634473946,1.268176424940927,-1.1719207677492396,2.022476073007396,0.42864837419088964,-1.3138253643244255,0.45642574016421283,-0.6626710733447282,0.7742876944256257,-0.3630554814665732,0.12421122839255876,-0.17281791359695634,1.4230929174675107,0.49355066858406377,1.0238261708187997,-0.10223960276495231,-0.9041740045931916,-1.0119978449638662,2.1630080727496757,1.254656380856612,-2.6660388378594884,-0.9777421327380746,1.067472644384756,-1.7242127848488038,-0.7947393609084901,0.97546616563427,0.46891172753877913,0.25938018055253853,0.8764022779236528,0.38430258464807754,1.174145616590082,0.25759815147608617,-1.7405595388297692,-0.4205321356222938,-0.849162893686231,0.12345242530678299,-0.10988663392928052,0.11420173092192624,0.5098330152516697,-0.8829850487515168,0.6074352104419615,-1.443868662604306,1.04937413180432,0.6537724159725903,0.5029296863520941,2.423710092601902,-1.4785653770372578,-1.4487117922977846,0.9588723637513975,-0.3231444498896284,-0.6180473746122097,0.6467849040614588,-1.5356285554458193,-1.342808655557535,0.23380153442864607,0.9406928117865758,0.33113596584484745,-0.6053287612428888,2.6812975316108987,1.5674687076974196,0.5669006248196585,0.9159915678356795,-0.41198763993783094,0.050642246241135704,-1.4167612286518538,-0.3277222022306663],\"yaxis\":\"y15\",\"type\":\"scatter\"},{\"histfunc\":\"count\",\"histnorm\":\"\",\"marker\":{\"color\":\"rgba(128, 0, 128, 1.0)\",\"line\":{\"color\":\"#4D5663\",\"width\":1.3}},\"name\":\"D\",\"nbinsx\":10,\"opacity\":0.8,\"orientation\":\"v\",\"x\":[0.6636046017032086,-0.6826678579419522,0.6412989761567559,-1.5336201560910816,-3.0735978113266715,-0.4950015121392039,0.7227854040184063,-0.06021350561293821,-0.12416536813522329,1.9778048228648673,0.5633389809420963,0.5411563180282993,-0.42114275385464545,-0.7471470062784517,-1.3220558601645211,3.046616889305344,0.540553458484006,0.3517466555649153,0.9750666258851184,-1.877285662060283,1.4999838850754361,-0.7367262395859325,-0.3507399224979165,0.1458813972391933,-0.5666383467819421,-0.5850810319701142,0.698206429038685,-0.5308752434363585,0.043197033494854986,0.285808676977401,-0.0666281228286287,0.2190966997181222,0.9912177507573966,0.6767917629462028,-0.49298500634473946,1.268176424940927,-1.1719207677492396,2.022476073007396,0.42864837419088964,-1.3138253643244255,0.45642574016421283,-0.6626710733447282,0.7742876944256257,-0.3630554814665732,0.12421122839255876,-0.17281791359695634,1.4230929174675107,0.49355066858406377,1.0238261708187997,-0.10223960276495231,-0.9041740045931916,-1.0119978449638662,2.1630080727496757,1.254656380856612,-2.6660388378594884,-0.9777421327380746,1.067472644384756,-1.7242127848488038,-0.7947393609084901,0.97546616563427,0.46891172753877913,0.25938018055253853,0.8764022779236528,0.38430258464807754,1.174145616590082,0.25759815147608617,-1.7405595388297692,-0.4205321356222938,-0.849162893686231,0.12345242530678299,-0.10988663392928052,0.11420173092192624,0.5098330152516697,-0.8829850487515168,0.6074352104419615,-1.443868662604306,1.04937413180432,0.6537724159725903,0.5029296863520941,2.423710092601902,-1.4785653770372578,-1.4487117922977846,0.9588723637513975,-0.3231444498896284,-0.6180473746122097,0.6467849040614588,-1.5356285554458193,-1.342808655557535,0.23380153442864607,0.9406928117865758,0.33113596584484745,-0.6053287612428888,2.6812975316108987,1.5674687076974196,0.5669006248196585,0.9159915678356795,-0.41198763993783094,0.050642246241135704,-1.4167612286518538,-0.3277222022306663],\"xaxis\":\"x16\",\"yaxis\":\"y16\",\"type\":\"histogram\"}],                        {\"bargap\":0.02,\"legend\":{\"bgcolor\":\"#F5F6F9\",\"font\":{\"color\":\"#4D5663\"}},\"paper_bgcolor\":\"#F5F6F9\",\"plot_bgcolor\":\"#F5F6F9\",\"showlegend\":false,\"template\":{\"data\":{\"barpolar\":[{\"marker\":{\"line\":{\"color\":\"#E5ECF6\",\"width\":0.5},\"pattern\":{\"fillmode\":\"overlay\",\"size\":10,\"solidity\":0.2}},\"type\":\"barpolar\"}],\"bar\":[{\"error_x\":{\"color\":\"#2a3f5f\"},\"error_y\":{\"color\":\"#2a3f5f\"},\"marker\":{\"line\":{\"color\":\"#E5ECF6\",\"width\":0.5},\"pattern\":{\"fillmode\":\"overlay\",\"size\":10,\"solidity\":0.2}},\"type\":\"bar\"}],\"carpet\":[{\"aaxis\":{\"endlinecolor\":\"#2a3f5f\",\"gridcolor\":\"white\",\"linecolor\":\"white\",\"minorgridcolor\":\"white\",\"startlinecolor\":\"#2a3f5f\"},\"baxis\":{\"endlinecolor\":\"#2a3f5f\",\"gridcolor\":\"white\",\"linecolor\":\"white\",\"minorgridcolor\":\"white\",\"startlinecolor\":\"#2a3f5f\"},\"type\":\"carpet\"}],\"choropleth\":[{\"colorbar\":{\"outlinewidth\":0,\"ticks\":\"\"},\"type\":\"choropleth\"}],\"contourcarpet\":[{\"colorbar\":{\"outlinewidth\":0,\"ticks\":\"\"},\"type\":\"contourcarpet\"}],\"contour\":[{\"colorbar\":{\"outlinewidth\":0,\"ticks\":\"\"},\"colorscale\":[[0.0,\"#0d0887\"],[0.1111111111111111,\"#46039f\"],[0.2222222222222222,\"#7201a8\"],[0.3333333333333333,\"#9c179e\"],[0.4444444444444444,\"#bd3786\"],[0.5555555555555556,\"#d8576b\"],[0.6666666666666666,\"#ed7953\"],[0.7777777777777778,\"#fb9f3a\"],[0.8888888888888888,\"#fdca26\"],[1.0,\"#f0f921\"]],\"type\":\"contour\"}],\"heatmapgl\":[{\"colorbar\":{\"outlinewidth\":0,\"ticks\":\"\"},\"colorscale\":[[0.0,\"#0d0887\"],[0.1111111111111111,\"#46039f\"],[0.2222222222222222,\"#7201a8\"],[0.3333333333333333,\"#9c179e\"],[0.4444444444444444,\"#bd3786\"],[0.5555555555555556,\"#d8576b\"],[0.6666666666666666,\"#ed7953\"],[0.7777777777777778,\"#fb9f3a\"],[0.8888888888888888,\"#fdca26\"],[1.0,\"#f0f921\"]],\"type\":\"heatmapgl\"}],\"heatmap\":[{\"colorbar\":{\"outlinewidth\":0,\"ticks\":\"\"},\"colorscale\":[[0.0,\"#0d0887\"],[0.1111111111111111,\"#46039f\"],[0.2222222222222222,\"#7201a8\"],[0.3333333333333333,\"#9c179e\"],[0.4444444444444444,\"#bd3786\"],[0.5555555555555556,\"#d8576b\"],[0.6666666666666666,\"#ed7953\"],[0.7777777777777778,\"#fb9f3a\"],[0.8888888888888888,\"#fdca26\"],[1.0,\"#f0f921\"]],\"type\":\"heatmap\"}],\"histogram2dcontour\":[{\"colorbar\":{\"outlinewidth\":0,\"ticks\":\"\"},\"colorscale\":[[0.0,\"#0d0887\"],[0.1111111111111111,\"#46039f\"],[0.2222222222222222,\"#7201a8\"],[0.3333333333333333,\"#9c179e\"],[0.4444444444444444,\"#bd3786\"],[0.5555555555555556,\"#d8576b\"],[0.6666666666666666,\"#ed7953\"],[0.7777777777777778,\"#fb9f3a\"],[0.8888888888888888,\"#fdca26\"],[1.0,\"#f0f921\"]],\"type\":\"histogram2dcontour\"}],\"histogram2d\":[{\"colorbar\":{\"outlinewidth\":0,\"ticks\":\"\"},\"colorscale\":[[0.0,\"#0d0887\"],[0.1111111111111111,\"#46039f\"],[0.2222222222222222,\"#7201a8\"],[0.3333333333333333,\"#9c179e\"],[0.4444444444444444,\"#bd3786\"],[0.5555555555555556,\"#d8576b\"],[0.6666666666666666,\"#ed7953\"],[0.7777777777777778,\"#fb9f3a\"],[0.8888888888888888,\"#fdca26\"],[1.0,\"#f0f921\"]],\"type\":\"histogram2d\"}],\"histogram\":[{\"marker\":{\"pattern\":{\"fillmode\":\"overlay\",\"size\":10,\"solidity\":0.2}},\"type\":\"histogram\"}],\"mesh3d\":[{\"colorbar\":{\"outlinewidth\":0,\"ticks\":\"\"},\"type\":\"mesh3d\"}],\"parcoords\":[{\"line\":{\"colorbar\":{\"outlinewidth\":0,\"ticks\":\"\"}},\"type\":\"parcoords\"}],\"pie\":[{\"automargin\":true,\"type\":\"pie\"}],\"scatter3d\":[{\"line\":{\"colorbar\":{\"outlinewidth\":0,\"ticks\":\"\"}},\"marker\":{\"colorbar\":{\"outlinewidth\":0,\"ticks\":\"\"}},\"type\":\"scatter3d\"}],\"scattercarpet\":[{\"marker\":{\"colorbar\":{\"outlinewidth\":0,\"ticks\":\"\"}},\"type\":\"scattercarpet\"}],\"scattergeo\":[{\"marker\":{\"colorbar\":{\"outlinewidth\":0,\"ticks\":\"\"}},\"type\":\"scattergeo\"}],\"scattergl\":[{\"marker\":{\"colorbar\":{\"outlinewidth\":0,\"ticks\":\"\"}},\"type\":\"scattergl\"}],\"scattermapbox\":[{\"marker\":{\"colorbar\":{\"outlinewidth\":0,\"ticks\":\"\"}},\"type\":\"scattermapbox\"}],\"scatterpolargl\":[{\"marker\":{\"colorbar\":{\"outlinewidth\":0,\"ticks\":\"\"}},\"type\":\"scatterpolargl\"}],\"scatterpolar\":[{\"marker\":{\"colorbar\":{\"outlinewidth\":0,\"ticks\":\"\"}},\"type\":\"scatterpolar\"}],\"scatter\":[{\"fillpattern\":{\"fillmode\":\"overlay\",\"size\":10,\"solidity\":0.2},\"type\":\"scatter\"}],\"scatterternary\":[{\"marker\":{\"colorbar\":{\"outlinewidth\":0,\"ticks\":\"\"}},\"type\":\"scatterternary\"}],\"surface\":[{\"colorbar\":{\"outlinewidth\":0,\"ticks\":\"\"},\"colorscale\":[[0.0,\"#0d0887\"],[0.1111111111111111,\"#46039f\"],[0.2222222222222222,\"#7201a8\"],[0.3333333333333333,\"#9c179e\"],[0.4444444444444444,\"#bd3786\"],[0.5555555555555556,\"#d8576b\"],[0.6666666666666666,\"#ed7953\"],[0.7777777777777778,\"#fb9f3a\"],[0.8888888888888888,\"#fdca26\"],[1.0,\"#f0f921\"]],\"type\":\"surface\"}],\"table\":[{\"cells\":{\"fill\":{\"color\":\"#EBF0F8\"},\"line\":{\"color\":\"white\"}},\"header\":{\"fill\":{\"color\":\"#C8D4E3\"},\"line\":{\"color\":\"white\"}},\"type\":\"table\"}]},\"layout\":{\"annotationdefaults\":{\"arrowcolor\":\"#2a3f5f\",\"arrowhead\":0,\"arrowwidth\":1},\"autotypenumbers\":\"strict\",\"coloraxis\":{\"colorbar\":{\"outlinewidth\":0,\"ticks\":\"\"}},\"colorscale\":{\"diverging\":[[0,\"#8e0152\"],[0.1,\"#c51b7d\"],[0.2,\"#de77ae\"],[0.3,\"#f1b6da\"],[0.4,\"#fde0ef\"],[0.5,\"#f7f7f7\"],[0.6,\"#e6f5d0\"],[0.7,\"#b8e186\"],[0.8,\"#7fbc41\"],[0.9,\"#4d9221\"],[1,\"#276419\"]],\"sequential\":[[0.0,\"#0d0887\"],[0.1111111111111111,\"#46039f\"],[0.2222222222222222,\"#7201a8\"],[0.3333333333333333,\"#9c179e\"],[0.4444444444444444,\"#bd3786\"],[0.5555555555555556,\"#d8576b\"],[0.6666666666666666,\"#ed7953\"],[0.7777777777777778,\"#fb9f3a\"],[0.8888888888888888,\"#fdca26\"],[1.0,\"#f0f921\"]],\"sequentialminus\":[[0.0,\"#0d0887\"],[0.1111111111111111,\"#46039f\"],[0.2222222222222222,\"#7201a8\"],[0.3333333333333333,\"#9c179e\"],[0.4444444444444444,\"#bd3786\"],[0.5555555555555556,\"#d8576b\"],[0.6666666666666666,\"#ed7953\"],[0.7777777777777778,\"#fb9f3a\"],[0.8888888888888888,\"#fdca26\"],[1.0,\"#f0f921\"]]},\"colorway\":[\"#636efa\",\"#EF553B\",\"#00cc96\",\"#ab63fa\",\"#FFA15A\",\"#19d3f3\",\"#FF6692\",\"#B6E880\",\"#FF97FF\",\"#FECB52\"],\"font\":{\"color\":\"#2a3f5f\"},\"geo\":{\"bgcolor\":\"white\",\"lakecolor\":\"white\",\"landcolor\":\"#E5ECF6\",\"showlakes\":true,\"showland\":true,\"subunitcolor\":\"white\"},\"hoverlabel\":{\"align\":\"left\"},\"hovermode\":\"closest\",\"mapbox\":{\"style\":\"light\"},\"paper_bgcolor\":\"white\",\"plot_bgcolor\":\"#E5ECF6\",\"polar\":{\"angularaxis\":{\"gridcolor\":\"white\",\"linecolor\":\"white\",\"ticks\":\"\"},\"bgcolor\":\"#E5ECF6\",\"radialaxis\":{\"gridcolor\":\"white\",\"linecolor\":\"white\",\"ticks\":\"\"}},\"scene\":{\"xaxis\":{\"backgroundcolor\":\"#E5ECF6\",\"gridcolor\":\"white\",\"gridwidth\":2,\"linecolor\":\"white\",\"showbackground\":true,\"ticks\":\"\",\"zerolinecolor\":\"white\"},\"yaxis\":{\"backgroundcolor\":\"#E5ECF6\",\"gridcolor\":\"white\",\"gridwidth\":2,\"linecolor\":\"white\",\"showbackground\":true,\"ticks\":\"\",\"zerolinecolor\":\"white\"},\"zaxis\":{\"backgroundcolor\":\"#E5ECF6\",\"gridcolor\":\"white\",\"gridwidth\":2,\"linecolor\":\"white\",\"showbackground\":true,\"ticks\":\"\",\"zerolinecolor\":\"white\"}},\"shapedefaults\":{\"line\":{\"color\":\"#2a3f5f\"}},\"ternary\":{\"aaxis\":{\"gridcolor\":\"white\",\"linecolor\":\"white\",\"ticks\":\"\"},\"baxis\":{\"gridcolor\":\"white\",\"linecolor\":\"white\",\"ticks\":\"\"},\"bgcolor\":\"#E5ECF6\",\"caxis\":{\"gridcolor\":\"white\",\"linecolor\":\"white\",\"ticks\":\"\"}},\"title\":{\"x\":0.05},\"xaxis\":{\"automargin\":true,\"gridcolor\":\"white\",\"linecolor\":\"white\",\"ticks\":\"\",\"title\":{\"standoff\":15},\"zerolinecolor\":\"white\",\"zerolinewidth\":2},\"yaxis\":{\"automargin\":true,\"gridcolor\":\"white\",\"linecolor\":\"white\",\"ticks\":\"\",\"title\":{\"standoff\":15},\"zerolinecolor\":\"white\",\"zerolinewidth\":2}}},\"title\":{\"font\":{\"color\":\"#4D5663\"}},\"xaxis\":{\"anchor\":\"y\",\"domain\":[0.0,0.2125],\"gridcolor\":\"#E1E5ED\",\"showgrid\":false,\"tickfont\":{\"color\":\"#4D5663\"},\"title\":{\"font\":{\"color\":\"#4D5663\"},\"text\":\"\"},\"zerolinecolor\":\"#E1E5ED\"},\"yaxis\":{\"anchor\":\"x\",\"domain\":[0.8025,1.0],\"gridcolor\":\"#E1E5ED\",\"showgrid\":false,\"tickfont\":{\"color\":\"#4D5663\"},\"title\":{\"font\":{\"color\":\"#4D5663\"},\"text\":\"\"},\"zerolinecolor\":\"#E1E5ED\"},\"xaxis2\":{\"anchor\":\"y2\",\"domain\":[0.2625,0.475],\"gridcolor\":\"#E1E5ED\",\"showgrid\":false,\"tickfont\":{\"color\":\"#4D5663\"},\"title\":{\"font\":{\"color\":\"#4D5663\"},\"text\":\"\"},\"zerolinecolor\":\"#E1E5ED\"},\"yaxis2\":{\"anchor\":\"x2\",\"domain\":[0.8025,1.0],\"gridcolor\":\"#E1E5ED\",\"showgrid\":false,\"tickfont\":{\"color\":\"#4D5663\"},\"title\":{\"font\":{\"color\":\"#4D5663\"},\"text\":\"\"},\"zerolinecolor\":\"#E1E5ED\"},\"xaxis3\":{\"anchor\":\"y3\",\"domain\":[0.525,0.7375],\"gridcolor\":\"#E1E5ED\",\"showgrid\":false,\"tickfont\":{\"color\":\"#4D5663\"},\"title\":{\"font\":{\"color\":\"#4D5663\"},\"text\":\"\"},\"zerolinecolor\":\"#E1E5ED\"},\"yaxis3\":{\"anchor\":\"x3\",\"domain\":[0.8025,1.0],\"gridcolor\":\"#E1E5ED\",\"showgrid\":false,\"tickfont\":{\"color\":\"#4D5663\"},\"title\":{\"font\":{\"color\":\"#4D5663\"},\"text\":\"\"},\"zerolinecolor\":\"#E1E5ED\"},\"xaxis4\":{\"anchor\":\"y4\",\"domain\":[0.7875,1.0],\"gridcolor\":\"#E1E5ED\",\"showgrid\":false,\"tickfont\":{\"color\":\"#4D5663\"},\"title\":{\"font\":{\"color\":\"#4D5663\"},\"text\":\"\"},\"zerolinecolor\":\"#E1E5ED\"},\"yaxis4\":{\"anchor\":\"x4\",\"domain\":[0.8025,1.0],\"gridcolor\":\"#E1E5ED\",\"showgrid\":false,\"tickfont\":{\"color\":\"#4D5663\"},\"title\":{\"font\":{\"color\":\"#4D5663\"},\"text\":\"\"},\"zerolinecolor\":\"#E1E5ED\"},\"xaxis5\":{\"anchor\":\"y5\",\"domain\":[0.0,0.2125],\"gridcolor\":\"#E1E5ED\",\"showgrid\":false,\"tickfont\":{\"color\":\"#4D5663\"},\"title\":{\"font\":{\"color\":\"#4D5663\"},\"text\":\"\"},\"zerolinecolor\":\"#E1E5ED\"},\"yaxis5\":{\"anchor\":\"x5\",\"domain\":[0.535,0.7325],\"gridcolor\":\"#E1E5ED\",\"showgrid\":false,\"tickfont\":{\"color\":\"#4D5663\"},\"title\":{\"font\":{\"color\":\"#4D5663\"},\"text\":\"\"},\"zerolinecolor\":\"#E1E5ED\"},\"xaxis6\":{\"anchor\":\"y6\",\"domain\":[0.2625,0.475],\"gridcolor\":\"#E1E5ED\",\"showgrid\":false,\"tickfont\":{\"color\":\"#4D5663\"},\"title\":{\"font\":{\"color\":\"#4D5663\"},\"text\":\"\"},\"zerolinecolor\":\"#E1E5ED\"},\"yaxis6\":{\"anchor\":\"x6\",\"domain\":[0.535,0.7325],\"gridcolor\":\"#E1E5ED\",\"showgrid\":false,\"tickfont\":{\"color\":\"#4D5663\"},\"title\":{\"font\":{\"color\":\"#4D5663\"},\"text\":\"\"},\"zerolinecolor\":\"#E1E5ED\"},\"xaxis7\":{\"anchor\":\"y7\",\"domain\":[0.525,0.7375],\"gridcolor\":\"#E1E5ED\",\"showgrid\":false,\"tickfont\":{\"color\":\"#4D5663\"},\"title\":{\"font\":{\"color\":\"#4D5663\"},\"text\":\"\"},\"zerolinecolor\":\"#E1E5ED\"},\"yaxis7\":{\"anchor\":\"x7\",\"domain\":[0.535,0.7325],\"gridcolor\":\"#E1E5ED\",\"showgrid\":false,\"tickfont\":{\"color\":\"#4D5663\"},\"title\":{\"font\":{\"color\":\"#4D5663\"},\"text\":\"\"},\"zerolinecolor\":\"#E1E5ED\"},\"xaxis8\":{\"anchor\":\"y8\",\"domain\":[0.7875,1.0],\"gridcolor\":\"#E1E5ED\",\"showgrid\":false,\"tickfont\":{\"color\":\"#4D5663\"},\"title\":{\"font\":{\"color\":\"#4D5663\"},\"text\":\"\"},\"zerolinecolor\":\"#E1E5ED\"},\"yaxis8\":{\"anchor\":\"x8\",\"domain\":[0.535,0.7325],\"gridcolor\":\"#E1E5ED\",\"showgrid\":false,\"tickfont\":{\"color\":\"#4D5663\"},\"title\":{\"font\":{\"color\":\"#4D5663\"},\"text\":\"\"},\"zerolinecolor\":\"#E1E5ED\"},\"xaxis9\":{\"anchor\":\"y9\",\"domain\":[0.0,0.2125],\"gridcolor\":\"#E1E5ED\",\"showgrid\":false,\"tickfont\":{\"color\":\"#4D5663\"},\"title\":{\"font\":{\"color\":\"#4D5663\"},\"text\":\"\"},\"zerolinecolor\":\"#E1E5ED\"},\"yaxis9\":{\"anchor\":\"x9\",\"domain\":[0.2675,0.465],\"gridcolor\":\"#E1E5ED\",\"showgrid\":false,\"tickfont\":{\"color\":\"#4D5663\"},\"title\":{\"font\":{\"color\":\"#4D5663\"},\"text\":\"\"},\"zerolinecolor\":\"#E1E5ED\"},\"xaxis10\":{\"anchor\":\"y10\",\"domain\":[0.2625,0.475],\"gridcolor\":\"#E1E5ED\",\"showgrid\":false,\"tickfont\":{\"color\":\"#4D5663\"},\"title\":{\"font\":{\"color\":\"#4D5663\"},\"text\":\"\"},\"zerolinecolor\":\"#E1E5ED\"},\"yaxis10\":{\"anchor\":\"x10\",\"domain\":[0.2675,0.465],\"gridcolor\":\"#E1E5ED\",\"showgrid\":false,\"tickfont\":{\"color\":\"#4D5663\"},\"title\":{\"font\":{\"color\":\"#4D5663\"},\"text\":\"\"},\"zerolinecolor\":\"#E1E5ED\"},\"xaxis11\":{\"anchor\":\"y11\",\"domain\":[0.525,0.7375],\"gridcolor\":\"#E1E5ED\",\"showgrid\":false,\"tickfont\":{\"color\":\"#4D5663\"},\"title\":{\"font\":{\"color\":\"#4D5663\"},\"text\":\"\"},\"zerolinecolor\":\"#E1E5ED\"},\"yaxis11\":{\"anchor\":\"x11\",\"domain\":[0.2675,0.465],\"gridcolor\":\"#E1E5ED\",\"showgrid\":false,\"tickfont\":{\"color\":\"#4D5663\"},\"title\":{\"font\":{\"color\":\"#4D5663\"},\"text\":\"\"},\"zerolinecolor\":\"#E1E5ED\"},\"xaxis12\":{\"anchor\":\"y12\",\"domain\":[0.7875,1.0],\"gridcolor\":\"#E1E5ED\",\"showgrid\":false,\"tickfont\":{\"color\":\"#4D5663\"},\"title\":{\"font\":{\"color\":\"#4D5663\"},\"text\":\"\"},\"zerolinecolor\":\"#E1E5ED\"},\"yaxis12\":{\"anchor\":\"x12\",\"domain\":[0.2675,0.465],\"gridcolor\":\"#E1E5ED\",\"showgrid\":false,\"tickfont\":{\"color\":\"#4D5663\"},\"title\":{\"font\":{\"color\":\"#4D5663\"},\"text\":\"\"},\"zerolinecolor\":\"#E1E5ED\"},\"xaxis13\":{\"anchor\":\"y13\",\"domain\":[0.0,0.2125],\"gridcolor\":\"#E1E5ED\",\"showgrid\":false,\"tickfont\":{\"color\":\"#4D5663\"},\"title\":{\"font\":{\"color\":\"#4D5663\"},\"text\":\"\"},\"zerolinecolor\":\"#E1E5ED\"},\"yaxis13\":{\"anchor\":\"x13\",\"domain\":[0.0,0.1975],\"gridcolor\":\"#E1E5ED\",\"showgrid\":false,\"tickfont\":{\"color\":\"#4D5663\"},\"title\":{\"font\":{\"color\":\"#4D5663\"},\"text\":\"\"},\"zerolinecolor\":\"#E1E5ED\"},\"xaxis14\":{\"anchor\":\"y14\",\"domain\":[0.2625,0.475],\"gridcolor\":\"#E1E5ED\",\"showgrid\":false,\"tickfont\":{\"color\":\"#4D5663\"},\"title\":{\"font\":{\"color\":\"#4D5663\"},\"text\":\"\"},\"zerolinecolor\":\"#E1E5ED\"},\"yaxis14\":{\"anchor\":\"x14\",\"domain\":[0.0,0.1975],\"gridcolor\":\"#E1E5ED\",\"showgrid\":false,\"tickfont\":{\"color\":\"#4D5663\"},\"title\":{\"font\":{\"color\":\"#4D5663\"},\"text\":\"\"},\"zerolinecolor\":\"#E1E5ED\"},\"xaxis15\":{\"anchor\":\"y15\",\"domain\":[0.525,0.7375],\"gridcolor\":\"#E1E5ED\",\"showgrid\":false,\"tickfont\":{\"color\":\"#4D5663\"},\"title\":{\"font\":{\"color\":\"#4D5663\"},\"text\":\"\"},\"zerolinecolor\":\"#E1E5ED\"},\"yaxis15\":{\"anchor\":\"x15\",\"domain\":[0.0,0.1975],\"gridcolor\":\"#E1E5ED\",\"showgrid\":false,\"tickfont\":{\"color\":\"#4D5663\"},\"title\":{\"font\":{\"color\":\"#4D5663\"},\"text\":\"\"},\"zerolinecolor\":\"#E1E5ED\"},\"xaxis16\":{\"anchor\":\"y16\",\"domain\":[0.7875,1.0],\"gridcolor\":\"#E1E5ED\",\"showgrid\":false,\"tickfont\":{\"color\":\"#4D5663\"},\"title\":{\"font\":{\"color\":\"#4D5663\"},\"text\":\"\"},\"zerolinecolor\":\"#E1E5ED\"},\"yaxis16\":{\"anchor\":\"x16\",\"domain\":[0.0,0.1975],\"gridcolor\":\"#E1E5ED\",\"showgrid\":false,\"tickfont\":{\"color\":\"#4D5663\"},\"title\":{\"font\":{\"color\":\"#4D5663\"},\"text\":\"\"},\"zerolinecolor\":\"#E1E5ED\"}},                        {\"showLink\": true, \"linkText\": \"Export to plot.ly\", \"plotlyServerURL\": \"https://plot.ly\", \"responsive\": true}                    ).then(function(){\n",
       "                            \n",
       "var gd = document.getElementById('03703377-9ee3-411e-93fe-ba34a5cd035f');\n",
       "var x = new MutationObserver(function (mutations, observer) {{\n",
       "        var display = window.getComputedStyle(gd).display;\n",
       "        if (!display || display === 'none') {{\n",
       "            console.log([gd, 'removed!']);\n",
       "            Plotly.purge(gd);\n",
       "            observer.disconnect();\n",
       "        }}\n",
       "}});\n",
       "\n",
       "// Listen for the removal of the full notebook cells\n",
       "var notebookContainer = gd.closest('#notebook-container');\n",
       "if (notebookContainer) {{\n",
       "    x.observe(notebookContainer, {childList: true});\n",
       "}}\n",
       "\n",
       "// Listen for the clearing of the current output cell\n",
       "var outputEl = gd.closest('.output');\n",
       "if (outputEl) {{\n",
       "    x.observe(outputEl, {childList: true});\n",
       "}}\n",
       "\n",
       "                        })                };                });            </script>        </div>"
      ]
     },
     "metadata": {},
     "output_type": "display_data"
    }
   ],
   "source": [
    "df.scatter_matrix()"
   ]
  }
 ],
 "metadata": {
  "kernelspec": {
   "display_name": "Python 3 (ipykernel)",
   "language": "python",
   "name": "python3"
  },
  "language_info": {
   "codemirror_mode": {
    "name": "ipython",
    "version": 3
   },
   "file_extension": ".py",
   "mimetype": "text/x-python",
   "name": "python",
   "nbconvert_exporter": "python",
   "pygments_lexer": "ipython3",
   "version": "3.11.5"
  }
 },
 "nbformat": 4,
 "nbformat_minor": 5
}
